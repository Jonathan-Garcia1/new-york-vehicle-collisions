{
 "cells": [
  {
   "cell_type": "code",
   "execution_count": 1,
   "metadata": {},
   "outputs": [],
   "source": [
    "import pandas as pd\n",
    "import numpy as np\n",
    "import os\n",
    "import requests\n",
    "import env\n",
    "import wrangle as w\n",
    "import explore as exp"
   ]
  },
  {
   "cell_type": "code",
   "execution_count": 2,
   "metadata": {},
   "outputs": [],
   "source": [
    "pd.set_option('display.max_columns', None)\n",
    "#pd.set_option('display.max_rows', None)\n",
    "pd.set_option('display.width', None)\n",
    "pd.set_option('display.expand_frame_repr', False)"
   ]
  },
  {
   "cell_type": "code",
   "execution_count": 3,
   "metadata": {},
   "outputs": [],
   "source": [
    "# Example usage:\n",
    "app_token = env.app_token\n",
    "year_to_retrieve = '2022'\n",
    "max_req = 2000  # Specify the maximum number of observations to retrieve"
   ]
  },
  {
   "cell_type": "code",
   "execution_count": 4,
   "metadata": {},
   "outputs": [
    {
     "name": "stdout",
     "output_type": "stream",
     "text": [
      "CSV file for 2022 already exists. Loading data from the CSV.\n"
     ]
    }
   ],
   "source": [
    "df = w.get_data(year_to_retrieve, app_token, max_req)\n",
    "df = w.date_time(df)\n",
    "df = w.initial_reorder_cols(df)\n",
    "df = w.drop_3plus(df)\n",
    "df = w.single_coll(df)\n",
    "df = w.motorist_only(df)\n",
    "df = w.second_drop(df)\n",
    "df = w.null_zero_loc(df)"
   ]
  },
  {
   "cell_type": "code",
   "execution_count": 5,
   "metadata": {},
   "outputs": [],
   "source": [
    "combined_three = pd.read_csv('final_geo_filled_errors.csv', index_col=0)"
   ]
  },
  {
   "cell_type": "code",
   "execution_count": 6,
   "metadata": {},
   "outputs": [],
   "source": [
    "# Remove duplicates in 'df' when all columns have the same information\n",
    "df.drop_duplicates(keep='first', inplace=True)\n",
    "combined_three.drop_duplicates(keep='first', inplace=True)"
   ]
  },
  {
   "cell_type": "code",
   "execution_count": 7,
   "metadata": {},
   "outputs": [],
   "source": [
    "# Create 'df_b' containing rows with matching 'collision_id' in 'combined_three'\n",
    "df_b = df[df['collision_id'].isin(combined_three['collision_id'])].copy()\n",
    "\n",
    "# Create 'df_a' containing rows not matched in 'combined_three'\n",
    "df_a = df[~df['collision_id'].isin(combined_three['collision_id'])].copy()\n"
   ]
  },
  {
   "cell_type": "code",
   "execution_count": 8,
   "metadata": {},
   "outputs": [],
   "source": [
    "df_c = df_b.copy()"
   ]
  },
  {
   "cell_type": "code",
   "execution_count": 9,
   "metadata": {},
   "outputs": [
    {
     "data": {
      "text/plain": [
       "(27113, 27091, 27091)"
      ]
     },
     "execution_count": 9,
     "metadata": {},
     "output_type": "execute_result"
    }
   ],
   "source": [
    "len(df_a), len(df_b), len(combined_three)"
   ]
  },
  {
   "cell_type": "code",
   "execution_count": 10,
   "metadata": {},
   "outputs": [],
   "source": [
    "# Merge the two DataFrames on 'collision_id' and select specific columns\n",
    "merged_df = df_c.merge(combined_three[['collision_id', 'on_street_name', 'borough', 'zip_code']],\n",
    "                     on='collision_id', how='left')\n"
   ]
  },
  {
   "cell_type": "code",
   "execution_count": 17,
   "metadata": {},
   "outputs": [
    {
     "name": "stdout",
     "output_type": "stream",
     "text": [
      "<class 'pandas.core.frame.DataFrame'>\n",
      "RangeIndex: 27091 entries, 0 to 27090\n",
      "Data columns (total 21 columns):\n",
      " #   Column                         Non-Null Count  Dtype         \n",
      "---  ------                         --------------  -----         \n",
      " 0   crash_datetime                 27091 non-null  datetime64[ns]\n",
      " 1   crash_date                     27091 non-null  datetime64[ns]\n",
      " 2   crash_time                     27091 non-null  object        \n",
      " 3   collision_id                   27091 non-null  int64         \n",
      " 4   latitude                       27091 non-null  float64       \n",
      " 5   longitude                      27091 non-null  float64       \n",
      " 6   location                       27091 non-null  object        \n",
      " 7   on_street_name_x               15226 non-null  object        \n",
      " 8   borough_x                      11529 non-null  object        \n",
      " 9   zip_code_x                     11521 non-null  float64       \n",
      " 10  number_of_persons_injured      27091 non-null  int64         \n",
      " 11  number_of_persons_killed       27091 non-null  int64         \n",
      " 12  number_of_motorist_injured     27091 non-null  int64         \n",
      " 13  number_of_motorist_killed      27091 non-null  int64         \n",
      " 14  vehicle_type_code1             27091 non-null  object        \n",
      " 15  contributing_factor_vehicle_1  27090 non-null  object        \n",
      " 16  vehicle_type_code2             27091 non-null  object        \n",
      " 17  contributing_factor_vehicle_2  26604 non-null  object        \n",
      " 18  on_street_name_y               27091 non-null  object        \n",
      " 19  borough_y                      27090 non-null  object        \n",
      " 20  zip_code_y                     27091 non-null  float64       \n",
      "dtypes: datetime64[ns](2), float64(4), int64(5), object(10)\n",
      "memory usage: 4.3+ MB\n"
     ]
    }
   ],
   "source": [
    "merged_df.info()"
   ]
  },
  {
   "cell_type": "code",
   "execution_count": 18,
   "metadata": {},
   "outputs": [],
   "source": [
    "# Drop columns with '_x' suffix\n",
    "merged_df = merged_df.drop(columns=['on_street_name_x', 'borough_x', 'zip_code_x'])\n",
    "\n",
    "# Rename columns with '_y' suffix\n",
    "merged_df = merged_df.rename(columns={'on_street_name_y': 'on_street_name',\n",
    "                                      'borough_y': 'borough',\n",
    "                                      'zip_code_y': 'zip_code'})\n"
   ]
  },
  {
   "cell_type": "code",
   "execution_count": 22,
   "metadata": {},
   "outputs": [
    {
     "data": {
      "text/plain": [
       "(27113, 27091, 27091, 27091, 27091)"
      ]
     },
     "execution_count": 22,
     "metadata": {},
     "output_type": "execute_result"
    }
   ],
   "source": [
    "len(df_a), len(df_b), len(df_c), len(combined_three), len(merged_df)"
   ]
  },
  {
   "cell_type": "code",
   "execution_count": 19,
   "metadata": {},
   "outputs": [
    {
     "data": {
      "text/html": [
       "<div>\n",
       "<style scoped>\n",
       "    .dataframe tbody tr th:only-of-type {\n",
       "        vertical-align: middle;\n",
       "    }\n",
       "\n",
       "    .dataframe tbody tr th {\n",
       "        vertical-align: top;\n",
       "    }\n",
       "\n",
       "    .dataframe thead th {\n",
       "        text-align: right;\n",
       "    }\n",
       "</style>\n",
       "<table border=\"1\" class=\"dataframe\">\n",
       "  <thead>\n",
       "    <tr style=\"text-align: right;\">\n",
       "      <th></th>\n",
       "      <th>Column</th>\n",
       "      <th>Null_Count</th>\n",
       "      <th>Null_Percentage</th>\n",
       "      <th>Zero_Count</th>\n",
       "      <th>Blank_Count</th>\n",
       "      <th>Unique_Values</th>\n",
       "      <th>Data_Type</th>\n",
       "    </tr>\n",
       "  </thead>\n",
       "  <tbody>\n",
       "    <tr>\n",
       "      <th>0</th>\n",
       "      <td>crash_datetime</td>\n",
       "      <td>0</td>\n",
       "      <td>0.0</td>\n",
       "      <td>0</td>\n",
       "      <td>0</td>\n",
       "      <td>24571</td>\n",
       "      <td>datetime64[ns]</td>\n",
       "    </tr>\n",
       "    <tr>\n",
       "      <th>1</th>\n",
       "      <td>crash_date</td>\n",
       "      <td>0</td>\n",
       "      <td>0.0</td>\n",
       "      <td>0</td>\n",
       "      <td>0</td>\n",
       "      <td>365</td>\n",
       "      <td>datetime64[ns]</td>\n",
       "    </tr>\n",
       "    <tr>\n",
       "      <th>2</th>\n",
       "      <td>crash_time</td>\n",
       "      <td>0</td>\n",
       "      <td>0.0</td>\n",
       "      <td>0</td>\n",
       "      <td>0</td>\n",
       "      <td>1432</td>\n",
       "      <td>object</td>\n",
       "    </tr>\n",
       "    <tr>\n",
       "      <th>3</th>\n",
       "      <td>collision_id</td>\n",
       "      <td>0</td>\n",
       "      <td>0.0</td>\n",
       "      <td>0</td>\n",
       "      <td>0</td>\n",
       "      <td>27091</td>\n",
       "      <td>int64</td>\n",
       "    </tr>\n",
       "    <tr>\n",
       "      <th>4</th>\n",
       "      <td>latitude</td>\n",
       "      <td>0</td>\n",
       "      <td>0.0</td>\n",
       "      <td>0</td>\n",
       "      <td>0</td>\n",
       "      <td>16518</td>\n",
       "      <td>float64</td>\n",
       "    </tr>\n",
       "    <tr>\n",
       "      <th>5</th>\n",
       "      <td>longitude</td>\n",
       "      <td>0</td>\n",
       "      <td>0.0</td>\n",
       "      <td>0</td>\n",
       "      <td>0</td>\n",
       "      <td>14373</td>\n",
       "      <td>float64</td>\n",
       "    </tr>\n",
       "    <tr>\n",
       "      <th>6</th>\n",
       "      <td>location</td>\n",
       "      <td>0</td>\n",
       "      <td>0.0</td>\n",
       "      <td>0</td>\n",
       "      <td>0</td>\n",
       "      <td>18602</td>\n",
       "      <td>object</td>\n",
       "    </tr>\n",
       "    <tr>\n",
       "      <th>7</th>\n",
       "      <td>number_of_persons_injured</td>\n",
       "      <td>0</td>\n",
       "      <td>0.0</td>\n",
       "      <td>19243</td>\n",
       "      <td>0</td>\n",
       "      <td>12</td>\n",
       "      <td>int64</td>\n",
       "    </tr>\n",
       "    <tr>\n",
       "      <th>8</th>\n",
       "      <td>number_of_persons_killed</td>\n",
       "      <td>0</td>\n",
       "      <td>0.0</td>\n",
       "      <td>27069</td>\n",
       "      <td>0</td>\n",
       "      <td>2</td>\n",
       "      <td>int64</td>\n",
       "    </tr>\n",
       "    <tr>\n",
       "      <th>9</th>\n",
       "      <td>number_of_motorist_injured</td>\n",
       "      <td>0</td>\n",
       "      <td>0.0</td>\n",
       "      <td>20005</td>\n",
       "      <td>0</td>\n",
       "      <td>12</td>\n",
       "      <td>int64</td>\n",
       "    </tr>\n",
       "    <tr>\n",
       "      <th>10</th>\n",
       "      <td>number_of_motorist_killed</td>\n",
       "      <td>0</td>\n",
       "      <td>0.0</td>\n",
       "      <td>27073</td>\n",
       "      <td>0</td>\n",
       "      <td>2</td>\n",
       "      <td>int64</td>\n",
       "    </tr>\n",
       "    <tr>\n",
       "      <th>11</th>\n",
       "      <td>vehicle_type_code1</td>\n",
       "      <td>0</td>\n",
       "      <td>0.0</td>\n",
       "      <td>0</td>\n",
       "      <td>0</td>\n",
       "      <td>191</td>\n",
       "      <td>object</td>\n",
       "    </tr>\n",
       "    <tr>\n",
       "      <th>12</th>\n",
       "      <td>contributing_factor_vehicle_1</td>\n",
       "      <td>1</td>\n",
       "      <td>0.0</td>\n",
       "      <td>0</td>\n",
       "      <td>0</td>\n",
       "      <td>52</td>\n",
       "      <td>object</td>\n",
       "    </tr>\n",
       "    <tr>\n",
       "      <th>13</th>\n",
       "      <td>vehicle_type_code2</td>\n",
       "      <td>0</td>\n",
       "      <td>0.0</td>\n",
       "      <td>0</td>\n",
       "      <td>0</td>\n",
       "      <td>255</td>\n",
       "      <td>object</td>\n",
       "    </tr>\n",
       "    <tr>\n",
       "      <th>14</th>\n",
       "      <td>contributing_factor_vehicle_2</td>\n",
       "      <td>487</td>\n",
       "      <td>2.0</td>\n",
       "      <td>0</td>\n",
       "      <td>0</td>\n",
       "      <td>42</td>\n",
       "      <td>object</td>\n",
       "    </tr>\n",
       "    <tr>\n",
       "      <th>15</th>\n",
       "      <td>on_street_name</td>\n",
       "      <td>0</td>\n",
       "      <td>0.0</td>\n",
       "      <td>0</td>\n",
       "      <td>0</td>\n",
       "      <td>4430</td>\n",
       "      <td>object</td>\n",
       "    </tr>\n",
       "    <tr>\n",
       "      <th>16</th>\n",
       "      <td>borough</td>\n",
       "      <td>1</td>\n",
       "      <td>0.0</td>\n",
       "      <td>0</td>\n",
       "      <td>0</td>\n",
       "      <td>10</td>\n",
       "      <td>object</td>\n",
       "    </tr>\n",
       "    <tr>\n",
       "      <th>17</th>\n",
       "      <td>zip_code</td>\n",
       "      <td>0</td>\n",
       "      <td>0.0</td>\n",
       "      <td>0</td>\n",
       "      <td>0</td>\n",
       "      <td>205</td>\n",
       "      <td>float64</td>\n",
       "    </tr>\n",
       "  </tbody>\n",
       "</table>\n",
       "</div>"
      ],
      "text/plain": [
       "                           Column  Null_Count  Null_Percentage  Zero_Count  Blank_Count  Unique_Values       Data_Type\n",
       "0                  crash_datetime           0              0.0           0            0          24571  datetime64[ns]\n",
       "1                      crash_date           0              0.0           0            0            365  datetime64[ns]\n",
       "2                      crash_time           0              0.0           0            0           1432          object\n",
       "3                    collision_id           0              0.0           0            0          27091           int64\n",
       "4                        latitude           0              0.0           0            0          16518         float64\n",
       "5                       longitude           0              0.0           0            0          14373         float64\n",
       "6                        location           0              0.0           0            0          18602          object\n",
       "7       number_of_persons_injured           0              0.0       19243            0             12           int64\n",
       "8        number_of_persons_killed           0              0.0       27069            0              2           int64\n",
       "9      number_of_motorist_injured           0              0.0       20005            0             12           int64\n",
       "10      number_of_motorist_killed           0              0.0       27073            0              2           int64\n",
       "11             vehicle_type_code1           0              0.0           0            0            191          object\n",
       "12  contributing_factor_vehicle_1           1              0.0           0            0             52          object\n",
       "13             vehicle_type_code2           0              0.0           0            0            255          object\n",
       "14  contributing_factor_vehicle_2         487              2.0           0            0             42          object\n",
       "15                 on_street_name           0              0.0           0            0           4430          object\n",
       "16                        borough           1              0.0           0            0             10          object\n",
       "17                       zip_code           0              0.0           0            0            205         float64"
      ]
     },
     "execution_count": 19,
     "metadata": {},
     "output_type": "execute_result"
    }
   ],
   "source": [
    "# Example usage:\n",
    "filled_df_info = exp.create_info_dataframe(merged_df)  # Assuming data_df is your DataFrame\n",
    "filled_df_info"
   ]
  },
  {
   "cell_type": "code",
   "execution_count": 20,
   "metadata": {},
   "outputs": [
    {
     "data": {
      "text/html": [
       "<div>\n",
       "<style scoped>\n",
       "    .dataframe tbody tr th:only-of-type {\n",
       "        vertical-align: middle;\n",
       "    }\n",
       "\n",
       "    .dataframe tbody tr th {\n",
       "        vertical-align: top;\n",
       "    }\n",
       "\n",
       "    .dataframe thead th {\n",
       "        text-align: right;\n",
       "    }\n",
       "</style>\n",
       "<table border=\"1\" class=\"dataframe\">\n",
       "  <thead>\n",
       "    <tr style=\"text-align: right;\">\n",
       "      <th></th>\n",
       "      <th>crash_datetime</th>\n",
       "      <th>crash_date</th>\n",
       "      <th>crash_time</th>\n",
       "      <th>collision_id</th>\n",
       "      <th>latitude</th>\n",
       "      <th>longitude</th>\n",
       "      <th>location</th>\n",
       "      <th>number_of_persons_injured</th>\n",
       "      <th>number_of_persons_killed</th>\n",
       "      <th>number_of_motorist_injured</th>\n",
       "      <th>number_of_motorist_killed</th>\n",
       "      <th>vehicle_type_code1</th>\n",
       "      <th>contributing_factor_vehicle_1</th>\n",
       "      <th>vehicle_type_code2</th>\n",
       "      <th>contributing_factor_vehicle_2</th>\n",
       "      <th>on_street_name</th>\n",
       "      <th>borough</th>\n",
       "      <th>zip_code</th>\n",
       "    </tr>\n",
       "  </thead>\n",
       "  <tbody>\n",
       "    <tr>\n",
       "      <th>0</th>\n",
       "      <td>2022-01-01 05:17:00</td>\n",
       "      <td>2022-01-01</td>\n",
       "      <td>05:17:00</td>\n",
       "      <td>4491857</td>\n",
       "      <td>40.746930</td>\n",
       "      <td>-73.84866</td>\n",
       "      <td>{'latitude': '40.74693', 'longitude': '-73.848...</td>\n",
       "      <td>1</td>\n",
       "      <td>0</td>\n",
       "      <td>1</td>\n",
       "      <td>0</td>\n",
       "      <td>Sedan</td>\n",
       "      <td>Passing or Lane Usage Improper</td>\n",
       "      <td>Sedan</td>\n",
       "      <td>Unsafe Lane Changing</td>\n",
       "      <td>GRAND CENTRAL PKWY</td>\n",
       "      <td>Queens</td>\n",
       "      <td>11368.0</td>\n",
       "    </tr>\n",
       "    <tr>\n",
       "      <th>1</th>\n",
       "      <td>2022-01-01 01:30:00</td>\n",
       "      <td>2022-01-01</td>\n",
       "      <td>01:30:00</td>\n",
       "      <td>4491344</td>\n",
       "      <td>40.819157</td>\n",
       "      <td>-73.96038</td>\n",
       "      <td>{'latitude': '40.819157', 'longitude': '-73.96...</td>\n",
       "      <td>0</td>\n",
       "      <td>0</td>\n",
       "      <td>0</td>\n",
       "      <td>0</td>\n",
       "      <td>Sedan</td>\n",
       "      <td>Unspecified</td>\n",
       "      <td>Station Wagon/Sport Utility Vehicle</td>\n",
       "      <td>NaN</td>\n",
       "      <td>HENRY HUDSON PARKWAY</td>\n",
       "      <td>Manhattan</td>\n",
       "      <td>10027.0</td>\n",
       "    </tr>\n",
       "    <tr>\n",
       "      <th>2</th>\n",
       "      <td>2022-01-01 16:40:00</td>\n",
       "      <td>2022-01-01</td>\n",
       "      <td>16:40:00</td>\n",
       "      <td>4491478</td>\n",
       "      <td>40.806107</td>\n",
       "      <td>-73.91799</td>\n",
       "      <td>{'latitude': '40.806107', 'longitude': '-73.91...</td>\n",
       "      <td>0</td>\n",
       "      <td>0</td>\n",
       "      <td>0</td>\n",
       "      <td>0</td>\n",
       "      <td>Sedan</td>\n",
       "      <td>Unspecified</td>\n",
       "      <td>Sedan</td>\n",
       "      <td>Unspecified</td>\n",
       "      <td>Saint Ann's Avenue</td>\n",
       "      <td>BRONX</td>\n",
       "      <td>10454.0</td>\n",
       "    </tr>\n",
       "    <tr>\n",
       "      <th>3</th>\n",
       "      <td>2022-01-01 02:53:00</td>\n",
       "      <td>2022-01-01</td>\n",
       "      <td>02:53:00</td>\n",
       "      <td>4491586</td>\n",
       "      <td>40.646034</td>\n",
       "      <td>-73.99678</td>\n",
       "      <td>{'latitude': '40.646034', 'longitude': '-73.99...</td>\n",
       "      <td>0</td>\n",
       "      <td>0</td>\n",
       "      <td>0</td>\n",
       "      <td>0</td>\n",
       "      <td>Station Wagon/Sport Utility Vehicle</td>\n",
       "      <td>Unspecified</td>\n",
       "      <td>Station Wagon/Sport Utility Vehicle</td>\n",
       "      <td>Unspecified</td>\n",
       "      <td>40th Street</td>\n",
       "      <td>BROOKLYN</td>\n",
       "      <td>11232.0</td>\n",
       "    </tr>\n",
       "    <tr>\n",
       "      <th>4</th>\n",
       "      <td>2022-01-01 17:00:00</td>\n",
       "      <td>2022-01-01</td>\n",
       "      <td>17:00:00</td>\n",
       "      <td>4491660</td>\n",
       "      <td>40.701195</td>\n",
       "      <td>-73.91409</td>\n",
       "      <td>{'latitude': '40.701195', 'longitude': '-73.91...</td>\n",
       "      <td>0</td>\n",
       "      <td>0</td>\n",
       "      <td>0</td>\n",
       "      <td>0</td>\n",
       "      <td>Sedan</td>\n",
       "      <td>Passing Too Closely</td>\n",
       "      <td>Sedan</td>\n",
       "      <td>Unspecified</td>\n",
       "      <td>WYCKOFF AVENUE</td>\n",
       "      <td>Brooklyn</td>\n",
       "      <td>11237.0</td>\n",
       "    </tr>\n",
       "  </tbody>\n",
       "</table>\n",
       "</div>"
      ],
      "text/plain": [
       "       crash_datetime crash_date crash_time  collision_id   latitude  longitude                                           location  number_of_persons_injured  number_of_persons_killed  number_of_motorist_injured  number_of_motorist_killed                   vehicle_type_code1   contributing_factor_vehicle_1                   vehicle_type_code2 contributing_factor_vehicle_2        on_street_name    borough  zip_code\n",
       "0 2022-01-01 05:17:00 2022-01-01   05:17:00       4491857  40.746930  -73.84866  {'latitude': '40.74693', 'longitude': '-73.848...                          1                         0                           1                          0                                Sedan  Passing or Lane Usage Improper                                Sedan          Unsafe Lane Changing    GRAND CENTRAL PKWY     Queens   11368.0\n",
       "1 2022-01-01 01:30:00 2022-01-01   01:30:00       4491344  40.819157  -73.96038  {'latitude': '40.819157', 'longitude': '-73.96...                          0                         0                           0                          0                                Sedan                     Unspecified  Station Wagon/Sport Utility Vehicle                           NaN  HENRY HUDSON PARKWAY  Manhattan   10027.0\n",
       "2 2022-01-01 16:40:00 2022-01-01   16:40:00       4491478  40.806107  -73.91799  {'latitude': '40.806107', 'longitude': '-73.91...                          0                         0                           0                          0                                Sedan                     Unspecified                                Sedan                   Unspecified    Saint Ann's Avenue      BRONX   10454.0\n",
       "3 2022-01-01 02:53:00 2022-01-01   02:53:00       4491586  40.646034  -73.99678  {'latitude': '40.646034', 'longitude': '-73.99...                          0                         0                           0                          0  Station Wagon/Sport Utility Vehicle                     Unspecified  Station Wagon/Sport Utility Vehicle                   Unspecified           40th Street   BROOKLYN   11232.0\n",
       "4 2022-01-01 17:00:00 2022-01-01   17:00:00       4491660  40.701195  -73.91409  {'latitude': '40.701195', 'longitude': '-73.91...                          0                         0                           0                          0                                Sedan             Passing Too Closely                                Sedan                   Unspecified        WYCKOFF AVENUE   Brooklyn   11237.0"
      ]
     },
     "execution_count": 20,
     "metadata": {},
     "output_type": "execute_result"
    }
   ],
   "source": [
    "merged_df.head()"
   ]
  },
  {
   "cell_type": "code",
   "execution_count": 25,
   "metadata": {},
   "outputs": [],
   "source": [
    "merged_df.to_csv('final_geo_filled.csv')"
   ]
  },
  {
   "cell_type": "code",
   "execution_count": 23,
   "metadata": {},
   "outputs": [],
   "source": [
    "# Concatenate df_a and merged_df vertically and reindex columns to match df_a\n",
    "concatenated_df = pd.concat([df_a, merged_df], axis=0).reindex(columns=df_a.columns)\n",
    "\n",
    "# Reset the index if needed\n",
    "concatenated_df.reset_index(drop=True, inplace=True)\n"
   ]
  },
  {
   "cell_type": "code",
   "execution_count": 24,
   "metadata": {},
   "outputs": [
    {
     "data": {
      "text/plain": [
       "54204"
      ]
     },
     "execution_count": 24,
     "metadata": {},
     "output_type": "execute_result"
    }
   ],
   "source": [
    "len(concatenated_df)"
   ]
  },
  {
   "cell_type": "code",
   "execution_count": null,
   "metadata": {},
   "outputs": [],
   "source": []
  }
 ],
 "metadata": {
  "kernelspec": {
   "display_name": "base",
   "language": "python",
   "name": "python3"
  },
  "language_info": {
   "codemirror_mode": {
    "name": "ipython",
    "version": 3
   },
   "file_extension": ".py",
   "mimetype": "text/x-python",
   "name": "python",
   "nbconvert_exporter": "python",
   "pygments_lexer": "ipython3",
   "version": "3.10.12"
  },
  "orig_nbformat": 4
 },
 "nbformat": 4,
 "nbformat_minor": 2
}
