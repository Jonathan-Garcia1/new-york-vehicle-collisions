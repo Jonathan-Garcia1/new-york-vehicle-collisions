{
 "cells": [
  {
   "cell_type": "code",
   "execution_count": 1,
   "metadata": {},
   "outputs": [],
   "source": [
    "import pandas as pd\n",
    "import env\n",
    "import wrangle as w\n",
    "import explore as exp\n",
    "import visuals as vis\n",
    "import model as mdl\n",
    "\n",
    "# import numpy as np\n",
    "# from scipy.stats import chi2_contingency\n",
    "# from sklearn.model_selection import train_test_split\n",
    "# from sklearn.cluster import DBSCAN\n",
    "# from sklearn.feature_selection import SelectKBest, f_regression, RFE\n",
    "# from sklearn.linear_model import LinearRegression, Lasso\n",
    "# from sklearn.preprocessing import MinMaxScaler\n"
   ]
  },
  {
   "cell_type": "code",
   "execution_count": 2,
   "metadata": {},
   "outputs": [],
   "source": [
    "# Example usage:\n",
    "app_token = env.app_token\n",
    "year_to_retrieve = '2022'\n",
    "max_req = 2000  # Specify the maximum number of observations to retrieve\n"
   ]
  },
  {
   "cell_type": "code",
   "execution_count": 3,
   "metadata": {},
   "outputs": [
    {
     "name": "stdout",
     "output_type": "stream",
     "text": [
      "CSV file for 2022 already exists. Loading data from the CSV.\n"
     ]
    }
   ],
   "source": [
    "df = w.wrangle_coll_stage1(year_to_retrieve, app_token)"
   ]
  },
  {
   "cell_type": "code",
   "execution_count": 4,
   "metadata": {},
   "outputs": [],
   "source": [
    "# df.to_csv('preprocessed_df.csv', index=False)"
   ]
  },
  {
   "cell_type": "code",
   "execution_count": 5,
   "metadata": {},
   "outputs": [
    {
     "data": {
      "text/html": [
       "<div>\n",
       "<style scoped>\n",
       "    .dataframe tbody tr th:only-of-type {\n",
       "        vertical-align: middle;\n",
       "    }\n",
       "\n",
       "    .dataframe tbody tr th {\n",
       "        vertical-align: top;\n",
       "    }\n",
       "\n",
       "    .dataframe thead th {\n",
       "        text-align: right;\n",
       "    }\n",
       "</style>\n",
       "<table border=\"1\" class=\"dataframe\">\n",
       "  <thead>\n",
       "    <tr style=\"text-align: right;\">\n",
       "      <th></th>\n",
       "      <th>crash_datetime</th>\n",
       "      <th>crash_date</th>\n",
       "      <th>crash_time</th>\n",
       "      <th>collision_id</th>\n",
       "      <th>latitude</th>\n",
       "      <th>longitude</th>\n",
       "      <th>on_street_name</th>\n",
       "      <th>borough</th>\n",
       "      <th>zip_code</th>\n",
       "      <th>injuries_count</th>\n",
       "      <th>...</th>\n",
       "      <th>deaths</th>\n",
       "      <th>vehicle_1_category</th>\n",
       "      <th>vehicle_2_category</th>\n",
       "      <th>factors_category_vehicle_1</th>\n",
       "      <th>factors_category_vehicle_2</th>\n",
       "      <th>factors_subcat_vehicle_1</th>\n",
       "      <th>factors_subcat_vehicle_2</th>\n",
       "      <th>factors_subcat_vehicles</th>\n",
       "      <th>factors_category_vehicles</th>\n",
       "      <th>vehicles</th>\n",
       "    </tr>\n",
       "  </thead>\n",
       "  <tbody>\n",
       "    <tr>\n",
       "      <th>0</th>\n",
       "      <td>2022-01-01 05:17:00</td>\n",
       "      <td>2022-01-01</td>\n",
       "      <td>05:17:00</td>\n",
       "      <td>4491857</td>\n",
       "      <td>40.746930</td>\n",
       "      <td>-73.84866</td>\n",
       "      <td>grand central pkwy</td>\n",
       "      <td>queens</td>\n",
       "      <td>11368</td>\n",
       "      <td>1</td>\n",
       "      <td>...</td>\n",
       "      <td>False</td>\n",
       "      <td>personal</td>\n",
       "      <td>personal</td>\n",
       "      <td>driver_related</td>\n",
       "      <td>driver_related</td>\n",
       "      <td>driving violations</td>\n",
       "      <td>driving violations</td>\n",
       "      <td>driving violations</td>\n",
       "      <td>driver_related</td>\n",
       "      <td>personal_to_personal</td>\n",
       "    </tr>\n",
       "    <tr>\n",
       "      <th>1</th>\n",
       "      <td>2022-01-01 01:30:00</td>\n",
       "      <td>2022-01-01</td>\n",
       "      <td>01:30:00</td>\n",
       "      <td>4491344</td>\n",
       "      <td>40.819157</td>\n",
       "      <td>-73.96038</td>\n",
       "      <td>henry hudson parkway</td>\n",
       "      <td>manhattan</td>\n",
       "      <td>10027</td>\n",
       "      <td>0</td>\n",
       "      <td>...</td>\n",
       "      <td>False</td>\n",
       "      <td>personal</td>\n",
       "      <td>personal</td>\n",
       "      <td>unspecified</td>\n",
       "      <td>unspecified</td>\n",
       "      <td>unspecified</td>\n",
       "      <td>unspecified</td>\n",
       "      <td>unspecified</td>\n",
       "      <td>unspecified</td>\n",
       "      <td>personal_to_personal</td>\n",
       "    </tr>\n",
       "    <tr>\n",
       "      <th>2</th>\n",
       "      <td>2022-01-01 16:40:00</td>\n",
       "      <td>2022-01-01</td>\n",
       "      <td>16:40:00</td>\n",
       "      <td>4491478</td>\n",
       "      <td>40.806107</td>\n",
       "      <td>-73.91799</td>\n",
       "      <td>saint ann's avenue</td>\n",
       "      <td>bronx</td>\n",
       "      <td>10454</td>\n",
       "      <td>0</td>\n",
       "      <td>...</td>\n",
       "      <td>False</td>\n",
       "      <td>personal</td>\n",
       "      <td>personal</td>\n",
       "      <td>unspecified</td>\n",
       "      <td>unspecified</td>\n",
       "      <td>unspecified</td>\n",
       "      <td>unspecified</td>\n",
       "      <td>unspecified</td>\n",
       "      <td>unspecified</td>\n",
       "      <td>personal_to_personal</td>\n",
       "    </tr>\n",
       "    <tr>\n",
       "      <th>3</th>\n",
       "      <td>2022-01-01 02:53:00</td>\n",
       "      <td>2022-01-01</td>\n",
       "      <td>02:53:00</td>\n",
       "      <td>4491586</td>\n",
       "      <td>40.646034</td>\n",
       "      <td>-73.99678</td>\n",
       "      <td>40th street</td>\n",
       "      <td>brooklyn</td>\n",
       "      <td>11232</td>\n",
       "      <td>0</td>\n",
       "      <td>...</td>\n",
       "      <td>False</td>\n",
       "      <td>personal</td>\n",
       "      <td>personal</td>\n",
       "      <td>unspecified</td>\n",
       "      <td>unspecified</td>\n",
       "      <td>unspecified</td>\n",
       "      <td>unspecified</td>\n",
       "      <td>unspecified</td>\n",
       "      <td>unspecified</td>\n",
       "      <td>personal_to_personal</td>\n",
       "    </tr>\n",
       "    <tr>\n",
       "      <th>4</th>\n",
       "      <td>2022-01-01 17:00:00</td>\n",
       "      <td>2022-01-01</td>\n",
       "      <td>17:00:00</td>\n",
       "      <td>4491660</td>\n",
       "      <td>40.701195</td>\n",
       "      <td>-73.91409</td>\n",
       "      <td>wyckoff avenue</td>\n",
       "      <td>brooklyn</td>\n",
       "      <td>11237</td>\n",
       "      <td>0</td>\n",
       "      <td>...</td>\n",
       "      <td>False</td>\n",
       "      <td>personal</td>\n",
       "      <td>personal</td>\n",
       "      <td>driver_related</td>\n",
       "      <td>unspecified</td>\n",
       "      <td>driving violations</td>\n",
       "      <td>unspecified</td>\n",
       "      <td>driving violations</td>\n",
       "      <td>driver_related</td>\n",
       "      <td>personal_to_personal</td>\n",
       "    </tr>\n",
       "  </tbody>\n",
       "</table>\n",
       "<p>5 rows × 22 columns</p>\n",
       "</div>"
      ],
      "text/plain": [
       "       crash_datetime crash_date crash_time  collision_id   latitude  \\\n",
       "0 2022-01-01 05:17:00 2022-01-01   05:17:00       4491857  40.746930   \n",
       "1 2022-01-01 01:30:00 2022-01-01   01:30:00       4491344  40.819157   \n",
       "2 2022-01-01 16:40:00 2022-01-01   16:40:00       4491478  40.806107   \n",
       "3 2022-01-01 02:53:00 2022-01-01   02:53:00       4491586  40.646034   \n",
       "4 2022-01-01 17:00:00 2022-01-01   17:00:00       4491660  40.701195   \n",
       "\n",
       "   longitude        on_street_name    borough  zip_code  injuries_count  ...  \\\n",
       "0  -73.84866    grand central pkwy     queens     11368               1  ...   \n",
       "1  -73.96038  henry hudson parkway  manhattan     10027               0  ...   \n",
       "2  -73.91799    saint ann's avenue      bronx     10454               0  ...   \n",
       "3  -73.99678           40th street   brooklyn     11232               0  ...   \n",
       "4  -73.91409        wyckoff avenue   brooklyn     11237               0  ...   \n",
       "\n",
       "   deaths  vehicle_1_category  vehicle_2_category factors_category_vehicle_1  \\\n",
       "0   False            personal            personal             driver_related   \n",
       "1   False            personal            personal                unspecified   \n",
       "2   False            personal            personal                unspecified   \n",
       "3   False            personal            personal                unspecified   \n",
       "4   False            personal            personal             driver_related   \n",
       "\n",
       "  factors_category_vehicle_2 factors_subcat_vehicle_1  \\\n",
       "0             driver_related       driving violations   \n",
       "1                unspecified              unspecified   \n",
       "2                unspecified              unspecified   \n",
       "3                unspecified              unspecified   \n",
       "4                unspecified       driving violations   \n",
       "\n",
       "  factors_subcat_vehicle_2 factors_subcat_vehicles factors_category_vehicles  \\\n",
       "0       driving violations      driving violations            driver_related   \n",
       "1              unspecified             unspecified               unspecified   \n",
       "2              unspecified             unspecified               unspecified   \n",
       "3              unspecified             unspecified               unspecified   \n",
       "4              unspecified      driving violations            driver_related   \n",
       "\n",
       "               vehicles  \n",
       "0  personal_to_personal  \n",
       "1  personal_to_personal  \n",
       "2  personal_to_personal  \n",
       "3  personal_to_personal  \n",
       "4  personal_to_personal  \n",
       "\n",
       "[5 rows x 22 columns]"
      ]
     },
     "execution_count": 5,
     "metadata": {},
     "output_type": "execute_result"
    }
   ],
   "source": [
    "df.head()"
   ]
  },
  {
   "cell_type": "code",
   "execution_count": 6,
   "metadata": {},
   "outputs": [
    {
     "data": {
      "text/plain": [
       "array(['personal_to_personal', 'commercial_to_commercial',\n",
       "       'personal_to_two-wheelers', 'commercial_to_personal',\n",
       "       'commercial_to_two-wheelers', 'personal_to_commercial',\n",
       "       'two-wheelers_to_personal', 'personal_to_other',\n",
       "       'other_to_personal', 'other_to_other', 'commercial_to_other',\n",
       "       'other_to_commercial', 'other_to_two-wheelers',\n",
       "       'two-wheelers_to_two-wheelers', 'two-wheelers_to_commercial',\n",
       "       'two-wheelers_to_other'], dtype=object)"
      ]
     },
     "execution_count": 6,
     "metadata": {},
     "output_type": "execute_result"
    }
   ],
   "source": [
    "df.vehicles.unique()"
   ]
  },
  {
   "cell_type": "code",
   "execution_count": 7,
   "metadata": {},
   "outputs": [
    {
     "data": {
      "text/html": [
       "<div>\n",
       "<style scoped>\n",
       "    .dataframe tbody tr th:only-of-type {\n",
       "        vertical-align: middle;\n",
       "    }\n",
       "\n",
       "    .dataframe tbody tr th {\n",
       "        vertical-align: top;\n",
       "    }\n",
       "\n",
       "    .dataframe thead th {\n",
       "        text-align: right;\n",
       "    }\n",
       "</style>\n",
       "<table border=\"1\" class=\"dataframe\">\n",
       "  <thead>\n",
       "    <tr style=\"text-align: right;\">\n",
       "      <th></th>\n",
       "      <th>crash_datetime</th>\n",
       "      <th>crash_date</th>\n",
       "      <th>crash_time</th>\n",
       "      <th>collision_id</th>\n",
       "      <th>latitude</th>\n",
       "      <th>longitude</th>\n",
       "      <th>on_street_name</th>\n",
       "      <th>borough</th>\n",
       "      <th>zip_code</th>\n",
       "      <th>injuries_count</th>\n",
       "      <th>...</th>\n",
       "      <th>deaths</th>\n",
       "      <th>vehicle_1_category</th>\n",
       "      <th>vehicle_2_category</th>\n",
       "      <th>factors_category_vehicle_1</th>\n",
       "      <th>factors_category_vehicle_2</th>\n",
       "      <th>factors_subcat_vehicle_1</th>\n",
       "      <th>factors_subcat_vehicle_2</th>\n",
       "      <th>factors_subcat_vehicles</th>\n",
       "      <th>factors_category_vehicles</th>\n",
       "      <th>vehicles</th>\n",
       "    </tr>\n",
       "  </thead>\n",
       "  <tbody>\n",
       "  </tbody>\n",
       "</table>\n",
       "<p>0 rows × 22 columns</p>\n",
       "</div>"
      ],
      "text/plain": [
       "Empty DataFrame\n",
       "Columns: [crash_datetime, crash_date, crash_time, collision_id, latitude, longitude, on_street_name, borough, zip_code, injuries_count, deaths_count, injuries, deaths, vehicle_1_category, vehicle_2_category, factors_category_vehicle_1, factors_category_vehicle_2, factors_subcat_vehicle_1, factors_subcat_vehicle_2, factors_subcat_vehicles, factors_category_vehicles, vehicles]\n",
       "Index: []\n",
       "\n",
       "[0 rows x 22 columns]"
      ]
     },
     "execution_count": 7,
     "metadata": {},
     "output_type": "execute_result"
    }
   ],
   "source": [
    "rows_with_nan = df[df['vehicles'].isna()]\n",
    "rows_with_nan"
   ]
  },
  {
   "cell_type": "code",
   "execution_count": 8,
   "metadata": {},
   "outputs": [
    {
     "data": {
      "text/html": [
       "<div>\n",
       "<style scoped>\n",
       "    .dataframe tbody tr th:only-of-type {\n",
       "        vertical-align: middle;\n",
       "    }\n",
       "\n",
       "    .dataframe tbody tr th {\n",
       "        vertical-align: top;\n",
       "    }\n",
       "\n",
       "    .dataframe thead th {\n",
       "        text-align: right;\n",
       "    }\n",
       "</style>\n",
       "<table border=\"1\" class=\"dataframe\">\n",
       "  <thead>\n",
       "    <tr style=\"text-align: right;\">\n",
       "      <th></th>\n",
       "      <th>Column</th>\n",
       "      <th>Null_Count</th>\n",
       "      <th>Null_Percentage</th>\n",
       "      <th>Zero_Count</th>\n",
       "      <th>Blank_Count</th>\n",
       "      <th>Unique_Values</th>\n",
       "      <th>Data_Type</th>\n",
       "    </tr>\n",
       "  </thead>\n",
       "  <tbody>\n",
       "    <tr>\n",
       "      <th>0</th>\n",
       "      <td>crash_datetime</td>\n",
       "      <td>0</td>\n",
       "      <td>0.0</td>\n",
       "      <td>0</td>\n",
       "      <td>0</td>\n",
       "      <td>41429</td>\n",
       "      <td>datetime64[ns]</td>\n",
       "    </tr>\n",
       "    <tr>\n",
       "      <th>1</th>\n",
       "      <td>crash_date</td>\n",
       "      <td>0</td>\n",
       "      <td>0.0</td>\n",
       "      <td>0</td>\n",
       "      <td>0</td>\n",
       "      <td>365</td>\n",
       "      <td>datetime64[ns]</td>\n",
       "    </tr>\n",
       "    <tr>\n",
       "      <th>2</th>\n",
       "      <td>crash_time</td>\n",
       "      <td>0</td>\n",
       "      <td>0.0</td>\n",
       "      <td>0</td>\n",
       "      <td>0</td>\n",
       "      <td>1440</td>\n",
       "      <td>object</td>\n",
       "    </tr>\n",
       "    <tr>\n",
       "      <th>3</th>\n",
       "      <td>collision_id</td>\n",
       "      <td>0</td>\n",
       "      <td>0.0</td>\n",
       "      <td>0</td>\n",
       "      <td>0</td>\n",
       "      <td>48254</td>\n",
       "      <td>int64</td>\n",
       "    </tr>\n",
       "    <tr>\n",
       "      <th>4</th>\n",
       "      <td>latitude</td>\n",
       "      <td>0</td>\n",
       "      <td>0.0</td>\n",
       "      <td>0</td>\n",
       "      <td>0</td>\n",
       "      <td>23107</td>\n",
       "      <td>float64</td>\n",
       "    </tr>\n",
       "    <tr>\n",
       "      <th>5</th>\n",
       "      <td>longitude</td>\n",
       "      <td>0</td>\n",
       "      <td>0.0</td>\n",
       "      <td>0</td>\n",
       "      <td>0</td>\n",
       "      <td>19572</td>\n",
       "      <td>float64</td>\n",
       "    </tr>\n",
       "    <tr>\n",
       "      <th>6</th>\n",
       "      <td>on_street_name</td>\n",
       "      <td>0</td>\n",
       "      <td>0.0</td>\n",
       "      <td>0</td>\n",
       "      <td>0</td>\n",
       "      <td>4518</td>\n",
       "      <td>object</td>\n",
       "    </tr>\n",
       "    <tr>\n",
       "      <th>7</th>\n",
       "      <td>borough</td>\n",
       "      <td>1</td>\n",
       "      <td>0.0</td>\n",
       "      <td>0</td>\n",
       "      <td>0</td>\n",
       "      <td>5</td>\n",
       "      <td>object</td>\n",
       "    </tr>\n",
       "    <tr>\n",
       "      <th>8</th>\n",
       "      <td>zip_code</td>\n",
       "      <td>0</td>\n",
       "      <td>0.0</td>\n",
       "      <td>0</td>\n",
       "      <td>0</td>\n",
       "      <td>211</td>\n",
       "      <td>int64</td>\n",
       "    </tr>\n",
       "    <tr>\n",
       "      <th>9</th>\n",
       "      <td>injuries_count</td>\n",
       "      <td>0</td>\n",
       "      <td>0.0</td>\n",
       "      <td>32376</td>\n",
       "      <td>0</td>\n",
       "      <td>14</td>\n",
       "      <td>int64</td>\n",
       "    </tr>\n",
       "    <tr>\n",
       "      <th>10</th>\n",
       "      <td>deaths_count</td>\n",
       "      <td>0</td>\n",
       "      <td>0.0</td>\n",
       "      <td>48198</td>\n",
       "      <td>0</td>\n",
       "      <td>3</td>\n",
       "      <td>int64</td>\n",
       "    </tr>\n",
       "    <tr>\n",
       "      <th>11</th>\n",
       "      <td>injuries</td>\n",
       "      <td>0</td>\n",
       "      <td>0.0</td>\n",
       "      <td>32376</td>\n",
       "      <td>0</td>\n",
       "      <td>2</td>\n",
       "      <td>bool</td>\n",
       "    </tr>\n",
       "    <tr>\n",
       "      <th>12</th>\n",
       "      <td>deaths</td>\n",
       "      <td>0</td>\n",
       "      <td>0.0</td>\n",
       "      <td>48198</td>\n",
       "      <td>0</td>\n",
       "      <td>2</td>\n",
       "      <td>bool</td>\n",
       "    </tr>\n",
       "    <tr>\n",
       "      <th>13</th>\n",
       "      <td>vehicle_1_category</td>\n",
       "      <td>0</td>\n",
       "      <td>0.0</td>\n",
       "      <td>0</td>\n",
       "      <td>0</td>\n",
       "      <td>4</td>\n",
       "      <td>object</td>\n",
       "    </tr>\n",
       "    <tr>\n",
       "      <th>14</th>\n",
       "      <td>vehicle_2_category</td>\n",
       "      <td>0</td>\n",
       "      <td>0.0</td>\n",
       "      <td>0</td>\n",
       "      <td>0</td>\n",
       "      <td>4</td>\n",
       "      <td>object</td>\n",
       "    </tr>\n",
       "    <tr>\n",
       "      <th>15</th>\n",
       "      <td>factors_category_vehicle_1</td>\n",
       "      <td>0</td>\n",
       "      <td>0.0</td>\n",
       "      <td>0</td>\n",
       "      <td>0</td>\n",
       "      <td>3</td>\n",
       "      <td>object</td>\n",
       "    </tr>\n",
       "    <tr>\n",
       "      <th>16</th>\n",
       "      <td>factors_category_vehicle_2</td>\n",
       "      <td>0</td>\n",
       "      <td>0.0</td>\n",
       "      <td>0</td>\n",
       "      <td>0</td>\n",
       "      <td>3</td>\n",
       "      <td>object</td>\n",
       "    </tr>\n",
       "    <tr>\n",
       "      <th>17</th>\n",
       "      <td>factors_subcat_vehicle_1</td>\n",
       "      <td>0</td>\n",
       "      <td>0.0</td>\n",
       "      <td>0</td>\n",
       "      <td>0</td>\n",
       "      <td>7</td>\n",
       "      <td>object</td>\n",
       "    </tr>\n",
       "    <tr>\n",
       "      <th>18</th>\n",
       "      <td>factors_subcat_vehicle_2</td>\n",
       "      <td>0</td>\n",
       "      <td>0.0</td>\n",
       "      <td>0</td>\n",
       "      <td>0</td>\n",
       "      <td>7</td>\n",
       "      <td>object</td>\n",
       "    </tr>\n",
       "    <tr>\n",
       "      <th>19</th>\n",
       "      <td>factors_subcat_vehicles</td>\n",
       "      <td>0</td>\n",
       "      <td>0.0</td>\n",
       "      <td>0</td>\n",
       "      <td>0</td>\n",
       "      <td>7</td>\n",
       "      <td>object</td>\n",
       "    </tr>\n",
       "    <tr>\n",
       "      <th>20</th>\n",
       "      <td>factors_category_vehicles</td>\n",
       "      <td>0</td>\n",
       "      <td>0.0</td>\n",
       "      <td>0</td>\n",
       "      <td>0</td>\n",
       "      <td>3</td>\n",
       "      <td>object</td>\n",
       "    </tr>\n",
       "    <tr>\n",
       "      <th>21</th>\n",
       "      <td>vehicles</td>\n",
       "      <td>0</td>\n",
       "      <td>0.0</td>\n",
       "      <td>0</td>\n",
       "      <td>0</td>\n",
       "      <td>16</td>\n",
       "      <td>object</td>\n",
       "    </tr>\n",
       "  </tbody>\n",
       "</table>\n",
       "</div>"
      ],
      "text/plain": [
       "                        Column  Null_Count  Null_Percentage  Zero_Count  \\\n",
       "0               crash_datetime           0              0.0           0   \n",
       "1                   crash_date           0              0.0           0   \n",
       "2                   crash_time           0              0.0           0   \n",
       "3                 collision_id           0              0.0           0   \n",
       "4                     latitude           0              0.0           0   \n",
       "5                    longitude           0              0.0           0   \n",
       "6               on_street_name           0              0.0           0   \n",
       "7                      borough           1              0.0           0   \n",
       "8                     zip_code           0              0.0           0   \n",
       "9               injuries_count           0              0.0       32376   \n",
       "10                deaths_count           0              0.0       48198   \n",
       "11                    injuries           0              0.0       32376   \n",
       "12                      deaths           0              0.0       48198   \n",
       "13          vehicle_1_category           0              0.0           0   \n",
       "14          vehicle_2_category           0              0.0           0   \n",
       "15  factors_category_vehicle_1           0              0.0           0   \n",
       "16  factors_category_vehicle_2           0              0.0           0   \n",
       "17    factors_subcat_vehicle_1           0              0.0           0   \n",
       "18    factors_subcat_vehicle_2           0              0.0           0   \n",
       "19     factors_subcat_vehicles           0              0.0           0   \n",
       "20   factors_category_vehicles           0              0.0           0   \n",
       "21                    vehicles           0              0.0           0   \n",
       "\n",
       "    Blank_Count  Unique_Values       Data_Type  \n",
       "0             0          41429  datetime64[ns]  \n",
       "1             0            365  datetime64[ns]  \n",
       "2             0           1440          object  \n",
       "3             0          48254           int64  \n",
       "4             0          23107         float64  \n",
       "5             0          19572         float64  \n",
       "6             0           4518          object  \n",
       "7             0              5          object  \n",
       "8             0            211           int64  \n",
       "9             0             14           int64  \n",
       "10            0              3           int64  \n",
       "11            0              2            bool  \n",
       "12            0              2            bool  \n",
       "13            0              4          object  \n",
       "14            0              4          object  \n",
       "15            0              3          object  \n",
       "16            0              3          object  \n",
       "17            0              7          object  \n",
       "18            0              7          object  \n",
       "19            0              7          object  \n",
       "20            0              3          object  \n",
       "21            0             16          object  "
      ]
     },
     "execution_count": 8,
     "metadata": {},
     "output_type": "execute_result"
    }
   ],
   "source": [
    "# Example usage:\n",
    "info_dataframe = exp.create_info_dataframe(df)  # Assuming data_df is your DataFrame\n",
    "info_dataframe"
   ]
  },
  {
   "cell_type": "code",
   "execution_count": 9,
   "metadata": {},
   "outputs": [
    {
     "data": {
      "image/png": "[encoded data removed]",
      "text/plain": [
       "<Figure size 600x500 with 1 Axes>"
      ]
     },
     "metadata": {},
     "output_type": "display_data"
    }
   ],
   "source": [
    "vis.injuries_dist(df)"
   ]
  },
  {
   "cell_type": "markdown",
   "metadata": {},
   "source": [
    "### Vehicle Category\n",
    "**Null Hypothesis**: The category of vehicles involved is independent of the occurrence of injuries in vehicle crashes.  \n",
    "**Alternative Hypothesis**: The category of vehicles involved is not independent of the occurrence of injuries in vehicle crashes."
   ]
  },
  {
   "cell_type": "code",
   "execution_count": 10,
   "metadata": {},
   "outputs": [],
   "source": [
    "# combine the 2 vehicle category columns\n",
    "adjusted_vehicle_category_df = pd.DataFrame({'combined_vehicle_category': df['vehicle_1_category'].tolist() + df['vehicle_2_category'].tolist(),\n",
    "                                             'injuries': [0.5 if x else 0 for x in df['injuries'].tolist()] * 2})\n",
    "\n",
    "# Aggregate the adjusted data by 'combined_vehicle_category'\n",
    "agg_adjusted_vehicle_category = adjusted_vehicle_category_df.groupby('combined_vehicle_category')['injuries'].sum().reset_index()\n"
   ]
  },
  {
   "cell_type": "code",
   "execution_count": 11,
   "metadata": {},
   "outputs": [
    {
     "data": {
      "image/png": "[encoded data removed]",
      "text/plain": [
       "<Figure size 1000x400 with 1 Axes>"
      ]
     },
     "metadata": {},
     "output_type": "display_data"
    }
   ],
   "source": [
    "# Generate the modified plot for 'combined_vehicle_category' with adjusted injury counts and new formatting\n",
    "vis.customized_barplot_v4(x='vehicles', y='injuries', data=df, \n",
    "                      title='Injuries by Vehicle Category', xlabel='', \n",
    "                      x_label_rotation=45, bar_font_size=10, figsize=(10, 4))"
   ]
  },
  {
   "cell_type": "code",
   "execution_count": 12,
   "metadata": {},
   "outputs": [
    {
     "data": {
      "image/png": "[encoded data removed]",
      "text/plain": [
       "<Figure size 1000x400 with 1 Axes>"
      ]
     },
     "metadata": {},
     "output_type": "display_data"
    }
   ],
   "source": [
    "# Generate the modified plot for 'combined_vehicle_category' with adjusted injury counts and new formatting\n",
    "vis.customized_barplot_v4(x='combined_vehicle_category', y='injuries', data=agg_adjusted_vehicle_category, \n",
    "                      title='Injuries by Vehicle Category', xlabel='', \n",
    "                      x_label_rotation=45, bar_font_size=10, figsize=(10, 4))"
   ]
  },
  {
   "cell_type": "code",
   "execution_count": 13,
   "metadata": {},
   "outputs": [
    {
     "name": "stdout",
     "output_type": "stream",
     "text": [
      "Chi-Square Test for 'vehicle_1_category' and 'injuries':\n",
      "p-value: 0.0\n",
      "r-value: 0.17\n",
      "\n",
      "Interpretation:\n",
      "Reject the null hypothesis.\n",
      "The r-value suggests a medium effect size.\n"
     ]
    }
   ],
   "source": [
    "# Test the modified function with 'vehicle_1_category' and 'injuries'\n",
    "print(\"Chi-Square Test for 'vehicle_1_category' and 'injuries':\")\n",
    "exp.chi_square_test(adjusted_vehicle_category_df, 'injuries', 'combined_vehicle_category')"
   ]
  },
  {
   "cell_type": "markdown",
   "metadata": {},
   "source": [
    "### Factor Category\n",
    "**Null Hypothesis**: The contributing factors category is independent of the occurrence of injuries in vehicle crashes.  \n",
    "**Alternative Hypothesis**: The contributing factors category is not independent of the occurrence of injuries in vehicle crashes."
   ]
  },
  {
   "cell_type": "code",
   "execution_count": 14,
   "metadata": {},
   "outputs": [],
   "source": [
    "# Adjust the 'injuries' column in the aggregated data to count each injury occurrence as 0.5\n",
    "adjusted_factors_category_df = pd.DataFrame({'combined_factors_category': df['factors_category_vehicle_1'].tolist() + df['factors_category_vehicle_2'].tolist(),\n",
    "                                             'injuries': [0.5 if x else 0 for x in df['injuries'].tolist()] * 2})\n",
    "\n",
    "adjusted_factors_subcat_df = pd.DataFrame({'combined_factors_subcat': df['factors_subcat_vehicle_1'].tolist() + df['factors_subcat_vehicle_2'].tolist(),\n",
    "                                           'injuries': [0.5 if x else 0 for x in df['injuries'].tolist()] * 2})\n",
    "\n",
    "# Aggregate the adjusted data by 'combined_factors_category' and 'combined_factors_subcat'\n",
    "agg_adjusted_factors_category = adjusted_factors_category_df.groupby('combined_factors_category')['injuries'].sum().reset_index()\n",
    "agg_adjusted_factors_subcat = adjusted_factors_subcat_df.groupby('combined_factors_subcat')['injuries'].sum().reset_index()\n",
    "\n"
   ]
  },
  {
   "cell_type": "code",
   "execution_count": 15,
   "metadata": {},
   "outputs": [
    {
     "data": {
      "image/png": "[encoded data removed]",
      "text/plain": [
       "<Figure size 800x500 with 1 Axes>"
      ]
     },
     "metadata": {},
     "output_type": "display_data"
    }
   ],
   "source": [
    "# Generate the plots for 'combined_factors_category' and 'combined_factors_subcat' with adjusted injury counts\n",
    "vis.customized_barplot_v4(x='combined_factors_category', y='injuries', data=agg_adjusted_factors_category, \n",
    "                   title='Injuries by Factor Category', xlabel='', \n",
    "                      x_label_rotation=0, bar_font_size=12, figsize=(8, 5))"
   ]
  },
  {
   "cell_type": "code",
   "execution_count": 16,
   "metadata": {},
   "outputs": [
    {
     "name": "stdout",
     "output_type": "stream",
     "text": [
      "Chi-Square Test for 'combined_factors_category' and 'injuries':\n",
      "p-value: 1.5763510664149358e-75\n",
      "r-value: 0.06\n",
      "\n",
      "Interpretation:\n",
      "Reject the null hypothesis.\n",
      "The r-value suggests a small effect size.\n"
     ]
    }
   ],
   "source": [
    "# Conduct and interpret Chi-Square Test for 'combined_factors_category' and 'injuries'\n",
    "print(\"Chi-Square Test for 'combined_factors_category' and 'injuries':\")\n",
    "exp.chi_square_test(adjusted_factors_category_df, 'injuries', 'combined_factors_category')"
   ]
  },
  {
   "cell_type": "markdown",
   "metadata": {},
   "source": [
    "### Factors Subcategory\n",
    "**Null Hypothesis**: The contributing factors subcategory is independent of the occurrence of injuries in vehicle crashes.  \n",
    "**Alternative Hypothesis**: The contributing factors subcategory is not independent of the occurrence of injuries in vehicle crashes."
   ]
  },
  {
   "cell_type": "code",
   "execution_count": 17,
   "metadata": {},
   "outputs": [
    {
     "data": {
      "image/png": "[encoded data removed]",
      "text/plain": [
       "<Figure size 1000x500 with 1 Axes>"
      ]
     },
     "metadata": {},
     "output_type": "display_data"
    }
   ],
   "source": [
    "vis.customized_barplot_v4(x='combined_factors_subcat', y='injuries', data=agg_adjusted_factors_subcat, \n",
    "                      title='Injuries by Factor Subcategory', xlabel='', \n",
    "                      x_label_rotation=45, bar_font_size=12, figsize=(10, 5))"
   ]
  },
  {
   "cell_type": "code",
   "execution_count": 18,
   "metadata": {},
   "outputs": [
    {
     "name": "stdout",
     "output_type": "stream",
     "text": [
      "\n",
      "Chi-Square Test for 'combined_factors_subcat' and 'injuries':\n",
      "p-value: 1.8004063532261264e-103\n",
      "r-value: 0.07\n",
      "\n",
      "Interpretation:\n",
      "Reject the null hypothesis.\n",
      "The r-value suggests a small effect size.\n"
     ]
    }
   ],
   "source": [
    "# Conduct and interpret Chi-Square Test for 'combined_factors_subcat' and 'injuries'\n",
    "print(\"\\nChi-Square Test for 'combined_factors_subcat' and 'injuries':\")\n",
    "exp.chi_square_test(adjusted_factors_subcat_df, 'injuries', 'combined_factors_subcat')\n"
   ]
  },
  {
   "cell_type": "code",
   "execution_count": null,
   "metadata": {},
   "outputs": [],
   "source": []
  },
  {
   "cell_type": "code",
   "execution_count": 19,
   "metadata": {},
   "outputs": [],
   "source": [
    "# Convert 'crash_datetime' to a datetime object\n",
    "df['crash_datetime'] = pd.to_datetime(df['crash_datetime'])\n",
    "\n",
    "# Extract time-based features from 'crash_datetime'\n",
    "df['hour_of_day'] = df['crash_datetime'].dt.hour\n",
    "df['day_of_week'] = df['crash_datetime'].dt.day_name()\n",
    "df['month'] = df['crash_datetime'].dt.month_name()\n",
    "\n",
    "# Create a 'daylight' column, set to True if the hour is between 06 and 19, otherwise False\n",
    "df['daylight'] = (df['hour_of_day'] >= 6) & (df['hour_of_day'] <= 19)\n",
    "\n",
    "# the 'daylight_day_of_week' column to use 'Day' and 'Night' instead of True and False\n",
    "df['daylight_day_of_week'] = df['day_of_week'] + '_' + df['daylight'].map({True: 'Day', False: 'Night'})\n"
   ]
  },
  {
   "cell_type": "markdown",
   "metadata": {},
   "source": [
    "### Hour of Day\n",
    "**Null Hypothesis**: The hour of the day is independent of the occurrence of injuries in vehicle crashes.  \n",
    "**Alternative Hypothesis**: The hour of the day is not independent of the occurrence of injuries in vehicle crashes.\n"
   ]
  },
  {
   "cell_type": "code",
   "execution_count": 20,
   "metadata": {},
   "outputs": [
    {
     "data": {
      "image/png": "[encoded data removed]",
      "text/plain": [
       "<Figure size 1200x700 with 1 Axes>"
      ]
     },
     "metadata": {},
     "output_type": "display_data"
    }
   ],
   "source": [
    "# Aggregate the data for the new time-based features\n",
    "agg_hour_of_day = df.groupby('hour_of_day')['injuries'].sum().reset_index()\n",
    "agg_day_of_week = df.groupby('day_of_week')['injuries'].sum().reset_index()\n",
    "agg_daylight = df.groupby('daylight')['injuries'].sum().reset_index()\n",
    "agg_daylight_day_of_week = df.groupby('daylight_day_of_week')['injuries'].sum().reset_index()\n",
    "\n",
    "# Generate bar plots for the new features\n",
    "vis.customized_barplot_v4(x='hour_of_day', y='injuries', data=agg_hour_of_day, \n",
    "                      title='Injuries by Hour of Day', xlabel='Hour of Day', \n",
    "                      x_label_rotation=0, bar_font_size=10, figsize=(12, 7))\n"
   ]
  },
  {
   "cell_type": "code",
   "execution_count": 21,
   "metadata": {},
   "outputs": [
    {
     "name": "stdout",
     "output_type": "stream",
     "text": [
      "Chi-Square Test for 'hour_of_day':\n",
      "p-value: 3.0065722439640336e-23\n",
      "r-value: 0.06\n",
      "\n",
      "Interpretation:\n",
      "Reject the null hypothesis.\n",
      "The r-value suggests a small effect size.\n"
     ]
    }
   ],
   "source": [
    "\n",
    "print(\"Chi-Square Test for 'hour_of_day':\")\n",
    "exp.chi_square_test(df, 'injuries', 'hour_of_day')\n"
   ]
  },
  {
   "cell_type": "markdown",
   "metadata": {},
   "source": [
    "### Day of Week\n",
    "**Null Hypothesis**: The day of the week is independent of the occurrence of injuries in vehicle crashes.  \n",
    "**Alternative Hypothesis**: The day of the week is not independent of the occurrence of injuries in vehicle crashes."
   ]
  },
  {
   "cell_type": "code",
   "execution_count": 22,
   "metadata": {},
   "outputs": [
    {
     "data": {
      "image/png": "[encoded data removed]",
      "text/plain": [
       "<Figure size 1000x500 with 1 Axes>"
      ]
     },
     "metadata": {},
     "output_type": "display_data"
    }
   ],
   "source": [
    "vis.customized_barplot_v4(x='day_of_week', y='injuries', data=agg_day_of_week, \n",
    "                      title='Injuries by Day of Week', xlabel='Day of Week', \n",
    "                      x_label_rotation=0, bar_font_size=12, figsize=(10, 5))\n"
   ]
  },
  {
   "cell_type": "code",
   "execution_count": 23,
   "metadata": {},
   "outputs": [
    {
     "name": "stdout",
     "output_type": "stream",
     "text": [
      "\n",
      "Chi-Square Test for 'day_of_week':\n",
      "p-value: 0.07266814052507678\n",
      "r-value: 0.02\n",
      "\n",
      "Interpretation:\n",
      "Fail to reject the null hypothesis.\n",
      "The r-value suggests a small effect size.\n"
     ]
    }
   ],
   "source": [
    "print(\"\\nChi-Square Test for 'day_of_week':\")\n",
    "exp.chi_square_test(df, 'injuries', 'day_of_week')\n"
   ]
  },
  {
   "cell_type": "markdown",
   "metadata": {},
   "source": [
    "### Daylight\n",
    "**Null Hypothesis**: The presence of daylight is independent of the occurrence of injuries in vehicle crashes.  \n",
    "**Alternative Hypothesis**: The presence of daylight is not independent of the occurrence of injuries in vehicle crashes."
   ]
  },
  {
   "cell_type": "code",
   "execution_count": 24,
   "metadata": {},
   "outputs": [
    {
     "data": {
      "image/png": "[encoded data removed]",
      "text/plain": [
       "<Figure size 500x500 with 1 Axes>"
      ]
     },
     "metadata": {},
     "output_type": "display_data"
    }
   ],
   "source": [
    "vis.customized_barplot_v4(x='daylight', y='injuries', data=agg_daylight, \n",
    "                      title='Injuries by Daylight', xlabel='Daylight', \n",
    "                      x_label_rotation=0, bar_font_size=10, figsize=(5, 5))\n"
   ]
  },
  {
   "cell_type": "code",
   "execution_count": 25,
   "metadata": {},
   "outputs": [
    {
     "name": "stdout",
     "output_type": "stream",
     "text": [
      "\n",
      "Chi-Square Test for 'daylight':\n",
      "p-value: 1.43316788659377e-06\n",
      "r-value: 0.02\n",
      "\n",
      "Interpretation:\n",
      "Reject the null hypothesis.\n",
      "The r-value suggests a small effect size.\n"
     ]
    }
   ],
   "source": [
    "print(\"\\nChi-Square Test for 'daylight':\")\n",
    "exp.chi_square_test(df, 'injuries', 'daylight')\n"
   ]
  },
  {
   "cell_type": "markdown",
   "metadata": {},
   "source": [
    "### Daylight & Day of Week Combined\n",
    "**Null Hypothesis**: The combination of daylight and day of the week is independent of the occurrence of injuries in vehicle crashes.  \n",
    "**Alternative Hypothesis**: The combination of daylight and day of the week is not independent of the occurrence of injuries in vehicle crashes."
   ]
  },
  {
   "cell_type": "code",
   "execution_count": 26,
   "metadata": {},
   "outputs": [
    {
     "data": {
      "image/png": "[encoded data removed]",
      "text/plain": [
       "<Figure size 1200x700 with 1 Axes>"
      ]
     },
     "metadata": {},
     "output_type": "display_data"
    }
   ],
   "source": [
    "vis.customized_barplot_v4(x='daylight_day_of_week', y='injuries', data=agg_daylight_day_of_week, \n",
    "                      title='Injuries by Daylight & Day of Week', xlabel='Daylight & Day of Week', \n",
    "                      x_label_rotation=45, bar_font_size=10, figsize=(12, 7))\n"
   ]
  },
  {
   "cell_type": "code",
   "execution_count": 27,
   "metadata": {},
   "outputs": [
    {
     "name": "stdout",
     "output_type": "stream",
     "text": [
      "\n",
      "Chi-Square Test for 'daylight_day_of_week':\n",
      "p-value: 2.1339268396194903e-08\n",
      "r-value: 0.04\n",
      "\n",
      "Interpretation:\n",
      "Reject the null hypothesis.\n",
      "The r-value suggests a small effect size.\n"
     ]
    }
   ],
   "source": [
    "print(\"\\nChi-Square Test for 'daylight_day_of_week':\")\n",
    "exp.chi_square_test(df, 'injuries', 'daylight_day_of_week')\n"
   ]
  },
  {
   "cell_type": "markdown",
   "metadata": {},
   "source": [
    "### Borough\n",
    "**Null Hypothesis**: The borough in which the crash occurs is independent of the occurrence of injuries in vehicle crashes.  \n",
    "**Alternative Hypothesis**: The borough in which the crash occurs is not independent of the occurrence of injuries in vehicle crashes.\n"
   ]
  },
  {
   "cell_type": "code",
   "execution_count": 28,
   "metadata": {},
   "outputs": [
    {
     "data": {
      "image/png": "[encoded data removed]",
      "text/plain": [
       "<Figure size 1000x600 with 1 Axes>"
      ]
     },
     "metadata": {},
     "output_type": "display_data"
    }
   ],
   "source": [
    "# Aggregate the data for the new location-based features\n",
    "agg_borough = df.groupby('borough')['injuries'].sum().reset_index()\n",
    "\n",
    "# Generate bar plots for the new location-based features\n",
    "vis.customized_barplot_v4(x='borough', y='injuries', data=agg_borough, \n",
    "                      title='Injuries by Borough', xlabel='Borough')"
   ]
  },
  {
   "cell_type": "code",
   "execution_count": 29,
   "metadata": {},
   "outputs": [
    {
     "name": "stdout",
     "output_type": "stream",
     "text": [
      "Chi-Square Test for 'borough':\n",
      "p-value: 3.492703421519629e-67\n",
      "r-value: 0.08\n",
      "\n",
      "Interpretation:\n",
      "Reject the null hypothesis.\n",
      "The r-value suggests a small effect size.\n"
     ]
    }
   ],
   "source": [
    "# Conduct Chi-Square Tests for the new location-based features\n",
    "print(\"Chi-Square Test for 'borough':\")\n",
    "exp.chi_square_test(df, 'injuries', 'borough')\n"
   ]
  },
  {
   "cell_type": "markdown",
   "metadata": {},
   "source": [
    "### ZIP Code\n",
    "**Null Hypothesis**: The ZIP code in which the crash occurs is independent of the occurrence of injuries in vehicle crashes.  \n",
    "**Alternative Hypothesis**: The ZIP code in which the crash occurs is not independent of the occurrence of injuries in vehicle crashes.\n"
   ]
  },
  {
   "cell_type": "code",
   "execution_count": 30,
   "metadata": {},
   "outputs": [
    {
     "data": {
      "text/html": [
       "<div style=\"width:100%;\"><div style=\"position:relative;width:100%;height:0;padding-bottom:60%;\"><span style=\"color:#565656\">Make this Notebook Trusted to load map: File -> Trust Notebook</span><iframe srcdoc=\"&lt;!DOCTYPE html&gt;\n",
       "&lt;html&gt;\n",
       "&lt;head&gt;\n",
       "    \n",
       "    &lt;meta http-equiv=&quot;content-type&quot; content=&quot;text/html; charset=UTF-8&quot; /&gt;\n",
       "    \n",
       "        &lt;script&gt;\n",
       "            L_NO_TOUCH = false;\n",
       "            L_DISABLE_3D = false;\n",
       "        &lt;/script&gt;\n",
       "    \n",
       "    &lt;style&gt;html, body {width: 100%;height: 100%;margin: 0;padding: 0;}&lt;/style&gt;\n",
       "    &lt;style&gt;#map {position:absolute;top:0;bottom:0;right:0;left:0;}&lt;/style&gt;\n",
       "    &lt;script src=&quot;https://cdn.jsdelivr.net/npm/leaflet@1.9.3/dist/leaflet.js&quot;&gt;&lt;/script&gt;\n",
       "    &lt;script src=&quot;https://code.jquery.com/jquery-1.12.4.min.js&quot;&gt;&lt;/script&gt;\n",
       "    &lt;script src=&quot;https://cdn.jsdelivr.net/npm/bootstrap@5.2.2/dist/js/bootstrap.bundle.min.js&quot;&gt;&lt;/script&gt;\n",
       "    &lt;script src=&quot;https://cdnjs.cloudflare.com/ajax/libs/Leaflet.awesome-markers/2.0.2/leaflet.awesome-markers.js&quot;&gt;&lt;/script&gt;\n",
       "    &lt;link rel=&quot;stylesheet&quot; href=&quot;https://cdn.jsdelivr.net/npm/leaflet@1.9.3/dist/leaflet.css&quot;/&gt;\n",
       "    &lt;link rel=&quot;stylesheet&quot; href=&quot;https://cdn.jsdelivr.net/npm/bootstrap@5.2.2/dist/css/bootstrap.min.css&quot;/&gt;\n",
       "    &lt;link rel=&quot;stylesheet&quot; href=&quot;https://netdna.bootstrapcdn.com/bootstrap/3.0.0/css/bootstrap.min.css&quot;/&gt;\n",
       "    &lt;link rel=&quot;stylesheet&quot; href=&quot;https://cdn.jsdelivr.net/npm/@fortawesome/fontawesome-free@6.2.0/css/all.min.css&quot;/&gt;\n",
       "    &lt;link rel=&quot;stylesheet&quot; href=&quot;https://cdnjs.cloudflare.com/ajax/libs/Leaflet.awesome-markers/2.0.2/leaflet.awesome-markers.css&quot;/&gt;\n",
       "    &lt;link rel=&quot;stylesheet&quot; href=&quot;https://cdn.jsdelivr.net/gh/python-visualization/folium/folium/templates/leaflet.awesome.rotate.min.css&quot;/&gt;\n",
       "    \n",
       "            &lt;meta name=&quot;viewport&quot; content=&quot;width=device-width,\n",
       "                initial-scale=1.0, maximum-scale=1.0, user-scalable=no&quot; /&gt;\n",
       "            &lt;style&gt;\n",
       "                #map_40f09f7046429e1f0b3bff57a7b16863 {\n",
       "                    position: relative;\n",
       "                    width: 100.0%;\n",
       "                    height: 100.0%;\n",
       "                    left: 0.0%;\n",
       "                    top: 0.0%;\n",
       "                }\n",
       "                .leaflet-container { font-size: 1rem; }\n",
       "            &lt;/style&gt;\n",
       "        \n",
       "    &lt;script src=&quot;https://cdnjs.cloudflare.com/ajax/libs/d3/3.5.5/d3.min.js&quot;&gt;&lt;/script&gt;\n",
       "&lt;/head&gt;\n",
       "&lt;body&gt;\n",
       "    \n",
       "    \n",
       "            &lt;div class=&quot;folium-map&quot; id=&quot;map_40f09f7046429e1f0b3bff57a7b16863&quot; &gt;&lt;/div&gt;\n",
       "        \n",
       "&lt;/body&gt;\n",
       "&lt;script&gt;\n",
       "    \n",
       "    \n",
       "            var map_40f09f7046429e1f0b3bff57a7b16863 = L.map(\n",
       "                &quot;map_40f09f7046429e1f0b3bff57a7b16863&quot;,\n",
       "                {\n",
       "                    center: [40.7128, -74.006],\n",
       "                    crs: L.CRS.EPSG3857,\n",
       "                    zoom: 11,\n",
       "                    zoomControl: true,\n",
       "                    preferCanvas: false,\n",
       "                }\n",
       "            );\n",
       "\n",
       "            \n",
       "\n",
       "        \n",
       "    \n",
       "            var tile_layer_baf008e36165d810c36b0b093e9fd752 = L.tileLayer(\n",
       "                &quot;https://{s}.tile.openstreetmap.org/{z}/{x}/{y}.png&quot;,\n",
       "                {&quot;attribution&quot;: &quot;Data by \\u0026copy; \\u003ca target=\\&quot;_blank\\&quot; href=\\&quot;http://openstreetmap.org\\&quot;\\u003eOpenStreetMap\\u003c/a\\u003e, under \\u003ca target=\\&quot;_blank\\&quot; href=\\&quot;http://www.openstreetmap.org/copyright\\&quot;\\u003eODbL\\u003c/a\\u003e.&quot;, &quot;detectRetina&quot;: false, &quot;maxNativeZoom&quot;: 18, &quot;maxZoom&quot;: 18, &quot;minZoom&quot;: 0, &quot;noWrap&quot;: false, &quot;opacity&quot;: 1, &quot;subdomains&quot;: &quot;abc&quot;, &quot;tms&quot;: false}\n",
       "            ).addTo(map_40f09f7046429e1f0b3bff57a7b16863);\n",
       "        \n",
       "    \n",
       "            var choropleth_97c2d8d357490073155f67adee7d0047 = L.featureGroup(\n",
       "                {}\n",
       "            ).addTo(map_40f09f7046429e1f0b3bff57a7b16863);\n",
       "        \n",
       "    \n",
       "        function geo_json_9ca95458109543f59c0447616ab6fae3_styler(feature) {\n",
       "            switch(feature.id) {\n",
       "                case &quot;2&quot;: case &quot;3&quot;: case &quot;5&quot;: case &quot;6&quot;: case &quot;16&quot;: case &quot;19&quot;: case &quot;20&quot;: case &quot;27&quot;: case &quot;28&quot;: case &quot;29&quot;: case &quot;33&quot;: case &quot;45&quot;: case &quot;49&quot;: case &quot;51&quot;: case &quot;53&quot;: case &quot;54&quot;: case &quot;55&quot;: case &quot;57&quot;: case &quot;58&quot;: case &quot;59&quot;: case &quot;64&quot;: case &quot;65&quot;: case &quot;66&quot;: case &quot;69&quot;: case &quot;72&quot;: case &quot;73&quot;: case &quot;76&quot;: case &quot;77&quot;: case &quot;79&quot;: case &quot;80&quot;: case &quot;81&quot;: case &quot;84&quot;: case &quot;92&quot;: case &quot;93&quot;: case &quot;95&quot;: case &quot;98&quot;: case &quot;99&quot;: case &quot;100&quot;: case &quot;103&quot;: case &quot;104&quot;: case &quot;106&quot;: case &quot;115&quot;: case &quot;118&quot;: case &quot;123&quot;: case &quot;124&quot;: case &quot;125&quot;: case &quot;126&quot;: case &quot;127&quot;: case &quot;128&quot;: case &quot;131&quot;: case &quot;132&quot;: case &quot;133&quot;: case &quot;134&quot;: case &quot;138&quot;: case &quot;139&quot;: case &quot;149&quot;: case &quot;150&quot;: case &quot;157&quot;: case &quot;161&quot;: case &quot;163&quot;: case &quot;165&quot;: case &quot;169&quot;: case &quot;170&quot;: case &quot;172&quot;: case &quot;174&quot;: case &quot;178&quot;: case &quot;186&quot;: case &quot;187&quot;: case &quot;192&quot;: \n",
       "                    return {&quot;color&quot;: &quot;black&quot;, &quot;fillColor&quot;: &quot;#fed976&quot;, &quot;fillOpacity&quot;: 0.7, &quot;opacity&quot;: 0.2, &quot;weight&quot;: 1};\n",
       "                case &quot;4&quot;: case &quot;44&quot;: case &quot;87&quot;: case &quot;97&quot;: case &quot;129&quot;: case &quot;154&quot;: \n",
       "                    return {&quot;color&quot;: &quot;black&quot;, &quot;fillColor&quot;: &quot;#fd8d3c&quot;, &quot;fillOpacity&quot;: 0.7, &quot;opacity&quot;: 0.2, &quot;weight&quot;: 1};\n",
       "                case &quot;26&quot;: case &quot;30&quot;: case &quot;31&quot;: case &quot;32&quot;: case &quot;41&quot;: case &quot;70&quot;: case &quot;75&quot;: case &quot;88&quot;: case &quot;96&quot;: case &quot;101&quot;: case &quot;117&quot;: case &quot;120&quot;: case &quot;122&quot;: case &quot;130&quot;: case &quot;142&quot;: case &quot;148&quot;: case &quot;151&quot;: case &quot;160&quot;: case &quot;168&quot;: case &quot;173&quot;: \n",
       "                    return {&quot;color&quot;: &quot;black&quot;, &quot;fillColor&quot;: &quot;#feb24c&quot;, &quot;fillOpacity&quot;: 0.7, &quot;opacity&quot;: 0.2, &quot;weight&quot;: 1};\n",
       "                case &quot;102&quot;: \n",
       "                    return {&quot;color&quot;: &quot;black&quot;, &quot;fillColor&quot;: &quot;#bd0026&quot;, &quot;fillOpacity&quot;: 0.7, &quot;opacity&quot;: 0.2, &quot;weight&quot;: 1};\n",
       "                default:\n",
       "                    return {&quot;color&quot;: &quot;black&quot;, &quot;fillColor&quot;: &quot;#ffffb2&quot;, &quot;fillOpacity&quot;: 0.7, &quot;opacity&quot;: 0.2, &quot;weight&quot;: 1};\n",
       "            }\n",
       "        }\n",
       "\n",
       "        function geo_json_9ca95458109543f59c0447616ab6fae3_onEachFeature(feature, layer) {\n",
       "            layer.on({\n",
       "            });\n",
       "        };\n",
       "        var geo_json_9ca95458109543f59c0447616ab6fae3 = L.geoJson(null, {\n",
       "                onEachFeature: geo_json_9ca95458109543f59c0447616ab6fae3_onEachFeature,\n",
       "            \n",
       "                style: geo_json_9ca95458109543f59c0447616ab6fae3_styler,\n",
       "        });\n",
       "\n",
       "        function geo_json_9ca95458109543f59c0447616ab6fae3_add (data) {\n",
       "            geo_json_9ca95458109543f59c0447616ab6fae3\n",
       "                .addData(data)\n",
       "                .addTo(choropleth_97c2d8d357490073155f67adee7d0047);\n",
       "        }\n",
       "            geo_json_9ca95458109543f59c0447616ab6fae3_add({&quot;bbox&quot;: [-74.255895, 40.496369, -73.650997, 40.934894], &quot;features&quot;: [{&quot;bbox&quot;: [-73.823296, 40.838084, -73.767511, 40.888999], &quot;geometry&quot;: {&quot;coordinates&quot;: [[[[-73.772505, 40.853706], [-73.768188, 40.851241], [-73.767511, 40.858821], [-73.772401, 40.860009], [-73.772505, 40.853706]]], [[[-73.785698, 40.851457], [-73.789428, 40.851185], [-73.791165, 40.847675], [-73.78568, 40.838084], [-73.781711, 40.838523], [-73.781714, 40.845768], [-73.785698, 40.851457]]], [[[-73.792942, 40.883411], [-73.815165, 40.888999], [-73.819803, 40.885451], [-73.819926, 40.88212], [-73.823296, 40.873098], [-73.821267, 40.869071], [-73.816752, 40.864544], [-73.815089, 40.865244], [-73.807579, 40.860385], [-73.80563, 40.85471], [-73.800206, 40.847927], [-73.797985, 40.854849], [-73.794032, 40.856551], [-73.79018, 40.868148], [-73.785828, 40.869046], [-73.787703, 40.872997], [-73.785776, 40.878884], [-73.793569, 40.879505], [-73.794178, 40.874715], [-73.797217, 40.873349], [-73.801958, 40.865965], [-73.8048, 40.86859], [-73.800472, 40.872951], [-73.792942, 40.883411]]]], &quot;type&quot;: &quot;MultiPolygon&quot;}, &quot;id&quot;: &quot;0&quot;, &quot;properties&quot;: {&quot;ALAND10&quot;: 9070627, &quot;AWATER10&quot;: 236605, &quot;CLASSFP10&quot;: &quot;B5&quot;, &quot;FUNCSTAT10&quot;: &quot;S&quot;, &quot;GEOID10&quot;: &quot;3610464&quot;, &quot;INTPTLAT10&quot;: &quot;+40.8677868&quot;, &quot;INTPTLON10&quot;: &quot;-073.7999204&quot;, &quot;MTFCC10&quot;: &quot;G6350&quot;, &quot;PARTFLG10&quot;: &quot;N&quot;, &quot;STATEFP10&quot;: &quot;36&quot;, &quot;ZCTA5CE10&quot;: 10464, &quot;injuries&quot;: 14, &quot;zip_code&quot;: 10464}, &quot;type&quot;: &quot;Feature&quot;}, {&quot;bbox&quot;: [-73.880398, 40.880258, -73.844728, 40.909899], &quot;geometry&quot;: {&quot;coordinates&quot;: [[[-73.852678, 40.909899], [-73.854881, 40.908217], [-73.85931, 40.900479], [-73.877855, 40.905922], [-73.878189, 40.905983], [-73.880398, 40.892826], [-73.87802, 40.88709], [-73.878126, 40.882154], [-73.87092, 40.880258], [-73.867561, 40.888381], [-73.862875, 40.895154], [-73.859258, 40.900338], [-73.853434, 40.898115], [-73.84955, 40.903045], [-73.844728, 40.904732], [-73.852678, 40.909899]]], &quot;type&quot;: &quot;Polygon&quot;}, &quot;id&quot;: &quot;1&quot;, &quot;properties&quot;: {&quot;ALAND10&quot;: 3689950, &quot;AWATER10&quot;: 3918, &quot;CLASSFP10&quot;: &quot;B5&quot;, &quot;FUNCSTAT10&quot;: &quot;S&quot;, &quot;GEOID10&quot;: &quot;3610470&quot;, &quot;INTPTLAT10&quot;: &quot;+40.8895273&quot;, &quot;INTPTLON10&quot;: &quot;-073.8726596&quot;, &quot;MTFCC10&quot;: &quot;G6350&quot;, &quot;PARTFLG10&quot;: &quot;N&quot;, &quot;STATEFP10&quot;: &quot;36&quot;, &quot;ZCTA5CE10&quot;: 10470, &quot;injuries&quot;: 46, &quot;zip_code&quot;: 10470}, &quot;type&quot;: &quot;Feature&quot;}, {&quot;bbox&quot;: [-73.922088, 40.808531, -73.895428, 40.821277], &quot;geometry&quot;: {&quot;coordinates&quot;: [[[-73.911948, 40.820154], [-73.917417, 40.821277], [-73.922088, 40.813731], [-73.915178, 40.810427], [-73.90496, 40.808531], [-73.902988, 40.809364], [-73.895428, 40.815845], [-73.90299, 40.820027], [-73.905313, 40.817925], [-73.911948, 40.820154]]], &quot;type&quot;: &quot;Polygon&quot;}, &quot;id&quot;: &quot;2&quot;, &quot;properties&quot;: {&quot;ALAND10&quot;: 1844518, &quot;AWATER10&quot;: 0, &quot;CLASSFP10&quot;: &quot;B5&quot;, &quot;FUNCSTAT10&quot;: &quot;S&quot;, &quot;GEOID10&quot;: &quot;3610455&quot;, &quot;INTPTLAT10&quot;: &quot;+40.8147100&quot;, &quot;INTPTLON10&quot;: &quot;-073.9085917&quot;, &quot;MTFCC10&quot;: &quot;G6350&quot;, &quot;PARTFLG10&quot;: &quot;N&quot;, &quot;STATEFP10&quot;: &quot;36&quot;, &quot;ZCTA5CE10&quot;: 10455, &quot;injuries&quot;: 119, &quot;zip_code&quot;: 10455}, &quot;type&quot;: &quot;Feature&quot;}, {&quot;bbox&quot;: [-73.884568, 40.802619, -73.84032, 40.828497], &quot;geometry&quot;: {&quot;coordinates&quot;: [[[-73.884328, 40.822614], [-73.877513, 40.816586], [-73.871098, 40.814637], [-73.867461, 40.810649], [-73.859204, 40.8107], [-73.856323, 40.802619], [-73.846497, 40.803835], [-73.847065, 40.810241], [-73.84032, 40.820717], [-73.842425, 40.82806], [-73.842683, 40.828497], [-73.84572, 40.828284], [-73.884568, 40.82316], [-73.884328, 40.822614]]], &quot;type&quot;: &quot;Polygon&quot;}, &quot;id&quot;: &quot;3&quot;, &quot;properties&quot;: {&quot;ALAND10&quot;: 5645604, &quot;AWATER10&quot;: 13868, &quot;CLASSFP10&quot;: &quot;B5&quot;, &quot;FUNCSTAT10&quot;: &quot;S&quot;, &quot;GEOID10&quot;: &quot;3610473&quot;, &quot;INTPTLAT10&quot;: &quot;+40.8186904&quot;, &quot;INTPTLON10&quot;: &quot;-073.8584741&quot;, &quot;MTFCC10&quot;: &quot;G6350&quot;, &quot;PARTFLG10&quot;: &quot;N&quot;, &quot;STATEFP10&quot;: &quot;36&quot;, &quot;ZCTA5CE10&quot;: 10473, &quot;injuries&quot;: 87, &quot;zip_code&quot;: 10473}, &quot;type&quot;: &quot;Feature&quot;}, {&quot;bbox&quot;: [-73.944827, 40.576872, -73.87594, 40.641659], &quot;geometry&quot;: {&quot;coordinates&quot;: [[[-73.931842, 40.58292], [-73.928301, 40.58386], [-73.915039, 40.580767], [-73.905265, 40.581948], [-73.89617, 40.576872], [-73.887595, 40.578079], [-73.879283, 40.580362], [-73.87594, 40.584186], [-73.884932, 40.604702], [-73.898777, 40.60389], [-73.89153, 40.609288], [-73.887335, 40.609566], [-73.898261, 40.622989], [-73.920412, 40.633474], [-73.918852, 40.634483], [-73.919617, 40.641659], [-73.922207, 40.641065], [-73.934305, 40.633886], [-73.933449, 40.625704], [-73.939991, 40.621164], [-73.944827, 40.616046], [-73.937537, 40.608557], [-73.933513, 40.608343], [-73.929868, 40.605071], [-73.933551, 40.602687], [-73.929569, 40.59682], [-73.917656, 40.586139], [-73.920338, 40.584607], [-73.926104, 40.584825], [-73.931842, 40.58292]]], &quot;type&quot;: &quot;Polygon&quot;}, &quot;id&quot;: &quot;4&quot;, &quot;properties&quot;: {&quot;ALAND10&quot;: 19547849, &quot;AWATER10&quot;: 2143727, &quot;CLASSFP10&quot;: &quot;B5&quot;, &quot;FUNCSTAT10&quot;: &quot;S&quot;, &quot;GEOID10&quot;: &quot;3611234&quot;, &quot;INTPTLAT10&quot;: &quot;+40.6050798&quot;, &quot;INTPTLON10&quot;: &quot;-073.9117206&quot;, &quot;MTFCC10&quot;: &quot;G6350&quot;, &quot;PARTFLG10&quot;: &quot;N&quot;, &quot;STATEFP10&quot;: &quot;36&quot;, &quot;ZCTA5CE10&quot;: 11234, &quot;injuries&quot;: 253, &quot;zip_code&quot;: 11234}, &quot;type&quot;: &quot;Feature&quot;}, {&quot;bbox&quot;: [-73.9584, 40.611037, -73.933449, 40.640104], &quot;geometry&quot;: {&quot;coordinates&quot;: [[[-73.944827, 40.616046], [-73.939991, 40.621164], [-73.933449, 40.625704], [-73.934305, 40.633886], [-73.937762, 40.639259], [-73.946509, 40.640104], [-73.9584, 40.636327], [-73.957168, 40.635405], [-73.952577, 40.611037], [-73.944827, 40.616046]]], &quot;type&quot;: &quot;Polygon&quot;}, &quot;id&quot;: &quot;5&quot;, &quot;properties&quot;: {&quot;ALAND10&quot;: 4250381, &quot;AWATER10&quot;: 0, &quot;CLASSFP10&quot;: &quot;B5&quot;, &quot;FUNCSTAT10&quot;: &quot;S&quot;, &quot;GEOID10&quot;: &quot;3611210&quot;, &quot;INTPTLAT10&quot;: &quot;+40.6281475&quot;, &quot;INTPTLON10&quot;: &quot;-073.9463244&quot;, &quot;MTFCC10&quot;: &quot;G6350&quot;, &quot;PARTFLG10&quot;: &quot;N&quot;, &quot;STATEFP10&quot;: &quot;36&quot;, &quot;ZCTA5CE10&quot;: 11210, &quot;injuries&quot;: 123, &quot;zip_code&quot;: 11210}, &quot;type&quot;: &quot;Feature&quot;}, {&quot;bbox&quot;: [-74.002144, 40.644119, -73.970419, 40.679559], &quot;geometry&quot;: {&quot;coordinates&quot;: [[[-73.998272, 40.671153], [-73.991673, 40.663028], [-74.002144, 40.652956], [-73.993985, 40.647101], [-73.989059, 40.644119], [-73.980291, 40.647297], [-73.981796, 40.655246], [-73.975157, 40.658723], [-73.979654, 40.661241], [-73.970419, 40.672511], [-73.970749, 40.672639], [-73.98856, 40.679559], [-73.990802, 40.675783], [-73.995275, 40.675778], [-73.998659, 40.671705], [-73.998272, 40.671153]]], &quot;type&quot;: &quot;Polygon&quot;}, &quot;id&quot;: &quot;6&quot;, &quot;properties&quot;: {&quot;ALAND10&quot;: 5641351, &quot;AWATER10&quot;: 54168, &quot;CLASSFP10&quot;: &quot;B5&quot;, &quot;FUNCSTAT10&quot;: &quot;S&quot;, &quot;GEOID10&quot;: &quot;3611215&quot;, &quot;INTPTLAT10&quot;: &quot;+40.6626879&quot;, &quot;INTPTLON10&quot;: &quot;-073.9867402&quot;, &quot;MTFCC10&quot;: &quot;G6350&quot;, &quot;PARTFLG10&quot;: &quot;N&quot;, &quot;STATEFP10&quot;: &quot;36&quot;, &quot;ZCTA5CE10&quot;: 11215, &quot;injuries&quot;: 93, &quot;zip_code&quot;: 11215}, &quot;type&quot;: &quot;Feature&quot;}, {&quot;bbox&quot;: [-74.01275, 40.570709, -73.959395, 40.584575], &quot;geometry&quot;: {&quot;coordinates&quot;: [[[-73.982812, 40.583792], [-73.988222, 40.580281], [-73.990697, 40.579318], [-73.999521, 40.580711], [-74.010475, 40.580439], [-74.01275, 40.578557], [-74.011406, 40.573977], [-73.999238, 40.570709], [-73.975261, 40.571817], [-73.959395, 40.574077], [-73.96992, 40.575583], [-73.969134, 40.58016], [-73.970587, 40.583218], [-73.966614, 40.584575], [-73.977517, 40.582745], [-73.982812, 40.583792]]], &quot;type&quot;: &quot;Polygon&quot;}, &quot;id&quot;: &quot;7&quot;, &quot;properties&quot;: {&quot;ALAND10&quot;: 3999168, &quot;AWATER10&quot;: 91783, &quot;CLASSFP10&quot;: &quot;B5&quot;, &quot;FUNCSTAT10&quot;: &quot;S&quot;, &quot;GEOID10&quot;: &quot;3611224&quot;, &quot;INTPTLAT10&quot;: &quot;+40.5773723&quot;, &quot;INTPTLON10&quot;: &quot;-073.9887059&quot;, &quot;MTFCC10&quot;: &quot;G6350&quot;, &quot;PARTFLG10&quot;: &quot;N&quot;, &quot;STATEFP10&quot;: &quot;36&quot;, &quot;ZCTA5CE10&quot;: 11224, &quot;injuries&quot;: 66, &quot;zip_code&quot;: 11224}, &quot;type&quot;: &quot;Feature&quot;}, {&quot;bbox&quot;: [-73.891252, 40.638038, -73.86687, 40.656684], &quot;geometry&quot;: {&quot;coordinates&quot;: [[[[-73.875461, 40.652453], [-73.871868, 40.649968], [-73.86687, 40.653172], [-73.867901, 40.656684], [-73.875461, 40.652453]]], [[[-73.878436, 40.649327], [-73.882213, 40.654498], [-73.889994, 40.651138], [-73.891252, 40.650026], [-73.878901, 40.638038], [-73.875052, 40.64517], [-73.878436, 40.649327]]]], &quot;type&quot;: &quot;MultiPolygon&quot;}, &quot;id&quot;: &quot;8&quot;, &quot;properties&quot;: {&quot;ALAND10&quot;: 1477966, &quot;AWATER10&quot;: 30120, &quot;CLASSFP10&quot;: &quot;B5&quot;, &quot;FUNCSTAT10&quot;: &quot;S&quot;, &quot;GEOID10&quot;: &quot;3611239&quot;, &quot;INTPTLAT10&quot;: &quot;+40.6477354&quot;, &quot;INTPTLON10&quot;: &quot;-073.8794772&quot;, &quot;MTFCC10&quot;: &quot;G6350&quot;, &quot;PARTFLG10&quot;: &quot;N&quot;, &quot;STATEFP10&quot;: &quot;36&quot;, &quot;ZCTA5CE10&quot;: 11239, &quot;injuries&quot;: 38, &quot;zip_code&quot;: 11239}, &quot;type&quot;: &quot;Feature&quot;}, {&quot;bbox&quot;: [-73.729176, 40.683659, -73.684211, 40.72087], &quot;geometry&quot;: {&quot;coordinates&quot;: [[[-73.725956, 40.685682], [-73.721514, 40.688254], [-73.714246, 40.68657], [-73.707848, 40.683659], [-73.703123, 40.686419], [-73.6912, 40.686577], [-73.686636, 40.695123], [-73.684284, 40.700797], [-73.684211, 40.706283], [-73.686015, 40.711934], [-73.696275, 40.713402], [-73.701304, 40.710926], [-73.708236, 40.713565], [-73.710531, 40.71785], [-73.71977, 40.716308], [-73.722394, 40.72087], [-73.729176, 40.719167], [-73.725938, 40.706029], [-73.727707, 40.701565], [-73.726461, 40.696669], [-73.725956, 40.685682]]], &quot;type&quot;: &quot;Polygon&quot;}, &quot;id&quot;: &quot;9&quot;, &quot;properties&quot;: {&quot;ALAND10&quot;: 10723323, &quot;AWATER10&quot;: 113541, &quot;CLASSFP10&quot;: &quot;B5&quot;, &quot;FUNCSTAT10&quot;: &quot;S&quot;, &quot;GEOID10&quot;: &quot;3611003&quot;, &quot;INTPTLAT10&quot;: &quot;+40.6991762&quot;, &quot;INTPTLON10&quot;: &quot;-073.7061660&quot;, &quot;MTFCC10&quot;: &quot;G6350&quot;, &quot;PARTFLG10&quot;: &quot;N&quot;, &quot;STATEFP10&quot;: &quot;36&quot;, &quot;ZCTA5CE10&quot;: 11003, &quot;injuries&quot;: 5, &quot;zip_code&quot;: 11003}, &quot;type&quot;: &quot;Feature&quot;}, {&quot;bbox&quot;: [-73.948677, 40.812815, -73.937181, 40.82326], &quot;geometry&quot;: {&quot;coordinates&quot;: [[[-73.941803, 40.812815], [-73.937181, 40.819144], [-73.942924, 40.82326], [-73.946078, 40.821264], [-73.948677, 40.815692], [-73.941803, 40.812815]]], &quot;type&quot;: &quot;Polygon&quot;}, &quot;id&quot;: &quot;10&quot;, &quot;properties&quot;: {&quot;ALAND10&quot;: 722465, &quot;AWATER10&quot;: 0, &quot;CLASSFP10&quot;: &quot;B5&quot;, &quot;FUNCSTAT10&quot;: &quot;S&quot;, &quot;GEOID10&quot;: &quot;3610030&quot;, &quot;INTPTLAT10&quot;: &quot;+40.8182666&quot;, &quot;INTPTLON10&quot;: &quot;-073.9428564&quot;, &quot;MTFCC10&quot;: &quot;G6350&quot;, &quot;PARTFLG10&quot;: &quot;N&quot;, &quot;STATEFP10&quot;: &quot;36&quot;, &quot;ZCTA5CE10&quot;: 10030, &quot;injuries&quot;: 40, &quot;zip_code&quot;: 10030}, &quot;type&quot;: &quot;Feature&quot;}, {&quot;bbox&quot;: [-73.941803, 40.807255, -73.933219, 40.819473], &quot;geometry&quot;: {&quot;coordinates&quot;: [[[-73.940404, 40.808958], [-73.933219, 40.807255], [-73.934144, 40.810895], [-73.933377, 40.819473], [-73.937181, 40.819144], [-73.941803, 40.812815], [-73.940404, 40.808958]]], &quot;type&quot;: &quot;Polygon&quot;}, &quot;id&quot;: &quot;11&quot;, &quot;properties&quot;: {&quot;ALAND10&quot;: 683722, &quot;AWATER10&quot;: 0, &quot;CLASSFP10&quot;: &quot;B5&quot;, &quot;FUNCSTAT10&quot;: &quot;S&quot;, &quot;GEOID10&quot;: &quot;3610037&quot;, &quot;INTPTLAT10&quot;: &quot;+40.8129844&quot;, &quot;INTPTLON10&quot;: &quot;-073.9372850&quot;, &quot;MTFCC10&quot;: &quot;G6350&quot;, &quot;PARTFLG10&quot;: &quot;N&quot;, &quot;STATEFP10&quot;: &quot;36&quot;, &quot;ZCTA5CE10&quot;: 10037, &quot;injuries&quot;: 45, &quot;zip_code&quot;: 10037}, &quot;type&quot;: &quot;Feature&quot;}, {&quot;bbox&quot;: [-73.988643, 40.718612, -73.971282, 40.734975], &quot;geometry&quot;: {&quot;coordinates&quot;: [[[-73.979864, 40.734975], [-73.988643, 40.722933], [-73.973635, 40.718612], [-73.971282, 40.729251], [-73.97365, 40.73231], [-73.979864, 40.734975]]], &quot;type&quot;: &quot;Polygon&quot;}, &quot;id&quot;: &quot;12&quot;, &quot;properties&quot;: {&quot;ALAND10&quot;: 1596985, &quot;AWATER10&quot;: 0, &quot;CLASSFP10&quot;: &quot;B5&quot;, &quot;FUNCSTAT10&quot;: &quot;S&quot;, &quot;GEOID10&quot;: &quot;3610009&quot;, &quot;INTPTLAT10&quot;: &quot;+40.7264080&quot;, &quot;INTPTLON10&quot;: &quot;-073.9786360&quot;, &quot;MTFCC10&quot;: &quot;G6350&quot;, &quot;PARTFLG10&quot;: &quot;N&quot;, &quot;STATEFP10&quot;: &quot;36&quot;, &quot;ZCTA5CE10&quot;: 10009, &quot;injuries&quot;: 41, &quot;zip_code&quot;: 10009}, &quot;type&quot;: &quot;Feature&quot;}, {&quot;bbox&quot;: [-73.96323, 40.770062, -73.944337, 40.782213], &quot;geometry&quot;: {&quot;coordinates&quot;: [[[-73.96323, 40.777677], [-73.954092, 40.774656], [-73.947361, 40.770062], [-73.944337, 40.773108], [-73.946628, 40.776604], [-73.951743, 40.777875], [-73.959921, 40.782213], [-73.96323, 40.777677]]], &quot;type&quot;: &quot;Polygon&quot;}, &quot;id&quot;: &quot;13&quot;, &quot;properties&quot;: {&quot;ALAND10&quot;: 813698, &quot;AWATER10&quot;: 0, &quot;CLASSFP10&quot;: &quot;B5&quot;, &quot;FUNCSTAT10&quot;: &quot;S&quot;, &quot;GEOID10&quot;: &quot;3610028&quot;, &quot;INTPTLAT10&quot;: &quot;+40.7764265&quot;, &quot;INTPTLON10&quot;: &quot;-073.9534932&quot;, &quot;MTFCC10&quot;: &quot;G6350&quot;, &quot;PARTFLG10&quot;: &quot;N&quot;, &quot;STATEFP10&quot;: &quot;36&quot;, &quot;ZCTA5CE10&quot;: 10028, &quot;injuries&quot;: 25, &quot;zip_code&quot;: 10028}, &quot;type&quot;: &quot;Feature&quot;}, {&quot;bbox&quot;: [-73.972553, 40.759284, -73.952085, 40.770517], &quot;geometry&quot;: {&quot;coordinates&quot;: [[[-73.972553, 40.764898], [-73.959263, 40.759284], [-73.956126, 40.760401], [-73.952085, 40.764474], [-73.95516, 40.764918], [-73.968441, 40.770517], [-73.972553, 40.764898]]], &quot;type&quot;: &quot;Polygon&quot;}, &quot;id&quot;: &quot;14&quot;, &quot;properties&quot;: {&quot;ALAND10&quot;: 1000544, &quot;AWATER10&quot;: 0, &quot;CLASSFP10&quot;: &quot;B5&quot;, &quot;FUNCSTAT10&quot;: &quot;S&quot;, &quot;GEOID10&quot;: &quot;3610065&quot;, &quot;INTPTLAT10&quot;: &quot;+40.7645840&quot;, &quot;INTPTLON10&quot;: &quot;-073.9630128&quot;, &quot;MTFCC10&quot;: &quot;G6350&quot;, &quot;PARTFLG10&quot;: &quot;N&quot;, &quot;STATEFP10&quot;: &quot;36&quot;, &quot;ZCTA5CE10&quot;: 10065, &quot;injuries&quot;: 57, &quot;zip_code&quot;: 10065}, &quot;type&quot;: &quot;Feature&quot;}, {&quot;bbox&quot;: [-74.009996, 40.731043, -73.990945, 40.756189], &quot;geometry&quot;: {&quot;coordinates&quot;: [[[-74.009331, 40.742572], [-74.00273, 40.740291], [-73.999653, 40.73407], [-74.000954, 40.731706], [-73.999604, 40.731043], [-73.996974, 40.731409], [-73.990945, 40.739673], [-73.992063, 40.743919], [-74.006529, 40.749553], [-74.005733, 40.75597], [-74.006145, 40.756189], [-74.009996, 40.74893], [-74.009331, 40.742572]]], &quot;type&quot;: &quot;Polygon&quot;}, &quot;id&quot;: &quot;15&quot;, &quot;properties&quot;: {&quot;ALAND10&quot;: 1705243, &quot;AWATER10&quot;: 0, &quot;CLASSFP10&quot;: &quot;B5&quot;, &quot;FUNCSTAT10&quot;: &quot;S&quot;, &quot;GEOID10&quot;: &quot;3610011&quot;, &quot;INTPTLAT10&quot;: &quot;+40.7420017&quot;, &quot;INTPTLON10&quot;: &quot;-074.0005940&quot;, &quot;MTFCC10&quot;: &quot;G6350&quot;, &quot;PARTFLG10&quot;: &quot;N&quot;, &quot;STATEFP10&quot;: &quot;36&quot;, &quot;ZCTA5CE10&quot;: 10011, &quot;injuries&quot;: 47, &quot;zip_code&quot;: 10011}, &quot;type&quot;: &quot;Feature&quot;}, {&quot;bbox&quot;: [-73.960007, 40.817221, -73.939248, 40.834372], &quot;geometry&quot;: {&quot;coordinates&quot;: [[[-73.950403, 40.834372], [-73.95383, 40.828652], [-73.957275, 40.827145], [-73.960007, 40.820422], [-73.952273, 40.817221], [-73.946078, 40.821264], [-73.942924, 40.82326], [-73.939248, 40.828296], [-73.940167, 40.830383], [-73.941078, 40.829083], [-73.949714, 40.832697], [-73.950403, 40.834372]]], &quot;type&quot;: &quot;Polygon&quot;}, &quot;id&quot;: &quot;16&quot;, &quot;properties&quot;: {&quot;ALAND10&quot;: 1685544, &quot;AWATER10&quot;: 0, &quot;CLASSFP10&quot;: &quot;B5&quot;, &quot;FUNCSTAT10&quot;: &quot;S&quot;, &quot;GEOID10&quot;: &quot;3610031&quot;, &quot;INTPTLAT10&quot;: &quot;+40.8252941&quot;, &quot;INTPTLON10&quot;: &quot;-073.9500562&quot;, &quot;MTFCC10&quot;: &quot;G6350&quot;, &quot;PARTFLG10&quot;: &quot;N&quot;, &quot;STATEFP10&quot;: &quot;36&quot;, &quot;ZCTA5CE10&quot;: 10031, &quot;injuries&quot;: 73, &quot;zip_code&quot;: 10031}, &quot;type&quot;: &quot;Feature&quot;}, {&quot;bbox&quot;: [-73.976516, 40.753811, -73.975209, 40.754974], &quot;geometry&quot;: {&quot;coordinates&quot;: [[[-73.976516, 40.754974], [-73.975702, 40.753811], [-73.975209, 40.754425], [-73.975807, 40.754678], [-73.976516, 40.754974]]], &quot;type&quot;: &quot;Polygon&quot;}, &quot;id&quot;: &quot;17&quot;, &quot;properties&quot;: {&quot;ALAND10&quot;: 9924, &quot;AWATER10&quot;: 0, &quot;CLASSFP10&quot;: &quot;B5&quot;, &quot;FUNCSTAT10&quot;: &quot;S&quot;, &quot;GEOID10&quot;: &quot;3610169&quot;, &quot;INTPTLAT10&quot;: &quot;+40.7543913&quot;, &quot;INTPTLON10&quot;: &quot;-073.9760984&quot;, &quot;MTFCC10&quot;: &quot;G6350&quot;, &quot;PARTFLG10&quot;: &quot;N&quot;, &quot;STATEFP10&quot;: &quot;36&quot;, &quot;ZCTA5CE10&quot;: 10169, &quot;injuries&quot;: 1, &quot;zip_code&quot;: 10169}, &quot;type&quot;: &quot;Feature&quot;}, {&quot;bbox&quot;: [-74.011248, 40.707694, -74.009829, 40.708797], &quot;geometry&quot;: {&quot;coordinates&quot;: [[[-74.011248, 40.708304], [-74.010201, 40.707694], [-74.009829, 40.708117], [-74.010846, 40.708797], [-74.011248, 40.708304]]], &quot;type&quot;: &quot;Polygon&quot;}, &quot;id&quot;: &quot;18&quot;, &quot;properties&quot;: {&quot;ALAND10&quot;: 6779, &quot;AWATER10&quot;: 0, &quot;CLASSFP10&quot;: &quot;B5&quot;, &quot;FUNCSTAT10&quot;: &quot;S&quot;, &quot;GEOID10&quot;: &quot;3610271&quot;, &quot;INTPTLAT10&quot;: &quot;+40.7082356&quot;, &quot;INTPTLON10&quot;: &quot;-074.0105414&quot;, &quot;MTFCC10&quot;: &quot;G6350&quot;, &quot;PARTFLG10&quot;: &quot;N&quot;, &quot;STATEFP10&quot;: &quot;36&quot;, &quot;ZCTA5CE10&quot;: 10271, &quot;injuries&quot;: 0, &quot;zip_code&quot;: 10271}, &quot;type&quot;: &quot;Feature&quot;}, {&quot;bbox&quot;: [-73.838002, 40.738674, -73.807506, 40.762524], &quot;geometry&quot;: {&quot;coordinates&quot;: [[[-73.838002, 40.754438], [-73.833117, 40.748047], [-73.835902, 40.743327], [-73.82498, 40.743106], [-73.81477, 40.738878], [-73.809441, 40.738674], [-73.810133, 40.742295], [-73.814309, 40.742974], [-73.814162, 40.746139], [-73.807506, 40.750137], [-73.809135, 40.750269], [-73.807514, 40.762179], [-73.816093, 40.762524], [-73.82974, 40.758749], [-73.838002, 40.754438]]], &quot;type&quot;: &quot;Polygon&quot;}, &quot;id&quot;: &quot;19&quot;, &quot;properties&quot;: {&quot;ALAND10&quot;: 4493721, &quot;AWATER10&quot;: 0, &quot;CLASSFP10&quot;: &quot;B5&quot;, &quot;FUNCSTAT10&quot;: &quot;S&quot;, &quot;GEOID10&quot;: &quot;3611355&quot;, &quot;INTPTLAT10&quot;: &quot;+40.7514754&quot;, &quot;INTPTLON10&quot;: &quot;-073.8210311&quot;, &quot;MTFCC10&quot;: &quot;G6350&quot;, &quot;PARTFLG10&quot;: &quot;N&quot;, &quot;STATEFP10&quot;: &quot;36&quot;, &quot;ZCTA5CE10&quot;: 11355, &quot;injuries&quot;: 104, &quot;zip_code&quot;: 11355}, &quot;type&quot;: &quot;Feature&quot;}, {&quot;bbox&quot;: [-73.782625, 40.705319, -73.753356, 40.730193], &quot;geometry&quot;: {&quot;coordinates&quot;: [[[[-73.780799, 40.728425], [-73.778038, 40.723284], [-73.775234, 40.725238], [-73.777575, 40.730193], [-73.780799, 40.728425]]], [[[-73.757642, 40.717971], [-73.761531, 40.722992], [-73.76631, 40.726375], [-73.772743, 40.725035], [-73.777236, 40.722284], [-73.773571, 40.71512], [-73.782625, 40.712938], [-73.780359, 40.708464], [-73.775465, 40.705319], [-73.767251, 40.706313], [-73.753356, 40.710101], [-73.753708, 40.713325], [-73.757642, 40.717971]]]], &quot;type&quot;: &quot;MultiPolygon&quot;}, &quot;id&quot;: &quot;20&quot;, &quot;properties&quot;: {&quot;ALAND10&quot;: 3654228, &quot;AWATER10&quot;: 0, &quot;CLASSFP10&quot;: &quot;B5&quot;, &quot;FUNCSTAT10&quot;: &quot;S&quot;, &quot;GEOID10&quot;: &quot;3611423&quot;, &quot;INTPTLAT10&quot;: &quot;+40.7156063&quot;, &quot;INTPTLON10&quot;: &quot;-073.7684709&quot;, &quot;MTFCC10&quot;: &quot;G6350&quot;, &quot;PARTFLG10&quot;: &quot;N&quot;, &quot;STATEFP10&quot;: &quot;36&quot;, &quot;ZCTA5CE10&quot;: 11423, &quot;injuries&quot;: 82, &quot;zip_code&quot;: 11423}, &quot;type&quot;: &quot;Feature&quot;}, {&quot;bbox&quot;: [-73.843016, 40.70139, -73.818383, 40.714341], &quot;geometry&quot;: {&quot;coordinates&quot;: [[[-73.843016, 40.709176], [-73.837114, 40.71057], [-73.831521, 40.70139], [-73.822459, 40.703656], [-73.818383, 40.706729], [-73.824304, 40.713869], [-73.830627, 40.714341], [-73.843016, 40.709176]]], &quot;type&quot;: &quot;Polygon&quot;}, &quot;id&quot;: &quot;21&quot;, &quot;properties&quot;: {&quot;ALAND10&quot;: 1471500, &quot;AWATER10&quot;: 0, &quot;CLASSFP10&quot;: &quot;B5&quot;, &quot;FUNCSTAT10&quot;: &quot;S&quot;, &quot;GEOID10&quot;: &quot;3611415&quot;, &quot;INTPTLAT10&quot;: &quot;+40.7079170&quot;, &quot;INTPTLON10&quot;: &quot;-073.8282116&quot;, &quot;MTFCC10&quot;: &quot;G6350&quot;, &quot;PARTFLG10&quot;: &quot;N&quot;, &quot;STATEFP10&quot;: &quot;36&quot;, &quot;ZCTA5CE10&quot;: 11415, &quot;injuries&quot;: 24, &quot;zip_code&quot;: 11415}, &quot;type&quot;: &quot;Feature&quot;}, {&quot;bbox&quot;: [-73.809135, 40.748699, -73.780088, 40.774239], &quot;geometry&quot;: {&quot;coordinates&quot;: [[[-73.807506, 40.750137], [-73.802811, 40.749085], [-73.791448, 40.748699], [-73.780088, 40.752494], [-73.782125, 40.755339], [-73.789309, 40.769708], [-73.791635, 40.774239], [-73.803985, 40.77419], [-73.807207, 40.768295], [-73.807514, 40.762179], [-73.809135, 40.750269], [-73.807506, 40.750137]]], &quot;type&quot;: &quot;Polygon&quot;}, &quot;id&quot;: &quot;22&quot;, &quot;properties&quot;: {&quot;ALAND10&quot;: 5048954, &quot;AWATER10&quot;: 0, &quot;CLASSFP10&quot;: &quot;B5&quot;, &quot;FUNCSTAT10&quot;: &quot;S&quot;, &quot;GEOID10&quot;: &quot;3611358&quot;, &quot;INTPTLAT10&quot;: &quot;+40.7604710&quot;, &quot;INTPTLON10&quot;: &quot;-073.7963711&quot;, &quot;MTFCC10&quot;: &quot;G6350&quot;, &quot;PARTFLG10&quot;: &quot;N&quot;, &quot;STATEFP10&quot;: &quot;36&quot;, &quot;ZCTA5CE10&quot;: 11358, &quot;injuries&quot;: 60, &quot;zip_code&quot;: 11358}, &quot;type&quot;: &quot;Feature&quot;}, {&quot;bbox&quot;: [-73.937565, 40.549651, -73.86298, 40.576215], &quot;geometry&quot;: {&quot;coordinates&quot;: [[[-73.865594, 40.566931], [-73.866685, 40.57319], [-73.86298, 40.576215], [-73.878859, 40.568598], [-73.888911, 40.567926], [-73.892186, 40.568728], [-73.900611, 40.563254], [-73.908013, 40.563525], [-73.91205, 40.565066], [-73.917681, 40.562433], [-73.935387, 40.559275], [-73.937565, 40.556678], [-73.936329, 40.549651], [-73.928241, 40.551218], [-73.912499, 40.555423], [-73.900031, 40.55642], [-73.879409, 40.561509], [-73.865594, 40.566931]]], &quot;type&quot;: &quot;Polygon&quot;}, &quot;id&quot;: &quot;23&quot;, &quot;properties&quot;: {&quot;ALAND10&quot;: 5749269, &quot;AWATER10&quot;: 750, &quot;CLASSFP10&quot;: &quot;B5&quot;, &quot;FUNCSTAT10&quot;: &quot;S&quot;, &quot;GEOID10&quot;: &quot;3611697&quot;, &quot;INTPTLAT10&quot;: &quot;+40.5556810&quot;, &quot;INTPTLON10&quot;: &quot;-073.9206884&quot;, &quot;MTFCC10&quot;: &quot;G6350&quot;, &quot;PARTFLG10&quot;: &quot;N&quot;, &quot;STATEFP10&quot;: &quot;36&quot;, &quot;ZCTA5CE10&quot;: 11697, &quot;injuries&quot;: 4, &quot;zip_code&quot;: 11697}, &quot;type&quot;: &quot;Feature&quot;}, {&quot;bbox&quot;: [-73.866685, 40.566508, -73.815506, 40.588139], &quot;geometry&quot;: {&quot;coordinates&quot;: [[[-73.86298, 40.576215], [-73.866685, 40.57319], [-73.865594, 40.566931], [-73.862666, 40.566508], [-73.845396, 40.573701], [-73.834168, 40.577626], [-73.815506, 40.582508], [-73.819093, 40.588139], [-73.83954, 40.582021], [-73.852268, 40.58182], [-73.86298, 40.576215]]], &quot;type&quot;: &quot;Polygon&quot;}, &quot;id&quot;: &quot;24&quot;, &quot;properties&quot;: {&quot;ALAND10&quot;: 3536999, &quot;AWATER10&quot;: 1437, &quot;CLASSFP10&quot;: &quot;B5&quot;, &quot;FUNCSTAT10&quot;: &quot;S&quot;, &quot;GEOID10&quot;: &quot;3611694&quot;, &quot;INTPTLAT10&quot;: &quot;+40.5782702&quot;, &quot;INTPTLON10&quot;: &quot;-073.8447616&quot;, &quot;MTFCC10&quot;: &quot;G6350&quot;, &quot;PARTFLG10&quot;: &quot;N&quot;, &quot;STATEFP10&quot;: &quot;36&quot;, &quot;ZCTA5CE10&quot;: 11694, &quot;injuries&quot;: 20, &quot;zip_code&quot;: 11694}, &quot;type&quot;: &quot;Feature&quot;}, {&quot;bbox&quot;: [-73.722917, 40.736175, -73.700983, 40.756871], &quot;geometry&quot;: {&quot;coordinates&quot;: [[[-73.71371, 40.736175], [-73.700983, 40.738896], [-73.70542, 40.754606], [-73.707825, 40.756216], [-73.713076, 40.751726], [-73.714352, 40.755239], [-73.721178, 40.756871], [-73.722917, 40.754098], [-73.72132, 40.752811], [-73.71371, 40.736175]]], &quot;type&quot;: &quot;Polygon&quot;}, &quot;id&quot;: &quot;25&quot;, &quot;properties&quot;: {&quot;ALAND10&quot;: 2460789, &quot;AWATER10&quot;: 0, &quot;CLASSFP10&quot;: &quot;B5&quot;, &quot;FUNCSTAT10&quot;: &quot;S&quot;, &quot;GEOID10&quot;: &quot;3611004&quot;, &quot;INTPTLAT10&quot;: &quot;+40.7461981&quot;, &quot;INTPTLON10&quot;: &quot;-073.7114694&quot;, &quot;MTFCC10&quot;: &quot;G6350&quot;, &quot;PARTFLG10&quot;: &quot;N&quot;, &quot;STATEFP10&quot;: &quot;36&quot;, &quot;ZCTA5CE10&quot;: 11004, &quot;injuries&quot;: 27, &quot;zip_code&quot;: 11004}, &quot;type&quot;: &quot;Feature&quot;}, {&quot;bbox&quot;: [-73.913137, 40.836592, -73.88382, 40.85742], &quot;geometry&quot;: {&quot;coordinates&quot;: [[[-73.899949, 40.85742], [-73.907408, 40.847788], [-73.911049, 40.845143], [-73.913137, 40.839814], [-73.909458, 40.837057], [-73.905607, 40.839844], [-73.900567, 40.836592], [-73.896599, 40.843696], [-73.892169, 40.84105], [-73.88382, 40.851499], [-73.899949, 40.85742]]], &quot;type&quot;: &quot;Polygon&quot;}, &quot;id&quot;: &quot;26&quot;, &quot;properties&quot;: {&quot;ALAND10&quot;: 2748734, &quot;AWATER10&quot;: 0, &quot;CLASSFP10&quot;: &quot;B5&quot;, &quot;FUNCSTAT10&quot;: &quot;S&quot;, &quot;GEOID10&quot;: &quot;3610457&quot;, &quot;INTPTLAT10&quot;: &quot;+40.8471495&quot;, &quot;INTPTLON10&quot;: &quot;-073.8986780&quot;, &quot;MTFCC10&quot;: &quot;G6350&quot;, &quot;PARTFLG10&quot;: &quot;N&quot;, &quot;STATEFP10&quot;: &quot;36&quot;, &quot;ZCTA5CE10&quot;: 10457, &quot;injuries&quot;: 172, &quot;zip_code&quot;: 10457}, &quot;type&quot;: &quot;Feature&quot;}, {&quot;bbox&quot;: [-73.924974, 40.870695, -73.887105, 40.890195], &quot;geometry&quot;: {&quot;coordinates&quot;: [[[-73.920956, 40.887288], [-73.924974, 40.879144], [-73.919808, 40.876577], [-73.910524, 40.874063], [-73.908605, 40.871678], [-73.903506, 40.870695], [-73.902151, 40.875586], [-73.897327, 40.871446], [-73.891407, 40.878969], [-73.887105, 40.882923], [-73.89571, 40.885781], [-73.902367, 40.887254], [-73.905513, 40.890195], [-73.912904, 40.889749], [-73.916687, 40.886901], [-73.920956, 40.887288]]], &quot;type&quot;: &quot;Polygon&quot;}, &quot;id&quot;: &quot;27&quot;, &quot;properties&quot;: {&quot;ALAND10&quot;: 3745408, &quot;AWATER10&quot;: 346374, &quot;CLASSFP10&quot;: &quot;B5&quot;, &quot;FUNCSTAT10&quot;: &quot;S&quot;, &quot;GEOID10&quot;: &quot;3610463&quot;, &quot;INTPTLAT10&quot;: &quot;+40.8806784&quot;, &quot;INTPTLON10&quot;: &quot;-073.9065404&quot;, &quot;MTFCC10&quot;: &quot;G6350&quot;, &quot;PARTFLG10&quot;: &quot;N&quot;, &quot;STATEFP10&quot;: &quot;36&quot;, &quot;ZCTA5CE10&quot;: 10463, &quot;injuries&quot;: 93, &quot;zip_code&quot;: 10463}, &quot;type&quot;: &quot;Feature&quot;}, {&quot;bbox&quot;: [-73.931681, 40.796686, -73.901892, 40.813731], &quot;geometry&quot;: {&quot;coordinates&quot;: [[[-73.931681, 40.807955], [-73.927204, 40.80217], [-73.922306, 40.802179], [-73.915805, 40.79748], [-73.91141, 40.796686], [-73.901892, 40.805007], [-73.902988, 40.809364], [-73.90496, 40.808531], [-73.915178, 40.810427], [-73.922088, 40.813731], [-73.931681, 40.807955]]], &quot;type&quot;: &quot;Polygon&quot;}, &quot;id&quot;: &quot;28&quot;, &quot;properties&quot;: {&quot;ALAND10&quot;: 2699702, &quot;AWATER10&quot;: 0, &quot;CLASSFP10&quot;: &quot;B5&quot;, &quot;FUNCSTAT10&quot;: &quot;S&quot;, &quot;GEOID10&quot;: &quot;3610454&quot;, &quot;INTPTLAT10&quot;: &quot;+40.8055176&quot;, &quot;INTPTLON10&quot;: &quot;-073.9165896&quot;, &quot;MTFCC10&quot;: &quot;G6350&quot;, &quot;PARTFLG10&quot;: &quot;N&quot;, &quot;STATEFP10&quot;: &quot;36&quot;, &quot;ZCTA5CE10&quot;: 10454, &quot;injuries&quot;: 142, &quot;zip_code&quot;: 10454}, &quot;type&quot;: &quot;Feature&quot;}, {&quot;bbox&quot;: [-73.972687, 40.663798, -73.955195, 40.690346], &quot;geometry&quot;: {&quot;coordinates&quot;: [[[-73.957132, 40.688463], [-73.960293, 40.690346], [-73.96481, 40.688326], [-73.972687, 40.687415], [-73.97064, 40.682414], [-73.972445, 40.677162], [-73.970749, 40.672639], [-73.970419, 40.672511], [-73.962894, 40.663798], [-73.962622, 40.671629], [-73.957974, 40.670657], [-73.955195, 40.678343], [-73.957132, 40.688463]]], &quot;type&quot;: &quot;Polygon&quot;}, &quot;id&quot;: &quot;29&quot;, &quot;properties&quot;: {&quot;ALAND10&quot;: 2863622, &quot;AWATER10&quot;: 0, &quot;CLASSFP10&quot;: &quot;B5&quot;, &quot;FUNCSTAT10&quot;: &quot;S&quot;, &quot;GEOID10&quot;: &quot;3611238&quot;, &quot;INTPTLAT10&quot;: &quot;+40.6791707&quot;, &quot;INTPTLON10&quot;: &quot;-073.9638044&quot;, &quot;MTFCC10&quot;: &quot;G6350&quot;, &quot;PARTFLG10&quot;: &quot;N&quot;, &quot;STATEFP10&quot;: &quot;36&quot;, &quot;ZCTA5CE10&quot;: 11238, &quot;injuries&quot;: 125, &quot;zip_code&quot;: 11238}, &quot;type&quot;: &quot;Feature&quot;}, {&quot;bbox&quot;: [-73.957457, 40.691599, -73.927588, 40.713373], &quot;geometry&quot;: {&quot;coordinates&quot;: [[[-73.95702, 40.698974], [-73.95337, 40.699405], [-73.95181, 40.691599], [-73.945642, 40.692033], [-73.934134, 40.693355], [-73.934797, 40.696737], [-73.930262, 40.698529], [-73.927588, 40.701762], [-73.931155, 40.703773], [-73.934802, 40.713373], [-73.940314, 40.710522], [-73.943911, 40.711641], [-73.951116, 40.710957], [-73.950237, 40.705473], [-73.957457, 40.700822], [-73.95702, 40.698974]]], &quot;type&quot;: &quot;Polygon&quot;}, &quot;id&quot;: &quot;30&quot;, &quot;properties&quot;: {&quot;ALAND10&quot;: 3715223, &quot;AWATER10&quot;: 0, &quot;CLASSFP10&quot;: &quot;B5&quot;, &quot;FUNCSTAT10&quot;: &quot;S&quot;, &quot;GEOID10&quot;: &quot;3611206&quot;, &quot;INTPTLAT10&quot;: &quot;+40.7019538&quot;, &quot;INTPTLON10&quot;: &quot;-073.9423577&quot;, &quot;MTFCC10&quot;: &quot;G6350&quot;, &quot;PARTFLG10&quot;: &quot;N&quot;, &quot;STATEFP10&quot;: &quot;36&quot;, &quot;ZCTA5CE10&quot;: 11206, &quot;injuries&quot;: 156, &quot;zip_code&quot;: 11206}, &quot;type&quot;: &quot;Feature&quot;}, {&quot;bbox&quot;: [-73.948067, 40.663021, -73.924244, 40.67973], &quot;geometry&quot;: {&quot;coordinates&quot;: [[[-73.947731, 40.669705], [-73.948067, 40.666139], [-73.942528, 40.665838], [-73.940029, 40.663021], [-73.931607, 40.663557], [-73.924244, 40.666445], [-73.925539, 40.668493], [-73.924996, 40.674736], [-73.930457, 40.675818], [-73.929058, 40.679277], [-73.937398, 40.67973], [-73.941535, 40.676421], [-73.947089, 40.676557], [-73.947731, 40.669705]]], &quot;type&quot;: &quot;Polygon&quot;}, &quot;id&quot;: &quot;31&quot;, &quot;properties&quot;: {&quot;ALAND10&quot;: 2825709, &quot;AWATER10&quot;: 0, &quot;CLASSFP10&quot;: &quot;B5&quot;, &quot;FUNCSTAT10&quot;: &quot;S&quot;, &quot;GEOID10&quot;: &quot;3611213&quot;, &quot;INTPTLAT10&quot;: &quot;+40.6710776&quot;, &quot;INTPTLON10&quot;: &quot;-073.9363357&quot;, &quot;MTFCC10&quot;: &quot;G6350&quot;, &quot;PARTFLG10&quot;: &quot;N&quot;, &quot;STATEFP10&quot;: &quot;36&quot;, &quot;ZCTA5CE10&quot;: 11213, &quot;injuries&quot;: 176, &quot;zip_code&quot;: 11213}, &quot;type&quot;: &quot;Feature&quot;}, {&quot;bbox&quot;: [-73.967028, 40.634065, -73.946509, 40.656437], &quot;geometry&quot;: {&quot;coordinates&quot;: [[[-73.946509, 40.640104], [-73.947264, 40.656437], [-73.959343, 40.655983], [-73.9619, 40.654871], [-73.966213, 40.653189], [-73.967028, 40.649948], [-73.964925, 40.638851], [-73.965382, 40.636279], [-73.963105, 40.634065], [-73.9584, 40.636327], [-73.946509, 40.640104]]], &quot;type&quot;: &quot;Polygon&quot;}, &quot;id&quot;: &quot;32&quot;, &quot;properties&quot;: {&quot;ALAND10&quot;: 3339497, &quot;AWATER10&quot;: 0, &quot;CLASSFP10&quot;: &quot;B5&quot;, &quot;FUNCSTAT10&quot;: &quot;S&quot;, &quot;GEOID10&quot;: &quot;3611226&quot;, &quot;INTPTLAT10&quot;: &quot;+40.6464480&quot;, &quot;INTPTLON10&quot;: &quot;-073.9566488&quot;, &quot;MTFCC10&quot;: &quot;G6350&quot;, &quot;PARTFLG10&quot;: &quot;N&quot;, &quot;STATEFP10&quot;: &quot;36&quot;, &quot;ZCTA5CE10&quot;: 11226, &quot;injuries&quot;: 169, &quot;zip_code&quot;: 11226}, &quot;type&quot;: &quot;Feature&quot;}, {&quot;bbox&quot;: [-73.977249, 40.608814, -73.952577, 40.636327], &quot;geometry&quot;: {&quot;coordinates&quot;: [[[-73.965382, 40.636279], [-73.977249, 40.630707], [-73.972994, 40.608814], [-73.96238, 40.609986], [-73.952577, 40.611037], [-73.957168, 40.635405], [-73.9584, 40.636327], [-73.963105, 40.634065], [-73.965382, 40.636279]]], &quot;type&quot;: &quot;Polygon&quot;}, &quot;id&quot;: &quot;33&quot;, &quot;properties&quot;: {&quot;ALAND10&quot;: 4765012, &quot;AWATER10&quot;: 0, &quot;CLASSFP10&quot;: &quot;B5&quot;, &quot;FUNCSTAT10&quot;: &quot;S&quot;, &quot;GEOID10&quot;: &quot;3611230&quot;, &quot;INTPTLAT10&quot;: &quot;+40.6221639&quot;, &quot;INTPTLON10&quot;: &quot;-073.9651053&quot;, &quot;MTFCC10&quot;: &quot;G6350&quot;, &quot;PARTFLG10&quot;: &quot;N&quot;, &quot;STATEFP10&quot;: &quot;36&quot;, &quot;ZCTA5CE10&quot;: 11230, &quot;injuries&quot;: 111, &quot;zip_code&quot;: 11230}, &quot;type&quot;: &quot;Feature&quot;}, {&quot;bbox&quot;: [-73.70542, 40.723318, -73.650997, 40.768568], &quot;geometry&quot;: {&quot;coordinates&quot;: [[[-73.70542, 40.754606], [-73.700983, 40.738896], [-73.698369, 40.737212], [-73.692353, 40.723729], [-73.687896, 40.723318], [-73.682067, 40.725104], [-73.679409, 40.727641], [-73.679833, 40.731009], [-73.65867, 40.736113], [-73.650997, 40.736848], [-73.65749, 40.744287], [-73.657632, 40.751753], [-73.660393, 40.760611], [-73.666287, 40.760393], [-73.669742, 40.76314], [-73.682265, 40.763306], [-73.686552, 40.766589], [-73.691638, 40.768568], [-73.687776, 40.754786], [-73.701744, 40.75253], [-73.70542, 40.754606]]], &quot;type&quot;: &quot;Polygon&quot;}, &quot;id&quot;: &quot;34&quot;, &quot;properties&quot;: {&quot;ALAND10&quot;: 12388380, &quot;AWATER10&quot;: 73573, &quot;CLASSFP10&quot;: &quot;B5&quot;, &quot;FUNCSTAT10&quot;: &quot;S&quot;, &quot;GEOID10&quot;: &quot;3611040&quot;, &quot;INTPTLAT10&quot;: &quot;+40.7453467&quot;, &quot;INTPTLON10&quot;: &quot;-073.6802919&quot;, &quot;MTFCC10&quot;: &quot;G6350&quot;, &quot;PARTFLG10&quot;: &quot;N&quot;, &quot;STATEFP10&quot;: &quot;36&quot;, &quot;ZCTA5CE10&quot;: 11040, &quot;injuries&quot;: 3, &quot;zip_code&quot;: 11040}, &quot;type&quot;: &quot;Feature&quot;}, {&quot;bbox&quot;: [-73.965148, 40.769441, -73.947361, 40.777677], &quot;geometry&quot;: {&quot;coordinates&quot;: [[[-73.947361, 40.770062], [-73.954092, 40.774656], [-73.96323, 40.777677], [-73.965148, 40.775045], [-73.961475, 40.774324], [-73.951858, 40.769441], [-73.94827, 40.769505], [-73.947973, 40.769512], [-73.947361, 40.770062]]], &quot;type&quot;: &quot;Polygon&quot;}, &quot;id&quot;: &quot;35&quot;, &quot;properties&quot;: {&quot;ALAND10&quot;: 477958, &quot;AWATER10&quot;: 0, &quot;CLASSFP10&quot;: &quot;B5&quot;, &quot;FUNCSTAT10&quot;: &quot;S&quot;, &quot;GEOID10&quot;: &quot;3610075&quot;, &quot;INTPTLAT10&quot;: &quot;+40.7733565&quot;, &quot;INTPTLON10&quot;: &quot;-073.9562081&quot;, &quot;MTFCC10&quot;: &quot;G6350&quot;, &quot;PARTFLG10&quot;: &quot;N&quot;, &quot;STATEFP10&quot;: &quot;36&quot;, &quot;ZCTA5CE10&quot;: 10075, &quot;injuries&quot;: 10, &quot;zip_code&quot;: 10075}, &quot;type&quot;: &quot;Feature&quot;}, {&quot;bbox&quot;: [-73.977092, 40.788476, -73.956806, 40.808806], &quot;geometry&quot;: {&quot;coordinates&quot;: [[[-73.962008, 40.805509], [-73.9659, 40.808806], [-73.977092, 40.792724], [-73.96701, 40.788476], [-73.958619, 40.799977], [-73.956806, 40.807546], [-73.962008, 40.805509]]], &quot;type&quot;: &quot;Polygon&quot;}, &quot;id&quot;: &quot;36&quot;, &quot;properties&quot;: {&quot;ALAND10&quot;: 1946717, &quot;AWATER10&quot;: 0, &quot;CLASSFP10&quot;: &quot;B5&quot;, &quot;FUNCSTAT10&quot;: &quot;S&quot;, &quot;GEOID10&quot;: &quot;3610025&quot;, &quot;INTPTLAT10&quot;: &quot;+40.7986009&quot;, &quot;INTPTLON10&quot;: &quot;-073.9666227&quot;, &quot;MTFCC10&quot;: &quot;G6350&quot;, &quot;PARTFLG10&quot;: &quot;N&quot;, &quot;STATEFP10&quot;: &quot;36&quot;, &quot;ZCTA5CE10&quot;: 10025, &quot;injuries&quot;: 56, &quot;zip_code&quot;: 10025}, &quot;type&quot;: &quot;Feature&quot;}, {&quot;bbox&quot;: [-73.942924, 40.819144, -73.929107, 40.845586], &quot;geometry&quot;: {&quot;coordinates&quot;: [[[-73.942924, 40.82326], [-73.937181, 40.819144], [-73.933377, 40.819473], [-73.934858, 40.831137], [-73.934263, 40.835944], [-73.929107, 40.845586], [-73.934671, 40.842958], [-73.935079, 40.839267], [-73.940167, 40.830383], [-73.939248, 40.828296], [-73.942924, 40.82326]]], &quot;type&quot;: &quot;Polygon&quot;}, &quot;id&quot;: &quot;37&quot;, &quot;properties&quot;: {&quot;ALAND10&quot;: 1199364, &quot;AWATER10&quot;: 0, &quot;CLASSFP10&quot;: &quot;B5&quot;, &quot;FUNCSTAT10&quot;: &quot;S&quot;, &quot;GEOID10&quot;: &quot;3610039&quot;, &quot;INTPTLAT10&quot;: &quot;+40.8308558&quot;, &quot;INTPTLON10&quot;: &quot;-073.9360686&quot;, &quot;MTFCC10&quot;: &quot;G6350&quot;, &quot;PARTFLG10&quot;: &quot;N&quot;, &quot;STATEFP10&quot;: &quot;36&quot;, &quot;ZCTA5CE10&quot;: 10039, &quot;injuries&quot;: 44, &quot;zip_code&quot;: 10039}, &quot;type&quot;: &quot;Feature&quot;}, {&quot;bbox&quot;: [-74.012508, 40.702879, -74.005194, 40.709154], &quot;geometry&quot;: {&quot;coordinates&quot;: [[[-74.008893, 40.709044], [-74.010542, 40.709154], [-74.010846, 40.708797], [-74.009829, 40.708117], [-74.010201, 40.707694], [-74.011248, 40.708304], [-74.012508, 40.706767], [-74.007769, 40.702879], [-74.005194, 40.704945], [-74.008269, 40.707722], [-74.008893, 40.709044]]], &quot;type&quot;: &quot;Polygon&quot;}, &quot;id&quot;: &quot;38&quot;, &quot;properties&quot;: {&quot;ALAND10&quot;: 190416, &quot;AWATER10&quot;: 0, &quot;CLASSFP10&quot;: &quot;B5&quot;, &quot;FUNCSTAT10&quot;: &quot;S&quot;, &quot;GEOID10&quot;: &quot;3610005&quot;, &quot;INTPTLAT10&quot;: &quot;+40.7059736&quot;, &quot;INTPTLON10&quot;: &quot;-074.0087681&quot;, &quot;MTFCC10&quot;: &quot;G6350&quot;, &quot;PARTFLG10&quot;: &quot;N&quot;, &quot;STATEFP10&quot;: &quot;36&quot;, &quot;ZCTA5CE10&quot;: 10005, &quot;injuries&quot;: 3, &quot;zip_code&quot;: 10005}, &quot;type&quot;: &quot;Feature&quot;}, {&quot;bbox&quot;: [-73.946677, 40.766369, -73.940229, 40.772037], &quot;geometry&quot;: {&quot;coordinates&quot;: [[[-73.944486, 40.766369], [-73.940229, 40.770852], [-73.942146, 40.772037], [-73.946677, 40.768007], [-73.944486, 40.766369]]], &quot;type&quot;: &quot;Polygon&quot;}, &quot;id&quot;: &quot;39&quot;, &quot;properties&quot;: {&quot;ALAND10&quot;: 625938, &quot;AWATER10&quot;: 0, &quot;CLASSFP10&quot;: &quot;B5&quot;, &quot;FUNCSTAT10&quot;: &quot;S&quot;, &quot;GEOID10&quot;: &quot;3610044&quot;, &quot;INTPTLAT10&quot;: &quot;+40.7620505&quot;, &quot;INTPTLON10&quot;: &quot;-073.9499330&quot;, &quot;MTFCC10&quot;: &quot;G6350&quot;, &quot;PARTFLG10&quot;: &quot;N&quot;, &quot;STATEFP10&quot;: &quot;36&quot;, &quot;ZCTA5CE10&quot;: 10044, &quot;injuries&quot;: 0, &quot;zip_code&quot;: 10044}, &quot;type&quot;: &quot;Feature&quot;}, {&quot;bbox&quot;: [-73.832144, 40.77419, -73.79035, 40.800888], &quot;geometry&quot;: {&quot;coordinates&quot;: [[[-73.8281, 40.776031], [-73.82167, 40.776863], [-73.8066, 40.775115], [-73.803985, 40.77419], [-73.791635, 40.774239], [-73.79035, 40.774573], [-73.794116, 40.786097], [-73.792599, 40.790455], [-73.795049, 40.794976], [-73.803193, 40.796694], [-73.813067, 40.796956], [-73.81985, 40.800888], [-73.824027, 40.797793], [-73.82921, 40.796459], [-73.828245, 40.792546], [-73.832144, 40.790095], [-73.830539, 40.784646], [-73.824998, 40.781732], [-73.825667, 40.77973], [-73.825993, 40.77982], [-73.8281, 40.776031]]], &quot;type&quot;: &quot;Polygon&quot;}, &quot;id&quot;: &quot;40&quot;, &quot;properties&quot;: {&quot;ALAND10&quot;: 7256742, &quot;AWATER10&quot;: 0, &quot;CLASSFP10&quot;: &quot;B5&quot;, &quot;FUNCSTAT10&quot;: &quot;S&quot;, &quot;GEOID10&quot;: &quot;3611357&quot;, &quot;INTPTLAT10&quot;: &quot;+40.7863945&quot;, &quot;INTPTLON10&quot;: &quot;-073.8108618&quot;, &quot;MTFCC10&quot;: &quot;G6350&quot;, &quot;PARTFLG10&quot;: &quot;N&quot;, &quot;STATEFP10&quot;: &quot;36&quot;, &quot;ZCTA5CE10&quot;: 11357, &quot;injuries&quot;: 63, &quot;zip_code&quot;: 11357}, &quot;type&quot;: &quot;Feature&quot;}, {&quot;bbox&quot;: [-73.836981, 40.662759, -73.801643, 40.687123], &quot;geometry&quot;: {&quot;coordinates&quot;: [[[-73.807858, 40.687123], [-73.813937, 40.684598], [-73.831746, 40.679537], [-73.832078, 40.675261], [-73.836981, 40.674678], [-73.832906, 40.666651], [-73.832644, 40.665184], [-73.82818, 40.664079], [-73.814945, 40.662759], [-73.811389, 40.663732], [-73.810322, 40.66708], [-73.801663, 40.666889], [-73.801643, 40.674347], [-73.805768, 40.682932], [-73.807858, 40.687123]]], &quot;type&quot;: &quot;Polygon&quot;}, &quot;id&quot;: &quot;41&quot;, &quot;properties&quot;: {&quot;ALAND10&quot;: 5382008, &quot;AWATER10&quot;: 0, &quot;CLASSFP10&quot;: &quot;B5&quot;, &quot;FUNCSTAT10&quot;: &quot;S&quot;, &quot;GEOID10&quot;: &quot;3611420&quot;, &quot;INTPTLAT10&quot;: &quot;+40.6735844&quot;, &quot;INTPTLON10&quot;: &quot;-073.8177332&quot;, &quot;MTFCC10&quot;: &quot;G6350&quot;, &quot;PARTFLG10&quot;: &quot;N&quot;, &quot;STATEFP10&quot;: &quot;36&quot;, &quot;ZCTA5CE10&quot;: 11420, &quot;injuries&quot;: 164, &quot;zip_code&quot;: 11420}, &quot;type&quot;: &quot;Feature&quot;}, {&quot;bbox&quot;: [-73.789471, 40.590903, -73.737997, 40.613986], &quot;geometry&quot;: {&quot;coordinates&quot;: [[[-73.763454, 40.61369], [-73.772918, 40.613986], [-73.773332, 40.611327], [-73.769122, 40.609398], [-73.77069, 40.604843], [-73.769931, 40.598875], [-73.772448, 40.597796], [-73.77593, 40.601683], [-73.773162, 40.607199], [-73.774904, 40.610027], [-73.780743, 40.609657], [-73.783691, 40.603995], [-73.789471, 40.597611], [-73.784796, 40.597704], [-73.783375, 40.592722], [-73.779524, 40.592434], [-73.770231, 40.593975], [-73.770197, 40.590913], [-73.753559, 40.590903], [-73.74543, 40.595086], [-73.73815, 40.594539], [-73.737997, 40.601601], [-73.743355, 40.607499], [-73.745633, 40.611756], [-73.755197, 40.610594], [-73.763454, 40.61369]]], &quot;type&quot;: &quot;Polygon&quot;}, &quot;id&quot;: &quot;42&quot;, &quot;properties&quot;: {&quot;ALAND10&quot;: 7339464, &quot;AWATER10&quot;: 86654, &quot;CLASSFP10&quot;: &quot;B5&quot;, &quot;FUNCSTAT10&quot;: &quot;S&quot;, &quot;GEOID10&quot;: &quot;3611691&quot;, &quot;INTPTLAT10&quot;: &quot;+40.6012782&quot;, &quot;INTPTLON10&quot;: &quot;-073.7616509&quot;, &quot;MTFCC10&quot;: &quot;G6350&quot;, &quot;PARTFLG10&quot;: &quot;N&quot;, &quot;STATEFP10&quot;: &quot;36&quot;, &quot;ZCTA5CE10&quot;: 11691, &quot;injuries&quot;: 57, &quot;zip_code&quot;: 11691}, &quot;type&quot;: &quot;Feature&quot;}, {&quot;bbox&quot;: [-73.862346, 40.666651, -73.831746, 40.685088], &quot;geometry&quot;: {&quot;coordinates&quot;: [[[-73.862346, 40.679165], [-73.861318, 40.675021], [-73.832906, 40.666651], [-73.836981, 40.674678], [-73.832078, 40.675261], [-73.831746, 40.679537], [-73.835111, 40.685088], [-73.854393, 40.67966], [-73.862346, 40.679165]]], &quot;type&quot;: &quot;Polygon&quot;}, &quot;id&quot;: &quot;43&quot;, &quot;properties&quot;: {&quot;ALAND10&quot;: 2898286, &quot;AWATER10&quot;: 0, &quot;CLASSFP10&quot;: &quot;B5&quot;, &quot;FUNCSTAT10&quot;: &quot;S&quot;, &quot;GEOID10&quot;: &quot;3611417&quot;, &quot;INTPTLAT10&quot;: &quot;+40.6764460&quot;, &quot;INTPTLON10&quot;: &quot;-073.8444429&quot;, &quot;MTFCC10&quot;: &quot;G6350&quot;, &quot;PARTFLG10&quot;: &quot;N&quot;, &quot;STATEFP10&quot;: &quot;36&quot;, &quot;ZCTA5CE10&quot;: 11417, &quot;injuries&quot;: 70, &quot;zip_code&quot;: 11417}, &quot;type&quot;: &quot;Feature&quot;}, {&quot;bbox&quot;: [-73.962795, 40.727849, -73.909813, 40.763086], &quot;geometry&quot;: {&quot;coordinates&quot;: [[[-73.945111, 40.763086], [-73.95492, 40.751509], [-73.95685, 40.748225], [-73.956208, 40.743872], [-73.961544, 40.743081], [-73.962795, 40.737674], [-73.952627, 40.739255], [-73.942361, 40.735564], [-73.937339, 40.72992], [-73.929223, 40.727849], [-73.93742, 40.733762], [-73.931614, 40.736826], [-73.925851, 40.735645], [-73.925787, 40.736139], [-73.927635, 40.736597], [-73.925467, 40.747432], [-73.920273, 40.749508], [-73.909813, 40.751574], [-73.911498, 40.754557], [-73.91257, 40.753304], [-73.92246, 40.757427], [-73.926492, 40.752425], [-73.937009, 40.758236], [-73.943304, 40.760658], [-73.945111, 40.763086]]], &quot;type&quot;: &quot;Polygon&quot;}, &quot;id&quot;: &quot;44&quot;, &quot;properties&quot;: {&quot;ALAND10&quot;: 6773846, &quot;AWATER10&quot;: 301002, &quot;CLASSFP10&quot;: &quot;B5&quot;, &quot;FUNCSTAT10&quot;: &quot;S&quot;, &quot;GEOID10&quot;: &quot;3611101&quot;, &quot;INTPTLAT10&quot;: &quot;+40.7471297&quot;, &quot;INTPTLON10&quot;: &quot;-073.9397356&quot;, &quot;MTFCC10&quot;: &quot;G6350&quot;, &quot;PARTFLG10&quot;: &quot;N&quot;, &quot;STATEFP10&quot;: &quot;36&quot;, &quot;ZCTA5CE10&quot;: 11101, &quot;injuries&quot;: 220, &quot;zip_code&quot;: 11101}, &quot;type&quot;: &quot;Feature&quot;}, {&quot;bbox&quot;: [-73.854747, 40.689442, -73.813659, 40.71057], &quot;geometry&quot;: {&quot;coordinates&quot;: [[[-73.818383, 40.706729], [-73.822459, 40.703656], [-73.831521, 40.70139], [-73.837114, 40.71057], [-73.843016, 40.709176], [-73.854747, 40.70683], [-73.852145, 40.702375], [-73.846261, 40.693987], [-73.844307, 40.689442], [-73.837544, 40.691364], [-73.821092, 40.695825], [-73.813659, 40.697133], [-73.818383, 40.706729]]], &quot;type&quot;: &quot;Polygon&quot;}, &quot;id&quot;: &quot;45&quot;, &quot;properties&quot;: {&quot;ALAND10&quot;: 4229580, &quot;AWATER10&quot;: 0, &quot;CLASSFP10&quot;: &quot;B5&quot;, &quot;FUNCSTAT10&quot;: &quot;S&quot;, &quot;GEOID10&quot;: &quot;3611418&quot;, &quot;INTPTLAT10&quot;: &quot;+40.7002721&quot;, &quot;INTPTLON10&quot;: &quot;-073.8359709&quot;, &quot;MTFCC10&quot;: &quot;G6350&quot;, &quot;PARTFLG10&quot;: &quot;N&quot;, &quot;STATEFP10&quot;: &quot;36&quot;, &quot;ZCTA5CE10&quot;: 11418, &quot;injuries&quot;: 94, &quot;zip_code&quot;: 11418}, &quot;type&quot;: &quot;Feature&quot;}, {&quot;bbox&quot;: [-73.810886, 40.719912, -73.756566, 40.736072], &quot;geometry&quot;: {&quot;coordinates&quot;: [[[-73.770107, 40.731779], [-73.773551, 40.736072], [-73.776929, 40.735676], [-73.788209, 40.731363], [-73.800413, 40.728372], [-73.810886, 40.727172], [-73.80904, 40.719912], [-73.783601, 40.728413], [-73.780799, 40.728425], [-73.777575, 40.730193], [-73.775234, 40.725238], [-73.778038, 40.723284], [-73.777236, 40.722284], [-73.772743, 40.725035], [-73.76631, 40.726375], [-73.756566, 40.726133], [-73.765558, 40.732535], [-73.770107, 40.731779]]], &quot;type&quot;: &quot;Polygon&quot;}, &quot;id&quot;: &quot;46&quot;, &quot;properties&quot;: {&quot;ALAND10&quot;: 2835025, &quot;AWATER10&quot;: 0, &quot;CLASSFP10&quot;: &quot;B5&quot;, &quot;FUNCSTAT10&quot;: &quot;S&quot;, &quot;GEOID10&quot;: &quot;3611366&quot;, &quot;INTPTLAT10&quot;: &quot;+40.7281522&quot;, &quot;INTPTLON10&quot;: &quot;-073.7850187&quot;, &quot;MTFCC10&quot;: &quot;G6350&quot;, &quot;PARTFLG10&quot;: &quot;N&quot;, &quot;STATEFP10&quot;: &quot;36&quot;, &quot;ZCTA5CE10&quot;: 11366, &quot;injuries&quot;: 30, &quot;zip_code&quot;: 11366}, &quot;type&quot;: &quot;Feature&quot;}, {&quot;bbox&quot;: [-73.921522, 40.767211, -73.892348, 40.790988], &quot;geometry&quot;: {&quot;coordinates&quot;: [[[-73.91431, 40.771523], [-73.910929, 40.768848], [-73.905239, 40.767776], [-73.90445, 40.767581], [-73.902025, 40.767417], [-73.900659, 40.767211], [-73.900332, 40.768808], [-73.892348, 40.775847], [-73.892458, 40.779096], [-73.896938, 40.783013], [-73.895546, 40.785198], [-73.902399, 40.789552], [-73.910551, 40.790988], [-73.915358, 40.788096], [-73.920425, 40.782874], [-73.917966, 40.781256], [-73.921522, 40.776613], [-73.91431, 40.771523]]], &quot;type&quot;: &quot;Polygon&quot;}, &quot;id&quot;: &quot;47&quot;, &quot;properties&quot;: {&quot;ALAND10&quot;: 4226734, &quot;AWATER10&quot;: 0, &quot;CLASSFP10&quot;: &quot;B5&quot;, &quot;FUNCSTAT10&quot;: &quot;S&quot;, &quot;GEOID10&quot;: &quot;3611105&quot;, &quot;INTPTLAT10&quot;: &quot;+40.7788766&quot;, &quot;INTPTLON10&quot;: &quot;-073.9067685&quot;, &quot;MTFCC10&quot;: &quot;G6350&quot;, &quot;PARTFLG10&quot;: &quot;N&quot;, &quot;STATEFP10&quot;: &quot;36&quot;, &quot;ZCTA5CE10&quot;: 11105, &quot;injuries&quot;: 51, &quot;zip_code&quot;: 11105}, &quot;type&quot;: &quot;Feature&quot;}, {&quot;bbox&quot;: [-73.732335, 40.722453, -73.7105, 40.754098], &quot;geometry&quot;: {&quot;coordinates&quot;: [[[-73.729633, 40.722453], [-73.71588, 40.726542], [-73.7105, 40.727227], [-73.71371, 40.736175], [-73.72132, 40.752811], [-73.722917, 40.754098], [-73.726992, 40.751121], [-73.732335, 40.743576], [-73.72751, 40.740688], [-73.726371, 40.733492], [-73.731301, 40.732669], [-73.732168, 40.729155], [-73.729633, 40.722453]]], &quot;type&quot;: &quot;Polygon&quot;}, &quot;id&quot;: &quot;48&quot;, &quot;properties&quot;: {&quot;ALAND10&quot;: 3493966, &quot;AWATER10&quot;: 0, &quot;CLASSFP10&quot;: &quot;B5&quot;, &quot;FUNCSTAT10&quot;: &quot;S&quot;, &quot;GEOID10&quot;: &quot;3611426&quot;, &quot;INTPTLAT10&quot;: &quot;+40.7364585&quot;, &quot;INTPTLON10&quot;: &quot;-073.7223762&quot;, &quot;MTFCC10&quot;: &quot;G6350&quot;, &quot;PARTFLG10&quot;: &quot;N&quot;, &quot;STATEFP10&quot;: &quot;36&quot;, &quot;ZCTA5CE10&quot;: 11426, &quot;injuries&quot;: 48, &quot;zip_code&quot;: 11426}, &quot;type&quot;: &quot;Feature&quot;}, {&quot;bbox&quot;: [-73.748643, 40.683223, -73.725861, 40.70296], &quot;geometry&quot;: {&quot;coordinates&quot;: [[[-73.727707, 40.701565], [-73.743307, 40.70296], [-73.748643, 40.701587], [-73.745283, 40.694115], [-73.748123, 40.690131], [-73.73222, 40.685121], [-73.725861, 40.683223], [-73.725956, 40.685682], [-73.726461, 40.696669], [-73.727707, 40.701565]]], &quot;type&quot;: &quot;Polygon&quot;}, &quot;id&quot;: &quot;49&quot;, &quot;properties&quot;: {&quot;ALAND10&quot;: 3027435, &quot;AWATER10&quot;: 0, &quot;CLASSFP10&quot;: &quot;B5&quot;, &quot;FUNCSTAT10&quot;: &quot;S&quot;, &quot;GEOID10&quot;: &quot;3611411&quot;, &quot;INTPTLAT10&quot;: &quot;+40.6940211&quot;, &quot;INTPTLON10&quot;: &quot;-073.7362177&quot;, &quot;MTFCC10&quot;: &quot;G6350&quot;, &quot;PARTFLG10&quot;: &quot;N&quot;, &quot;STATEFP10&quot;: &quot;36&quot;, &quot;ZCTA5CE10&quot;: 11411, &quot;injuries&quot;: 76, &quot;zip_code&quot;: 11411}, &quot;type&quot;: &quot;Feature&quot;}, {&quot;bbox&quot;: [-73.832644, 40.619786, -73.746108, 40.66708], &quot;geometry&quot;: {&quot;coordinates&quot;: [[[-73.767353, 40.65616], [-73.780737, 40.662447], [-73.790099, 40.664316], [-73.800871, 40.665368], [-73.801663, 40.666889], [-73.810322, 40.66708], [-73.811389, 40.663732], [-73.814945, 40.662759], [-73.82818, 40.664079], [-73.832644, 40.665184], [-73.828493, 40.657253], [-73.82641, 40.648261], [-73.82234, 40.649335], [-73.813028, 40.644143], [-73.792142, 40.635003], [-73.78388, 40.630029], [-73.773233, 40.625844], [-73.773552, 40.619786], [-73.766954, 40.623172], [-73.767023, 40.625484], [-73.746702, 40.633387], [-73.746108, 40.640624], [-73.753214, 40.648278], [-73.767353, 40.65616]]], &quot;type&quot;: &quot;Polygon&quot;}, &quot;id&quot;: &quot;50&quot;, &quot;properties&quot;: {&quot;ALAND10&quot;: 18434911, &quot;AWATER10&quot;: 663495, &quot;CLASSFP10&quot;: &quot;B5&quot;, &quot;FUNCSTAT10&quot;: &quot;S&quot;, &quot;GEOID10&quot;: &quot;3611430&quot;, &quot;INTPTLAT10&quot;: &quot;+40.6471259&quot;, &quot;INTPTLON10&quot;: &quot;-073.7856305&quot;, &quot;MTFCC10&quot;: &quot;G6350&quot;, &quot;PARTFLG10&quot;: &quot;N&quot;, &quot;STATEFP10&quot;: &quot;36&quot;, &quot;ZCTA5CE10&quot;: 11430, &quot;injuries&quot;: 23, &quot;zip_code&quot;: 11430}, &quot;type&quot;: &quot;Feature&quot;}, {&quot;bbox&quot;: [-74.169835, 40.549579, -74.085802, 40.602137], &quot;geometry&quot;: {&quot;coordinates&quot;: [[[-74.134558, 40.551255], [-74.127301, 40.557295], [-74.114983, 40.549579], [-74.104726, 40.552505], [-74.101065, 40.558542], [-74.098145, 40.559146], [-74.091164, 40.566718], [-74.092686, 40.568065], [-74.085802, 40.574135], [-74.101976, 40.584585], [-74.098493, 40.587106], [-74.102079, 40.588741], [-74.107781, 40.584353], [-74.118289, 40.578192], [-74.119149, 40.581508], [-74.123112, 40.585104], [-74.113023, 40.600135], [-74.114871, 40.602137], [-74.116641, 40.599062], [-74.122643, 40.599419], [-74.126285, 40.593455], [-74.1304, 40.582759], [-74.138667, 40.58902], [-74.145834, 40.588564], [-74.146322, 40.58607], [-74.152528, 40.580617], [-74.169835, 40.570879], [-74.169611, 40.566443], [-74.164439, 40.565253], [-74.164941, 40.560112], [-74.157268, 40.56255], [-74.1517, 40.567857], [-74.143126, 40.560508], [-74.139665, 40.558649], [-74.145543, 40.553854], [-74.137762, 40.553882], [-74.134558, 40.551255]]], &quot;type&quot;: &quot;Polygon&quot;}, &quot;id&quot;: &quot;51&quot;, &quot;properties&quot;: {&quot;ALAND10&quot;: 19355176, &quot;AWATER10&quot;: 152561, &quot;CLASSFP10&quot;: &quot;B5&quot;, &quot;FUNCSTAT10&quot;: &quot;S&quot;, &quot;GEOID10&quot;: &quot;3610306&quot;, &quot;INTPTLAT10&quot;: &quot;+40.5717679&quot;, &quot;INTPTLON10&quot;: &quot;-074.1259504&quot;, &quot;MTFCC10&quot;: &quot;G6350&quot;, &quot;PARTFLG10&quot;: &quot;N&quot;, &quot;STATEFP10&quot;: &quot;36&quot;, &quot;ZCTA5CE10&quot;: 10306, &quot;injuries&quot;: 101, &quot;zip_code&quot;: 10306}, &quot;type&quot;: &quot;Feature&quot;}, {&quot;bbox&quot;: [-74.147932, 40.616522, -74.126962, 40.642091], &quot;geometry&quot;: {&quot;coordinates&quot;: [[[-74.13061, 40.623495], [-74.126962, 40.640181], [-74.134414, 40.642091], [-74.143086, 40.639784], [-74.145801, 40.632194], [-74.14612, 40.62493], [-74.147932, 40.621336], [-74.14732, 40.617075], [-74.141617, 40.616522], [-74.141679, 40.621627], [-74.136662, 40.621514], [-74.13061, 40.623495]]], &quot;type&quot;: &quot;Polygon&quot;}, &quot;id&quot;: &quot;52&quot;, &quot;properties&quot;: {&quot;ALAND10&quot;: 3093431, &quot;AWATER10&quot;: 0, &quot;CLASSFP10&quot;: &quot;B5&quot;, &quot;FUNCSTAT10&quot;: &quot;S&quot;, &quot;GEOID10&quot;: &quot;3610302&quot;, &quot;INTPTLAT10&quot;: &quot;+40.6306882&quot;, &quot;INTPTLON10&quot;: &quot;-074.1377756&quot;, &quot;MTFCC10&quot;: &quot;G6350&quot;, &quot;PARTFLG10&quot;: &quot;N&quot;, &quot;STATEFP10&quot;: &quot;36&quot;, &quot;ZCTA5CE10&quot;: 10302, &quot;injuries&quot;: 26, &quot;zip_code&quot;: 10302}, &quot;type&quot;: &quot;Feature&quot;}, {&quot;bbox&quot;: [-74.211108, 40.510549, -74.14517, 40.578411], &quot;geometry&quot;: {&quot;coordinates&quot;: [[[-74.206392, 40.558102], [-74.211108, 40.555687], [-74.206129, 40.543542], [-74.203053, 40.544277], [-74.196084, 40.529912], [-74.199436, 40.525873], [-74.193264, 40.517305], [-74.193642, 40.512709], [-74.197544, 40.511187], [-74.193059, 40.510549], [-74.186572, 40.517903], [-74.183168, 40.519904], [-74.17789, 40.519462], [-74.171613, 40.52279], [-74.166034, 40.523736], [-74.163789, 40.526334], [-74.156227, 40.528565], [-74.14517, 40.535756], [-74.151785, 40.537701], [-74.162096, 40.549085], [-74.164941, 40.560112], [-74.164439, 40.565253], [-74.169611, 40.566443], [-74.174698, 40.566865], [-74.178876, 40.571768], [-74.183766, 40.573613], [-74.186875, 40.577056], [-74.191785, 40.576176], [-74.197961, 40.578411], [-74.19355, 40.566302], [-74.199379, 40.560408], [-74.206392, 40.558102]]], &quot;type&quot;: &quot;Polygon&quot;}, &quot;id&quot;: &quot;53&quot;, &quot;properties&quot;: {&quot;ALAND10&quot;: 19887900, &quot;AWATER10&quot;: 369053, &quot;CLASSFP10&quot;: &quot;B5&quot;, &quot;FUNCSTAT10&quot;: &quot;S&quot;, &quot;GEOID10&quot;: &quot;3610312&quot;, &quot;INTPTLAT10&quot;: &quot;+40.5453938&quot;, &quot;INTPTLON10&quot;: &quot;-074.1809141&quot;, &quot;MTFCC10&quot;: &quot;G6350&quot;, &quot;PARTFLG10&quot;: &quot;N&quot;, &quot;STATEFP10&quot;: &quot;36&quot;, &quot;ZCTA5CE10&quot;: 10312, &quot;injuries&quot;: 89, &quot;zip_code&quot;: 10312}, &quot;type&quot;: &quot;Feature&quot;}, {&quot;bbox&quot;: [-73.970587, 40.574077, -73.926104, 40.594753], &quot;geometry&quot;: {&quot;coordinates&quot;: [[[-73.966614, 40.584575], [-73.970587, 40.583218], [-73.969134, 40.58016], [-73.96992, 40.575583], [-73.959395, 40.574077], [-73.947796, 40.575063], [-73.934947, 40.575272], [-73.931116, 40.576117], [-73.931842, 40.58292], [-73.926104, 40.584825], [-73.930734, 40.589631], [-73.931891, 40.594753], [-73.958998, 40.591784], [-73.965129, 40.591108], [-73.96797, 40.588631], [-73.966614, 40.584575]]], &quot;type&quot;: &quot;Polygon&quot;}, &quot;id&quot;: &quot;54&quot;, &quot;properties&quot;: {&quot;ALAND10&quot;: 5816304, &quot;AWATER10&quot;: 501713, &quot;CLASSFP10&quot;: &quot;B5&quot;, &quot;FUNCSTAT10&quot;: &quot;S&quot;, &quot;GEOID10&quot;: &quot;3611235&quot;, &quot;INTPTLAT10&quot;: &quot;+40.5839493&quot;, &quot;INTPTLON10&quot;: &quot;-073.9490961&quot;, &quot;MTFCC10&quot;: &quot;G6350&quot;, &quot;PARTFLG10&quot;: &quot;N&quot;, &quot;STATEFP10&quot;: &quot;36&quot;, &quot;ZCTA5CE10&quot;: 11235, &quot;injuries&quot;: 134, &quot;zip_code&quot;: 11235}, &quot;type&quot;: &quot;Feature&quot;}, {&quot;bbox&quot;: [-73.980632, 40.687415, -73.95181, 40.705769], &quot;geometry&quot;: {&quot;coordinates&quot;: [[[-73.979233, 40.705769], [-73.980632, 40.696346], [-73.979168, 40.693489], [-73.973855, 40.693287], [-73.973126, 40.689622], [-73.972687, 40.687415], [-73.96481, 40.688326], [-73.960293, 40.690346], [-73.957132, 40.688463], [-73.95181, 40.691599], [-73.95337, 40.699405], [-73.95702, 40.698974], [-73.965774, 40.697636], [-73.973309, 40.697943], [-73.97588, 40.701927], [-73.979233, 40.705769]]], &quot;type&quot;: &quot;Polygon&quot;}, &quot;id&quot;: &quot;55&quot;, &quot;properties&quot;: {&quot;ALAND10&quot;: 2459479, &quot;AWATER10&quot;: 0, &quot;CLASSFP10&quot;: &quot;B5&quot;, &quot;FUNCSTAT10&quot;: &quot;S&quot;, &quot;GEOID10&quot;: &quot;3611205&quot;, &quot;INTPTLAT10&quot;: &quot;+40.6946980&quot;, &quot;INTPTLON10&quot;: &quot;-073.9663011&quot;, &quot;MTFCC10&quot;: &quot;G6350&quot;, &quot;PARTFLG10&quot;: &quot;N&quot;, &quot;STATEFP10&quot;: &quot;36&quot;, &quot;ZCTA5CE10&quot;: 11205, &quot;injuries&quot;: 114, &quot;zip_code&quot;: 11205}, &quot;type&quot;: &quot;Feature&quot;}, {&quot;bbox&quot;: [-73.981822, 40.747251, -73.964492, 40.757912], &quot;geometry&quot;: {&quot;coordinates&quot;: [[[-73.975702, 40.753811], [-73.976516, 40.754974], [-73.975352, 40.755303], [-73.974897, 40.755928], [-73.974439, 40.756556], [-73.977655, 40.757912], [-73.978116, 40.757284], [-73.979937, 40.754783], [-73.978332, 40.7541], [-73.978783, 40.753481], [-73.980395, 40.754155], [-73.980888, 40.753481], [-73.981822, 40.752197], [-73.97078, 40.747543], [-73.968192, 40.747251], [-73.964492, 40.751445], [-73.966157, 40.753878], [-73.97282, 40.75587], [-73.973276, 40.755243], [-73.973735, 40.754619], [-73.975209, 40.754425], [-73.975702, 40.753811]], [[-73.975702, 40.753811], [-73.975558, 40.752116], [-73.973959, 40.751441], [-73.974449, 40.750766], [-73.976048, 40.751441], [-73.978159, 40.75146], [-73.979768, 40.752141], [-73.979287, 40.752801], [-73.977677, 40.752119], [-73.977107, 40.751883], [-73.975702, 40.753811]]], &quot;type&quot;: &quot;Polygon&quot;}, &quot;id&quot;: &quot;56&quot;, &quot;properties&quot;: {&quot;ALAND10&quot;: 829152, &quot;AWATER10&quot;: 0, &quot;CLASSFP10&quot;: &quot;B5&quot;, &quot;FUNCSTAT10&quot;: &quot;S&quot;, &quot;GEOID10&quot;: &quot;3610017&quot;, &quot;INTPTLAT10&quot;: &quot;+40.7523468&quot;, &quot;INTPTLON10&quot;: &quot;-073.9724169&quot;, &quot;MTFCC10&quot;: &quot;G6350&quot;, &quot;PARTFLG10&quot;: &quot;N&quot;, &quot;STATEFP10&quot;: &quot;36&quot;, &quot;ZCTA5CE10&quot;: 10017, &quot;injuries&quot;: 45, &quot;zip_code&quot;: 10017}, &quot;type&quot;: &quot;Feature&quot;}, {&quot;bbox&quot;: [-73.9659, 40.80313, -73.940404, 40.821264], &quot;geometry&quot;: {&quot;coordinates&quot;: [[[-73.962008, 40.805509], [-73.956806, 40.807546], [-73.944667, 40.80313], [-73.940404, 40.808958], [-73.941803, 40.812815], [-73.948677, 40.815692], [-73.946078, 40.821264], [-73.952273, 40.817221], [-73.960007, 40.820422], [-73.962067, 40.818099], [-73.961491, 40.814981], [-73.964019, 40.811331], [-73.963058, 40.810947], [-73.963477, 40.810373], [-73.964424, 40.810755], [-73.9659, 40.808806], [-73.962008, 40.805509]]], &quot;type&quot;: &quot;Polygon&quot;}, &quot;id&quot;: &quot;57&quot;, &quot;properties&quot;: {&quot;ALAND10&quot;: 2257092, &quot;AWATER10&quot;: 0, &quot;CLASSFP10&quot;: &quot;B5&quot;, &quot;FUNCSTAT10&quot;: &quot;S&quot;, &quot;GEOID10&quot;: &quot;3610027&quot;, &quot;INTPTLAT10&quot;: &quot;+40.8118190&quot;, &quot;INTPTLON10&quot;: &quot;-073.9532236&quot;, &quot;MTFCC10&quot;: &quot;G6350&quot;, &quot;PARTFLG10&quot;: &quot;N&quot;, &quot;STATEFP10&quot;: &quot;36&quot;, &quot;ZCTA5CE10&quot;: 10027, &quot;injuries&quot;: 115, &quot;zip_code&quot;: 10027}, &quot;type&quot;: &quot;Feature&quot;}, {&quot;bbox&quot;: [-73.950403, 40.829083, -73.934671, 40.850517], &quot;geometry&quot;: {&quot;coordinates&quot;: [[[-73.940167, 40.830383], [-73.935079, 40.839267], [-73.934671, 40.842958], [-73.944132, 40.845759], [-73.943186, 40.849745], [-73.947051, 40.850517], [-73.945973, 40.844599], [-73.950403, 40.834372], [-73.949714, 40.832697], [-73.941078, 40.829083], [-73.940167, 40.830383]]], &quot;type&quot;: &quot;Polygon&quot;}, &quot;id&quot;: &quot;58&quot;, &quot;properties&quot;: {&quot;ALAND10&quot;: 1702842, &quot;AWATER10&quot;: 0, &quot;CLASSFP10&quot;: &quot;B5&quot;, &quot;FUNCSTAT10&quot;: &quot;S&quot;, &quot;GEOID10&quot;: &quot;3610032&quot;, &quot;INTPTLAT10&quot;: &quot;+40.8388244&quot;, &quot;INTPTLON10&quot;: &quot;-073.9428461&quot;, &quot;MTFCC10&quot;: &quot;G6350&quot;, &quot;PARTFLG10&quot;: &quot;N&quot;, &quot;STATEFP10&quot;: &quot;36&quot;, &quot;ZCTA5CE10&quot;: 10032, &quot;injuries&quot;: 82, &quot;zip_code&quot;: 10032}, &quot;type&quot;: &quot;Feature&quot;}, {&quot;bbox&quot;: [-73.997532, 40.708847, -73.973635, 40.724136], &quot;geometry&quot;: {&quot;coordinates&quot;: [[[-73.997532, 40.714023], [-73.996084, 40.709199], [-73.991896, 40.709535], [-73.989534, 40.708847], [-73.977774, 40.710947], [-73.973635, 40.718612], [-73.988643, 40.722933], [-73.992604, 40.724136], [-73.994035, 40.720323], [-73.997532, 40.714023]]], &quot;type&quot;: &quot;Polygon&quot;}, &quot;id&quot;: &quot;59&quot;, &quot;properties&quot;: {&quot;ALAND10&quot;: 2277670, &quot;AWATER10&quot;: 0, &quot;CLASSFP10&quot;: &quot;B5&quot;, &quot;FUNCSTAT10&quot;: &quot;S&quot;, &quot;GEOID10&quot;: &quot;3610002&quot;, &quot;INTPTLAT10&quot;: &quot;+40.7157619&quot;, &quot;INTPTLON10&quot;: &quot;-073.9862580&quot;, &quot;MTFCC10&quot;: &quot;G6350&quot;, &quot;PARTFLG10&quot;: &quot;N&quot;, &quot;STATEFP10&quot;: &quot;36&quot;, &quot;ZCTA5CE10&quot;: 10002, &quot;injuries&quot;: 112, &quot;zip_code&quot;: 10002}, &quot;type&quot;: &quot;Feature&quot;}, {&quot;bbox&quot;: [-73.958619, 40.79691, -73.944667, 40.807546], &quot;geometry&quot;: {&quot;coordinates&quot;: [[[-73.94922, 40.79691], [-73.946462, 40.800665], [-73.944667, 40.80313], [-73.956806, 40.807546], [-73.958619, 40.799977], [-73.94922, 40.79691]]], &quot;type&quot;: &quot;Polygon&quot;}, &quot;id&quot;: &quot;60&quot;, &quot;properties&quot;: {&quot;ALAND10&quot;: 860745, &quot;AWATER10&quot;: 0, &quot;CLASSFP10&quot;: &quot;B5&quot;, &quot;FUNCSTAT10&quot;: &quot;S&quot;, &quot;GEOID10&quot;: &quot;3610026&quot;, &quot;INTPTLAT10&quot;: &quot;+40.8023805&quot;, &quot;INTPTLON10&quot;: &quot;-073.9526814&quot;, &quot;MTFCC10&quot;: &quot;G6350&quot;, &quot;PARTFLG10&quot;: &quot;N&quot;, &quot;STATEFP10&quot;: &quot;36&quot;, &quot;ZCTA5CE10&quot;: 10026, &quot;injuries&quot;: 59, &quot;zip_code&quot;: 10026}, &quot;type&quot;: &quot;Feature&quot;}, {&quot;bbox&quot;: [-73.959921, 40.773108, -73.942256, 40.787914], &quot;geometry&quot;: {&quot;coordinates&quot;: [[[-73.959921, 40.782213], [-73.951743, 40.777875], [-73.946628, 40.776604], [-73.944337, 40.773108], [-73.942256, 40.776587], [-73.943154, 40.782531], [-73.944223, 40.783933], [-73.955778, 40.787914], [-73.959921, 40.782213]]], &quot;type&quot;: &quot;Polygon&quot;}, &quot;id&quot;: &quot;61&quot;, &quot;properties&quot;: {&quot;ALAND10&quot;: 1219025, &quot;AWATER10&quot;: 0, &quot;CLASSFP10&quot;: &quot;B5&quot;, &quot;FUNCSTAT10&quot;: &quot;S&quot;, &quot;GEOID10&quot;: &quot;3610128&quot;, &quot;INTPTLAT10&quot;: &quot;+40.7814298&quot;, &quot;INTPTLON10&quot;: &quot;-073.9499423&quot;, &quot;MTFCC10&quot;: &quot;G6350&quot;, &quot;PARTFLG10&quot;: &quot;N&quot;, &quot;STATEFP10&quot;: &quot;36&quot;, &quot;ZCTA5CE10&quot;: 10128, &quot;injuries&quot;: 42, &quot;zip_code&quot;: 10128}, &quot;type&quot;: &quot;Feature&quot;}, {&quot;bbox&quot;: [-73.973524, 40.757125, -73.971451, 40.758432], &quot;geometry&quot;: {&quot;coordinates&quot;: [[[-73.971451, 40.757749], [-73.973068, 40.758432], [-73.973524, 40.757808], [-73.971907, 40.757125], [-73.971451, 40.757749]]], &quot;type&quot;: &quot;Polygon&quot;}, &quot;id&quot;: &quot;62&quot;, &quot;properties&quot;: {&quot;ALAND10&quot;: 12382, &quot;AWATER10&quot;: 0, &quot;CLASSFP10&quot;: &quot;B5&quot;, &quot;FUNCSTAT10&quot;: &quot;S&quot;, &quot;GEOID10&quot;: &quot;3610154&quot;, &quot;INTPTLAT10&quot;: &quot;+40.7577785&quot;, &quot;INTPTLON10&quot;: &quot;-073.9724875&quot;, &quot;MTFCC10&quot;: &quot;G6350&quot;, &quot;PARTFLG10&quot;: &quot;N&quot;, &quot;STATEFP10&quot;: &quot;36&quot;, &quot;ZCTA5CE10&quot;: 10154, &quot;injuries&quot;: 0, &quot;zip_code&quot;: 10154}, &quot;type&quot;: &quot;Feature&quot;}, {&quot;bbox&quot;: [-73.979768, 40.75146, -73.977677, 40.752801], &quot;geometry&quot;: {&quot;coordinates&quot;: [[[-73.977677, 40.752119], [-73.979287, 40.752801], [-73.979768, 40.752141], [-73.978159, 40.75146], [-73.977677, 40.752119]]], &quot;type&quot;: &quot;Polygon&quot;}, &quot;id&quot;: &quot;63&quot;, &quot;properties&quot;: {&quot;ALAND10&quot;: 13058, &quot;AWATER10&quot;: 0, &quot;CLASSFP10&quot;: &quot;B5&quot;, &quot;FUNCSTAT10&quot;: &quot;S&quot;, &quot;GEOID10&quot;: &quot;3610165&quot;, &quot;INTPTLAT10&quot;: &quot;+40.7521310&quot;, &quot;INTPTLON10&quot;: &quot;-073.9787223&quot;, &quot;MTFCC10&quot;: &quot;G6350&quot;, &quot;PARTFLG10&quot;: &quot;N&quot;, &quot;STATEFP10&quot;: &quot;36&quot;, &quot;ZCTA5CE10&quot;: 10165, &quot;injuries&quot;: 2, &quot;zip_code&quot;: 10165}, &quot;type&quot;: &quot;Feature&quot;}, {&quot;bbox&quot;: [-73.753214, 40.633387, -73.725055, 40.685121], &quot;geometry&quot;: {&quot;coordinates&quot;: [[[-73.73222, 40.685121], [-73.734002, 40.680426], [-73.741935, 40.666845], [-73.73858, 40.666376], [-73.744956, 40.65817], [-73.749072, 40.655141], [-73.74616, 40.650764], [-73.74656, 40.64482], [-73.753214, 40.648278], [-73.746108, 40.640624], [-73.746702, 40.633387], [-73.744016, 40.637698], [-73.740115, 40.635511], [-73.742283, 40.640121], [-73.741538, 40.646235], [-73.734785, 40.649696], [-73.726647, 40.651487], [-73.725055, 40.653509], [-73.728313, 40.662349], [-73.728305, 40.665917], [-73.728077, 40.671562], [-73.726011, 40.678078], [-73.725861, 40.683223], [-73.73222, 40.685121]]], &quot;type&quot;: &quot;Polygon&quot;}, &quot;id&quot;: &quot;64&quot;, &quot;properties&quot;: {&quot;ALAND10&quot;: 5098423, &quot;AWATER10&quot;: 204780, &quot;CLASSFP10&quot;: &quot;B5&quot;, &quot;FUNCSTAT10&quot;: &quot;S&quot;, &quot;GEOID10&quot;: &quot;3611422&quot;, &quot;INTPTLAT10&quot;: &quot;+40.6600603&quot;, &quot;INTPTLON10&quot;: &quot;-073.7360117&quot;, &quot;MTFCC10&quot;: &quot;G6350&quot;, &quot;PARTFLG10&quot;: &quot;N&quot;, &quot;STATEFP10&quot;: &quot;36&quot;, &quot;ZCTA5CE10&quot;: 11422, &quot;injuries&quot;: 138, &quot;zip_code&quot;: 11422}, &quot;type&quot;: &quot;Feature&quot;}, {&quot;bbox&quot;: [-73.891746, 40.727834, -73.864618, 40.749157], &quot;geometry&quot;: {&quot;coordinates&quot;: [[[-73.869425, 40.749157], [-73.891457, 40.74687], [-73.891746, 40.742138], [-73.888523, 40.734531], [-73.88724, 40.727834], [-73.879587, 40.728599], [-73.875009, 40.730287], [-73.871429, 40.729248], [-73.864618, 40.734271], [-73.867563, 40.740942], [-73.869425, 40.749157]]], &quot;type&quot;: &quot;Polygon&quot;}, &quot;id&quot;: &quot;65&quot;, &quot;properties&quot;: {&quot;ALAND10&quot;: 3956011, &quot;AWATER10&quot;: 0, &quot;CLASSFP10&quot;: &quot;B5&quot;, &quot;FUNCSTAT10&quot;: &quot;S&quot;, &quot;GEOID10&quot;: &quot;3611373&quot;, &quot;INTPTLAT10&quot;: &quot;+40.7388252&quot;, &quot;INTPTLON10&quot;: &quot;-073.8785076&quot;, &quot;MTFCC10&quot;: &quot;G6350&quot;, &quot;PARTFLG10&quot;: &quot;N&quot;, &quot;STATEFP10&quot;: &quot;36&quot;, &quot;ZCTA5CE10&quot;: 11373, &quot;injuries&quot;: 103, &quot;zip_code&quot;: 11373}, &quot;type&quot;: &quot;Feature&quot;}, {&quot;bbox&quot;: [-73.896522, 40.746481, -73.869425, 40.756943], &quot;geometry&quot;: {&quot;coordinates&quot;: [[[-73.891457, 40.74687], [-73.869425, 40.749157], [-73.872219, 40.756943], [-73.882579, 40.755854], [-73.896522, 40.754389], [-73.894832, 40.746481], [-73.891457, 40.74687]]], &quot;type&quot;: &quot;Polygon&quot;}, &quot;id&quot;: &quot;66&quot;, &quot;properties&quot;: {&quot;ALAND10&quot;: 1909994, &quot;AWATER10&quot;: 0, &quot;CLASSFP10&quot;: &quot;B5&quot;, &quot;FUNCSTAT10&quot;: &quot;S&quot;, &quot;GEOID10&quot;: &quot;3611372&quot;, &quot;INTPTLAT10&quot;: &quot;+40.7516897&quot;, &quot;INTPTLON10&quot;: &quot;-073.8836380&quot;, &quot;MTFCC10&quot;: &quot;G6350&quot;, &quot;PARTFLG10&quot;: &quot;N&quot;, &quot;STATEFP10&quot;: &quot;36&quot;, &quot;ZCTA5CE10&quot;: 11372, &quot;injuries&quot;: 87, &quot;zip_code&quot;: 11372}, &quot;type&quot;: &quot;Feature&quot;}, {&quot;bbox&quot;: [-73.870802, 40.683189, -73.844307, 40.702893], &quot;geometry&quot;: {&quot;coordinates&quot;: [[[-73.852145, 40.702375], [-73.869156, 40.702893], [-73.870802, 40.697877], [-73.868917, 40.69515], [-73.866295, 40.683189], [-73.844307, 40.689442], [-73.846261, 40.693987], [-73.852145, 40.702375]]], &quot;type&quot;: &quot;Polygon&quot;}, &quot;id&quot;: &quot;67&quot;, &quot;properties&quot;: {&quot;ALAND10&quot;: 3336083, &quot;AWATER10&quot;: 0, &quot;CLASSFP10&quot;: &quot;B5&quot;, &quot;FUNCSTAT10&quot;: &quot;S&quot;, &quot;GEOID10&quot;: &quot;3611421&quot;, &quot;INTPTLAT10&quot;: &quot;+40.6940617&quot;, &quot;INTPTLON10&quot;: &quot;-073.8586257&quot;, &quot;MTFCC10&quot;: &quot;G6350&quot;, &quot;PARTFLG10&quot;: &quot;N&quot;, &quot;STATEFP10&quot;: &quot;36&quot;, &quot;ZCTA5CE10&quot;: 11421, &quot;injuries&quot;: 48, &quot;zip_code&quot;: 11421}, &quot;type&quot;: &quot;Feature&quot;}, {&quot;bbox&quot;: [-73.794116, 40.769708, -73.762585, 40.790631], &quot;geometry&quot;: {&quot;coordinates&quot;: [[[-73.792599, 40.790455], [-73.794116, 40.786097], [-73.79035, 40.774573], [-73.791635, 40.774239], [-73.789309, 40.769708], [-73.771581, 40.774306], [-73.765393, 40.773593], [-73.762585, 40.771686], [-73.767517, 40.779456], [-73.774194, 40.786707], [-73.781825, 40.790631], [-73.792599, 40.790455]]], &quot;type&quot;: &quot;Polygon&quot;}, &quot;id&quot;: &quot;68&quot;, &quot;properties&quot;: {&quot;ALAND10&quot;: 3691086, &quot;AWATER10&quot;: 0, &quot;CLASSFP10&quot;: &quot;B5&quot;, &quot;FUNCSTAT10&quot;: &quot;S&quot;, &quot;GEOID10&quot;: &quot;3611360&quot;, &quot;INTPTLAT10&quot;: &quot;+40.7802937&quot;, &quot;INTPTLON10&quot;: &quot;-073.7812055&quot;, &quot;MTFCC10&quot;: &quot;G6350&quot;, &quot;PARTFLG10&quot;: &quot;N&quot;, &quot;STATEFP10&quot;: &quot;36&quot;, &quot;ZCTA5CE10&quot;: 11360, &quot;injuries&quot;: 23, &quot;zip_code&quot;: 11360}, &quot;type&quot;: &quot;Feature&quot;}, {&quot;bbox&quot;: [-73.805768, 40.666841, -73.788085, 40.686107], &quot;geometry&quot;: {&quot;coordinates&quot;: [[[-73.801663, 40.666889], [-73.78941, 40.666841], [-73.788085, 40.67301], [-73.790297, 40.673363], [-73.792671, 40.682617], [-73.794578, 40.686107], [-73.805768, 40.682932], [-73.801643, 40.674347], [-73.801663, 40.666889]]], &quot;type&quot;: &quot;Polygon&quot;}, &quot;id&quot;: &quot;69&quot;, &quot;properties&quot;: {&quot;ALAND10&quot;: 2040481, &quot;AWATER10&quot;: 0, &quot;CLASSFP10&quot;: &quot;B5&quot;, &quot;FUNCSTAT10&quot;: &quot;S&quot;, &quot;GEOID10&quot;: &quot;3611436&quot;, &quot;INTPTLAT10&quot;: &quot;+40.6758197&quot;, &quot;INTPTLON10&quot;: &quot;-073.7966174&quot;, &quot;MTFCC10&quot;: &quot;G6350&quot;, &quot;PARTFLG10&quot;: &quot;N&quot;, &quot;STATEFP10&quot;: &quot;36&quot;, &quot;ZCTA5CE10&quot;: 11436, &quot;injuries&quot;: 76, &quot;zip_code&quot;: 11436}, &quot;type&quot;: &quot;Feature&quot;}, {&quot;bbox&quot;: [-73.811835, 40.70146, -73.773571, 40.728425], &quot;geometry&quot;: {&quot;coordinates&quot;: [[[-73.780799, 40.728425], [-73.783601, 40.728413], [-73.80904, 40.719912], [-73.811835, 40.717873], [-73.804129, 40.70146], [-73.80242, 40.701786], [-73.798415, 40.702741], [-73.79609, 40.703294], [-73.78957, 40.707222], [-73.780359, 40.708464], [-73.782625, 40.712938], [-73.773571, 40.71512], [-73.777236, 40.722284], [-73.778038, 40.723284], [-73.780799, 40.728425]]], &quot;type&quot;: &quot;Polygon&quot;}, &quot;id&quot;: &quot;70&quot;, &quot;properties&quot;: {&quot;ALAND10&quot;: 5566224, &quot;AWATER10&quot;: 0, &quot;CLASSFP10&quot;: &quot;B5&quot;, &quot;FUNCSTAT10&quot;: &quot;S&quot;, &quot;GEOID10&quot;: &quot;3611432&quot;, &quot;INTPTLAT10&quot;: &quot;+40.7153590&quot;, &quot;INTPTLON10&quot;: &quot;-073.7930712&quot;, &quot;MTFCC10&quot;: &quot;G6350&quot;, &quot;PARTFLG10&quot;: &quot;N&quot;, &quot;STATEFP10&quot;: &quot;36&quot;, &quot;ZCTA5CE10&quot;: 11432, &quot;injuries&quot;: 146, &quot;zip_code&quot;: 11432}, &quot;type&quot;: &quot;Feature&quot;}, {&quot;bbox&quot;: [-73.757642, 40.713325, -73.729633, 40.729155], &quot;geometry&quot;: {&quot;coordinates&quot;: [[[-73.732168, 40.729155], [-73.739311, 40.728167], [-73.751814, 40.720498], [-73.757642, 40.717971], [-73.753708, 40.713325], [-73.735382, 40.717706], [-73.729661, 40.720483], [-73.729633, 40.722453], [-73.732168, 40.729155]]], &quot;type&quot;: &quot;Polygon&quot;}, &quot;id&quot;: &quot;71&quot;, &quot;properties&quot;: {&quot;ALAND10&quot;: 2156475, &quot;AWATER10&quot;: 0, &quot;CLASSFP10&quot;: &quot;B5&quot;, &quot;FUNCSTAT10&quot;: &quot;S&quot;, &quot;GEOID10&quot;: &quot;3611428&quot;, &quot;INTPTLAT10&quot;: &quot;+40.7210162&quot;, &quot;INTPTLON10&quot;: &quot;-073.7422446&quot;, &quot;MTFCC10&quot;: &quot;G6350&quot;, &quot;PARTFLG10&quot;: &quot;N&quot;, &quot;STATEFP10&quot;: &quot;36&quot;, &quot;ZCTA5CE10&quot;: 11428, &quot;injuries&quot;: 34, &quot;zip_code&quot;: 11428}, &quot;type&quot;: &quot;Feature&quot;}, {&quot;bbox&quot;: [-74.119669, 40.600135, -74.069353, 40.649468], &quot;geometry&quot;: {&quot;coordinates&quot;: [[[-74.104783, 40.645982], [-74.106547, 40.644242], [-74.105981, 40.63429], [-74.103517, 40.623757], [-74.110015, 40.620688], [-74.116972, 40.624627], [-74.119669, 40.621745], [-74.117935, 40.617845], [-74.109977, 40.610456], [-74.110658, 40.605932], [-74.114871, 40.602137], [-74.113023, 40.600135], [-74.112698, 40.603067], [-74.107091, 40.604313], [-74.103973, 40.603094], [-74.097896, 40.606022], [-74.096264, 40.608874], [-74.099351, 40.612419], [-74.093525, 40.612917], [-74.092643, 40.618212], [-74.088675, 40.621031], [-74.088077, 40.631081], [-74.085749, 40.633955], [-74.075959, 40.63197], [-74.075073, 40.637783], [-74.069353, 40.638096], [-74.069474, 40.642836], [-74.07513, 40.648525], [-74.078247, 40.649468], [-74.086278, 40.64889], [-74.093813, 40.646082], [-74.104783, 40.645982]]], &quot;type&quot;: &quot;Polygon&quot;}, &quot;id&quot;: &quot;72&quot;, &quot;properties&quot;: {&quot;ALAND10&quot;: 9476759, &quot;AWATER10&quot;: 16101, &quot;CLASSFP10&quot;: &quot;B5&quot;, &quot;FUNCSTAT10&quot;: &quot;S&quot;, &quot;GEOID10&quot;: &quot;3610301&quot;, &quot;INTPTLAT10&quot;: &quot;+40.6274561&quot;, &quot;INTPTLON10&quot;: &quot;-074.0944067&quot;, &quot;MTFCC10&quot;: &quot;G6350&quot;, &quot;PARTFLG10&quot;: &quot;N&quot;, &quot;STATEFP10&quot;: &quot;36&quot;, &quot;ZCTA5CE10&quot;: 10301, &quot;injuries&quot;: 77, &quot;zip_code&quot;: 10301}, &quot;type&quot;: &quot;Feature&quot;}, {&quot;bbox&quot;: [-74.101976, 40.566718, -74.051416, 40.627408], &quot;geometry&quot;: {&quot;coordinates&quot;: [[[-74.068761, 40.627408], [-74.074152, 40.626816], [-74.070287, 40.621008], [-74.074547, 40.616943], [-74.079429, 40.609099], [-74.085483, 40.601128], [-74.089249, 40.594109], [-74.098493, 40.587106], [-74.101976, 40.584585], [-74.085802, 40.574135], [-74.092686, 40.568065], [-74.091164, 40.566718], [-74.083911, 40.572728], [-74.068332, 40.584217], [-74.064369, 40.588549], [-74.057919, 40.592038], [-74.051416, 40.604695], [-74.05998, 40.611474], [-74.062303, 40.618137], [-74.068761, 40.627408]]], &quot;type&quot;: &quot;Polygon&quot;}, &quot;id&quot;: &quot;73&quot;, &quot;properties&quot;: {&quot;ALAND10&quot;: 11011994, &quot;AWATER10&quot;: 63394, &quot;CLASSFP10&quot;: &quot;B5&quot;, &quot;FUNCSTAT10&quot;: &quot;S&quot;, &quot;GEOID10&quot;: &quot;3610305&quot;, &quot;INTPTLAT10&quot;: &quot;+40.5966907&quot;, &quot;INTPTLON10&quot;: &quot;-074.0748662&quot;, &quot;MTFCC10&quot;: &quot;G6350&quot;, &quot;PARTFLG10&quot;: &quot;N&quot;, &quot;STATEFP10&quot;: &quot;36&quot;, &quot;ZCTA5CE10&quot;: 10305, &quot;injuries&quot;: 88, &quot;zip_code&quot;: 10305}, &quot;type&quot;: &quot;Feature&quot;}, {&quot;bbox&quot;: [-74.13061, 40.620688, -74.103517, 40.645982], &quot;geometry&quot;: {&quot;coordinates&quot;: [[[-74.119669, 40.621745], [-74.116972, 40.624627], [-74.110015, 40.620688], [-74.103517, 40.623757], [-74.105981, 40.63429], [-74.106547, 40.644242], [-74.104783, 40.645982], [-74.110924, 40.64555], [-74.123744, 40.640202], [-74.126962, 40.640181], [-74.13061, 40.623495], [-74.122044, 40.624184], [-74.119669, 40.621745]]], &quot;type&quot;: &quot;Polygon&quot;}, &quot;id&quot;: &quot;74&quot;, &quot;properties&quot;: {&quot;ALAND10&quot;: 4650151, &quot;AWATER10&quot;: 0, &quot;CLASSFP10&quot;: &quot;B5&quot;, &quot;FUNCSTAT10&quot;: &quot;S&quot;, &quot;GEOID10&quot;: &quot;3610310&quot;, &quot;INTPTLAT10&quot;: &quot;+40.6326485&quot;, &quot;INTPTLON10&quot;: &quot;-074.1161481&quot;, &quot;MTFCC10&quot;: &quot;G6350&quot;, &quot;PARTFLG10&quot;: &quot;N&quot;, &quot;STATEFP10&quot;: &quot;36&quot;, &quot;ZCTA5CE10&quot;: 10310, &quot;injuries&quot;: 40, &quot;zip_code&quot;: 10310}, &quot;type&quot;: &quot;Feature&quot;}, {&quot;bbox&quot;: [-73.91929, 40.85742, -73.884855, 40.882923], &quot;geometry&quot;: {&quot;coordinates&quot;: [[[-73.884855, 40.878545], [-73.887105, 40.882923], [-73.891407, 40.878969], [-73.897327, 40.871446], [-73.902151, 40.875586], [-73.903506, 40.870695], [-73.908605, 40.871678], [-73.910851, 40.866528], [-73.91929, 40.857475], [-73.911015, 40.860601], [-73.899949, 40.85742], [-73.891737, 40.869511], [-73.887377, 40.872723], [-73.884855, 40.878545]]], &quot;type&quot;: &quot;Polygon&quot;}, &quot;id&quot;: &quot;75&quot;, &quot;properties&quot;: {&quot;ALAND10&quot;: 2784853, &quot;AWATER10&quot;: 45100, &quot;CLASSFP10&quot;: &quot;B5&quot;, &quot;FUNCSTAT10&quot;: &quot;S&quot;, &quot;GEOID10&quot;: &quot;3610468&quot;, &quot;INTPTLAT10&quot;: &quot;+40.8689655&quot;, &quot;INTPTLON10&quot;: &quot;-073.8999436&quot;, &quot;MTFCC10&quot;: &quot;G6350&quot;, &quot;PARTFLG10&quot;: &quot;N&quot;, &quot;STATEFP10&quot;: &quot;36&quot;, &quot;ZCTA5CE10&quot;: 10468, &quot;injuries&quot;: 148, &quot;zip_code&quot;: 10468}, &quot;type&quot;: &quot;Feature&quot;}, {&quot;bbox&quot;: [-73.871896, 40.828284, -73.842279, 40.857983], &quot;geometry&quot;: {&quot;coordinates&quot;: [[[-73.868383, 40.857812], [-73.871896, 40.854075], [-73.871745, 40.844191], [-73.867788, 40.844875], [-73.863938, 40.840045], [-73.862943, 40.834299], [-73.866806, 40.834837], [-73.84733, 40.829219], [-73.84572, 40.828284], [-73.842683, 40.828497], [-73.842279, 40.831267], [-73.843704, 40.835167], [-73.8529, 40.841072], [-73.852998, 40.845293], [-73.859486, 40.853595], [-73.861791, 40.857983], [-73.868383, 40.857812]]], &quot;type&quot;: &quot;Polygon&quot;}, &quot;id&quot;: &quot;76&quot;, &quot;properties&quot;: {&quot;ALAND10&quot;: 3833088, &quot;AWATER10&quot;: 11823, &quot;CLASSFP10&quot;: &quot;B5&quot;, &quot;FUNCSTAT10&quot;: &quot;S&quot;, &quot;GEOID10&quot;: &quot;3610462&quot;, &quot;INTPTLAT10&quot;: &quot;+40.8432795&quot;, &quot;INTPTLON10&quot;: &quot;-073.8603886&quot;, &quot;MTFCC10&quot;: &quot;G6350&quot;, &quot;PARTFLG10&quot;: &quot;N&quot;, &quot;STATEFP10&quot;: &quot;36&quot;, &quot;ZCTA5CE10&quot;: 10462, &quot;injuries&quot;: 113, &quot;zip_code&quot;: 10462}, &quot;type&quot;: &quot;Feature&quot;}, {&quot;bbox&quot;: [-73.842683, 40.804001, -73.790882, 40.848855], &quot;geometry&quot;: {&quot;coordinates&quot;: [[[-73.824957, 40.846105], [-73.826241, 40.842994], [-73.825495, 40.835218], [-73.828356, 40.833284], [-73.83224, 40.83527], [-73.838549, 40.835026], [-73.842279, 40.831267], [-73.842683, 40.828497], [-73.842425, 40.82806], [-73.838369, 40.822037], [-73.840225, 40.817221], [-73.840426, 40.811873], [-73.837984, 40.806226], [-73.831616, 40.804938], [-73.831019, 40.811012], [-73.826345, 40.811196], [-73.816861, 40.813688], [-73.810411, 40.812948], [-73.791807, 40.804001], [-73.790882, 40.806638], [-73.803527, 40.811995], [-73.798618, 40.8168], [-73.8036, 40.818126], [-73.808469, 40.825861], [-73.812869, 40.827709], [-73.815186, 40.831181], [-73.816342, 40.838031], [-73.814769, 40.845126], [-73.815674, 40.848855], [-73.824957, 40.846105]]], &quot;type&quot;: &quot;Polygon&quot;}, &quot;id&quot;: &quot;77&quot;, &quot;properties&quot;: {&quot;ALAND10&quot;: 8882828, &quot;AWATER10&quot;: 118, &quot;CLASSFP10&quot;: &quot;B5&quot;, &quot;FUNCSTAT10&quot;: &quot;S&quot;, &quot;GEOID10&quot;: &quot;3610465&quot;, &quot;INTPTLAT10&quot;: &quot;+40.8232769&quot;, &quot;INTPTLON10&quot;: &quot;-073.8256019&quot;, &quot;MTFCC10&quot;: &quot;G6350&quot;, &quot;PARTFLG10&quot;: &quot;N&quot;, &quot;STATEFP10&quot;: &quot;36&quot;, &quot;ZCTA5CE10&quot;: 10465, &quot;injuries&quot;: 111, &quot;zip_code&quot;: 10465}, &quot;type&quot;: &quot;Feature&quot;}, {&quot;bbox&quot;: [-73.900659, 40.754389, -73.870992, 40.797957], &quot;geometry&quot;: {&quot;coordinates&quot;: [[[[-73.884867, 40.786621], [-73.878964, 40.785743], [-73.870992, 40.786979], [-73.874253, 40.792317], [-73.89039, 40.797957], [-73.892866, 40.790567], [-73.889918, 40.787398], [-73.884867, 40.786621]]], [[[-73.882579, 40.755854], [-73.882768, 40.767312], [-73.887671, 40.76672], [-73.889068, 40.773682], [-73.892348, 40.775847], [-73.900332, 40.768808], [-73.900659, 40.767211], [-73.89353, 40.766019], [-73.897719, 40.760976], [-73.896522, 40.754389], [-73.882579, 40.755854]]]], &quot;type&quot;: &quot;MultiPolygon&quot;}, &quot;id&quot;: &quot;78&quot;, &quot;properties&quot;: {&quot;ALAND10&quot;: 3684369, &quot;AWATER10&quot;: 0, &quot;CLASSFP10&quot;: &quot;B5&quot;, &quot;FUNCSTAT10&quot;: &quot;S&quot;, &quot;GEOID10&quot;: &quot;3611370&quot;, &quot;INTPTLAT10&quot;: &quot;+40.7653703&quot;, &quot;INTPTLON10&quot;: &quot;-073.8932425&quot;, &quot;MTFCC10&quot;: &quot;G6350&quot;, &quot;PARTFLG10&quot;: &quot;N&quot;, &quot;STATEFP10&quot;: &quot;36&quot;, &quot;ZCTA5CE10&quot;: 11370, &quot;injuries&quot;: 59, &quot;zip_code&quot;: 11370}, &quot;type&quot;: &quot;Feature&quot;}, {&quot;bbox&quot;: [-73.97588, 40.697636, -73.923734, 40.727849], &quot;geometry&quot;: {&quot;coordinates&quot;: [[[-73.961611, 40.724951], [-73.967578, 40.716496], [-73.970045, 40.706947], [-73.97588, 40.701927], [-73.973309, 40.697943], [-73.965774, 40.697636], [-73.95702, 40.698974], [-73.957457, 40.700822], [-73.950237, 40.705473], [-73.951116, 40.710957], [-73.943911, 40.711641], [-73.940314, 40.710522], [-73.934802, 40.713373], [-73.923734, 40.716245], [-73.923865, 40.720056], [-73.929223, 40.727849], [-73.928137, 40.725063], [-73.935589, 40.722991], [-73.937315, 40.718934], [-73.950065, 40.7183], [-73.951646, 40.723486], [-73.955679, 40.723943], [-73.961611, 40.724951]]], &quot;type&quot;: &quot;Polygon&quot;}, &quot;id&quot;: &quot;79&quot;, &quot;properties&quot;: {&quot;ALAND10&quot;: 5952757, &quot;AWATER10&quot;: 191943, &quot;CLASSFP10&quot;: &quot;B5&quot;, &quot;FUNCSTAT10&quot;: &quot;S&quot;, &quot;GEOID10&quot;: &quot;3611211&quot;, &quot;INTPTLAT10&quot;: &quot;+40.7125973&quot;, &quot;INTPTLON10&quot;: &quot;-073.9530981&quot;, &quot;MTFCC10&quot;: &quot;G6350&quot;, &quot;PARTFLG10&quot;: &quot;N&quot;, &quot;STATEFP10&quot;: &quot;36&quot;, &quot;ZCTA5CE10&quot;: 11211, &quot;injuries&quot;: 132, &quot;zip_code&quot;: 11211}, &quot;type&quot;: &quot;Feature&quot;}, {&quot;bbox&quot;: [-74.042492, 40.602828, -74.015499, 40.638821], &quot;geometry&quot;: {&quot;coordinates&quot;: [[[-74.024694, 40.60996], [-74.022789, 40.614596], [-74.025729, 40.616049], [-74.018751, 40.624318], [-74.016048, 40.631033], [-74.026039, 40.635741], [-74.035958, 40.638821], [-74.038653, 40.635635], [-74.041522, 40.629683], [-74.042492, 40.624667], [-74.040672, 40.615201], [-74.033941, 40.607028], [-74.029309, 40.604599], [-74.01945, 40.602828], [-74.015499, 40.606842], [-74.021502, 40.607828], [-74.023602, 40.605613], [-74.026454, 40.608], [-74.024694, 40.60996]]], &quot;type&quot;: &quot;Polygon&quot;}, &quot;id&quot;: &quot;80&quot;, &quot;properties&quot;: {&quot;ALAND10&quot;: 5599867, &quot;AWATER10&quot;: 0, &quot;CLASSFP10&quot;: &quot;B5&quot;, &quot;FUNCSTAT10&quot;: &quot;S&quot;, &quot;GEOID10&quot;: &quot;3611209&quot;, &quot;INTPTLAT10&quot;: &quot;+40.6219821&quot;, &quot;INTPTLON10&quot;: &quot;-074.0303233&quot;, &quot;MTFCC10&quot;: &quot;G6350&quot;, &quot;PARTFLG10&quot;: &quot;N&quot;, &quot;STATEFP10&quot;: &quot;36&quot;, &quot;ZCTA5CE10&quot;: 11209, &quot;injuries&quot;: 102, &quot;zip_code&quot;: 11209}, &quot;type&quot;: &quot;Feature&quot;}, {&quot;bbox&quot;: [-74.038653, 40.628684, -73.997734, 40.652453], &quot;geometry&quot;: {&quot;coordinates&quot;: [[[-74.006241, 40.649022], [-74.01343, 40.652453], [-74.019256, 40.646853], [-74.024406, 40.650922], [-74.029091, 40.648775], [-74.033744, 40.643982], [-74.038653, 40.635635], [-74.035958, 40.638821], [-74.026039, 40.635741], [-74.016048, 40.631033], [-74.012142, 40.628684], [-73.997734, 40.64341], [-74.002111, 40.646099], [-74.006241, 40.649022]]], &quot;type&quot;: &quot;Polygon&quot;}, &quot;id&quot;: &quot;81&quot;, &quot;properties&quot;: {&quot;ALAND10&quot;: 4639238, &quot;AWATER10&quot;: 0, &quot;CLASSFP10&quot;: &quot;B5&quot;, &quot;FUNCSTAT10&quot;: &quot;S&quot;, &quot;GEOID10&quot;: &quot;3611220&quot;, &quot;INTPTLAT10&quot;: &quot;+40.6412207&quot;, &quot;INTPTLON10&quot;: &quot;-074.0168625&quot;, &quot;MTFCC10&quot;: &quot;G6350&quot;, &quot;PARTFLG10&quot;: &quot;N&quot;, &quot;STATEFP10&quot;: &quot;36&quot;, &quot;ZCTA5CE10&quot;: 11220, &quot;injuries&quot;: 137, &quot;zip_code&quot;: 11220}, &quot;type&quot;: &quot;Feature&quot;}, {&quot;bbox&quot;: [-73.938947, 40.851863, -73.924692, 40.864471], &quot;geometry&quot;: {&quot;coordinates&quot;: [[[-73.924715, 40.861552], [-73.929162, 40.864471], [-73.931313, 40.859328], [-73.936703, 40.858925], [-73.938947, 40.856079], [-73.928151, 40.851863], [-73.924692, 40.856642], [-73.924715, 40.861552]]], &quot;type&quot;: &quot;Polygon&quot;}, &quot;id&quot;: &quot;82&quot;, &quot;properties&quot;: {&quot;ALAND10&quot;: 976162, &quot;AWATER10&quot;: 0, &quot;CLASSFP10&quot;: &quot;B5&quot;, &quot;FUNCSTAT10&quot;: &quot;S&quot;, &quot;GEOID10&quot;: &quot;3610040&quot;, &quot;INTPTLAT10&quot;: &quot;+40.8582976&quot;, &quot;INTPTLON10&quot;: &quot;-073.9305196&quot;, &quot;MTFCC10&quot;: &quot;G6350&quot;, &quot;PARTFLG10&quot;: &quot;N&quot;, &quot;STATEFP10&quot;: &quot;36&quot;, &quot;ZCTA5CE10&quot;: 10040, &quot;injuries&quot;: 36, &quot;zip_code&quot;: 10040}, &quot;type&quot;: &quot;Feature&quot;}, {&quot;bbox&quot;: [-74.006145, 40.749102, -73.981822, 40.762208], &quot;geometry&quot;: {&quot;coordinates&quot;: [[[-74.005733, 40.75597], [-74.002942, 40.759731], [-73.998661, 40.755252], [-73.984076, 40.749102], [-73.981822, 40.752197], [-73.984596, 40.754177], [-74.001163, 40.762021], [-74.001716, 40.762208], [-74.006145, 40.756189], [-74.005733, 40.75597]]], &quot;type&quot;: &quot;Polygon&quot;}, &quot;id&quot;: &quot;83&quot;, &quot;properties&quot;: {&quot;ALAND10&quot;: 833392, &quot;AWATER10&quot;: 0, &quot;CLASSFP10&quot;: &quot;B5&quot;, &quot;FUNCSTAT10&quot;: &quot;S&quot;, &quot;GEOID10&quot;: &quot;3610018&quot;, &quot;INTPTLAT10&quot;: &quot;+40.7553294&quot;, &quot;INTPTLON10&quot;: &quot;-073.9931272&quot;, &quot;MTFCC10&quot;: &quot;G6350&quot;, &quot;PARTFLG10&quot;: &quot;N&quot;, &quot;STATEFP10&quot;: &quot;36&quot;, &quot;ZCTA5CE10&quot;: 10018, &quot;injuries&quot;: 28, &quot;zip_code&quot;: 10018}, &quot;type&quot;: &quot;Feature&quot;}, {&quot;bbox&quot;: [-73.977655, 40.751445, -73.958599, 40.764898], &quot;geometry&quot;: {&quot;coordinates&quot;: [[[-73.959263, 40.759284], [-73.972553, 40.764898], [-73.973015, 40.764279], [-73.971411, 40.763588], [-73.971869, 40.762964], [-73.973465, 40.763659], [-73.975831, 40.760418], [-73.976289, 40.759787], [-73.976744, 40.759165], [-73.977201, 40.758538], [-73.977655, 40.757912], [-73.974439, 40.756556], [-73.97282, 40.75587], [-73.966157, 40.753878], [-73.964492, 40.751445], [-73.958599, 40.758133], [-73.959263, 40.759284]], [[-73.971451, 40.757749], [-73.971907, 40.757125], [-73.973524, 40.757808], [-73.973068, 40.758432], [-73.972613, 40.759059], [-73.970993, 40.758373], [-73.971451, 40.757749]]], &quot;type&quot;: &quot;Polygon&quot;}, &quot;id&quot;: &quot;84&quot;, &quot;properties&quot;: {&quot;ALAND10&quot;: 1130199, &quot;AWATER10&quot;: 0, &quot;CLASSFP10&quot;: &quot;B5&quot;, &quot;FUNCSTAT10&quot;: &quot;S&quot;, &quot;GEOID10&quot;: &quot;3610022&quot;, &quot;INTPTLAT10&quot;: &quot;+40.7585548&quot;, &quot;INTPTLON10&quot;: &quot;-073.9678171&quot;, &quot;MTFCC10&quot;: &quot;G6350&quot;, &quot;PARTFLG10&quot;: &quot;N&quot;, &quot;STATEFP10&quot;: &quot;36&quot;, &quot;ZCTA5CE10&quot;: 10022, &quot;injuries&quot;: 84, &quot;zip_code&quot;: 10022}, &quot;type&quot;: &quot;Feature&quot;}, {&quot;bbox&quot;: [-73.989994, 40.768481, -73.974067, 40.783192], &quot;geometry&quot;: {&quot;coordinates&quot;: [[[-73.974067, 40.778805], [-73.984452, 40.783192], [-73.986609, 40.780712], [-73.989994, 40.772242], [-73.982067, 40.768481], [-73.974067, 40.778805]]], &quot;type&quot;: &quot;Polygon&quot;}, &quot;id&quot;: &quot;85&quot;, &quot;properties&quot;: {&quot;ALAND10&quot;: 1270408, &quot;AWATER10&quot;: 0, &quot;CLASSFP10&quot;: &quot;B5&quot;, &quot;FUNCSTAT10&quot;: &quot;S&quot;, &quot;GEOID10&quot;: &quot;3610023&quot;, &quot;INTPTLAT10&quot;: &quot;+40.7759212&quot;, &quot;INTPTLON10&quot;: &quot;-073.9826066&quot;, &quot;MTFCC10&quot;: &quot;G6350&quot;, &quot;PARTFLG10&quot;: &quot;N&quot;, &quot;STATEFP10&quot;: &quot;36&quot;, &quot;ZCTA5CE10&quot;: 10023, &quot;injuries&quot;: 42, &quot;zip_code&quot;: 10023}, &quot;type&quot;: &quot;Feature&quot;}, {&quot;bbox&quot;: [-74.001163, 40.752197, -73.978116, 40.765558], &quot;geometry&quot;: {&quot;coordinates&quot;: [[[-73.981341, 40.758645], [-73.997736, 40.765558], [-74.001163, 40.762021], [-73.984596, 40.754177], [-73.981822, 40.752197], [-73.980888, 40.753481], [-73.984118, 40.754842], [-73.983624, 40.755516], [-73.980395, 40.754155], [-73.979937, 40.754783], [-73.978116, 40.757284], [-73.981341, 40.758645]]], &quot;type&quot;: &quot;Polygon&quot;}, &quot;id&quot;: &quot;86&quot;, &quot;properties&quot;: {&quot;ALAND10&quot;: 1148108, &quot;AWATER10&quot;: 0, &quot;CLASSFP10&quot;: &quot;B5&quot;, &quot;FUNCSTAT10&quot;: &quot;S&quot;, &quot;GEOID10&quot;: &quot;3610036&quot;, &quot;INTPTLAT10&quot;: &quot;+40.7592804&quot;, &quot;INTPTLON10&quot;: &quot;-073.9899094&quot;, &quot;MTFCC10&quot;: &quot;G6350&quot;, &quot;PARTFLG10&quot;: &quot;N&quot;, &quot;STATEFP10&quot;: &quot;36&quot;, &quot;ZCTA5CE10&quot;: 10036, &quot;injuries&quot;: 51, &quot;zip_code&quot;: 10036}, &quot;type&quot;: &quot;Feature&quot;}, {&quot;bbox&quot;: [-73.801663, 40.65616, -73.75797, 40.696359], &quot;geometry&quot;: {&quot;coordinates&quot;: [[[-73.801663, 40.666889], [-73.800871, 40.665368], [-73.790099, 40.664316], [-73.780737, 40.662447], [-73.767353, 40.65616], [-73.763532, 40.666287], [-73.764047, 40.672847], [-73.75797, 40.676097], [-73.758047, 40.679221], [-73.762008, 40.684551], [-73.7662, 40.692183], [-73.769895, 40.696359], [-73.775799, 40.693037], [-73.787005, 40.688568], [-73.794371, 40.686913], [-73.794578, 40.686107], [-73.792671, 40.682617], [-73.790297, 40.673363], [-73.788085, 40.67301], [-73.78941, 40.666841], [-73.801663, 40.666889]]], &quot;type&quot;: &quot;Polygon&quot;}, &quot;id&quot;: &quot;87&quot;, &quot;properties&quot;: {&quot;ALAND10&quot;: 8388456, &quot;AWATER10&quot;: 172037, &quot;CLASSFP10&quot;: &quot;B5&quot;, &quot;FUNCSTAT10&quot;: &quot;S&quot;, &quot;GEOID10&quot;: &quot;3611434&quot;, &quot;INTPTLAT10&quot;: &quot;+40.6768082&quot;, &quot;INTPTLON10&quot;: &quot;-073.7764254&quot;, &quot;MTFCC10&quot;: &quot;G6350&quot;, &quot;PARTFLG10&quot;: &quot;N&quot;, &quot;STATEFP10&quot;: &quot;36&quot;, &quot;ZCTA5CE10&quot;: 11434, &quot;injuries&quot;: 217, &quot;zip_code&quot;: 11434}, &quot;type&quot;: &quot;Feature&quot;}, {&quot;bbox&quot;: [-73.93742, 40.712866, -73.886122, 40.736826], &quot;geometry&quot;: {&quot;coordinates&quot;: [[[-73.92392, 40.714074], [-73.904772, 40.712866], [-73.902854, 40.713793], [-73.886122, 40.721799], [-73.88724, 40.727834], [-73.888523, 40.734531], [-73.892131, 40.733681], [-73.900711, 40.734359], [-73.905684, 40.72855], [-73.918936, 40.731778], [-73.925851, 40.735645], [-73.931614, 40.736826], [-73.93742, 40.733762], [-73.929223, 40.727849], [-73.923865, 40.720056], [-73.923734, 40.716245], [-73.92392, 40.714074]]], &quot;type&quot;: &quot;Polygon&quot;}, &quot;id&quot;: &quot;88&quot;, &quot;properties&quot;: {&quot;ALAND10&quot;: 6614594, &quot;AWATER10&quot;: 145653, &quot;CLASSFP10&quot;: &quot;B5&quot;, &quot;FUNCSTAT10&quot;: &quot;S&quot;, &quot;GEOID10&quot;: &quot;3611378&quot;, &quot;INTPTLAT10&quot;: &quot;+40.7247442&quot;, &quot;INTPTLON10&quot;: &quot;-073.9096392&quot;, &quot;MTFCC10&quot;: &quot;G6350&quot;, &quot;PARTFLG10&quot;: &quot;N&quot;, &quot;STATEFP10&quot;: &quot;36&quot;, &quot;ZCTA5CE10&quot;: 11378, &quot;injuries&quot;: 147, &quot;zip_code&quot;: 11378}, &quot;type&quot;: &quot;Feature&quot;}, {&quot;bbox&quot;: [-73.721178, 40.751726, -73.707825, 40.759566], &quot;geometry&quot;: {&quot;coordinates&quot;: [[[-73.721178, 40.756871], [-73.714352, 40.755239], [-73.713076, 40.751726], [-73.707825, 40.756216], [-73.712761, 40.759415], [-73.713034, 40.759566], [-73.721178, 40.756871]]], &quot;type&quot;: &quot;Polygon&quot;}, &quot;id&quot;: &quot;89&quot;, &quot;properties&quot;: {&quot;ALAND10&quot;: 472584, &quot;AWATER10&quot;: 0, &quot;CLASSFP10&quot;: &quot;B5&quot;, &quot;FUNCSTAT10&quot;: &quot;S&quot;, &quot;GEOID10&quot;: &quot;3611005&quot;, &quot;INTPTLAT10&quot;: &quot;+40.7565778&quot;, &quot;INTPTLON10&quot;: &quot;-073.7141781&quot;, &quot;MTFCC10&quot;: &quot;G6350&quot;, &quot;PARTFLG10&quot;: &quot;N&quot;, &quot;STATEFP10&quot;: &quot;36&quot;, &quot;ZCTA5CE10&quot;: 11005, &quot;injuries&quot;: 2, &quot;zip_code&quot;: 11005}, &quot;type&quot;: &quot;Feature&quot;}, {&quot;bbox&quot;: [-74.195988, 40.619546, -74.143086, 40.645028], &quot;geometry&quot;: {&quot;coordinates&quot;: [[[-74.195988, 40.635172], [-74.189, 40.629526], [-74.183777, 40.628312], [-74.176328, 40.623776], [-74.174232, 40.619546], [-74.162461, 40.622179], [-74.151541, 40.621202], [-74.14612, 40.62493], [-74.145801, 40.632194], [-74.143086, 40.639784], [-74.151073, 40.638952], [-74.167826, 40.641274], [-74.173809, 40.645028], [-74.185077, 40.644415], [-74.193132, 40.639192], [-74.195988, 40.635172]]], &quot;type&quot;: &quot;Polygon&quot;}, &quot;id&quot;: &quot;90&quot;, &quot;properties&quot;: {&quot;ALAND10&quot;: 8125465, &quot;AWATER10&quot;: 73296, &quot;CLASSFP10&quot;: &quot;B5&quot;, &quot;FUNCSTAT10&quot;: &quot;S&quot;, &quot;GEOID10&quot;: &quot;3610303&quot;, &quot;INTPTLAT10&quot;: &quot;+40.6298846&quot;, &quot;INTPTLON10&quot;: &quot;-074.1741296&quot;, &quot;MTFCC10&quot;: &quot;G6350&quot;, &quot;PARTFLG10&quot;: &quot;N&quot;, &quot;STATEFP10&quot;: &quot;36&quot;, &quot;ZCTA5CE10&quot;: 10303, &quot;injuries&quot;: 44, &quot;zip_code&quot;: 10303}, &quot;type&quot;: &quot;Feature&quot;}, {&quot;bbox&quot;: [-73.910516, 40.905922, -73.870855, 40.934894], &quot;geometry&quot;: {&quot;coordinates&quot;: [[[-73.904259, 40.934894], [-73.904779, 40.930199], [-73.909126, 40.922733], [-73.910516, 40.915282], [-73.886124, 40.908016], [-73.878189, 40.905983], [-73.877855, 40.905922], [-73.874982, 40.912108], [-73.874402, 40.920343], [-73.875994, 40.924445], [-73.870855, 40.932371], [-73.879876, 40.931273], [-73.884452, 40.927314], [-73.890247, 40.927435], [-73.895595, 40.925781], [-73.902448, 40.927282], [-73.904259, 40.934894]]], &quot;type&quot;: &quot;Polygon&quot;}, &quot;id&quot;: &quot;91&quot;, &quot;properties&quot;: {&quot;ALAND10&quot;: 5732006, &quot;AWATER10&quot;: 59198, &quot;CLASSFP10&quot;: &quot;B5&quot;, &quot;FUNCSTAT10&quot;: &quot;S&quot;, &quot;GEOID10&quot;: &quot;3610705&quot;, &quot;INTPTLAT10&quot;: &quot;+40.9197049&quot;, &quot;INTPTLON10&quot;: &quot;-073.8899283&quot;, &quot;MTFCC10&quot;: &quot;G6350&quot;, &quot;PARTFLG10&quot;: &quot;N&quot;, &quot;STATEFP10&quot;: &quot;36&quot;, &quot;ZCTA5CE10&quot;: 10705, &quot;injuries&quot;: 3, &quot;zip_code&quot;: 10705}, &quot;type&quot;: &quot;Feature&quot;}, {&quot;bbox&quot;: [-73.861791, 40.831267, -73.824957, 40.861021], &quot;geometry&quot;: {&quot;coordinates&quot;: [[[-73.861791, 40.857983], [-73.859486, 40.853595], [-73.852998, 40.845293], [-73.8529, 40.841072], [-73.843704, 40.835167], [-73.842279, 40.831267], [-73.838549, 40.835026], [-73.83224, 40.83527], [-73.828356, 40.833284], [-73.825495, 40.835218], [-73.826241, 40.842994], [-73.824957, 40.846105], [-73.826892, 40.848849], [-73.826135, 40.857312], [-73.828237, 40.861021], [-73.833371, 40.856167], [-73.837241, 40.857358], [-73.849309, 40.858718], [-73.861791, 40.857983]]], &quot;type&quot;: &quot;Polygon&quot;}, &quot;id&quot;: &quot;92&quot;, &quot;properties&quot;: {&quot;ALAND10&quot;: 6215148, &quot;AWATER10&quot;: 0, &quot;CLASSFP10&quot;: &quot;B5&quot;, &quot;FUNCSTAT10&quot;: &quot;S&quot;, &quot;GEOID10&quot;: &quot;3610461&quot;, &quot;INTPTLAT10&quot;: &quot;+40.8474345&quot;, &quot;INTPTLON10&quot;: &quot;-073.8405536&quot;, &quot;MTFCC10&quot;: &quot;G6350&quot;, &quot;PARTFLG10&quot;: &quot;N&quot;, &quot;STATEFP10&quot;: &quot;36&quot;, &quot;ZCTA5CE10&quot;: 10461, &quot;injuries&quot;: 119, &quot;zip_code&quot;: 10461}, &quot;type&quot;: &quot;Feature&quot;}, {&quot;bbox&quot;: [-73.932941, 40.807955, -73.908709, 40.830915], &quot;geometry&quot;: {&quot;coordinates&quot;: [[[-73.920461, 40.830915], [-73.922669, 40.826854], [-73.928756, 40.829186], [-73.932941, 40.828213], [-73.931681, 40.807955], [-73.922088, 40.813731], [-73.917417, 40.821277], [-73.911948, 40.820154], [-73.908709, 40.824067], [-73.920201, 40.8281], [-73.920461, 40.830915]]], &quot;type&quot;: &quot;Polygon&quot;}, &quot;id&quot;: &quot;93&quot;, &quot;properties&quot;: {&quot;ALAND10&quot;: 2628487, &quot;AWATER10&quot;: 3019, &quot;CLASSFP10&quot;: &quot;B5&quot;, &quot;FUNCSTAT10&quot;: &quot;S&quot;, &quot;GEOID10&quot;: &quot;3610451&quot;, &quot;INTPTLAT10&quot;: &quot;+40.8204787&quot;, &quot;INTPTLON10&quot;: &quot;-073.9250841&quot;, &quot;MTFCC10&quot;: &quot;G6350&quot;, &quot;PARTFLG10&quot;: &quot;N&quot;, &quot;STATEFP10&quot;: &quot;36&quot;, &quot;ZCTA5CE10&quot;: 10451, &quot;injuries&quot;: 136, &quot;zip_code&quot;: 10451}, &quot;type&quot;: &quot;Feature&quot;}, {&quot;bbox&quot;: [-73.920956, 40.885781, -73.884722, 40.915282], &quot;geometry&quot;: {&quot;coordinates&quot;: [[[-73.910516, 40.915282], [-73.914294, 40.904239], [-73.920956, 40.887288], [-73.916687, 40.886901], [-73.912904, 40.889749], [-73.905513, 40.890195], [-73.902367, 40.887254], [-73.89571, 40.885781], [-73.887608, 40.889487], [-73.884722, 40.898175], [-73.886334, 40.90015], [-73.886124, 40.908016], [-73.910516, 40.915282]]], &quot;type&quot;: &quot;Polygon&quot;}, &quot;id&quot;: &quot;94&quot;, &quot;properties&quot;: {&quot;ALAND10&quot;: 6687174, &quot;AWATER10&quot;: 28258, &quot;CLASSFP10&quot;: &quot;B5&quot;, &quot;FUNCSTAT10&quot;: &quot;S&quot;, &quot;GEOID10&quot;: &quot;3610471&quot;, &quot;INTPTLAT10&quot;: &quot;+40.8988142&quot;, &quot;INTPTLON10&quot;: &quot;-073.9033099&quot;, &quot;MTFCC10&quot;: &quot;G6350&quot;, &quot;PARTFLG10&quot;: &quot;N&quot;, &quot;STATEFP10&quot;: &quot;36&quot;, &quot;ZCTA5CE10&quot;: 10471, &quot;injuries&quot;: 43, &quot;zip_code&quot;: 10471}, &quot;type&quot;: &quot;Feature&quot;}, {&quot;bbox&quot;: [-73.987255, 40.582745, -73.958998, 40.609986], &quot;geometry&quot;: {&quot;coordinates&quot;: [[[-73.972994, 40.608814], [-73.987255, 40.607245], [-73.982812, 40.583792], [-73.977517, 40.582745], [-73.966614, 40.584575], [-73.96797, 40.588631], [-73.965129, 40.591108], [-73.958998, 40.591784], [-73.960732, 40.60547], [-73.96238, 40.609986], [-73.972994, 40.608814]]], &quot;type&quot;: &quot;Polygon&quot;}, &quot;id&quot;: &quot;95&quot;, &quot;properties&quot;: {&quot;ALAND10&quot;: 5372270, &quot;AWATER10&quot;: 0, &quot;CLASSFP10&quot;: &quot;B5&quot;, &quot;FUNCSTAT10&quot;: &quot;S&quot;, &quot;GEOID10&quot;: &quot;3611223&quot;, &quot;INTPTLAT10&quot;: &quot;+40.5971394&quot;, &quot;INTPTLON10&quot;: &quot;-073.9734285&quot;, &quot;MTFCC10&quot;: &quot;G6350&quot;, &quot;PARTFLG10&quot;: &quot;N&quot;, &quot;STATEFP10&quot;: &quot;36&quot;, &quot;ZCTA5CE10&quot;: 11223, &quot;injuries&quot;: 120, &quot;zip_code&quot;: 11223}, &quot;type&quot;: &quot;Feature&quot;}, {&quot;bbox&quot;: [-73.945642, 40.683601, -73.908853, 40.701762], &quot;geometry&quot;: {&quot;coordinates&quot;: [[[-73.927588, 40.701762], [-73.930262, 40.698529], [-73.934797, 40.696737], [-73.934134, 40.693355], [-73.945642, 40.692033], [-73.943962, 40.683601], [-73.938223, 40.683894], [-73.918065, 40.686608], [-73.916046, 40.686072], [-73.908853, 40.693405], [-73.916368, 40.69768], [-73.917818, 40.696208], [-73.927588, 40.701762]]], &quot;type&quot;: &quot;Polygon&quot;}, &quot;id&quot;: &quot;96&quot;, &quot;properties&quot;: {&quot;ALAND10&quot;: 3582802, &quot;AWATER10&quot;: 0, &quot;CLASSFP10&quot;: &quot;B5&quot;, &quot;FUNCSTAT10&quot;: &quot;S&quot;, &quot;GEOID10&quot;: &quot;3611221&quot;, &quot;INTPTLAT10&quot;: &quot;+40.6913401&quot;, &quot;INTPTLON10&quot;: &quot;-073.9278789&quot;, &quot;MTFCC10&quot;: &quot;G6350&quot;, &quot;PARTFLG10&quot;: &quot;N&quot;, &quot;STATEFP10&quot;: &quot;36&quot;, &quot;ZCTA5CE10&quot;: 11221, &quot;injuries&quot;: 176, &quot;zip_code&quot;: 11221}, &quot;type&quot;: &quot;Feature&quot;}, {&quot;bbox&quot;: [-73.947676, 40.633886, -73.920166, 40.663557], &quot;geometry&quot;: {&quot;coordinates&quot;: [[[-73.922207, 40.641065], [-73.920166, 40.646809], [-73.921776, 40.654424], [-73.931607, 40.663557], [-73.940029, 40.663021], [-73.942611, 40.66061], [-73.947676, 40.660297], [-73.947264, 40.656437], [-73.946509, 40.640104], [-73.937762, 40.639259], [-73.934305, 40.633886], [-73.922207, 40.641065]]], &quot;type&quot;: &quot;Polygon&quot;}, &quot;id&quot;: &quot;97&quot;, &quot;properties&quot;: {&quot;ALAND10&quot;: 5557080, &quot;AWATER10&quot;: 0, &quot;CLASSFP10&quot;: &quot;B5&quot;, &quot;FUNCSTAT10&quot;: &quot;S&quot;, &quot;GEOID10&quot;: &quot;3611203&quot;, &quot;INTPTLAT10&quot;: &quot;+40.6495909&quot;, &quot;INTPTLON10&quot;: &quot;-073.9343709&quot;, &quot;MTFCC10&quot;: &quot;G6350&quot;, &quot;PARTFLG10&quot;: &quot;N&quot;, &quot;STATEFP10&quot;: &quot;36&quot;, &quot;ZCTA5CE10&quot;: 11203, &quot;injuries&quot;: 255, &quot;zip_code&quot;: 11203}, &quot;type&quot;: &quot;Feature&quot;}, {&quot;bbox&quot;: [-74.024576, 40.64341, -73.991673, 40.671153], &quot;geometry&quot;: {&quot;coordinates&quot;: [[[-73.993985, 40.647101], [-74.002144, 40.652956], [-73.991673, 40.663028], [-73.998272, 40.671153], [-73.999089, 40.668876], [-74.01765, 40.65958], [-74.024576, 40.653554], [-74.024406, 40.650922], [-74.019256, 40.646853], [-74.01343, 40.652453], [-74.006241, 40.649022], [-74.002111, 40.646099], [-73.997734, 40.64341], [-73.993985, 40.647101]]], &quot;type&quot;: &quot;Polygon&quot;}, &quot;id&quot;: &quot;98&quot;, &quot;properties&quot;: {&quot;ALAND10&quot;: 3323376, &quot;AWATER10&quot;: 1286, &quot;CLASSFP10&quot;: &quot;B5&quot;, &quot;FUNCSTAT10&quot;: &quot;S&quot;, &quot;GEOID10&quot;: &quot;3611232&quot;, &quot;INTPTLAT10&quot;: &quot;+40.6565275&quot;, &quot;INTPTLON10&quot;: &quot;-074.0073305&quot;, &quot;MTFCC10&quot;: &quot;G6350&quot;, &quot;PARTFLG10&quot;: &quot;N&quot;, &quot;STATEFP10&quot;: &quot;36&quot;, &quot;ZCTA5CE10&quot;: 11232, &quot;injuries&quot;: 113, &quot;zip_code&quot;: 11232}, &quot;type&quot;: &quot;Feature&quot;}, {&quot;bbox&quot;: [-73.96238, 40.584607, -73.917656, 40.616046], &quot;geometry&quot;: {&quot;coordinates&quot;: [[[-73.958998, 40.591784], [-73.931891, 40.594753], [-73.930734, 40.589631], [-73.926104, 40.584825], [-73.920338, 40.584607], [-73.917656, 40.586139], [-73.929569, 40.59682], [-73.933551, 40.602687], [-73.929868, 40.605071], [-73.933513, 40.608343], [-73.937537, 40.608557], [-73.944827, 40.616046], [-73.952577, 40.611037], [-73.96238, 40.609986], [-73.960732, 40.60547], [-73.958998, 40.591784]]], &quot;type&quot;: &quot;Polygon&quot;}, &quot;id&quot;: &quot;99&quot;, &quot;properties&quot;: {&quot;ALAND10&quot;: 5611289, &quot;AWATER10&quot;: 127424, &quot;CLASSFP10&quot;: &quot;B5&quot;, &quot;FUNCSTAT10&quot;: &quot;S&quot;, &quot;GEOID10&quot;: &quot;3611229&quot;, &quot;INTPTLAT10&quot;: &quot;+40.6012928&quot;, &quot;INTPTLON10&quot;: &quot;-073.9444926&quot;, &quot;MTFCC10&quot;: &quot;G6350&quot;, &quot;PARTFLG10&quot;: &quot;N&quot;, &quot;STATEFP10&quot;: &quot;36&quot;, &quot;ZCTA5CE10&quot;: 11229, &quot;injuries&quot;: 132, &quot;zip_code&quot;: 11229}, &quot;type&quot;: &quot;Feature&quot;}, {&quot;bbox&quot;: [-73.962795, 40.7183, -73.928137, 40.739255], &quot;geometry&quot;: {&quot;coordinates&quot;: [[[-73.955679, 40.723943], [-73.951646, 40.723486], [-73.950065, 40.7183], [-73.937315, 40.718934], [-73.935589, 40.722991], [-73.928137, 40.725063], [-73.929223, 40.727849], [-73.937339, 40.72992], [-73.942361, 40.735564], [-73.952627, 40.739255], [-73.962795, 40.737674], [-73.961611, 40.724951], [-73.955679, 40.723943]]], &quot;type&quot;: &quot;Polygon&quot;}, &quot;id&quot;: &quot;100&quot;, &quot;properties&quot;: {&quot;ALAND10&quot;: 3947645, &quot;AWATER10&quot;: 211281, &quot;CLASSFP10&quot;: &quot;B5&quot;, &quot;FUNCSTAT10&quot;: &quot;S&quot;, &quot;GEOID10&quot;: &quot;3611222&quot;, &quot;INTPTLAT10&quot;: &quot;+40.7277898&quot;, &quot;INTPTLON10&quot;: &quot;-073.9476050&quot;, &quot;MTFCC10&quot;: &quot;G6350&quot;, &quot;PARTFLG10&quot;: &quot;N&quot;, &quot;STATEFP10&quot;: &quot;36&quot;, &quot;ZCTA5CE10&quot;: 11222, &quot;injuries&quot;: 129, &quot;zip_code&quot;: 11222}, &quot;type&quot;: &quot;Feature&quot;}, {&quot;bbox&quot;: [-73.931607, 40.65418, -73.899041, 40.675507], &quot;geometry&quot;: {&quot;coordinates&quot;: [[[-73.931607, 40.663557], [-73.921776, 40.654424], [-73.910679, 40.65418], [-73.903173, 40.655301], [-73.899041, 40.657372], [-73.903475, 40.675507], [-73.924244, 40.666445], [-73.931607, 40.663557]]], &quot;type&quot;: &quot;Polygon&quot;}, &quot;id&quot;: &quot;101&quot;, &quot;properties&quot;: {&quot;ALAND10&quot;: 3983224, &quot;AWATER10&quot;: 0, &quot;CLASSFP10&quot;: &quot;B5&quot;, &quot;FUNCSTAT10&quot;: &quot;S&quot;, &quot;GEOID10&quot;: &quot;3611212&quot;, &quot;INTPTLAT10&quot;: &quot;+40.6629365&quot;, &quot;INTPTLON10&quot;: &quot;-073.9130288&quot;, &quot;MTFCC10&quot;: &quot;G6350&quot;, &quot;PARTFLG10&quot;: &quot;N&quot;, &quot;STATEFP10&quot;: &quot;36&quot;, &quot;ZCTA5CE10&quot;: 11212, &quot;injuries&quot;: 195, &quot;zip_code&quot;: 11212}, &quot;type&quot;: &quot;Feature&quot;}, {&quot;bbox&quot;: [-73.916046, 40.649327, -73.876107, 40.693405], &quot;geometry&quot;: {&quot;coordinates&quot;: [[[-73.899041, 40.657372], [-73.898003, 40.653801], [-73.893388, 40.650935], [-73.889994, 40.651138], [-73.882213, 40.654498], [-73.878436, 40.649327], [-73.876197, 40.650697], [-73.879733, 40.655563], [-73.876107, 40.657125], [-73.882782, 40.668026], [-73.886505, 40.683349], [-73.889575, 40.68418], [-73.896497, 40.682447], [-73.900988, 40.687616], [-73.902128, 40.691843], [-73.908853, 40.693405], [-73.916046, 40.686072], [-73.903466, 40.678897], [-73.903475, 40.675507], [-73.899041, 40.657372]]], &quot;type&quot;: &quot;Polygon&quot;}, &quot;id&quot;: &quot;102&quot;, &quot;properties&quot;: {&quot;ALAND10&quot;: 6917454, &quot;AWATER10&quot;: 0, &quot;CLASSFP10&quot;: &quot;B5&quot;, &quot;FUNCSTAT10&quot;: &quot;S&quot;, &quot;GEOID10&quot;: &quot;3611207&quot;, &quot;INTPTLAT10&quot;: &quot;+40.6707467&quot;, &quot;INTPTLON10&quot;: &quot;-073.8942094&quot;, &quot;MTFCC10&quot;: &quot;G6350&quot;, &quot;PARTFLG10&quot;: &quot;N&quot;, &quot;STATEFP10&quot;: &quot;36&quot;, &quot;ZCTA5CE10&quot;: 11207, &quot;injuries&quot;: 428, &quot;zip_code&quot;: 11207}, &quot;type&quot;: &quot;Feature&quot;}, {&quot;bbox&quot;: [-73.934802, 40.691843, -73.902128, 40.716245], &quot;geometry&quot;: {&quot;coordinates&quot;: [[[-73.923734, 40.716245], [-73.934802, 40.713373], [-73.931155, 40.703773], [-73.927588, 40.701762], [-73.917818, 40.696208], [-73.916368, 40.69768], [-73.908853, 40.693405], [-73.902128, 40.691843], [-73.904425, 40.695671], [-73.911655, 40.699905], [-73.912058, 40.703446], [-73.921473, 40.709004], [-73.92392, 40.714074], [-73.923734, 40.716245]]], &quot;type&quot;: &quot;Polygon&quot;}, &quot;id&quot;: &quot;103&quot;, &quot;properties&quot;: {&quot;ALAND10&quot;: 2537578, &quot;AWATER10&quot;: 45736, &quot;CLASSFP10&quot;: &quot;B5&quot;, &quot;FUNCSTAT10&quot;: &quot;S&quot;, &quot;GEOID10&quot;: &quot;3611237&quot;, &quot;INTPTLAT10&quot;: &quot;+40.7041600&quot;, &quot;INTPTLON10&quot;: &quot;-073.9211389&quot;, &quot;MTFCC10&quot;: &quot;G6350&quot;, &quot;PARTFLG10&quot;: &quot;N&quot;, &quot;STATEFP10&quot;: &quot;36&quot;, &quot;ZCTA5CE10&quot;: 11237, &quot;injuries&quot;: 108, &quot;zip_code&quot;: 11237}, &quot;type&quot;: &quot;Feature&quot;}, {&quot;bbox&quot;: [-74.025729, 40.602014, -73.997285, 40.631033], &quot;geometry&quot;: {&quot;coordinates&quot;: [[[-74.016048, 40.631033], [-74.018751, 40.624318], [-74.025729, 40.616049], [-74.022789, 40.614596], [-74.024694, 40.60996], [-74.021502, 40.607828], [-74.015499, 40.606842], [-74.01945, 40.602828], [-74.014775, 40.602014], [-74.01237, 40.605214], [-74.000824, 40.616314], [-73.997285, 40.619712], [-74.012142, 40.628684], [-74.016048, 40.631033]]], &quot;type&quot;: &quot;Polygon&quot;}, &quot;id&quot;: &quot;104&quot;, &quot;properties&quot;: {&quot;ALAND10&quot;: 3807131, &quot;AWATER10&quot;: 0, &quot;CLASSFP10&quot;: &quot;B5&quot;, &quot;FUNCSTAT10&quot;: &quot;S&quot;, &quot;GEOID10&quot;: &quot;3611228&quot;, &quot;INTPTLAT10&quot;: &quot;+40.6166949&quot;, &quot;INTPTLON10&quot;: &quot;-074.0130467&quot;, &quot;MTFCC10&quot;: &quot;G6350&quot;, &quot;PARTFLG10&quot;: &quot;N&quot;, &quot;STATEFP10&quot;: &quot;36&quot;, &quot;ZCTA5CE10&quot;: 11228, &quot;injuries&quot;: 74, &quot;zip_code&quot;: 11228}, &quot;type&quot;: &quot;Feature&quot;}, {&quot;bbox&quot;: [-74.013046, 40.714023, -73.994035, 40.727557], &quot;geometry&quot;: {&quot;coordinates&quot;: [[[-74.012894, 40.71719], [-74.00794, 40.714927], [-74.004533, 40.71628], [-74.002115, 40.715159], [-74.000455, 40.714365], [-73.997532, 40.714023], [-73.994035, 40.720323], [-74.004575, 40.724173], [-74.00373, 40.72625], [-74.009623, 40.727557], [-74.011978, 40.724333], [-74.013046, 40.719086], [-74.012894, 40.71719]]], &quot;type&quot;: &quot;Polygon&quot;}, &quot;id&quot;: &quot;105&quot;, &quot;properties&quot;: {&quot;ALAND10&quot;: 1430444, &quot;AWATER10&quot;: 0, &quot;CLASSFP10&quot;: &quot;B5&quot;, &quot;FUNCSTAT10&quot;: &quot;S&quot;, &quot;GEOID10&quot;: &quot;3610013&quot;, &quot;INTPTLAT10&quot;: &quot;+40.7201070&quot;, &quot;INTPTLON10&quot;: &quot;-074.0049277&quot;, &quot;MTFCC10&quot;: &quot;G6350&quot;, &quot;PARTFLG10&quot;: &quot;N&quot;, &quot;STATEFP10&quot;: &quot;36&quot;, &quot;ZCTA5CE10&quot;: 10013, &quot;injuries&quot;: 57, &quot;zip_code&quot;: 10013}, &quot;type&quot;: &quot;Feature&quot;}, {&quot;bbox&quot;: [-73.955778, 40.782531, -73.930891, 40.800665], &quot;geometry&quot;: {&quot;coordinates&quot;: [[[-73.930891, 40.794041], [-73.946462, 40.800665], [-73.94922, 40.79691], [-73.955778, 40.787914], [-73.944223, 40.783933], [-73.943154, 40.782531], [-73.939015, 40.785752], [-73.935496, 40.791115], [-73.930891, 40.794041]]], &quot;type&quot;: &quot;Polygon&quot;}, &quot;id&quot;: &quot;106&quot;, &quot;properties&quot;: {&quot;ALAND10&quot;: 2136945, &quot;AWATER10&quot;: 0, &quot;CLASSFP10&quot;: &quot;B5&quot;, &quot;FUNCSTAT10&quot;: &quot;S&quot;, &quot;GEOID10&quot;: &quot;3610029&quot;, &quot;INTPTLAT10&quot;: &quot;+40.7916981&quot;, &quot;INTPTLON10&quot;: &quot;-073.9438757&quot;, &quot;MTFCC10&quot;: &quot;G6350&quot;, &quot;PARTFLG10&quot;: &quot;N&quot;, &quot;STATEFP10&quot;: &quot;36&quot;, &quot;ZCTA5CE10&quot;: 10029, &quot;injuries&quot;: 117, &quot;zip_code&quot;: 10029}, &quot;type&quot;: &quot;Feature&quot;}, {&quot;bbox&quot;: [-73.968441, 40.758133, -73.947973, 40.775045], &quot;geometry&quot;: {&quot;coordinates&quot;: [[[[-73.956126, 40.760401], [-73.959263, 40.759284], [-73.958599, 40.758133], [-73.956126, 40.760401]]], [[[-73.951858, 40.769441], [-73.961475, 40.774324], [-73.965148, 40.775045], [-73.968441, 40.770517], [-73.95516, 40.764918], [-73.952085, 40.764474], [-73.947973, 40.769512], [-73.94827, 40.769505], [-73.949266, 40.768355], [-73.951858, 40.769441]]]], &quot;type&quot;: &quot;MultiPolygon&quot;}, &quot;id&quot;: &quot;107&quot;, &quot;properties&quot;: {&quot;ALAND10&quot;: 1002597, &quot;AWATER10&quot;: 0, &quot;CLASSFP10&quot;: &quot;B5&quot;, &quot;FUNCSTAT10&quot;: &quot;S&quot;, &quot;GEOID10&quot;: &quot;3610021&quot;, &quot;INTPTLAT10&quot;: &quot;+40.7691586&quot;, &quot;INTPTLON10&quot;: &quot;-073.9586301&quot;, &quot;MTFCC10&quot;: &quot;G6350&quot;, &quot;PARTFLG10&quot;: &quot;N&quot;, &quot;STATEFP10&quot;: &quot;36&quot;, &quot;ZCTA5CE10&quot;: 10021, &quot;injuries&quot;: 23, &quot;zip_code&quot;: 10021}, &quot;type&quot;: &quot;Feature&quot;}, {&quot;bbox&quot;: [-74.011978, 40.724333, -73.999653, 40.742572], &quot;geometry&quot;: {&quot;coordinates&quot;: [[[-74.000954, 40.731706], [-73.999653, 40.73407], [-74.00273, 40.740291], [-74.009331, 40.742572], [-74.010394, 40.739136], [-74.011978, 40.724333], [-74.009623, 40.727557], [-74.00373, 40.72625], [-74.000954, 40.731706]]], &quot;type&quot;: &quot;Polygon&quot;}, &quot;id&quot;: &quot;108&quot;, &quot;properties&quot;: {&quot;ALAND10&quot;: 1474952, &quot;AWATER10&quot;: 0, &quot;CLASSFP10&quot;: &quot;B5&quot;, &quot;FUNCSTAT10&quot;: &quot;S&quot;, &quot;GEOID10&quot;: &quot;3610014&quot;, &quot;INTPTLAT10&quot;: &quot;+40.7336977&quot;, &quot;INTPTLON10&quot;: &quot;-074.0070331&quot;, &quot;MTFCC10&quot;: &quot;G6350&quot;, &quot;PARTFLG10&quot;: &quot;N&quot;, &quot;STATEFP10&quot;: &quot;36&quot;, &quot;ZCTA5CE10&quot;: 10014, &quot;injuries&quot;: 26, &quot;zip_code&quot;: 10014}, &quot;type&quot;: &quot;Feature&quot;}, {&quot;bbox&quot;: [-74.015905, 40.706658, -74.009988, 40.71369], &quot;geometry&quot;: {&quot;coordinates&quot;: [[[-74.015905, 40.706658], [-74.012508, 40.706767], [-74.011248, 40.708304], [-74.010846, 40.708797], [-74.010542, 40.709154], [-74.009988, 40.709806], [-74.013754, 40.71369], [-74.015905, 40.706658]]], &quot;type&quot;: &quot;Polygon&quot;}, &quot;id&quot;: &quot;109&quot;, &quot;properties&quot;: {&quot;ALAND10&quot;: 237784, &quot;AWATER10&quot;: 0, &quot;CLASSFP10&quot;: &quot;B5&quot;, &quot;FUNCSTAT10&quot;: &quot;S&quot;, &quot;GEOID10&quot;: &quot;3610006&quot;, &quot;INTPTLAT10&quot;: &quot;+40.7096144&quot;, &quot;INTPTLON10&quot;: &quot;-074.0129537&quot;, &quot;MTFCC10&quot;: &quot;G6350&quot;, &quot;PARTFLG10&quot;: &quot;N&quot;, &quot;STATEFP10&quot;: &quot;36&quot;, &quot;ZCTA5CE10&quot;: 10006, &quot;injuries&quot;: 2, &quot;zip_code&quot;: 10006}, &quot;type&quot;: &quot;Feature&quot;}, {&quot;bbox&quot;: [-73.981341, 40.757284, -73.977201, 40.759899], &quot;geometry&quot;: {&quot;coordinates&quot;: [[[[-73.980426, 40.759899], [-73.97845, 40.759065], [-73.977989, 40.759689], [-73.980426, 40.759899]]], [[[-73.980886, 40.75927], [-73.981341, 40.758645], [-73.978116, 40.757284], [-73.977655, 40.757912], [-73.977201, 40.758538], [-73.97845, 40.759065], [-73.980886, 40.75927]]]], &quot;type&quot;: &quot;MultiPolygon&quot;}, &quot;id&quot;: &quot;110&quot;, &quot;properties&quot;: {&quot;ALAND10&quot;: 71560, &quot;AWATER10&quot;: 0, &quot;CLASSFP10&quot;: &quot;B5&quot;, &quot;FUNCSTAT10&quot;: &quot;S&quot;, &quot;GEOID10&quot;: &quot;3610020&quot;, &quot;INTPTLAT10&quot;: &quot;+40.7582363&quot;, &quot;INTPTLON10&quot;: &quot;-073.9788330&quot;, &quot;MTFCC10&quot;: &quot;G6350&quot;, &quot;PARTFLG10&quot;: &quot;N&quot;, &quot;STATEFP10&quot;: &quot;36&quot;, &quot;ZCTA5CE10&quot;: 10020, &quot;injuries&quot;: 4, &quot;zip_code&quot;: 10020}, &quot;type&quot;: &quot;Feature&quot;}, {&quot;bbox&quot;: [-74.00542, 40.714082, -74.002115, 40.71628], &quot;geometry&quot;: {&quot;coordinates&quot;: [[[-74.004533, 40.71628], [-74.00542, 40.715236], [-74.003115, 40.714082], [-74.002115, 40.715159], [-74.004533, 40.71628]]], &quot;type&quot;: &quot;Polygon&quot;}, &quot;id&quot;: &quot;111&quot;, &quot;properties&quot;: {&quot;ALAND10&quot;: 33630, &quot;AWATER10&quot;: 0, &quot;CLASSFP10&quot;: &quot;B5&quot;, &quot;FUNCSTAT10&quot;: &quot;S&quot;, &quot;GEOID10&quot;: &quot;3610278&quot;, &quot;INTPTLAT10&quot;: &quot;+40.7151821&quot;, &quot;INTPTLON10&quot;: &quot;-074.0037784&quot;, &quot;MTFCC10&quot;: &quot;G6350&quot;, &quot;PARTFLG10&quot;: &quot;N&quot;, &quot;STATEFP10&quot;: &quot;36&quot;, &quot;ZCTA5CE10&quot;: 10278, &quot;injuries&quot;: 0, &quot;zip_code&quot;: 10278}, &quot;type&quot;: &quot;Feature&quot;}, {&quot;bbox&quot;: [-74.019169, 40.700273, -74.013754, 40.71369], &quot;geometry&quot;: {&quot;coordinates&quot;: [[[-74.017368, 40.713378], [-74.019169, 40.704774], [-74.015531, 40.700273], [-74.015905, 40.706658], [-74.013754, 40.71369], [-74.017368, 40.713378]]], &quot;type&quot;: &quot;Polygon&quot;}, &quot;id&quot;: &quot;112&quot;, &quot;properties&quot;: {&quot;ALAND10&quot;: 358650, &quot;AWATER10&quot;: 0, &quot;CLASSFP10&quot;: &quot;B5&quot;, &quot;FUNCSTAT10&quot;: &quot;S&quot;, &quot;GEOID10&quot;: &quot;3610280&quot;, &quot;INTPTLAT10&quot;: &quot;+40.7087777&quot;, &quot;INTPTLON10&quot;: &quot;-074.0168084&quot;, &quot;MTFCC10&quot;: &quot;G6350&quot;, &quot;PARTFLG10&quot;: &quot;N&quot;, &quot;STATEFP10&quot;: &quot;36&quot;, &quot;ZCTA5CE10&quot;: 10280, &quot;injuries&quot;: 0, &quot;zip_code&quot;: 10280}, &quot;type&quot;: &quot;Feature&quot;}, {&quot;bbox&quot;: [-73.975352, 40.754619, -73.973276, 40.755928], &quot;geometry&quot;: {&quot;coordinates&quot;: [[[-73.973735, 40.754619], [-73.973276, 40.755243], [-73.974897, 40.755928], [-73.975352, 40.755303], [-73.973735, 40.754619]]], &quot;type&quot;: &quot;Polygon&quot;}, &quot;id&quot;: &quot;113&quot;, &quot;properties&quot;: {&quot;ALAND10&quot;: 12415, &quot;AWATER10&quot;: 0, &quot;CLASSFP10&quot;: &quot;B5&quot;, &quot;FUNCSTAT10&quot;: &quot;S&quot;, &quot;GEOID10&quot;: &quot;3610172&quot;, &quot;INTPTLAT10&quot;: &quot;+40.7552733&quot;, &quot;INTPTLON10&quot;: &quot;-073.9743148&quot;, &quot;MTFCC10&quot;: &quot;G6350&quot;, &quot;PARTFLG10&quot;: &quot;N&quot;, &quot;STATEFP10&quot;: &quot;36&quot;, &quot;ZCTA5CE10&quot;: 10172, &quot;injuries&quot;: 0, &quot;zip_code&quot;: 10172}, &quot;type&quot;: &quot;Feature&quot;}, {&quot;bbox&quot;: [-73.979513, 40.759787, -73.975831, 40.761771], &quot;geometry&quot;: {&quot;coordinates&quot;: [[[-73.975831, 40.760418], [-73.979057, 40.761771], [-73.979513, 40.761148], [-73.976289, 40.759787], [-73.975831, 40.760418]]], &quot;type&quot;: &quot;Polygon&quot;}, &quot;id&quot;: &quot;114&quot;, &quot;properties&quot;: {&quot;ALAND10&quot;: 24776, &quot;AWATER10&quot;: 0, &quot;CLASSFP10&quot;: &quot;B5&quot;, &quot;FUNCSTAT10&quot;: &quot;S&quot;, &quot;GEOID10&quot;: &quot;3610103&quot;, &quot;INTPTLAT10&quot;: &quot;+40.7607797&quot;, &quot;INTPTLON10&quot;: &quot;-073.9776696&quot;, &quot;MTFCC10&quot;: &quot;G6350&quot;, &quot;PARTFLG10&quot;: &quot;N&quot;, &quot;STATEFP10&quot;: &quot;36&quot;, &quot;ZCTA5CE10&quot;: 10103, &quot;injuries&quot;: 0, &quot;zip_code&quot;: 10103}, &quot;type&quot;: &quot;Feature&quot;}, {&quot;bbox&quot;: [-73.753708, 40.701565, -73.725938, 40.720483], &quot;geometry&quot;: {&quot;coordinates&quot;: [[[-73.748643, 40.701587], [-73.743307, 40.70296], [-73.727707, 40.701565], [-73.725938, 40.706029], [-73.729176, 40.719167], [-73.729661, 40.720483], [-73.735382, 40.717706], [-73.753708, 40.713325], [-73.753356, 40.710101], [-73.748643, 40.701587]]], &quot;type&quot;: &quot;Polygon&quot;}, &quot;id&quot;: &quot;115&quot;, &quot;properties&quot;: {&quot;ALAND10&quot;: 3369771, &quot;AWATER10&quot;: 0, &quot;CLASSFP10&quot;: &quot;B5&quot;, &quot;FUNCSTAT10&quot;: &quot;S&quot;, &quot;GEOID10&quot;: &quot;3611429&quot;, &quot;INTPTLAT10&quot;: &quot;+40.7097703&quot;, &quot;INTPTLON10&quot;: &quot;-073.7386654&quot;, &quot;MTFCC10&quot;: &quot;G6350&quot;, &quot;PARTFLG10&quot;: &quot;N&quot;, &quot;STATEFP10&quot;: &quot;36&quot;, &quot;ZCTA5CE10&quot;: 11429, &quot;injuries&quot;: 86, &quot;zip_code&quot;: 11429}, &quot;type&quot;: &quot;Feature&quot;}, {&quot;bbox&quot;: [-73.759236, 40.738712, -73.713034, 40.772469], &quot;geometry&quot;: {&quot;coordinates&quot;: [[[-73.713034, 40.759566], [-73.73376, 40.772469], [-73.739202, 40.766699], [-73.748729, 40.764029], [-73.753274, 40.765551], [-73.7537, 40.76529], [-73.759236, 40.764395], [-73.758001, 40.76038], [-73.752303, 40.759455], [-73.748096, 40.7559], [-73.743967, 40.74763], [-73.744852, 40.743319], [-73.753473, 40.742405], [-73.749968, 40.739746], [-73.744056, 40.740735], [-73.740021, 40.738712], [-73.732335, 40.743576], [-73.726992, 40.751121], [-73.722917, 40.754098], [-73.721178, 40.756871], [-73.713034, 40.759566]]], &quot;type&quot;: &quot;Polygon&quot;}, &quot;id&quot;: &quot;116&quot;, &quot;properties&quot;: {&quot;ALAND10&quot;: 6518633, &quot;AWATER10&quot;: 108440, &quot;CLASSFP10&quot;: &quot;B5&quot;, &quot;FUNCSTAT10&quot;: &quot;S&quot;, &quot;GEOID10&quot;: &quot;3611362&quot;, &quot;INTPTLAT10&quot;: &quot;+40.7565736&quot;, &quot;INTPTLON10&quot;: &quot;-073.7378447&quot;, &quot;MTFCC10&quot;: &quot;G6350&quot;, &quot;PARTFLG10&quot;: &quot;N&quot;, &quot;STATEFP10&quot;: &quot;36&quot;, &quot;ZCTA5CE10&quot;: 11362, &quot;injuries&quot;: 61, &quot;zip_code&quot;: 11362}, &quot;type&quot;: &quot;Feature&quot;}, {&quot;bbox&quot;: [-73.872219, 40.734271, -73.833117, 40.765357], &quot;geometry&quot;: {&quot;coordinates&quot;: [[[-73.860878, 40.763206], [-73.854634, 40.75813], [-73.872219, 40.756943], [-73.869425, 40.749157], [-73.867563, 40.740942], [-73.864618, 40.734271], [-73.853392, 40.73694], [-73.845319, 40.740048], [-73.835902, 40.743327], [-73.833117, 40.748047], [-73.838002, 40.754438], [-73.837326, 40.76268], [-73.839167, 40.765357], [-73.842604, 40.764672], [-73.850395, 40.759594], [-73.855135, 40.760414], [-73.860274, 40.763444], [-73.860878, 40.763206]]], &quot;type&quot;: &quot;Polygon&quot;}, &quot;id&quot;: &quot;117&quot;, &quot;properties&quot;: {&quot;ALAND10&quot;: 6816707, &quot;AWATER10&quot;: 94491, &quot;CLASSFP10&quot;: &quot;B5&quot;, &quot;FUNCSTAT10&quot;: &quot;S&quot;, &quot;GEOID10&quot;: &quot;3611368&quot;, &quot;INTPTLAT10&quot;: &quot;+40.7494072&quot;, &quot;INTPTLON10&quot;: &quot;-073.8527798&quot;, &quot;MTFCC10&quot;: &quot;G6350&quot;, &quot;PARTFLG10&quot;: &quot;N&quot;, &quot;STATEFP10&quot;: &quot;36&quot;, &quot;ZCTA5CE10&quot;: 11368, &quot;injuries&quot;: 175, &quot;zip_code&quot;: 11368}, &quot;type&quot;: &quot;Feature&quot;}, {&quot;bbox&quot;: [-73.775465, 40.684551, -73.745283, 40.710101], &quot;geometry&quot;: {&quot;coordinates&quot;: [[[-73.753356, 40.710101], [-73.767251, 40.706313], [-73.775465, 40.705319], [-73.769895, 40.696359], [-73.7662, 40.692183], [-73.762008, 40.684551], [-73.748123, 40.690131], [-73.745283, 40.694115], [-73.748643, 40.701587], [-73.753356, 40.710101]]], &quot;type&quot;: &quot;Polygon&quot;}, &quot;id&quot;: &quot;118&quot;, &quot;properties&quot;: {&quot;ALAND10&quot;: 4264330, &quot;AWATER10&quot;: 0, &quot;CLASSFP10&quot;: &quot;B5&quot;, &quot;FUNCSTAT10&quot;: &quot;S&quot;, &quot;GEOID10&quot;: &quot;3611412&quot;, &quot;INTPTLAT10&quot;: &quot;+40.6980953&quot;, &quot;INTPTLON10&quot;: &quot;-073.7589862&quot;, &quot;MTFCC10&quot;: &quot;G6350&quot;, &quot;PARTFLG10&quot;: &quot;N&quot;, &quot;STATEFP10&quot;: &quot;36&quot;, &quot;ZCTA5CE10&quot;: 11412, &quot;injuries&quot;: 94, &quot;zip_code&quot;: 11412}, &quot;type&quot;: &quot;Feature&quot;}, {&quot;bbox&quot;: [-73.863171, 40.644134, -73.82641, 40.675021], &quot;geometry&quot;: {&quot;coordinates&quot;: [[[-73.861318, 40.675021], [-73.857633, 40.671656], [-73.85566, 40.663802], [-73.857482, 40.659977], [-73.863171, 40.658277], [-73.856652, 40.650129], [-73.852344, 40.650419], [-73.851833, 40.64586], [-73.849507, 40.644134], [-73.835923, 40.6455], [-73.835403, 40.648332], [-73.828845, 40.649457], [-73.82641, 40.648261], [-73.828493, 40.657253], [-73.832644, 40.665184], [-73.832906, 40.666651], [-73.861318, 40.675021]]], &quot;type&quot;: &quot;Polygon&quot;}, &quot;id&quot;: &quot;119&quot;, &quot;properties&quot;: {&quot;ALAND10&quot;: 5956106, &quot;AWATER10&quot;: 224136, &quot;CLASSFP10&quot;: &quot;B5&quot;, &quot;FUNCSTAT10&quot;: &quot;S&quot;, &quot;GEOID10&quot;: &quot;3611414&quot;, &quot;INTPTLAT10&quot;: &quot;+40.6576043&quot;, &quot;INTPTLON10&quot;: &quot;-073.8448040&quot;, &quot;MTFCC10&quot;: &quot;G6350&quot;, &quot;PARTFLG10&quot;: &quot;N&quot;, &quot;STATEFP10&quot;: &quot;36&quot;, &quot;ZCTA5CE10&quot;: 11414, &quot;injuries&quot;: 51, &quot;zip_code&quot;: 11414}, &quot;type&quot;: &quot;Feature&quot;}, {&quot;bbox&quot;: [-73.767353, 40.64482, -73.73222, 40.690131], &quot;geometry&quot;: {&quot;coordinates&quot;: [[[-73.73222, 40.685121], [-73.748123, 40.690131], [-73.762008, 40.684551], [-73.758047, 40.679221], [-73.75797, 40.676097], [-73.764047, 40.672847], [-73.763532, 40.666287], [-73.767353, 40.65616], [-73.753214, 40.648278], [-73.74656, 40.64482], [-73.74616, 40.650764], [-73.749072, 40.655141], [-73.744956, 40.65817], [-73.73858, 40.666376], [-73.741935, 40.666845], [-73.734002, 40.680426], [-73.73222, 40.685121]]], &quot;type&quot;: &quot;Polygon&quot;}, &quot;id&quot;: &quot;120&quot;, &quot;properties&quot;: {&quot;ALAND10&quot;: 8028308, &quot;AWATER10&quot;: 85692, &quot;CLASSFP10&quot;: &quot;B5&quot;, &quot;FUNCSTAT10&quot;: &quot;S&quot;, &quot;GEOID10&quot;: &quot;3611413&quot;, &quot;INTPTLAT10&quot;: &quot;+40.6716586&quot;, &quot;INTPTLON10&quot;: &quot;-073.7525684&quot;, &quot;MTFCC10&quot;: &quot;G6350&quot;, &quot;PARTFLG10&quot;: &quot;N&quot;, &quot;STATEFP10&quot;: &quot;36&quot;, &quot;ZCTA5CE10&quot;: 11413, &quot;injuries&quot;: 153, &quot;zip_code&quot;: 11413}, &quot;type&quot;: &quot;Feature&quot;}, {&quot;bbox&quot;: [-73.866295, 40.679165, -73.835111, 40.691364], &quot;geometry&quot;: {&quot;coordinates&quot;: [[[-73.835111, 40.685088], [-73.837544, 40.691364], [-73.844307, 40.689442], [-73.866295, 40.683189], [-73.862346, 40.679165], [-73.854393, 40.67966], [-73.835111, 40.685088]]], &quot;type&quot;: &quot;Polygon&quot;}, &quot;id&quot;: &quot;121&quot;, &quot;properties&quot;: {&quot;ALAND10&quot;: 1724073, &quot;AWATER10&quot;: 0, &quot;CLASSFP10&quot;: &quot;B5&quot;, &quot;FUNCSTAT10&quot;: &quot;S&quot;, &quot;GEOID10&quot;: &quot;3611416&quot;, &quot;INTPTLAT10&quot;: &quot;+40.6846542&quot;, &quot;INTPTLON10&quot;: &quot;-073.8495484&quot;, &quot;MTFCC10&quot;: &quot;G6350&quot;, &quot;PARTFLG10&quot;: &quot;N&quot;, &quot;STATEFP10&quot;: &quot;36&quot;, &quot;ZCTA5CE10&quot;: 11416, &quot;injuries&quot;: 35, &quot;zip_code&quot;: 11416}, &quot;type&quot;: &quot;Feature&quot;}, {&quot;bbox&quot;: [-74.212995, 40.558102, -74.109977, 40.635172], &quot;geometry&quot;: {&quot;coordinates&quot;: [[[-74.169611, 40.566443], [-74.169835, 40.570879], [-74.152528, 40.580617], [-74.146322, 40.58607], [-74.145834, 40.588564], [-74.138667, 40.58902], [-74.1304, 40.582759], [-74.126285, 40.593455], [-74.122643, 40.599419], [-74.116641, 40.599062], [-74.114871, 40.602137], [-74.110658, 40.605932], [-74.109977, 40.610456], [-74.117935, 40.617845], [-74.119669, 40.621745], [-74.122044, 40.624184], [-74.13061, 40.623495], [-74.136662, 40.621514], [-74.141679, 40.621627], [-74.141617, 40.616522], [-74.14732, 40.617075], [-74.147932, 40.621336], [-74.14612, 40.62493], [-74.151541, 40.621202], [-74.162461, 40.622179], [-74.174232, 40.619546], [-74.176328, 40.623776], [-74.183777, 40.628312], [-74.189, 40.629526], [-74.195988, 40.635172], [-74.201155, 40.629351], [-74.201672, 40.623605], [-74.200383, 40.616431], [-74.202358, 40.613155], [-74.20263, 40.605861], [-74.19704, 40.599983], [-74.197393, 40.596878], [-74.204059, 40.589633], [-74.203642, 40.585317], [-74.207702, 40.573368], [-74.21134, 40.565118], [-74.212995, 40.558325], [-74.206392, 40.558102], [-74.199379, 40.560408], [-74.19355, 40.566302], [-74.197961, 40.578411], [-74.191785, 40.576176], [-74.186875, 40.577056], [-74.183766, 40.573613], [-74.178876, 40.571768], [-74.174698, 40.566865], [-74.169611, 40.566443]], [[-74.179175, 40.607867], [-74.176551, 40.605863], [-74.180413, 40.602927], [-74.182464, 40.60421], [-74.179175, 40.607867]]], &quot;type&quot;: &quot;Polygon&quot;}, &quot;id&quot;: &quot;122&quot;, &quot;properties&quot;: {&quot;ALAND10&quot;: 35520695, &quot;AWATER10&quot;: 1668621, &quot;CLASSFP10&quot;: &quot;B5&quot;, &quot;FUNCSTAT10&quot;: &quot;S&quot;, &quot;GEOID10&quot;: &quot;3610314&quot;, &quot;INTPTLAT10&quot;: &quot;+40.5992625&quot;, &quot;INTPTLON10&quot;: &quot;-074.1657480&quot;, &quot;MTFCC10&quot;: &quot;G6350&quot;, &quot;PARTFLG10&quot;: &quot;N&quot;, &quot;STATEFP10&quot;: &quot;36&quot;, &quot;ZCTA5CE10&quot;: 10314, &quot;injuries&quot;: 178, &quot;zip_code&quot;: 10314}, &quot;type&quot;: &quot;Feature&quot;}, {&quot;bbox&quot;: [-73.89571, 40.857377, -73.855691, 40.908016], &quot;geometry&quot;: {&quot;coordinates&quot;: [[[-73.884855, 40.878545], [-73.87986, 40.868274], [-73.876292, 40.870526], [-73.870148, 40.878314], [-73.871083, 40.857377], [-73.868383, 40.857812], [-73.861791, 40.857983], [-73.861306, 40.873673], [-73.855691, 40.884212], [-73.86538, 40.886884], [-73.862875, 40.895154], [-73.867561, 40.888381], [-73.87092, 40.880258], [-73.878126, 40.882154], [-73.87802, 40.88709], [-73.880398, 40.892826], [-73.878189, 40.905983], [-73.886124, 40.908016], [-73.886334, 40.90015], [-73.884722, 40.898175], [-73.887608, 40.889487], [-73.89571, 40.885781], [-73.887105, 40.882923], [-73.884855, 40.878545]]], &quot;type&quot;: &quot;Polygon&quot;}, &quot;id&quot;: &quot;123&quot;, &quot;properties&quot;: {&quot;ALAND10&quot;: 6035762, &quot;AWATER10&quot;: 0, &quot;CLASSFP10&quot;: &quot;B5&quot;, &quot;FUNCSTAT10&quot;: &quot;S&quot;, &quot;GEOID10&quot;: &quot;3610467&quot;, &quot;INTPTLAT10&quot;: &quot;+40.8699533&quot;, &quot;INTPTLON10&quot;: &quot;-073.8656955&quot;, &quot;MTFCC10&quot;: &quot;G6350&quot;, &quot;PARTFLG10&quot;: &quot;N&quot;, &quot;STATEFP10&quot;: &quot;36&quot;, &quot;ZCTA5CE10&quot;: 10467, &quot;injuries&quot;: 138, &quot;zip_code&quot;: 10467}, &quot;type&quot;: &quot;Feature&quot;}, {&quot;bbox&quot;: [-73.899949, 40.851499, -73.877418, 40.878545], &quot;geometry&quot;: {&quot;coordinates&quot;: [[[-73.87986, 40.868274], [-73.884855, 40.878545], [-73.887377, 40.872723], [-73.891737, 40.869511], [-73.899949, 40.85742], [-73.88382, 40.851499], [-73.880591, 40.856962], [-73.877418, 40.85538], [-73.880882, 40.857509], [-73.880611, 40.86049], [-73.884007, 40.86495], [-73.87986, 40.868274]]], &quot;type&quot;: &quot;Polygon&quot;}, &quot;id&quot;: &quot;124&quot;, &quot;properties&quot;: {&quot;ALAND10&quot;: 2613249, &quot;AWATER10&quot;: 0, &quot;CLASSFP10&quot;: &quot;B5&quot;, &quot;FUNCSTAT10&quot;: &quot;S&quot;, &quot;GEOID10&quot;: &quot;3610458&quot;, &quot;INTPTLAT10&quot;: &quot;+40.8625453&quot;, &quot;INTPTLON10&quot;: &quot;-073.8881454&quot;, &quot;MTFCC10&quot;: &quot;G6350&quot;, &quot;PARTFLG10&quot;: &quot;N&quot;, &quot;STATEFP10&quot;: &quot;36&quot;, &quot;ZCTA5CE10&quot;: 10458, &quot;injuries&quot;: 133, &quot;zip_code&quot;: 10458}, &quot;type&quot;: &quot;Feature&quot;}, {&quot;bbox&quot;: [-73.884568, 40.82316, -73.84572, 40.836137], &quot;geometry&quot;: {&quot;coordinates&quot;: [[[-73.866806, 40.834837], [-73.876937, 40.836137], [-73.879983, 40.83468], [-73.88397, 40.829717], [-73.884568, 40.82316], [-73.84572, 40.828284], [-73.84733, 40.829219], [-73.866806, 40.834837]]], &quot;type&quot;: &quot;Polygon&quot;}, &quot;id&quot;: &quot;125&quot;, &quot;properties&quot;: {&quot;ALAND10&quot;: 2720837, &quot;AWATER10&quot;: 0, &quot;CLASSFP10&quot;: &quot;B5&quot;, &quot;FUNCSTAT10&quot;: &quot;S&quot;, &quot;GEOID10&quot;: &quot;3610472&quot;, &quot;INTPTLAT10&quot;: &quot;+40.8295557&quot;, &quot;INTPTLON10&quot;: &quot;-073.8693594&quot;, &quot;MTFCC10&quot;: &quot;G6350&quot;, &quot;PARTFLG10&quot;: &quot;N&quot;, &quot;STATEFP10&quot;: &quot;36&quot;, &quot;ZCTA5CE10&quot;: 10472, &quot;injuries&quot;: 141, &quot;zip_code&quot;: 10472}, &quot;type&quot;: &quot;Feature&quot;}, {&quot;bbox&quot;: [-74.000824, 40.607245, -73.972994, 40.634955], &quot;geometry&quot;: {&quot;coordinates&quot;: [[[-73.981432, 40.634955], [-73.997285, 40.619712], [-74.000824, 40.616314], [-73.987255, 40.607245], [-73.972994, 40.608814], [-73.977249, 40.630707], [-73.981432, 40.634955]]], &quot;type&quot;: &quot;Polygon&quot;}, &quot;id&quot;: &quot;126&quot;, &quot;properties&quot;: {&quot;ALAND10&quot;: 4115356, &quot;AWATER10&quot;: 0, &quot;CLASSFP10&quot;: &quot;B5&quot;, &quot;FUNCSTAT10&quot;: &quot;S&quot;, &quot;GEOID10&quot;: &quot;3611204&quot;, &quot;INTPTLAT10&quot;: &quot;+40.6187792&quot;, &quot;INTPTLON10&quot;: &quot;-073.9848262&quot;, &quot;MTFCC10&quot;: &quot;G6350&quot;, &quot;PARTFLG10&quot;: &quot;N&quot;, &quot;STATEFP10&quot;: &quot;36&quot;, &quot;ZCTA5CE10&quot;: 11204, &quot;injuries&quot;: 97, &quot;zip_code&quot;: 11204}, &quot;type&quot;: &quot;Feature&quot;}, {&quot;bbox&quot;: [-73.957974, 40.669705, -73.937398, 40.692033], &quot;geometry&quot;: {&quot;coordinates&quot;: [[[-73.957132, 40.688463], [-73.955195, 40.678343], [-73.957974, 40.670657], [-73.947731, 40.669705], [-73.947089, 40.676557], [-73.941535, 40.676421], [-73.937398, 40.67973], [-73.938223, 40.683894], [-73.943962, 40.683601], [-73.945642, 40.692033], [-73.95181, 40.691599], [-73.957132, 40.688463]]], &quot;type&quot;: &quot;Polygon&quot;}, &quot;id&quot;: &quot;127&quot;, &quot;properties&quot;: {&quot;ALAND10&quot;: 2422753, &quot;AWATER10&quot;: 0, &quot;CLASSFP10&quot;: &quot;B5&quot;, &quot;FUNCSTAT10&quot;: &quot;S&quot;, &quot;GEOID10&quot;: &quot;3611216&quot;, &quot;INTPTLAT10&quot;: &quot;+40.6807675&quot;, &quot;INTPTLON10&quot;: &quot;-073.9493165&quot;, &quot;MTFCC10&quot;: &quot;G6350&quot;, &quot;PARTFLG10&quot;: &quot;N&quot;, &quot;STATEFP10&quot;: &quot;36&quot;, &quot;ZCTA5CE10&quot;: 11216, &quot;injuries&quot;: 129, &quot;zip_code&quot;: 11216}, &quot;type&quot;: &quot;Feature&quot;}, {&quot;bbox&quot;: [-74.012142, 40.619712, -73.981432, 40.647101], &quot;geometry&quot;: {&quot;coordinates&quot;: [[[-73.981432, 40.634955], [-73.991929, 40.642205], [-73.989059, 40.644119], [-73.993985, 40.647101], [-73.997734, 40.64341], [-74.012142, 40.628684], [-73.997285, 40.619712], [-73.981432, 40.634955]]], &quot;type&quot;: &quot;Polygon&quot;}, &quot;id&quot;: &quot;128&quot;, &quot;properties&quot;: {&quot;ALAND10&quot;: 3838518, &quot;AWATER10&quot;: 0, &quot;CLASSFP10&quot;: &quot;B5&quot;, &quot;FUNCSTAT10&quot;: &quot;S&quot;, &quot;GEOID10&quot;: &quot;3611219&quot;, &quot;INTPTLAT10&quot;: &quot;+40.6326665&quot;, &quot;INTPTLON10&quot;: &quot;-073.9966687&quot;, &quot;MTFCC10&quot;: &quot;G6350&quot;, &quot;PARTFLG10&quot;: &quot;N&quot;, &quot;STATEFP10&quot;: &quot;36&quot;, &quot;ZCTA5CE10&quot;: 11219, &quot;injuries&quot;: 89, &quot;zip_code&quot;: 11219}, &quot;type&quot;: &quot;Feature&quot;}, {&quot;bbox&quot;: [-73.889575, 40.644248, -73.85566, 40.69515], &quot;geometry&quot;: {&quot;coordinates&quot;: [[[-73.862346, 40.679165], [-73.866295, 40.683189], [-73.868917, 40.69515], [-73.874021, 40.694191], [-73.889575, 40.68418], [-73.886505, 40.683349], [-73.882782, 40.668026], [-73.876107, 40.657125], [-73.879733, 40.655563], [-73.876197, 40.650697], [-73.878436, 40.649327], [-73.875052, 40.64517], [-73.863577, 40.644248], [-73.858318, 40.645188], [-73.856652, 40.650129], [-73.863171, 40.658277], [-73.857482, 40.659977], [-73.85566, 40.663802], [-73.857633, 40.671656], [-73.861318, 40.675021], [-73.862346, 40.679165]], [[-73.875461, 40.652453], [-73.867901, 40.656684], [-73.86687, 40.653172], [-73.871868, 40.649968], [-73.875461, 40.652453]]], &quot;type&quot;: &quot;Polygon&quot;}, &quot;id&quot;: &quot;129&quot;, &quot;properties&quot;: {&quot;ALAND10&quot;: 8951522, &quot;AWATER10&quot;: 0, &quot;CLASSFP10&quot;: &quot;B5&quot;, &quot;FUNCSTAT10&quot;: &quot;S&quot;, &quot;GEOID10&quot;: &quot;3611208&quot;, &quot;INTPTLAT10&quot;: &quot;+40.6696890&quot;, &quot;INTPTLON10&quot;: &quot;-073.8713713&quot;, &quot;MTFCC10&quot;: &quot;G6350&quot;, &quot;PARTFLG10&quot;: &quot;N&quot;, &quot;STATEFP10&quot;: &quot;36&quot;, &quot;ZCTA5CE10&quot;: 11208, &quot;injuries&quot;: 258, &quot;zip_code&quot;: 11208}, &quot;type&quot;: &quot;Feature&quot;}, {&quot;bbox&quot;: [-73.938223, 40.666445, -73.903466, 40.686608], &quot;geometry&quot;: {&quot;coordinates&quot;: [[[-73.903475, 40.675507], [-73.903466, 40.678897], [-73.916046, 40.686072], [-73.918065, 40.686608], [-73.938223, 40.683894], [-73.937398, 40.67973], [-73.929058, 40.679277], [-73.930457, 40.675818], [-73.924996, 40.674736], [-73.925539, 40.668493], [-73.924244, 40.666445], [-73.903475, 40.675507]]], &quot;type&quot;: &quot;Polygon&quot;}, &quot;id&quot;: &quot;130&quot;, &quot;properties&quot;: {&quot;ALAND10&quot;: 3491031, &quot;AWATER10&quot;: 0, &quot;CLASSFP10&quot;: &quot;B5&quot;, &quot;FUNCSTAT10&quot;: &quot;S&quot;, &quot;GEOID10&quot;: &quot;3611233&quot;, &quot;INTPTLAT10&quot;: &quot;+40.6783083&quot;, &quot;INTPTLON10&quot;: &quot;-073.9199358&quot;, &quot;MTFCC10&quot;: &quot;G6350&quot;, &quot;PARTFLG10&quot;: &quot;N&quot;, &quot;STATEFP10&quot;: &quot;36&quot;, &quot;ZCTA5CE10&quot;: 11233, &quot;injuries&quot;: 193, &quot;zip_code&quot;: 11233}, &quot;type&quot;: &quot;Feature&quot;}, {&quot;bbox&quot;: [-73.989992, 40.672639, -73.97064, 40.689901], &quot;geometry&quot;: {&quot;coordinates&quot;: [[[-73.973126, 40.689622], [-73.980429, 40.689901], [-73.986568, 40.688408], [-73.989992, 40.683319], [-73.98856, 40.679559], [-73.970749, 40.672639], [-73.972445, 40.677162], [-73.97064, 40.682414], [-73.972687, 40.687415], [-73.973126, 40.689622]]], &quot;type&quot;: &quot;Polygon&quot;}, &quot;id&quot;: &quot;131&quot;, &quot;properties&quot;: {&quot;ALAND10&quot;: 1944333, &quot;AWATER10&quot;: 8495, &quot;CLASSFP10&quot;: &quot;B5&quot;, &quot;FUNCSTAT10&quot;: &quot;S&quot;, &quot;GEOID10&quot;: &quot;3611217&quot;, &quot;INTPTLAT10&quot;: &quot;+40.6823056&quot;, &quot;INTPTLON10&quot;: &quot;-073.9780993&quot;, &quot;MTFCC10&quot;: &quot;G6350&quot;, &quot;PARTFLG10&quot;: &quot;N&quot;, &quot;STATEFP10&quot;: &quot;36&quot;, &quot;ZCTA5CE10&quot;: 11217, &quot;injuries&quot;: 108, &quot;zip_code&quot;: 11217}, &quot;type&quot;: &quot;Feature&quot;}, {&quot;bbox&quot;: [-73.965025, 40.654871, -73.940029, 40.671629], &quot;geometry&quot;: {&quot;coordinates&quot;: [[[-73.957974, 40.670657], [-73.962622, 40.671629], [-73.962894, 40.663798], [-73.965025, 40.662173], [-73.9619, 40.654871], [-73.959343, 40.655983], [-73.947264, 40.656437], [-73.947676, 40.660297], [-73.942611, 40.66061], [-73.940029, 40.663021], [-73.942528, 40.665838], [-73.948067, 40.666139], [-73.947731, 40.669705], [-73.957974, 40.670657]]], &quot;type&quot;: &quot;Polygon&quot;}, &quot;id&quot;: &quot;132&quot;, &quot;properties&quot;: {&quot;ALAND10&quot;: 2289249, &quot;AWATER10&quot;: 0, &quot;CLASSFP10&quot;: &quot;B5&quot;, &quot;FUNCSTAT10&quot;: &quot;S&quot;, &quot;GEOID10&quot;: &quot;3611225&quot;, &quot;INTPTLAT10&quot;: &quot;+40.6630459&quot;, &quot;INTPTLON10&quot;: &quot;-073.9542192&quot;, &quot;MTFCC10&quot;: &quot;G6350&quot;, &quot;PARTFLG10&quot;: &quot;N&quot;, &quot;STATEFP10&quot;: &quot;36&quot;, &quot;ZCTA5CE10&quot;: 11225, &quot;injuries&quot;: 119, &quot;zip_code&quot;: 11225}, &quot;type&quot;: &quot;Feature&quot;}, {&quot;bbox&quot;: [-73.946462, 40.781075, -73.914429, 40.808958], &quot;geometry&quot;: {&quot;coordinates&quot;: [[[[-73.940404, 40.808958], [-73.944667, 40.80313], [-73.946462, 40.800665], [-73.930891, 40.794041], [-73.928916, 40.800837], [-73.933219, 40.807255], [-73.940404, 40.808958]]], [[[-73.927829, 40.781075], [-73.923803, 40.783779], [-73.914429, 40.793052], [-73.914684, 40.795799], [-73.922752, 40.801922], [-73.927345, 40.797872], [-73.927652, 40.791584], [-73.931404, 40.791146], [-73.93551, 40.7859], [-73.935433, 40.783249], [-73.927829, 40.781075]]]], &quot;type&quot;: &quot;MultiPolygon&quot;}, &quot;id&quot;: &quot;133&quot;, &quot;properties&quot;: {&quot;ALAND10&quot;: 3616216, &quot;AWATER10&quot;: 0, &quot;CLASSFP10&quot;: &quot;B5&quot;, &quot;FUNCSTAT10&quot;: &quot;S&quot;, &quot;GEOID10&quot;: &quot;3610035&quot;, &quot;INTPTLAT10&quot;: &quot;+40.7956523&quot;, &quot;INTPTLON10&quot;: &quot;-073.9297309&quot;, &quot;MTFCC10&quot;: &quot;G6350&quot;, &quot;PARTFLG10&quot;: &quot;N&quot;, &quot;STATEFP10&quot;: &quot;36&quot;, &quot;ZCTA5CE10&quot;: 10035, &quot;injuries&quot;: 102, &quot;zip_code&quot;: 10035}, &quot;type&quot;: &quot;Feature&quot;}, {&quot;bbox&quot;: [-73.987746, 40.738015, -73.968192, 40.752197], &quot;geometry&quot;: {&quot;coordinates&quot;: [[[-73.981822, 40.752197], [-73.984076, 40.749102], [-73.987746, 40.744066], [-73.975249, 40.738015], [-73.971566, 40.742993], [-73.968192, 40.747251], [-73.97078, 40.747543], [-73.981822, 40.752197]]], &quot;type&quot;: &quot;Polygon&quot;}, &quot;id&quot;: &quot;134&quot;, &quot;properties&quot;: {&quot;ALAND10&quot;: 1378326, &quot;AWATER10&quot;: 0, &quot;CLASSFP10&quot;: &quot;B5&quot;, &quot;FUNCSTAT10&quot;: &quot;S&quot;, &quot;GEOID10&quot;: &quot;3610016&quot;, &quot;INTPTLAT10&quot;: &quot;+40.7452204&quot;, &quot;INTPTLON10&quot;: &quot;-073.9782938&quot;, &quot;MTFCC10&quot;: &quot;G6350&quot;, &quot;PARTFLG10&quot;: &quot;N&quot;, &quot;STATEFP10&quot;: &quot;36&quot;, &quot;ZCTA5CE10&quot;: 10016, &quot;injuries&quot;: 91, &quot;zip_code&quot;: 10016}, &quot;type&quot;: &quot;Feature&quot;}, {&quot;bbox&quot;: [-74.004575, 40.720323, -73.992604, 40.731706], &quot;geometry&quot;: {&quot;coordinates&quot;: [[[-74.00373, 40.72625], [-74.004575, 40.724173], [-73.994035, 40.720323], [-73.992604, 40.724136], [-73.993147, 40.727867], [-73.999604, 40.731043], [-74.000954, 40.731706], [-74.00373, 40.72625]]], &quot;type&quot;: &quot;Polygon&quot;}, &quot;id&quot;: &quot;135&quot;, &quot;properties&quot;: {&quot;ALAND10&quot;: 837301, &quot;AWATER10&quot;: 0, &quot;CLASSFP10&quot;: &quot;B5&quot;, &quot;FUNCSTAT10&quot;: &quot;S&quot;, &quot;GEOID10&quot;: &quot;3610012&quot;, &quot;INTPTLAT10&quot;: &quot;+40.7255806&quot;, &quot;INTPTLON10&quot;: &quot;-073.9980784&quot;, &quot;MTFCC10&quot;: &quot;G6350&quot;, &quot;PARTFLG10&quot;: &quot;N&quot;, &quot;STATEFP10&quot;: &quot;36&quot;, &quot;ZCTA5CE10&quot;: 10012, &quot;injuries&quot;: 33, &quot;zip_code&quot;: 10012}, &quot;type&quot;: &quot;Feature&quot;}, {&quot;bbox&quot;: [-73.98814, 40.778805, -73.961491, 40.818099], &quot;geometry&quot;: {&quot;coordinates&quot;: [[[-73.987223, 40.781007], [-73.986609, 40.780712], [-73.984452, 40.783192], [-73.974067, 40.778805], [-73.96701, 40.788476], [-73.977092, 40.792724], [-73.9659, 40.808806], [-73.964424, 40.810755], [-73.964019, 40.811331], [-73.961491, 40.814981], [-73.962067, 40.818099], [-73.964167, 40.81579], [-73.98814, 40.781409], [-73.987223, 40.781007]]], &quot;type&quot;: &quot;Polygon&quot;}, &quot;id&quot;: &quot;136&quot;, &quot;properties&quot;: {&quot;ALAND10&quot;: 2221831, &quot;AWATER10&quot;: 0, &quot;CLASSFP10&quot;: &quot;B5&quot;, &quot;FUNCSTAT10&quot;: &quot;S&quot;, &quot;GEOID10&quot;: &quot;3610024&quot;, &quot;INTPTLAT10&quot;: &quot;+40.7984520&quot;, &quot;INTPTLON10&quot;: &quot;-073.9744135&quot;, &quot;MTFCC10&quot;: &quot;G6350&quot;, &quot;PARTFLG10&quot;: &quot;N&quot;, &quot;STATEFP10&quot;: &quot;36&quot;, &quot;ZCTA5CE10&quot;: 10024, &quot;injuries&quot;: 33, &quot;zip_code&quot;: 10024}, &quot;type&quot;: &quot;Feature&quot;}, {&quot;bbox&quot;: [-73.994844, 40.749101, -73.99111, 40.751522], &quot;geometry&quot;: {&quot;coordinates&quot;: [[[-73.993948, 40.751522], [-73.994844, 40.750293], [-73.992006, 40.749101], [-73.99111, 40.750319], [-73.993948, 40.751522]]], &quot;type&quot;: &quot;Polygon&quot;}, &quot;id&quot;: &quot;137&quot;, &quot;properties&quot;: {&quot;ALAND10&quot;: 42613, &quot;AWATER10&quot;: 0, &quot;CLASSFP10&quot;: &quot;B5&quot;, &quot;FUNCSTAT10&quot;: &quot;S&quot;, &quot;GEOID10&quot;: &quot;3610119&quot;, &quot;INTPTLAT10&quot;: &quot;+40.7503098&quot;, &quot;INTPTLON10&quot;: &quot;-073.9929788&quot;, &quot;MTFCC10&quot;: &quot;G6350&quot;, &quot;PARTFLG10&quot;: &quot;N&quot;, &quot;STATEFP10&quot;: &quot;36&quot;, &quot;ZCTA5CE10&quot;: 10119, &quot;injuries&quot;: 1, &quot;zip_code&quot;: 10119}, &quot;type&quot;: &quot;Feature&quot;}, {&quot;bbox&quot;: [-73.849595, 40.754438, -73.803985, 40.778529], &quot;geometry&quot;: {&quot;coordinates&quot;: [[[-73.848178, 40.776706], [-73.849595, 40.769798], [-73.846014, 40.766312], [-73.839167, 40.765357], [-73.837326, 40.76268], [-73.838002, 40.754438], [-73.82974, 40.758749], [-73.816093, 40.762524], [-73.807514, 40.762179], [-73.807207, 40.768295], [-73.803985, 40.77419], [-73.8066, 40.775115], [-73.82167, 40.776863], [-73.8281, 40.776031], [-73.833507, 40.771619], [-73.836332, 40.778529], [-73.839766, 40.77653], [-73.848178, 40.776706]]], &quot;type&quot;: &quot;Polygon&quot;}, &quot;id&quot;: &quot;138&quot;, &quot;properties&quot;: {&quot;ALAND10&quot;: 5612651, &quot;AWATER10&quot;: 83889, &quot;CLASSFP10&quot;: &quot;B5&quot;, &quot;FUNCSTAT10&quot;: &quot;S&quot;, &quot;GEOID10&quot;: &quot;3611354&quot;, &quot;INTPTLAT10&quot;: &quot;+40.7682082&quot;, &quot;INTPTLON10&quot;: &quot;-073.8274033&quot;, &quot;MTFCC10&quot;: &quot;G6350&quot;, &quot;PARTFLG10&quot;: &quot;N&quot;, &quot;STATEFP10&quot;: &quot;36&quot;, &quot;ZCTA5CE10&quot;: 11354, &quot;injuries&quot;: 100, &quot;zip_code&quot;: 11354}, &quot;type&quot;: &quot;Feature&quot;}, {&quot;bbox&quot;: [-73.837544, 40.679537, -73.807858, 40.697133], &quot;geometry&quot;: {&quot;coordinates&quot;: [[[-73.831746, 40.679537], [-73.813937, 40.684598], [-73.807858, 40.687123], [-73.813659, 40.697133], [-73.821092, 40.695825], [-73.837544, 40.691364], [-73.835111, 40.685088], [-73.831746, 40.679537]]], &quot;type&quot;: &quot;Polygon&quot;}, &quot;id&quot;: &quot;139&quot;, &quot;properties&quot;: {&quot;ALAND10&quot;: 2924898, &quot;AWATER10&quot;: 0, &quot;CLASSFP10&quot;: &quot;B5&quot;, &quot;FUNCSTAT10&quot;: &quot;S&quot;, &quot;GEOID10&quot;: &quot;3611419&quot;, &quot;INTPTLAT10&quot;: &quot;+40.6886731&quot;, &quot;INTPTLON10&quot;: &quot;-073.8229179&quot;, &quot;MTFCC10&quot;: &quot;G6350&quot;, &quot;PARTFLG10&quot;: &quot;N&quot;, &quot;STATEFP10&quot;: &quot;36&quot;, &quot;ZCTA5CE10&quot;: 11419, &quot;injuries&quot;: 72, &quot;zip_code&quot;: 11419}, &quot;type&quot;: &quot;Feature&quot;}, {&quot;bbox&quot;: [-73.873907, 40.711465, -73.85173, 40.73694], &quot;geometry&quot;: {&quot;coordinates&quot;: [[[-73.871429, 40.729248], [-73.873907, 40.728434], [-73.860038, 40.714932], [-73.862079, 40.712201], [-73.857298, 40.711465], [-73.858522, 40.721529], [-73.85173, 40.728478], [-73.856152, 40.735648], [-73.853392, 40.73694], [-73.864618, 40.734271], [-73.871429, 40.729248]]], &quot;type&quot;: &quot;Polygon&quot;}, &quot;id&quot;: &quot;140&quot;, &quot;properties&quot;: {&quot;ALAND10&quot;: 2419933, &quot;AWATER10&quot;: 0, &quot;CLASSFP10&quot;: &quot;B5&quot;, &quot;FUNCSTAT10&quot;: &quot;S&quot;, &quot;GEOID10&quot;: &quot;3611374&quot;, &quot;INTPTLAT10&quot;: &quot;+40.7263875&quot;, &quot;INTPTLON10&quot;: &quot;-073.8615086&quot;, &quot;MTFCC10&quot;: &quot;G6350&quot;, &quot;PARTFLG10&quot;: &quot;N&quot;, &quot;STATEFP10&quot;: &quot;36&quot;, &quot;ZCTA5CE10&quot;: 11374, &quot;injuries&quot;: 65, &quot;zip_code&quot;: 11374}, &quot;type&quot;: &quot;Feature&quot;}, {&quot;bbox&quot;: [-73.76631, 40.717971, -73.726371, 40.743576], &quot;geometry&quot;: {&quot;coordinates&quot;: [[[-73.740021, 40.738712], [-73.742962, 40.735547], [-73.746541, 40.735778], [-73.765558, 40.732535], [-73.756566, 40.726133], [-73.76631, 40.726375], [-73.761531, 40.722992], [-73.757642, 40.717971], [-73.751814, 40.720498], [-73.739311, 40.728167], [-73.732168, 40.729155], [-73.731301, 40.732669], [-73.726371, 40.733492], [-73.72751, 40.740688], [-73.732335, 40.743576], [-73.740021, 40.738712]]], &quot;type&quot;: &quot;Polygon&quot;}, &quot;id&quot;: &quot;141&quot;, &quot;properties&quot;: {&quot;ALAND10&quot;: 4082592, &quot;AWATER10&quot;: 0, &quot;CLASSFP10&quot;: &quot;B5&quot;, &quot;FUNCSTAT10&quot;: &quot;S&quot;, &quot;GEOID10&quot;: &quot;3611427&quot;, &quot;INTPTLAT10&quot;: &quot;+40.7308873&quot;, &quot;INTPTLON10&quot;: &quot;-073.7456759&quot;, &quot;MTFCC10&quot;: &quot;G6350&quot;, &quot;PARTFLG10&quot;: &quot;N&quot;, &quot;STATEFP10&quot;: &quot;36&quot;, &quot;ZCTA5CE10&quot;: 11427, &quot;injuries&quot;: 50, &quot;zip_code&quot;: 11427}, &quot;type&quot;: &quot;Feature&quot;}, {&quot;bbox&quot;: [-73.925851, 40.72855, -73.888523, 40.767776], &quot;geometry&quot;: {&quot;coordinates&quot;: [[[-73.909813, 40.751574], [-73.91471, 40.748821], [-73.91686, 40.742841], [-73.92304, 40.740436], [-73.925787, 40.736139], [-73.925851, 40.735645], [-73.918936, 40.731778], [-73.905684, 40.72855], [-73.900711, 40.734359], [-73.892131, 40.733681], [-73.888523, 40.734531], [-73.891746, 40.742138], [-73.891457, 40.74687], [-73.894832, 40.746481], [-73.896522, 40.754389], [-73.897719, 40.760976], [-73.89353, 40.766019], [-73.900659, 40.767211], [-73.902025, 40.767417], [-73.90445, 40.767581], [-73.905239, 40.767776], [-73.903479, 40.76499], [-73.911498, 40.754557], [-73.909813, 40.751574]]], &quot;type&quot;: &quot;Polygon&quot;}, &quot;id&quot;: &quot;142&quot;, &quot;properties&quot;: {&quot;ALAND10&quot;: 6595693, &quot;AWATER10&quot;: 0, &quot;CLASSFP10&quot;: &quot;B5&quot;, &quot;FUNCSTAT10&quot;: &quot;S&quot;, &quot;GEOID10&quot;: &quot;3611377&quot;, &quot;INTPTLAT10&quot;: &quot;+40.7447883&quot;, &quot;INTPTLON10&quot;: &quot;-073.9051811&quot;, &quot;MTFCC10&quot;: &quot;G6350&quot;, &quot;PARTFLG10&quot;: &quot;N&quot;, &quot;STATEFP10&quot;: &quot;36&quot;, &quot;ZCTA5CE10&quot;: 11377, &quot;injuries&quot;: 195, &quot;zip_code&quot;: 11377}, &quot;type&quot;: &quot;Feature&quot;}, {&quot;bbox&quot;: [-73.945111, 40.752425, -73.918966, 40.771745], &quot;geometry&quot;: {&quot;coordinates&quot;: [[[-73.945111, 40.763086], [-73.943304, 40.760658], [-73.937009, 40.758236], [-73.926492, 40.752425], [-73.92246, 40.757427], [-73.918966, 40.762204], [-73.92188, 40.763574], [-73.935227, 40.769526], [-73.93519, 40.771745], [-73.945111, 40.763086]]], &quot;type&quot;: &quot;Polygon&quot;}, &quot;id&quot;: &quot;143&quot;, &quot;properties&quot;: {&quot;ALAND10&quot;: 2219776, &quot;AWATER10&quot;: 36652, &quot;CLASSFP10&quot;: &quot;B5&quot;, &quot;FUNCSTAT10&quot;: &quot;S&quot;, &quot;GEOID10&quot;: &quot;3611106&quot;, &quot;INTPTLAT10&quot;: &quot;+40.7622113&quot;, &quot;INTPTLON10&quot;: &quot;-073.9315281&quot;, &quot;MTFCC10&quot;: &quot;G6350&quot;, &quot;PARTFLG10&quot;: &quot;N&quot;, &quot;STATEFP10&quot;: &quot;36&quot;, &quot;ZCTA5CE10&quot;: 11106, &quot;injuries&quot;: 67, &quot;zip_code&quot;: 11106}, &quot;type&quot;: &quot;Feature&quot;}, {&quot;bbox&quot;: [-73.789309, 40.751895, -73.7537, 40.774306], &quot;geometry&quot;: {&quot;coordinates&quot;: [[[-73.789309, 40.769708], [-73.782125, 40.755339], [-73.780088, 40.752494], [-73.779806, 40.751895], [-73.768316, 40.755466], [-73.761856, 40.756517], [-73.758001, 40.76038], [-73.759236, 40.764395], [-73.7537, 40.76529], [-73.758521, 40.767517], [-73.762585, 40.771686], [-73.765393, 40.773593], [-73.771581, 40.774306], [-73.789309, 40.769708]]], &quot;type&quot;: &quot;Polygon&quot;}, &quot;id&quot;: &quot;144&quot;, &quot;properties&quot;: {&quot;ALAND10&quot;: 4553960, &quot;AWATER10&quot;: 49212, &quot;CLASSFP10&quot;: &quot;B5&quot;, &quot;FUNCSTAT10&quot;: &quot;S&quot;, &quot;GEOID10&quot;: &quot;3611361&quot;, &quot;INTPTLAT10&quot;: &quot;+40.7641909&quot;, &quot;INTPTLON10&quot;: &quot;-073.7727748&quot;, &quot;MTFCC10&quot;: &quot;G6350&quot;, &quot;PARTFLG10&quot;: &quot;N&quot;, &quot;STATEFP10&quot;: &quot;36&quot;, &quot;ZCTA5CE10&quot;: 11361, &quot;injuries&quot;: 63, &quot;zip_code&quot;: 11361}, &quot;type&quot;: &quot;Feature&quot;}, {&quot;bbox&quot;: [-73.814309, 40.727172, -73.770107, 40.752494], &quot;geometry&quot;: {&quot;coordinates&quot;: [[[-73.780088, 40.752494], [-73.791448, 40.748699], [-73.802811, 40.749085], [-73.807506, 40.750137], [-73.814162, 40.746139], [-73.814309, 40.742974], [-73.810133, 40.742295], [-73.809441, 40.738674], [-73.812703, 40.735753], [-73.810886, 40.727172], [-73.800413, 40.728372], [-73.788209, 40.731363], [-73.776929, 40.735676], [-73.773551, 40.736072], [-73.770107, 40.731779], [-73.772861, 40.736276], [-73.779806, 40.751895], [-73.780088, 40.752494]]], &quot;type&quot;: &quot;Polygon&quot;}, &quot;id&quot;: &quot;145&quot;, &quot;properties&quot;: {&quot;ALAND10&quot;: 6466314, &quot;AWATER10&quot;: 46201, &quot;CLASSFP10&quot;: &quot;B5&quot;, &quot;FUNCSTAT10&quot;: &quot;S&quot;, &quot;GEOID10&quot;: &quot;3611365&quot;, &quot;INTPTLAT10&quot;: &quot;+40.7396342&quot;, &quot;INTPTLON10&quot;: &quot;-073.7944896&quot;, &quot;MTFCC10&quot;: &quot;G6350&quot;, &quot;PARTFLG10&quot;: &quot;N&quot;, &quot;STATEFP10&quot;: &quot;36&quot;, &quot;ZCTA5CE10&quot;: 11365, &quot;injuries&quot;: 54, &quot;zip_code&quot;: 11365}, &quot;type&quot;: &quot;Feature&quot;}, {&quot;bbox&quot;: [-73.779806, 40.731779, -73.740021, 40.76038], &quot;geometry&quot;: {&quot;coordinates&quot;: [[[-73.740021, 40.738712], [-73.744056, 40.740735], [-73.749968, 40.739746], [-73.753473, 40.742405], [-73.744852, 40.743319], [-73.743967, 40.74763], [-73.748096, 40.7559], [-73.752303, 40.759455], [-73.758001, 40.76038], [-73.761856, 40.756517], [-73.768316, 40.755466], [-73.779806, 40.751895], [-73.772861, 40.736276], [-73.770107, 40.731779], [-73.765558, 40.732535], [-73.746541, 40.735778], [-73.742962, 40.735547], [-73.740021, 40.738712]]], &quot;type&quot;: &quot;Polygon&quot;}, &quot;id&quot;: &quot;146&quot;, &quot;properties&quot;: {&quot;ALAND10&quot;: 6386921, &quot;AWATER10&quot;: 0, &quot;CLASSFP10&quot;: &quot;B5&quot;, &quot;FUNCSTAT10&quot;: &quot;S&quot;, &quot;GEOID10&quot;: &quot;3611364&quot;, &quot;INTPTLAT10&quot;: &quot;+40.7452962&quot;, &quot;INTPTLON10&quot;: &quot;-073.7606074&quot;, &quot;MTFCC10&quot;: &quot;G6350&quot;, &quot;PARTFLG10&quot;: &quot;N&quot;, &quot;STATEFP10&quot;: &quot;36&quot;, &quot;ZCTA5CE10&quot;: 11364, &quot;injuries&quot;: 62, &quot;zip_code&quot;: 11364}, &quot;type&quot;: &quot;Feature&quot;}, {&quot;bbox&quot;: [-73.798415, 40.699015, -73.793577, 40.703294], &quot;geometry&quot;: {&quot;coordinates&quot;: [[[-73.798415, 40.702741], [-73.795722, 40.699015], [-73.793577, 40.699756], [-73.79609, 40.703294], [-73.798415, 40.702741]]], &quot;type&quot;: &quot;Polygon&quot;}, &quot;id&quot;: &quot;147&quot;, &quot;properties&quot;: {&quot;ALAND10&quot;: 91974, &quot;AWATER10&quot;: 0, &quot;CLASSFP10&quot;: &quot;B5&quot;, &quot;FUNCSTAT10&quot;: &quot;S&quot;, &quot;GEOID10&quot;: &quot;3611451&quot;, &quot;INTPTLAT10&quot;: &quot;+40.7012822&quot;, &quot;INTPTLON10&quot;: &quot;-073.7959716&quot;, &quot;MTFCC10&quot;: &quot;G6350&quot;, &quot;PARTFLG10&quot;: &quot;N&quot;, &quot;STATEFP10&quot;: &quot;36&quot;, &quot;ZCTA5CE10&quot;: 11451, &quot;injuries&quot;: 3, &quot;zip_code&quot;: 11451}, &quot;type&quot;: &quot;Feature&quot;}, {&quot;bbox&quot;: [-73.896966, 40.830642, -73.862943, 40.856962], &quot;geometry&quot;: {&quot;coordinates&quot;: [[[-73.871745, 40.844191], [-73.874591, 40.841521], [-73.878171, 40.842625], [-73.873939, 40.852876], [-73.877418, 40.85538], [-73.880591, 40.856962], [-73.88382, 40.851499], [-73.892169, 40.84105], [-73.890601, 40.836898], [-73.896966, 40.834343], [-73.896302, 40.833543], [-73.885633, 40.830642], [-73.879983, 40.83468], [-73.876937, 40.836137], [-73.866806, 40.834837], [-73.862943, 40.834299], [-73.863938, 40.840045], [-73.867788, 40.844875], [-73.871745, 40.844191]]], &quot;type&quot;: &quot;Polygon&quot;}, &quot;id&quot;: &quot;148&quot;, &quot;properties&quot;: {&quot;ALAND10&quot;: 3407078, &quot;AWATER10&quot;: 0, &quot;CLASSFP10&quot;: &quot;B5&quot;, &quot;FUNCSTAT10&quot;: &quot;S&quot;, &quot;GEOID10&quot;: &quot;3610460&quot;, &quot;INTPTLAT10&quot;: &quot;+40.8417639&quot;, &quot;INTPTLON10&quot;: &quot;-073.8795691&quot;, &quot;MTFCC10&quot;: &quot;G6350&quot;, &quot;PARTFLG10&quot;: &quot;N&quot;, &quot;STATEFP10&quot;: &quot;36&quot;, &quot;ZCTA5CE10&quot;: 10460, &quot;injuries&quot;: 155, &quot;zip_code&quot;: 10460}, &quot;type&quot;: &quot;Feature&quot;}, {&quot;bbox&quot;: [-73.920461, 40.817925, -73.896302, 40.839844], &quot;geometry&quot;: {&quot;coordinates&quot;: [[[-73.905607, 40.839844], [-73.909458, 40.837057], [-73.913137, 40.839814], [-73.920461, 40.830915], [-73.920201, 40.8281], [-73.908709, 40.824067], [-73.911948, 40.820154], [-73.905313, 40.817925], [-73.90299, 40.820027], [-73.898794, 40.830105], [-73.896302, 40.833543], [-73.896966, 40.834343], [-73.900567, 40.836592], [-73.905607, 40.839844]]], &quot;type&quot;: &quot;Polygon&quot;}, &quot;id&quot;: &quot;149&quot;, &quot;properties&quot;: {&quot;ALAND10&quot;: 2637787, &quot;AWATER10&quot;: 0, &quot;CLASSFP10&quot;: &quot;B5&quot;, &quot;FUNCSTAT10&quot;: &quot;S&quot;, &quot;GEOID10&quot;: &quot;3610456&quot;, &quot;INTPTLAT10&quot;: &quot;+40.8298806&quot;, &quot;INTPTLON10&quot;: &quot;-073.9081200&quot;, &quot;MTFCC10&quot;: &quot;G6350&quot;, &quot;PARTFLG10&quot;: &quot;N&quot;, &quot;STATEFP10&quot;: &quot;36&quot;, &quot;ZCTA5CE10&quot;: 10456, &quot;injuries&quot;: 94, &quot;zip_code&quot;: 10456}, &quot;type&quot;: &quot;Feature&quot;}, {&quot;bbox&quot;: [-73.933006, 40.826854, -73.911049, 40.84652], &quot;geometry&quot;: {&quot;coordinates&quot;: [[[-73.911049, 40.845143], [-73.921044, 40.84652], [-73.922661, 40.844632], [-73.928242, 40.845353], [-73.933006, 40.835679], [-73.932941, 40.828213], [-73.928756, 40.829186], [-73.922669, 40.826854], [-73.920461, 40.830915], [-73.913137, 40.839814], [-73.911049, 40.845143]]], &quot;type&quot;: &quot;Polygon&quot;}, &quot;id&quot;: &quot;150&quot;, &quot;properties&quot;: {&quot;ALAND10&quot;: 2550148, &quot;AWATER10&quot;: 0, &quot;CLASSFP10&quot;: &quot;B5&quot;, &quot;FUNCSTAT10&quot;: &quot;S&quot;, &quot;GEOID10&quot;: &quot;3610452&quot;, &quot;INTPTLAT10&quot;: &quot;+40.8373899&quot;, &quot;INTPTLON10&quot;: &quot;-073.9234295&quot;, &quot;MTFCC10&quot;: &quot;G6350&quot;, &quot;PARTFLG10&quot;: &quot;N&quot;, &quot;STATEFP10&quot;: &quot;36&quot;, &quot;ZCTA5CE10&quot;: 10452, &quot;injuries&quot;: 135, &quot;zip_code&quot;: 10452}, &quot;type&quot;: &quot;Feature&quot;}, {&quot;bbox&quot;: [-73.87295, 40.854075, -73.828237, 40.884212], &quot;geometry&quot;: {&quot;coordinates&quot;: [[[[-73.870148, 40.878314], [-73.871901, 40.8715], [-73.871612, 40.863778], [-73.87295, 40.857627], [-73.871896, 40.854075], [-73.868383, 40.857812], [-73.871083, 40.857377], [-73.870148, 40.878314]]], [[[-73.855691, 40.884212], [-73.861306, 40.873673], [-73.861791, 40.857983], [-73.849309, 40.858718], [-73.837241, 40.857358], [-73.833371, 40.856167], [-73.828237, 40.861021], [-73.83316, 40.86832], [-73.834778, 40.874171], [-73.838743, 40.881266], [-73.842738, 40.879425], [-73.855691, 40.884212]]]], &quot;type&quot;: &quot;MultiPolygon&quot;}, &quot;id&quot;: &quot;151&quot;, &quot;properties&quot;: {&quot;ALAND10&quot;: 6414680, &quot;AWATER10&quot;: 0, &quot;CLASSFP10&quot;: &quot;B5&quot;, &quot;FUNCSTAT10&quot;: &quot;S&quot;, &quot;GEOID10&quot;: &quot;3610469&quot;, &quot;INTPTLAT10&quot;: &quot;+40.8685697&quot;, &quot;INTPTLON10&quot;: &quot;-073.8482176&quot;, &quot;MTFCC10&quot;: &quot;G6350&quot;, &quot;PARTFLG10&quot;: &quot;N&quot;, &quot;STATEFP10&quot;: &quot;36&quot;, &quot;ZCTA5CE10&quot;: 10469, &quot;injuries&quot;: 186, &quot;zip_code&quot;: 10469}, &quot;type&quot;: &quot;Feature&quot;}, {&quot;bbox&quot;: [-73.838743, 40.846105, -73.814857, 40.890206], &quot;geometry&quot;: {&quot;coordinates&quot;: [[[-73.819719, 40.890206], [-73.823242, 40.887485], [-73.834346, 40.88385], [-73.838743, 40.881266], [-73.834778, 40.874171], [-73.83316, 40.86832], [-73.828237, 40.861021], [-73.826135, 40.857312], [-73.826892, 40.848849], [-73.824957, 40.846105], [-73.815674, 40.848855], [-73.818638, 40.856778], [-73.814857, 40.85837], [-73.816752, 40.864544], [-73.821267, 40.869071], [-73.823296, 40.873098], [-73.819926, 40.88212], [-73.819803, 40.885451], [-73.815165, 40.888999], [-73.819719, 40.890206]]], &quot;type&quot;: &quot;Polygon&quot;}, &quot;id&quot;: &quot;152&quot;, &quot;properties&quot;: {&quot;ALAND10&quot;: 4463108, &quot;AWATER10&quot;: 250564, &quot;CLASSFP10&quot;: &quot;B5&quot;, &quot;FUNCSTAT10&quot;: &quot;S&quot;, &quot;GEOID10&quot;: &quot;3610475&quot;, &quot;INTPTLAT10&quot;: &quot;+40.8752590&quot;, &quot;INTPTLON10&quot;: &quot;-073.8238170&quot;, &quot;MTFCC10&quot;: &quot;G6350&quot;, &quot;PARTFLG10&quot;: &quot;N&quot;, &quot;STATEFP10&quot;: &quot;36&quot;, &quot;ZCTA5CE10&quot;: 10475, &quot;injuries&quot;: 58, &quot;zip_code&quot;: 10475}, &quot;type&quot;: &quot;Feature&quot;}, {&quot;bbox&quot;: [-74.019399, 40.667724, -73.98856, 40.687751], &quot;geometry&quot;: {&quot;coordinates&quot;: [[[-73.989992, 40.683319], [-74.001389, 40.687751], [-74.008117, 40.686615], [-74.019399, 40.679573], [-74.017379, 40.673461], [-74.010696, 40.668971], [-74.00544, 40.670922], [-74.004442, 40.667724], [-73.998659, 40.671705], [-73.995275, 40.675778], [-73.990802, 40.675783], [-73.98856, 40.679559], [-73.989992, 40.683319]]], &quot;type&quot;: &quot;Polygon&quot;}, &quot;id&quot;: &quot;153&quot;, &quot;properties&quot;: {&quot;ALAND10&quot;: 3683315, &quot;AWATER10&quot;: 82512, &quot;CLASSFP10&quot;: &quot;B5&quot;, &quot;FUNCSTAT10&quot;: &quot;S&quot;, &quot;GEOID10&quot;: &quot;3611231&quot;, &quot;INTPTLAT10&quot;: &quot;+40.6779162&quot;, &quot;INTPTLON10&quot;: &quot;-074.0051543&quot;, &quot;MTFCC10&quot;: &quot;G6350&quot;, &quot;PARTFLG10&quot;: &quot;N&quot;, &quot;STATEFP10&quot;: &quot;36&quot;, &quot;ZCTA5CE10&quot;: 11231, &quot;injuries&quot;: 71, &quot;zip_code&quot;: 11231}, &quot;type&quot;: &quot;Feature&quot;}, {&quot;bbox&quot;: [-73.922207, 40.621851, -73.878038, 40.657372], &quot;geometry&quot;: {&quot;coordinates&quot;: [[[-73.921776, 40.654424], [-73.920166, 40.646809], [-73.922207, 40.641065], [-73.919617, 40.641659], [-73.918852, 40.634483], [-73.920412, 40.633474], [-73.898261, 40.622989], [-73.89149, 40.621851], [-73.878038, 40.634486], [-73.878901, 40.638038], [-73.891252, 40.650026], [-73.889994, 40.651138], [-73.893388, 40.650935], [-73.898003, 40.653801], [-73.899041, 40.657372], [-73.903173, 40.655301], [-73.910679, 40.65418], [-73.921776, 40.654424]]], &quot;type&quot;: &quot;Polygon&quot;}, &quot;id&quot;: &quot;154&quot;, &quot;properties&quot;: {&quot;ALAND10&quot;: 9311387, &quot;AWATER10&quot;: 89767, &quot;CLASSFP10&quot;: &quot;B5&quot;, &quot;FUNCSTAT10&quot;: &quot;S&quot;, &quot;GEOID10&quot;: &quot;3611236&quot;, &quot;INTPTLAT10&quot;: &quot;+40.6394133&quot;, &quot;INTPTLON10&quot;: &quot;-073.9006642&quot;, &quot;MTFCC10&quot;: &quot;G6350&quot;, &quot;PARTFLG10&quot;: &quot;N&quot;, &quot;STATEFP10&quot;: &quot;36&quot;, &quot;ZCTA5CE10&quot;: 11236, &quot;injuries&quot;: 272, &quot;zip_code&quot;: 11236}, &quot;type&quot;: &quot;Feature&quot;}, {&quot;bbox&quot;: [-73.99768, 40.750293, -73.993948, 40.752723], &quot;geometry&quot;: {&quot;coordinates&quot;: [[[-73.993948, 40.751522], [-73.99679, 40.752723], [-73.99768, 40.751485], [-73.994844, 40.750293], [-73.993948, 40.751522]]], &quot;type&quot;: &quot;Polygon&quot;}, &quot;id&quot;: &quot;155&quot;, &quot;properties&quot;: {&quot;ALAND10&quot;: 66729, &quot;AWATER10&quot;: 0, &quot;CLASSFP10&quot;: &quot;B5&quot;, &quot;FUNCSTAT10&quot;: &quot;S&quot;, &quot;GEOID10&quot;: &quot;3610199&quot;, &quot;INTPTLAT10&quot;: &quot;+40.7513926&quot;, &quot;INTPTLON10&quot;: &quot;-073.9972289&quot;, &quot;MTFCC10&quot;: &quot;G6350&quot;, &quot;PARTFLG10&quot;: &quot;N&quot;, &quot;STATEFP10&quot;: &quot;36&quot;, &quot;ZCTA5CE10&quot;: 10199, &quot;injuries&quot;: 0, &quot;zip_code&quot;: 10199}, &quot;type&quot;: &quot;Feature&quot;}, {&quot;bbox&quot;: [-74.026426, 40.684541, -74.007531, 40.706767], &quot;geometry&quot;: {&quot;coordinates&quot;: [[[[-74.007769, 40.702879], [-74.012508, 40.706767], [-74.015905, 40.706658], [-74.015531, 40.700273], [-74.007531, 40.702596], [-74.007769, 40.702879]]], [[[-74.02213, 40.684541], [-74.012306, 40.689281], [-74.013869, 40.693291], [-74.020282, 40.692201], [-74.026426, 40.686175], [-74.02213, 40.684541]]]], &quot;type&quot;: &quot;MultiPolygon&quot;}, &quot;id&quot;: &quot;156&quot;, &quot;properties&quot;: {&quot;ALAND10&quot;: 1449744, &quot;AWATER10&quot;: 0, &quot;CLASSFP10&quot;: &quot;B5&quot;, &quot;FUNCSTAT10&quot;: &quot;S&quot;, &quot;GEOID10&quot;: &quot;3610004&quot;, &quot;INTPTLAT10&quot;: &quot;+40.6886296&quot;, &quot;INTPTLON10&quot;: &quot;-074.0182442&quot;, &quot;MTFCC10&quot;: &quot;G6350&quot;, &quot;PARTFLG10&quot;: &quot;N&quot;, &quot;STATEFP10&quot;: &quot;36&quot;, &quot;ZCTA5CE10&quot;: 10004, &quot;injuries&quot;: 2, &quot;zip_code&quot;: 10004}, &quot;type&quot;: &quot;Feature&quot;}, {&quot;bbox&quot;: [-74.001716, 40.758645, -73.973015, 40.772825], &quot;geometry&quot;: {&quot;coordinates&quot;: [[[-74.001163, 40.762021], [-73.997736, 40.765558], [-73.981341, 40.758645], [-73.980886, 40.75927], [-73.980426, 40.759899], [-73.977989, 40.759689], [-73.976744, 40.759165], [-73.976289, 40.759787], [-73.979513, 40.761148], [-73.979057, 40.761771], [-73.975831, 40.760418], [-73.973465, 40.763659], [-73.973015, 40.764279], [-73.982067, 40.768481], [-73.989994, 40.772242], [-73.993836, 40.772825], [-73.998752, 40.764682], [-74.001716, 40.762208], [-74.001163, 40.762021]]], &quot;type&quot;: &quot;Polygon&quot;}, &quot;id&quot;: &quot;157&quot;, &quot;properties&quot;: {&quot;ALAND10&quot;: 1761259, &quot;AWATER10&quot;: 0, &quot;CLASSFP10&quot;: &quot;B5&quot;, &quot;FUNCSTAT10&quot;: &quot;S&quot;, &quot;GEOID10&quot;: &quot;3610019&quot;, &quot;INTPTLAT10&quot;: &quot;+40.7657930&quot;, &quot;INTPTLON10&quot;: &quot;-073.9870674&quot;, &quot;MTFCC10&quot;: &quot;G6350&quot;, &quot;PARTFLG10&quot;: &quot;N&quot;, &quot;STATEFP10&quot;: &quot;36&quot;, &quot;ZCTA5CE10&quot;: 10019, &quot;injuries&quot;: 86, &quot;zip_code&quot;: 10019}, &quot;type&quot;: &quot;Feature&quot;}, {&quot;bbox&quot;: [-74.013754, 40.709806, -74.000455, 40.71719], &quot;geometry&quot;: {&quot;coordinates&quot;: [[[-74.013754, 40.71369], [-74.009988, 40.709806], [-74.000455, 40.714365], [-74.002115, 40.715159], [-74.003115, 40.714082], [-74.00542, 40.715236], [-74.004533, 40.71628], [-74.00794, 40.714927], [-74.012894, 40.71719], [-74.013754, 40.71369]], [[-74.007666, 40.712533], [-74.0081, 40.711995], [-74.009668, 40.712725], [-74.009254, 40.713256], [-74.007666, 40.712533]]], &quot;type&quot;: &quot;Polygon&quot;}, &quot;id&quot;: &quot;158&quot;, &quot;properties&quot;: {&quot;ALAND10&quot;: 423358, &quot;AWATER10&quot;: 0, &quot;CLASSFP10&quot;: &quot;B5&quot;, &quot;FUNCSTAT10&quot;: &quot;S&quot;, &quot;GEOID10&quot;: &quot;3610007&quot;, &quot;INTPTLAT10&quot;: &quot;+40.7138637&quot;, &quot;INTPTLON10&quot;: &quot;-074.0078064&quot;, &quot;MTFCC10&quot;: &quot;G6350&quot;, &quot;PARTFLG10&quot;: &quot;N&quot;, &quot;STATEFP10&quot;: &quot;36&quot;, &quot;ZCTA5CE10&quot;: 10007, &quot;injuries&quot;: 13, &quot;zip_code&quot;: 10007}, &quot;type&quot;: &quot;Feature&quot;}, {&quot;bbox&quot;: [-74.017368, 40.713378, -74.012894, 40.719611], &quot;geometry&quot;: {&quot;coordinates&quot;: [[[-74.013754, 40.71369], [-74.012894, 40.71719], [-74.013046, 40.719086], [-74.016864, 40.719611], [-74.017368, 40.713378], [-74.013754, 40.71369]]], &quot;type&quot;: &quot;Polygon&quot;}, &quot;id&quot;: &quot;159&quot;, &quot;properties&quot;: {&quot;ALAND10&quot;: 226578, &quot;AWATER10&quot;: 0, &quot;CLASSFP10&quot;: &quot;B5&quot;, &quot;FUNCSTAT10&quot;: &quot;S&quot;, &quot;GEOID10&quot;: &quot;3610282&quot;, &quot;INTPTLAT10&quot;: &quot;+40.7166515&quot;, &quot;INTPTLON10&quot;: &quot;-074.0153753&quot;, &quot;MTFCC10&quot;: &quot;G6350&quot;, &quot;PARTFLG10&quot;: &quot;N&quot;, &quot;STATEFP10&quot;: &quot;36&quot;, &quot;ZCTA5CE10&quot;: 10282, &quot;injuries&quot;: 0, &quot;zip_code&quot;: 10282}, &quot;type&quot;: &quot;Feature&quot;}, {&quot;bbox&quot;: [-73.92392, 40.682447, -73.852145, 40.714074], &quot;geometry&quot;: {&quot;coordinates&quot;: [[[-73.902854, 40.713793], [-73.904772, 40.712866], [-73.92392, 40.714074], [-73.921473, 40.709004], [-73.912058, 40.703446], [-73.911655, 40.699905], [-73.904425, 40.695671], [-73.902128, 40.691843], [-73.900988, 40.687616], [-73.896497, 40.682447], [-73.889575, 40.68418], [-73.874021, 40.694191], [-73.868917, 40.69515], [-73.870802, 40.697877], [-73.869156, 40.702893], [-73.852145, 40.702375], [-73.854747, 40.70683], [-73.857298, 40.711465], [-73.862079, 40.712201], [-73.874838, 40.70678], [-73.885532, 40.706446], [-73.902854, 40.713793]]], &quot;type&quot;: &quot;Polygon&quot;}, &quot;id&quot;: &quot;160&quot;, &quot;properties&quot;: {&quot;ALAND10&quot;: 9357002, &quot;AWATER10&quot;: 82983, &quot;CLASSFP10&quot;: &quot;B5&quot;, &quot;FUNCSTAT10&quot;: &quot;S&quot;, &quot;GEOID10&quot;: &quot;3611385&quot;, &quot;INTPTLAT10&quot;: &quot;+40.7006713&quot;, &quot;INTPTLON10&quot;: &quot;-073.8894333&quot;, &quot;MTFCC10&quot;: &quot;G6350&quot;, &quot;PARTFLG10&quot;: &quot;N&quot;, &quot;STATEFP10&quot;: &quot;36&quot;, &quot;ZCTA5CE10&quot;: 11385, &quot;injuries&quot;: 198, &quot;zip_code&quot;: 11385}, &quot;type&quot;: &quot;Feature&quot;}, {&quot;bbox&quot;: [-73.803962, 40.686913, -73.769895, 40.708464], &quot;geometry&quot;: {&quot;coordinates&quot;: [[[-73.780359, 40.708464], [-73.78957, 40.707222], [-73.79609, 40.703294], [-73.793577, 40.699756], [-73.795722, 40.699015], [-73.798415, 40.702741], [-73.80242, 40.701786], [-73.803962, 40.701052], [-73.800936, 40.694425], [-73.794371, 40.686913], [-73.787005, 40.688568], [-73.775799, 40.693037], [-73.769895, 40.696359], [-73.775465, 40.705319], [-73.780359, 40.708464]]], &quot;type&quot;: &quot;Polygon&quot;}, &quot;id&quot;: &quot;161&quot;, &quot;properties&quot;: {&quot;ALAND10&quot;: 4019554, &quot;AWATER10&quot;: 0, &quot;CLASSFP10&quot;: &quot;B5&quot;, &quot;FUNCSTAT10&quot;: &quot;S&quot;, &quot;GEOID10&quot;: &quot;3611433&quot;, &quot;INTPTLAT10&quot;: &quot;+40.6981616&quot;, &quot;INTPTLON10&quot;: &quot;-073.7868930&quot;, &quot;MTFCC10&quot;: &quot;G6350&quot;, &quot;PARTFLG10&quot;: &quot;N&quot;, &quot;STATEFP10&quot;: &quot;36&quot;, &quot;ZCTA5CE10&quot;: 11433, &quot;injuries&quot;: 94, &quot;zip_code&quot;: 11433}, &quot;type&quot;: &quot;Feature&quot;}, {&quot;bbox&quot;: [-73.858632, 40.771619, -73.824998, 40.796787], &quot;geometry&quot;: {&quot;coordinates&quot;: [[[-73.824998, 40.781732], [-73.830539, 40.784646], [-73.832144, 40.790095], [-73.836475, 40.792494], [-73.838434, 40.796787], [-73.841905, 40.795622], [-73.852582, 40.794613], [-73.855362, 40.78733], [-73.858632, 40.785837], [-73.855379, 40.782202], [-73.849326, 40.782514], [-73.848178, 40.776706], [-73.839766, 40.77653], [-73.836332, 40.778529], [-73.833507, 40.771619], [-73.8281, 40.776031], [-73.825993, 40.77982], [-73.824998, 40.781732]]], &quot;type&quot;: &quot;Polygon&quot;}, &quot;id&quot;: &quot;162&quot;, &quot;properties&quot;: {&quot;ALAND10&quot;: 4069871, &quot;AWATER10&quot;: 0, &quot;CLASSFP10&quot;: &quot;B5&quot;, &quot;FUNCSTAT10&quot;: &quot;S&quot;, &quot;GEOID10&quot;: &quot;3611356&quot;, &quot;INTPTLAT10&quot;: &quot;+40.7848502&quot;, &quot;INTPTLON10&quot;: &quot;-073.8412794&quot;, &quot;MTFCC10&quot;: &quot;G6350&quot;, &quot;PARTFLG10&quot;: &quot;N&quot;, &quot;STATEFP10&quot;: &quot;36&quot;, &quot;ZCTA5CE10&quot;: 11356, &quot;injuries&quot;: 29, &quot;zip_code&quot;: 11356}, &quot;type&quot;: &quot;Feature&quot;}, {&quot;bbox&quot;: [-73.858522, 40.70683, -73.825793, 40.740048], &quot;geometry&quot;: {&quot;coordinates&quot;: [[[-73.830627, 40.714341], [-73.825956, 40.716022], [-73.825793, 40.716146], [-73.831909, 40.717986], [-73.835576, 40.721912], [-73.837768, 40.726697], [-73.844118, 40.733843], [-73.845319, 40.740048], [-73.853392, 40.73694], [-73.856152, 40.735648], [-73.85173, 40.728478], [-73.858522, 40.721529], [-73.857298, 40.711465], [-73.854747, 40.70683], [-73.843016, 40.709176], [-73.830627, 40.714341]]], &quot;type&quot;: &quot;Polygon&quot;}, &quot;id&quot;: &quot;163&quot;, &quot;properties&quot;: {&quot;ALAND10&quot;: 5129162, &quot;AWATER10&quot;: 0, &quot;CLASSFP10&quot;: &quot;B5&quot;, &quot;FUNCSTAT10&quot;: &quot;S&quot;, &quot;GEOID10&quot;: &quot;3611375&quot;, &quot;INTPTLAT10&quot;: &quot;+40.7209355&quot;, &quot;INTPTLON10&quot;: &quot;-073.8461509&quot;, &quot;MTFCC10&quot;: &quot;G6350&quot;, &quot;PARTFLG10&quot;: &quot;N&quot;, &quot;STATEFP10&quot;: &quot;36&quot;, &quot;ZCTA5CE10&quot;: 11375, &quot;injuries&quot;: 123, &quot;zip_code&quot;: 11375}, &quot;type&quot;: &quot;Feature&quot;}, {&quot;bbox&quot;: [-73.927635, 40.736139, -73.909813, 40.751574], &quot;geometry&quot;: {&quot;coordinates&quot;: [[[-73.925787, 40.736139], [-73.92304, 40.740436], [-73.91686, 40.742841], [-73.91471, 40.748821], [-73.909813, 40.751574], [-73.920273, 40.749508], [-73.925467, 40.747432], [-73.927635, 40.736597], [-73.925787, 40.736139]]], &quot;type&quot;: &quot;Polygon&quot;}, &quot;id&quot;: &quot;164&quot;, &quot;properties&quot;: {&quot;ALAND10&quot;: 1010093, &quot;AWATER10&quot;: 0, &quot;CLASSFP10&quot;: &quot;B5&quot;, &quot;FUNCSTAT10&quot;: &quot;S&quot;, &quot;GEOID10&quot;: &quot;3611104&quot;, &quot;INTPTLAT10&quot;: &quot;+40.7446166&quot;, &quot;INTPTLON10&quot;: &quot;-073.9202137&quot;, &quot;MTFCC10&quot;: &quot;G6350&quot;, &quot;PARTFLG10&quot;: &quot;N&quot;, &quot;STATEFP10&quot;: &quot;36&quot;, &quot;ZCTA5CE10&quot;: 11104, &quot;injuries&quot;: 31, &quot;zip_code&quot;: 11104}, &quot;type&quot;: &quot;Feature&quot;}, {&quot;bbox&quot;: [-74.123112, 40.578192, -74.068761, 40.638096], &quot;geometry&quot;: {&quot;coordinates&quot;: [[[-74.093525, 40.612917], [-74.099351, 40.612419], [-74.096264, 40.608874], [-74.097896, 40.606022], [-74.103973, 40.603094], [-74.107091, 40.604313], [-74.112698, 40.603067], [-74.113023, 40.600135], [-74.123112, 40.585104], [-74.119149, 40.581508], [-74.118289, 40.578192], [-74.107781, 40.584353], [-74.102079, 40.588741], [-74.098493, 40.587106], [-74.089249, 40.594109], [-74.085483, 40.601128], [-74.079429, 40.609099], [-74.074547, 40.616943], [-74.070287, 40.621008], [-74.074152, 40.626816], [-74.068761, 40.627408], [-74.069353, 40.638096], [-74.075073, 40.637783], [-74.075959, 40.63197], [-74.085749, 40.633955], [-74.088077, 40.631081], [-74.088675, 40.621031], [-74.092643, 40.618212], [-74.093525, 40.612917]]], &quot;type&quot;: &quot;Polygon&quot;}, &quot;id&quot;: &quot;165&quot;, &quot;properties&quot;: {&quot;ALAND10&quot;: 10035690, &quot;AWATER10&quot;: 19194, &quot;CLASSFP10&quot;: &quot;B5&quot;, &quot;FUNCSTAT10&quot;: &quot;S&quot;, &quot;GEOID10&quot;: &quot;3610304&quot;, &quot;INTPTLAT10&quot;: &quot;+40.6079938&quot;, &quot;INTPTLON10&quot;: &quot;-074.0928591&quot;, &quot;MTFCC10&quot;: &quot;G6350&quot;, &quot;PARTFLG10&quot;: &quot;N&quot;, &quot;STATEFP10&quot;: &quot;36&quot;, &quot;ZCTA5CE10&quot;: 10304, &quot;injuries&quot;: 86, &quot;zip_code&quot;: 10304}, &quot;type&quot;: &quot;Feature&quot;}, {&quot;bbox&quot;: [-74.246595, 40.500998, -74.193264, 40.558325], &quot;geometry&quot;: {&quot;coordinates&quot;: [[[-74.197544, 40.511187], [-74.193642, 40.512709], [-74.193264, 40.517305], [-74.199436, 40.525873], [-74.196084, 40.529912], [-74.203053, 40.544277], [-74.206129, 40.543542], [-74.211108, 40.555687], [-74.206392, 40.558102], [-74.212995, 40.558325], [-74.21747, 40.555131], [-74.229141, 40.555873], [-74.242347, 40.54684], [-74.246595, 40.545376], [-74.245116, 40.538456], [-74.241771, 40.531119], [-74.243666, 40.524938], [-74.242416, 40.520325], [-74.234821, 40.519516], [-74.232822, 40.516337], [-74.228, 40.50179], [-74.225266, 40.500998], [-74.221633, 40.501071], [-74.223215, 40.508659], [-74.210085, 40.51079], [-74.204935, 40.512035], [-74.197544, 40.511187]]], &quot;type&quot;: &quot;Polygon&quot;}, &quot;id&quot;: &quot;166&quot;, &quot;properties&quot;: {&quot;ALAND10&quot;: 17402201, &quot;AWATER10&quot;: 108120, &quot;CLASSFP10&quot;: &quot;B5&quot;, &quot;FUNCSTAT10&quot;: &quot;S&quot;, &quot;GEOID10&quot;: &quot;3610309&quot;, &quot;INTPTLAT10&quot;: &quot;+40.5315155&quot;, &quot;INTPTLON10&quot;: &quot;-074.2209706&quot;, &quot;MTFCC10&quot;: &quot;G6350&quot;, &quot;PARTFLG10&quot;: &quot;N&quot;, &quot;STATEFP10&quot;: &quot;36&quot;, &quot;ZCTA5CE10&quot;: 10309, &quot;injuries&quot;: 51, &quot;zip_code&quot;: 10309}, &quot;type&quot;: &quot;Feature&quot;}, {&quot;bbox&quot;: [-74.255895, 40.496369, -74.210085, 40.520325], &quot;geometry&quot;: {&quot;coordinates&quot;: [[[[-74.210085, 40.51079], [-74.223215, 40.508659], [-74.221633, 40.501071], [-74.216429, 40.502257], [-74.211581, 40.506516], [-74.210085, 40.51079]]], [[[-74.242416, 40.520325], [-74.246426, 40.51618], [-74.252117, 40.514239], [-74.255895, 40.507728], [-74.254253, 40.502128], [-74.249977, 40.496565], [-74.241632, 40.496369], [-74.236533, 40.499849], [-74.229169, 40.501591], [-74.225266, 40.500998], [-74.228, 40.50179], [-74.232822, 40.516337], [-74.234821, 40.519516], [-74.242416, 40.520325]]]], &quot;type&quot;: &quot;MultiPolygon&quot;}, &quot;id&quot;: &quot;167&quot;, &quot;properties&quot;: {&quot;ALAND10&quot;: 5082132, &quot;AWATER10&quot;: 17221, &quot;CLASSFP10&quot;: &quot;B5&quot;, &quot;FUNCSTAT10&quot;: &quot;S&quot;, &quot;GEOID10&quot;: &quot;3610307&quot;, &quot;INTPTLAT10&quot;: &quot;+40.5083206&quot;, &quot;INTPTLON10&quot;: &quot;-074.2371373&quot;, &quot;MTFCC10&quot;: &quot;G6350&quot;, &quot;PARTFLG10&quot;: &quot;N&quot;, &quot;STATEFP10&quot;: &quot;36&quot;, &quot;ZCTA5CE10&quot;: 10307, &quot;injuries&quot;: 9, &quot;zip_code&quot;: 10307}, &quot;type&quot;: &quot;Feature&quot;}, {&quot;bbox&quot;: [-73.86538, 40.879425, -73.819719, 40.904732], &quot;geometry&quot;: {&quot;coordinates&quot;: [[[-73.855691, 40.884212], [-73.842738, 40.879425], [-73.838743, 40.881266], [-73.834346, 40.88385], [-73.823242, 40.887485], [-73.819719, 40.890206], [-73.823244, 40.891199], [-73.824403, 40.889978], [-73.838407, 40.894061], [-73.841318, 40.903987], [-73.844728, 40.904732], [-73.84955, 40.903045], [-73.853434, 40.898115], [-73.859258, 40.900338], [-73.862875, 40.895154], [-73.86538, 40.886884], [-73.855691, 40.884212]]], &quot;type&quot;: &quot;Polygon&quot;}, &quot;id&quot;: &quot;168&quot;, &quot;properties&quot;: {&quot;ALAND10&quot;: 5227062, &quot;AWATER10&quot;: 5688, &quot;CLASSFP10&quot;: &quot;B5&quot;, &quot;FUNCSTAT10&quot;: &quot;S&quot;, &quot;GEOID10&quot;: &quot;3610466&quot;, &quot;INTPTLAT10&quot;: &quot;+40.8909641&quot;, &quot;INTPTLON10&quot;: &quot;-073.8462394&quot;, &quot;MTFCC10&quot;: &quot;G6350&quot;, &quot;PARTFLG10&quot;: &quot;N&quot;, &quot;STATEFP10&quot;: &quot;36&quot;, &quot;ZCTA5CE10&quot;: 10466, &quot;injuries&quot;: 148, &quot;zip_code&quot;: 10466}, &quot;type&quot;: &quot;Feature&quot;}, {&quot;bbox&quot;: [-73.90299, 40.815845, -73.879983, 40.83468], &quot;geometry&quot;: {&quot;coordinates&quot;: [[[-73.879983, 40.83468], [-73.885633, 40.830642], [-73.896302, 40.833543], [-73.898794, 40.830105], [-73.90299, 40.820027], [-73.895428, 40.815845], [-73.890235, 40.820949], [-73.884568, 40.82316], [-73.88397, 40.829717], [-73.879983, 40.83468]]], &quot;type&quot;: &quot;Polygon&quot;}, &quot;id&quot;: &quot;169&quot;, &quot;properties&quot;: {&quot;ALAND10&quot;: 2115928, &quot;AWATER10&quot;: 0, &quot;CLASSFP10&quot;: &quot;B5&quot;, &quot;FUNCSTAT10&quot;: &quot;S&quot;, &quot;GEOID10&quot;: &quot;3610459&quot;, &quot;INTPTLAT10&quot;: &quot;+40.8258746&quot;, &quot;INTPTLON10&quot;: &quot;-073.8929714&quot;, &quot;MTFCC10&quot;: &quot;G6350&quot;, &quot;PARTFLG10&quot;: &quot;N&quot;, &quot;STATEFP10&quot;: &quot;36&quot;, &quot;ZCTA5CE10&quot;: 10459, &quot;injuries&quot;: 120, &quot;zip_code&quot;: 10459}, &quot;type&quot;: &quot;Feature&quot;}, {&quot;bbox&quot;: [-73.928242, 40.844632, -73.899949, 40.860601], &quot;geometry&quot;: {&quot;coordinates&quot;: [[[-73.899949, 40.85742], [-73.911015, 40.860601], [-73.91929, 40.857475], [-73.928242, 40.845353], [-73.922661, 40.844632], [-73.921044, 40.84652], [-73.911049, 40.845143], [-73.907408, 40.847788], [-73.899949, 40.85742]]], &quot;type&quot;: &quot;Polygon&quot;}, &quot;id&quot;: &quot;170&quot;, &quot;properties&quot;: {&quot;ALAND10&quot;: 2372412, &quot;AWATER10&quot;: 12725, &quot;CLASSFP10&quot;: &quot;B5&quot;, &quot;FUNCSTAT10&quot;: &quot;S&quot;, &quot;GEOID10&quot;: &quot;3610453&quot;, &quot;INTPTLAT10&quot;: &quot;+40.8527788&quot;, &quot;INTPTLON10&quot;: &quot;-073.9123318&quot;, &quot;MTFCC10&quot;: &quot;G6350&quot;, &quot;PARTFLG10&quot;: &quot;N&quot;, &quot;STATEFP10&quot;: &quot;36&quot;, &quot;ZCTA5CE10&quot;: 10453, &quot;injuries&quot;: 140, &quot;zip_code&quot;: 10453}, &quot;type&quot;: &quot;Feature&quot;}, {&quot;bbox&quot;: [-73.902988, 40.800926, -73.868379, 40.82316], &quot;geometry&quot;: {&quot;coordinates&quot;: [[[-73.901892, 40.805007], [-73.890667, 40.806369], [-73.884873, 40.801911], [-73.880529, 40.802564], [-73.872042, 40.800926], [-73.868379, 40.806567], [-73.871959, 40.813731], [-73.878518, 40.815799], [-73.884328, 40.822614], [-73.884568, 40.82316], [-73.890235, 40.820949], [-73.895428, 40.815845], [-73.902988, 40.809364], [-73.901892, 40.805007]]], &quot;type&quot;: &quot;Polygon&quot;}, &quot;id&quot;: &quot;171&quot;, &quot;properties&quot;: {&quot;ALAND10&quot;: 3970898, &quot;AWATER10&quot;: 0, &quot;CLASSFP10&quot;: &quot;B5&quot;, &quot;FUNCSTAT10&quot;: &quot;S&quot;, &quot;GEOID10&quot;: &quot;3610474&quot;, &quot;INTPTLAT10&quot;: &quot;+40.8106143&quot;, &quot;INTPTLON10&quot;: &quot;-073.8844115&quot;, &quot;MTFCC10&quot;: &quot;G6350&quot;, &quot;PARTFLG10&quot;: &quot;N&quot;, &quot;STATEFP10&quot;: &quot;36&quot;, &quot;ZCTA5CE10&quot;: 10474, &quot;injuries&quot;: 53, &quot;zip_code&quot;: 10474}, &quot;type&quot;: &quot;Feature&quot;}, {&quot;bbox&quot;: [-74.014775, 40.580281, -73.982812, 40.616314], &quot;geometry&quot;: {&quot;coordinates&quot;: [[[-74.000824, 40.616314], [-74.01237, 40.605214], [-74.014775, 40.602014], [-74.003446, 40.596179], [-73.998586, 40.590543], [-73.998424, 40.585653], [-74.000418, 40.583546], [-73.988222, 40.580281], [-73.982812, 40.583792], [-73.987255, 40.607245], [-74.000824, 40.616314]]], &quot;type&quot;: &quot;Polygon&quot;}, &quot;id&quot;: &quot;172&quot;, &quot;properties&quot;: {&quot;ALAND10&quot;: 5658758, &quot;AWATER10&quot;: 7472, &quot;CLASSFP10&quot;: &quot;B5&quot;, &quot;FUNCSTAT10&quot;: &quot;S&quot;, &quot;GEOID10&quot;: &quot;3611214&quot;, &quot;INTPTLAT10&quot;: &quot;+40.5991479&quot;, &quot;INTPTLON10&quot;: &quot;-073.9960898&quot;, &quot;MTFCC10&quot;: &quot;G6350&quot;, &quot;PARTFLG10&quot;: &quot;N&quot;, &quot;STATEFP10&quot;: &quot;36&quot;, &quot;ZCTA5CE10&quot;: 11214, &quot;injuries&quot;: 120, &quot;zip_code&quot;: 11214}, &quot;type&quot;: &quot;Feature&quot;}, {&quot;bbox&quot;: [-74.008117, 40.683319, -73.973126, 40.705769], &quot;geometry&quot;: {&quot;coordinates&quot;: [[[-73.99793, 40.699581], [-73.998409, 40.698834], [-73.998789, 40.698149], [-73.999187, 40.697278], [-73.999643, 40.696497], [-73.999911, 40.696098], [-74.000424, 40.694995], [-74.000625, 40.693991], [-74.001425, 40.693217], [-74.001881, 40.692476], [-74.002325, 40.691588], [-74.002633, 40.691068], [-74.002928, 40.690385], [-74.00332, 40.689786], [-74.003921, 40.689076], [-74.004868, 40.688494], [-74.005806, 40.687778], [-74.006952, 40.687206], [-74.008117, 40.686615], [-74.001389, 40.687751], [-73.989992, 40.683319], [-73.986568, 40.688408], [-73.980429, 40.689901], [-73.973126, 40.689622], [-73.973855, 40.693287], [-73.979168, 40.693489], [-73.980632, 40.696346], [-73.979233, 40.705769], [-73.993655, 40.704702], [-73.995657, 40.702851], [-73.997641, 40.700156], [-73.99793, 40.699581]]], &quot;type&quot;: &quot;Polygon&quot;}, &quot;id&quot;: &quot;173&quot;, &quot;properties&quot;: {&quot;ALAND10&quot;: 3680347, &quot;AWATER10&quot;: 14550, &quot;CLASSFP10&quot;: &quot;B5&quot;, &quot;FUNCSTAT10&quot;: &quot;S&quot;, &quot;GEOID10&quot;: &quot;3611201&quot;, &quot;INTPTLAT10&quot;: &quot;+40.6936820&quot;, &quot;INTPTLON10&quot;: &quot;-073.9896934&quot;, &quot;MTFCC10&quot;: &quot;G6350&quot;, &quot;PARTFLG10&quot;: &quot;N&quot;, &quot;STATEFP10&quot;: &quot;36&quot;, &quot;ZCTA5CE10&quot;: 11201, &quot;injuries&quot;: 162, &quot;zip_code&quot;: 11201}, &quot;type&quot;: &quot;Feature&quot;}, {&quot;bbox&quot;: [-73.991929, 40.630707, -73.964925, 40.658723], &quot;geometry&quot;: {&quot;coordinates&quot;: [[[-73.975157, 40.658723], [-73.981796, 40.655246], [-73.980291, 40.647297], [-73.989059, 40.644119], [-73.991929, 40.642205], [-73.981432, 40.634955], [-73.977249, 40.630707], [-73.965382, 40.636279], [-73.964925, 40.638851], [-73.967028, 40.649948], [-73.966213, 40.653189], [-73.972363, 40.651572], [-73.975157, 40.658723]]], &quot;type&quot;: &quot;Polygon&quot;}, &quot;id&quot;: &quot;174&quot;, &quot;properties&quot;: {&quot;ALAND10&quot;: 3699262, &quot;AWATER10&quot;: 0, &quot;CLASSFP10&quot;: &quot;B5&quot;, &quot;FUNCSTAT10&quot;: &quot;S&quot;, &quot;GEOID10&quot;: &quot;3611218&quot;, &quot;INTPTLAT10&quot;: &quot;+40.6434760&quot;, &quot;INTPTLON10&quot;: &quot;-073.9760425&quot;, &quot;MTFCC10&quot;: &quot;G6350&quot;, &quot;PARTFLG10&quot;: &quot;N&quot;, &quot;STATEFP10&quot;: &quot;36&quot;, &quot;ZCTA5CE10&quot;: 11218, &quot;injuries&quot;: 114, &quot;zip_code&quot;: 11218}, &quot;type&quot;: &quot;Feature&quot;}, {&quot;bbox&quot;: [-73.729661, 40.710926, -73.684779, 40.738896], &quot;geometry&quot;: {&quot;coordinates&quot;: [[[-73.700983, 40.738896], [-73.71371, 40.736175], [-73.7105, 40.727227], [-73.71588, 40.726542], [-73.729633, 40.722453], [-73.729661, 40.720483], [-73.729176, 40.719167], [-73.722394, 40.72087], [-73.71977, 40.716308], [-73.710531, 40.71785], [-73.708236, 40.713565], [-73.701304, 40.710926], [-73.696275, 40.713402], [-73.686015, 40.711934], [-73.684779, 40.714708], [-73.68909, 40.71799], [-73.687896, 40.723318], [-73.692353, 40.723729], [-73.698369, 40.737212], [-73.700983, 40.738896]]], &quot;type&quot;: &quot;Polygon&quot;}, &quot;id&quot;: &quot;175&quot;, &quot;properties&quot;: {&quot;ALAND10&quot;: 5775030, &quot;AWATER10&quot;: 34951, &quot;CLASSFP10&quot;: &quot;B5&quot;, &quot;FUNCSTAT10&quot;: &quot;S&quot;, &quot;GEOID10&quot;: &quot;3611001&quot;, &quot;INTPTLAT10&quot;: &quot;+40.7233167&quot;, &quot;INTPTLON10&quot;: &quot;-073.7049494&quot;, &quot;MTFCC10&quot;: &quot;G6350&quot;, &quot;PARTFLG10&quot;: &quot;N&quot;, &quot;STATEFP10&quot;: &quot;36&quot;, &quot;ZCTA5CE10&quot;: 11001, &quot;injuries&quot;: 4, &quot;zip_code&quot;: 11001}, &quot;type&quot;: &quot;Feature&quot;}, {&quot;bbox&quot;: [-73.947051, 40.849745, -73.910587, 40.87757], &quot;geometry&quot;: {&quot;coordinates&quot;: [[[-73.938947, 40.856079], [-73.936703, 40.858925], [-73.931313, 40.859328], [-73.929162, 40.864471], [-73.924715, 40.861552], [-73.92216, 40.855607], [-73.918519, 40.860977], [-73.911771, 40.868096], [-73.910587, 40.872456], [-73.917505, 40.874526], [-73.922549, 40.87757], [-73.928471, 40.877243], [-73.931475, 40.873431], [-73.933176, 40.866571], [-73.943201, 40.852711], [-73.947051, 40.850517], [-73.943186, 40.849745], [-73.938947, 40.856079]]], &quot;type&quot;: &quot;Polygon&quot;}, &quot;id&quot;: &quot;176&quot;, &quot;properties&quot;: {&quot;ALAND10&quot;: 2917184, &quot;AWATER10&quot;: 0, &quot;CLASSFP10&quot;: &quot;B5&quot;, &quot;FUNCSTAT10&quot;: &quot;S&quot;, &quot;GEOID10&quot;: &quot;3610034&quot;, &quot;INTPTLAT10&quot;: &quot;+40.8672300&quot;, &quot;INTPTLON10&quot;: &quot;-073.9244152&quot;, &quot;MTFCC10&quot;: &quot;G6350&quot;, &quot;PARTFLG10&quot;: &quot;N&quot;, &quot;STATEFP10&quot;: &quot;36&quot;, &quot;ZCTA5CE10&quot;: 10034, &quot;injuries&quot;: 58, &quot;zip_code&quot;: 10034}, &quot;type&quot;: &quot;Feature&quot;}, {&quot;bbox&quot;: [-74.010542, 40.702596, -73.991896, 40.714365], &quot;geometry&quot;: {&quot;coordinates&quot;: [[[-73.997532, 40.714023], [-74.000455, 40.714365], [-74.009988, 40.709806], [-74.010542, 40.709154], [-74.008893, 40.709044], [-74.008269, 40.707722], [-74.005194, 40.704945], [-74.007769, 40.702879], [-74.007531, 40.702596], [-73.997643, 40.708641], [-73.991896, 40.709535], [-73.996084, 40.709199], [-73.997532, 40.714023]]], &quot;type&quot;: &quot;Polygon&quot;}, &quot;id&quot;: &quot;177&quot;, &quot;properties&quot;: {&quot;ALAND10&quot;: 770757, &quot;AWATER10&quot;: 0, &quot;CLASSFP10&quot;: &quot;B5&quot;, &quot;FUNCSTAT10&quot;: &quot;S&quot;, &quot;GEOID10&quot;: &quot;3610038&quot;, &quot;INTPTLAT10&quot;: &quot;+40.7093204&quot;, &quot;INTPTLON10&quot;: &quot;-074.0025324&quot;, &quot;MTFCC10&quot;: &quot;G6350&quot;, &quot;PARTFLG10&quot;: &quot;N&quot;, &quot;STATEFP10&quot;: &quot;36&quot;, &quot;ZCTA5CE10&quot;: 10038, &quot;injuries&quot;: 15, &quot;zip_code&quot;: 10038}, &quot;type&quot;: &quot;Feature&quot;}, {&quot;bbox&quot;: [-73.944132, 40.842958, -73.92216, 40.861552], &quot;geometry&quot;: {&quot;coordinates&quot;: [[[-73.924715, 40.861552], [-73.924692, 40.856642], [-73.928151, 40.851863], [-73.938947, 40.856079], [-73.943186, 40.849745], [-73.944132, 40.845759], [-73.934671, 40.842958], [-73.929107, 40.845586], [-73.92216, 40.855607], [-73.924715, 40.861552]]], &quot;type&quot;: &quot;Polygon&quot;}, &quot;id&quot;: &quot;178&quot;, &quot;properties&quot;: {&quot;ALAND10&quot;: 1565761, &quot;AWATER10&quot;: 0, &quot;CLASSFP10&quot;: &quot;B5&quot;, &quot;FUNCSTAT10&quot;: &quot;S&quot;, &quot;GEOID10&quot;: &quot;3610033&quot;, &quot;INTPTLAT10&quot;: &quot;+40.8505376&quot;, &quot;INTPTLON10&quot;: &quot;-073.9338627&quot;, &quot;MTFCC10&quot;: &quot;G6350&quot;, &quot;PARTFLG10&quot;: &quot;N&quot;, &quot;STATEFP10&quot;: &quot;36&quot;, &quot;ZCTA5CE10&quot;: 10033, &quot;injuries&quot;: 85, &quot;zip_code&quot;: 10033}, &quot;type&quot;: &quot;Feature&quot;}, {&quot;bbox&quot;: [-74.006529, 40.743919, -73.984076, 40.759731], &quot;geometry&quot;: {&quot;coordinates&quot;: [[[-73.984076, 40.749102], [-73.998661, 40.755252], [-74.002942, 40.759731], [-74.005733, 40.75597], [-74.006529, 40.749553], [-73.992063, 40.743919], [-73.987746, 40.744066], [-73.984076, 40.749102]], [[-73.993948, 40.751522], [-73.99111, 40.750319], [-73.992006, 40.749101], [-73.994844, 40.750293], [-73.99768, 40.751485], [-73.99679, 40.752723], [-73.993948, 40.751522]]], &quot;type&quot;: &quot;Polygon&quot;}, &quot;id&quot;: &quot;179&quot;, &quot;properties&quot;: {&quot;ALAND10&quot;: 1609401, &quot;AWATER10&quot;: 0, &quot;CLASSFP10&quot;: &quot;B5&quot;, &quot;FUNCSTAT10&quot;: &quot;S&quot;, &quot;GEOID10&quot;: &quot;3610001&quot;, &quot;INTPTLAT10&quot;: &quot;+40.7506720&quot;, &quot;INTPTLON10&quot;: &quot;-073.9972808&quot;, &quot;MTFCC10&quot;: &quot;G6350&quot;, &quot;PARTFLG10&quot;: &quot;N&quot;, &quot;STATEFP10&quot;: &quot;36&quot;, &quot;ZCTA5CE10&quot;: 10001, &quot;injuries&quot;: 56, &quot;zip_code&quot;: 10001}, &quot;type&quot;: &quot;Feature&quot;}, {&quot;bbox&quot;: [-73.999604, 40.722933, -73.979864, 40.739673], &quot;geometry&quot;: {&quot;coordinates&quot;: [[[-73.999604, 40.731043], [-73.993147, 40.727867], [-73.992604, 40.724136], [-73.988643, 40.722933], [-73.979864, 40.734975], [-73.990945, 40.739673], [-73.996974, 40.731409], [-73.999604, 40.731043]]], &quot;type&quot;: &quot;Polygon&quot;}, &quot;id&quot;: &quot;180&quot;, &quot;properties&quot;: {&quot;ALAND10&quot;: 1493004, &quot;AWATER10&quot;: 0, &quot;CLASSFP10&quot;: &quot;B5&quot;, &quot;FUNCSTAT10&quot;: &quot;S&quot;, &quot;GEOID10&quot;: &quot;3610003&quot;, &quot;INTPTLAT10&quot;: &quot;+40.7318292&quot;, &quot;INTPTLON10&quot;: &quot;-073.9891809&quot;, &quot;MTFCC10&quot;: &quot;G6350&quot;, &quot;PARTFLG10&quot;: &quot;N&quot;, &quot;STATEFP10&quot;: &quot;36&quot;, &quot;ZCTA5CE10&quot;: 10003, &quot;injuries&quot;: 46, &quot;zip_code&quot;: 10003}, &quot;type&quot;: &quot;Feature&quot;}, {&quot;bbox&quot;: [-73.97845, 40.758538, -73.976744, 40.759689], &quot;geometry&quot;: {&quot;coordinates&quot;: [[[-73.976744, 40.759165], [-73.977989, 40.759689], [-73.97845, 40.759065], [-73.977201, 40.758538], [-73.976744, 40.759165]]], &quot;type&quot;: &quot;Polygon&quot;}, &quot;id&quot;: &quot;181&quot;, &quot;properties&quot;: {&quot;ALAND10&quot;: 9576, &quot;AWATER10&quot;: 0, &quot;CLASSFP10&quot;: &quot;B5&quot;, &quot;FUNCSTAT10&quot;: &quot;S&quot;, &quot;GEOID10&quot;: &quot;3610111&quot;, &quot;INTPTLAT10&quot;: &quot;+40.7591140&quot;, &quot;INTPTLON10&quot;: &quot;-073.9775960&quot;, &quot;MTFCC10&quot;: &quot;G6350&quot;, &quot;PARTFLG10&quot;: &quot;N&quot;, &quot;STATEFP10&quot;: &quot;36&quot;, &quot;ZCTA5CE10&quot;: 10111, &quot;injuries&quot;: 1, &quot;zip_code&quot;: 10111}, &quot;type&quot;: &quot;Feature&quot;}, {&quot;bbox&quot;: [-73.993836, 40.772242, -73.986609, 40.781007], &quot;geometry&quot;: {&quot;coordinates&quot;: [[[-73.993836, 40.772825], [-73.989994, 40.772242], [-73.986609, 40.780712], [-73.987223, 40.781007], [-73.993836, 40.772825]]], &quot;type&quot;: &quot;Polygon&quot;}, &quot;id&quot;: &quot;182&quot;, &quot;properties&quot;: {&quot;ALAND10&quot;: 269802, &quot;AWATER10&quot;: 0, &quot;CLASSFP10&quot;: &quot;B5&quot;, &quot;FUNCSTAT10&quot;: &quot;S&quot;, &quot;GEOID10&quot;: &quot;3610069&quot;, &quot;INTPTLAT10&quot;: &quot;+40.7759783&quot;, &quot;INTPTLON10&quot;: &quot;-073.9905277&quot;, &quot;MTFCC10&quot;: &quot;G6350&quot;, &quot;PARTFLG10&quot;: &quot;N&quot;, &quot;STATEFP10&quot;: &quot;36&quot;, &quot;ZCTA5CE10&quot;: 10069, &quot;injuries&quot;: 8, &quot;zip_code&quot;: 10069}, &quot;type&quot;: &quot;Feature&quot;}, {&quot;bbox&quot;: [-73.992063, 40.73231, -73.971566, 40.744066], &quot;geometry&quot;: {&quot;coordinates&quot;: [[[-73.990945, 40.739673], [-73.979864, 40.734975], [-73.97365, 40.73231], [-73.972145, 40.735668], [-73.971566, 40.742993], [-73.975249, 40.738015], [-73.987746, 40.744066], [-73.992063, 40.743919], [-73.990945, 40.739673]]], &quot;type&quot;: &quot;Polygon&quot;}, &quot;id&quot;: &quot;183&quot;, &quot;properties&quot;: {&quot;ALAND10&quot;: 1011819, &quot;AWATER10&quot;: 0, &quot;CLASSFP10&quot;: &quot;B5&quot;, &quot;FUNCSTAT10&quot;: &quot;S&quot;, &quot;GEOID10&quot;: &quot;3610010&quot;, &quot;INTPTLAT10&quot;: &quot;+40.7390449&quot;, &quot;INTPTLON10&quot;: &quot;-073.9822316&quot;, &quot;MTFCC10&quot;: &quot;G6350&quot;, &quot;PARTFLG10&quot;: &quot;N&quot;, &quot;STATEFP10&quot;: &quot;36&quot;, &quot;ZCTA5CE10&quot;: 10010, &quot;injuries&quot;: 39, &quot;zip_code&quot;: 10010}, &quot;type&quot;: &quot;Feature&quot;}, {&quot;bbox&quot;: [-73.978159, 40.751441, -73.976048, 40.752119], &quot;geometry&quot;: {&quot;coordinates&quot;: [[[-73.977107, 40.751883], [-73.977677, 40.752119], [-73.978159, 40.75146], [-73.976048, 40.751441], [-73.977107, 40.751883]]], &quot;type&quot;: &quot;Polygon&quot;}, &quot;id&quot;: &quot;184&quot;, &quot;properties&quot;: {&quot;ALAND10&quot;: 13211, &quot;AWATER10&quot;: 0, &quot;CLASSFP10&quot;: &quot;B5&quot;, &quot;FUNCSTAT10&quot;: &quot;S&quot;, &quot;GEOID10&quot;: &quot;3610168&quot;, &quot;INTPTLAT10&quot;: &quot;+40.7514484&quot;, &quot;INTPTLON10&quot;: &quot;-073.9771032&quot;, &quot;MTFCC10&quot;: &quot;G6350&quot;, &quot;PARTFLG10&quot;: &quot;N&quot;, &quot;STATEFP10&quot;: &quot;36&quot;, &quot;ZCTA5CE10&quot;: 10168, &quot;injuries&quot;: 2, &quot;zip_code&quot;: 10168}, &quot;type&quot;: &quot;Feature&quot;}, {&quot;bbox&quot;: [-73.902854, 40.706446, -73.860038, 40.730287], &quot;geometry&quot;: {&quot;coordinates&quot;: [[[-73.88724, 40.727834], [-73.886122, 40.721799], [-73.902854, 40.713793], [-73.885532, 40.706446], [-73.874838, 40.70678], [-73.862079, 40.712201], [-73.860038, 40.714932], [-73.873907, 40.728434], [-73.871429, 40.729248], [-73.875009, 40.730287], [-73.879587, 40.728599], [-73.88724, 40.727834]]], &quot;type&quot;: &quot;Polygon&quot;}, &quot;id&quot;: &quot;185&quot;, &quot;properties&quot;: {&quot;ALAND10&quot;: 5372961, &quot;AWATER10&quot;: 0, &quot;CLASSFP10&quot;: &quot;B5&quot;, &quot;FUNCSTAT10&quot;: &quot;S&quot;, &quot;GEOID10&quot;: &quot;3611379&quot;, &quot;INTPTLAT10&quot;: &quot;+40.7167485&quot;, &quot;INTPTLON10&quot;: &quot;-073.8796014&quot;, &quot;MTFCC10&quot;: &quot;G6350&quot;, &quot;PARTFLG10&quot;: &quot;N&quot;, &quot;STATEFP10&quot;: &quot;36&quot;, &quot;ZCTA5CE10&quot;: 11379, &quot;injuries&quot;: 44, &quot;zip_code&quot;: 11379}, &quot;type&quot;: &quot;Feature&quot;}, {&quot;bbox&quot;: [-73.845319, 40.716146, -73.80904, 40.743327], &quot;geometry&quot;: {&quot;coordinates&quot;: [[[-73.80904, 40.719912], [-73.810886, 40.727172], [-73.812703, 40.735753], [-73.809441, 40.738674], [-73.81477, 40.738878], [-73.82498, 40.743106], [-73.835902, 40.743327], [-73.845319, 40.740048], [-73.844118, 40.733843], [-73.837768, 40.726697], [-73.835576, 40.721912], [-73.831909, 40.717986], [-73.825793, 40.716146], [-73.811835, 40.717873], [-73.80904, 40.719912]]], &quot;type&quot;: &quot;Polygon&quot;}, &quot;id&quot;: &quot;186&quot;, &quot;properties&quot;: {&quot;ALAND10&quot;: 6162139, &quot;AWATER10&quot;: 481784, &quot;CLASSFP10&quot;: &quot;B5&quot;, &quot;FUNCSTAT10&quot;: &quot;S&quot;, &quot;GEOID10&quot;: &quot;3611367&quot;, &quot;INTPTLAT10&quot;: &quot;+40.7301446&quot;, &quot;INTPTLON10&quot;: &quot;-073.8270304&quot;, &quot;MTFCC10&quot;: &quot;G6350&quot;, &quot;PARTFLG10&quot;: &quot;N&quot;, &quot;STATEFP10&quot;: &quot;36&quot;, &quot;ZCTA5CE10&quot;: 11367, &quot;injuries&quot;: 91, &quot;zip_code&quot;: 11367}, &quot;type&quot;: &quot;Feature&quot;}, {&quot;bbox&quot;: [-73.825956, 40.682932, -73.794371, 40.717873], &quot;geometry&quot;: {&quot;coordinates&quot;: [[[-73.811835, 40.717873], [-73.825793, 40.716146], [-73.825956, 40.716022], [-73.824304, 40.713869], [-73.818383, 40.706729], [-73.813659, 40.697133], [-73.807858, 40.687123], [-73.805768, 40.682932], [-73.794578, 40.686107], [-73.794371, 40.686913], [-73.800936, 40.694425], [-73.803962, 40.701052], [-73.80242, 40.701786], [-73.804129, 40.70146], [-73.811835, 40.717873]]], &quot;type&quot;: &quot;Polygon&quot;}, &quot;id&quot;: &quot;187&quot;, &quot;properties&quot;: {&quot;ALAND10&quot;: 3922755, &quot;AWATER10&quot;: 0, &quot;CLASSFP10&quot;: &quot;B5&quot;, &quot;FUNCSTAT10&quot;: &quot;S&quot;, &quot;GEOID10&quot;: &quot;3611435&quot;, &quot;INTPTLAT10&quot;: &quot;+40.7012645&quot;, &quot;INTPTLON10&quot;: &quot;-073.8096047&quot;, &quot;MTFCC10&quot;: &quot;G6350&quot;, &quot;PARTFLG10&quot;: &quot;N&quot;, &quot;STATEFP10&quot;: &quot;36&quot;, &quot;ZCTA5CE10&quot;: 11435, &quot;injuries&quot;: 131, &quot;zip_code&quot;: 11435}, &quot;type&quot;: &quot;Feature&quot;}, {&quot;bbox&quot;: [-73.80533, 40.585849, -73.770197, 40.605621], &quot;geometry&quot;: {&quot;coordinates&quot;: [[[-73.770197, 40.590913], [-73.770231, 40.593975], [-73.779524, 40.592434], [-73.783375, 40.592722], [-73.784796, 40.597704], [-73.789471, 40.597611], [-73.790172, 40.59959], [-73.786086, 40.603281], [-73.789058, 40.605621], [-73.796779, 40.599648], [-73.8037, 40.599767], [-73.804547, 40.59587], [-73.802696, 40.592785], [-73.80533, 40.59052], [-73.801473, 40.585849], [-73.788771, 40.587726], [-73.774659, 40.590796], [-73.770197, 40.590913]]], &quot;type&quot;: &quot;Polygon&quot;}, &quot;id&quot;: &quot;188&quot;, &quot;properties&quot;: {&quot;ALAND10&quot;: 2586423, &quot;AWATER10&quot;: 180416, &quot;CLASSFP10&quot;: &quot;B5&quot;, &quot;FUNCSTAT10&quot;: &quot;S&quot;, &quot;GEOID10&quot;: &quot;3611692&quot;, &quot;INTPTLAT10&quot;: &quot;+40.5940945&quot;, &quot;INTPTLON10&quot;: &quot;-073.7928961&quot;, &quot;MTFCC10&quot;: &quot;G6350&quot;, &quot;PARTFLG10&quot;: &quot;N&quot;, &quot;STATEFP10&quot;: &quot;36&quot;, &quot;ZCTA5CE10&quot;: 11692, &quot;injuries&quot;: 29, &quot;zip_code&quot;: 11692}, &quot;type&quot;: &quot;Feature&quot;}, {&quot;bbox&quot;: [-73.92246, 40.753304, -73.903479, 40.771523], &quot;geometry&quot;: {&quot;coordinates&quot;: [[[-73.92246, 40.757427], [-73.91257, 40.753304], [-73.911498, 40.754557], [-73.903479, 40.76499], [-73.905239, 40.767776], [-73.910929, 40.768848], [-73.91431, 40.771523], [-73.92188, 40.763574], [-73.918966, 40.762204], [-73.92246, 40.757427]]], &quot;type&quot;: &quot;Polygon&quot;}, &quot;id&quot;: &quot;189&quot;, &quot;properties&quot;: {&quot;ALAND10&quot;: 1841677, &quot;AWATER10&quot;: 0, &quot;CLASSFP10&quot;: &quot;B5&quot;, &quot;FUNCSTAT10&quot;: &quot;S&quot;, &quot;GEOID10&quot;: &quot;3611103&quot;, &quot;INTPTLAT10&quot;: &quot;+40.7625741&quot;, &quot;INTPTLON10&quot;: &quot;-073.9134473&quot;, &quot;MTFCC10&quot;: &quot;G6350&quot;, &quot;PARTFLG10&quot;: &quot;N&quot;, &quot;STATEFP10&quot;: &quot;36&quot;, &quot;ZCTA5CE10&quot;: 11103, &quot;injuries&quot;: 70, &quot;zip_code&quot;: 11103}, &quot;type&quot;: &quot;Feature&quot;}, {&quot;bbox&quot;: [-73.938399, 40.763574, -73.91431, 40.782874], &quot;geometry&quot;: {&quot;coordinates&quot;: [[[-73.93519, 40.771745], [-73.935227, 40.769526], [-73.92188, 40.763574], [-73.91431, 40.771523], [-73.921522, 40.776613], [-73.917966, 40.781256], [-73.920425, 40.782874], [-73.92797, 40.776762], [-73.935739, 40.777157], [-73.938399, 40.774606], [-73.93519, 40.771745]]], &quot;type&quot;: &quot;Polygon&quot;}, &quot;id&quot;: &quot;190&quot;, &quot;properties&quot;: {&quot;ALAND10&quot;: 2092161, &quot;AWATER10&quot;: 7099, &quot;CLASSFP10&quot;: &quot;B5&quot;, &quot;FUNCSTAT10&quot;: &quot;S&quot;, &quot;GEOID10&quot;: &quot;3611102&quot;, &quot;INTPTLAT10&quot;: &quot;+40.7728839&quot;, &quot;INTPTLON10&quot;: &quot;-073.9262952&quot;, &quot;MTFCC10&quot;: &quot;G6350&quot;, &quot;PARTFLG10&quot;: &quot;N&quot;, &quot;STATEFP10&quot;: &quot;36&quot;, &quot;ZCTA5CE10&quot;: 11102, &quot;injuries&quot;: 53, &quot;zip_code&quot;: 11102}, &quot;type&quot;: &quot;Feature&quot;}, {&quot;bbox&quot;: [-73.834577, 40.582508, -73.801473, 40.615181], &quot;geometry&quot;: {&quot;coordinates&quot;: [[[[-73.801473, 40.585849], [-73.80533, 40.59052], [-73.802696, 40.592785], [-73.806817, 40.596422], [-73.810315, 40.592344], [-73.819093, 40.588139], [-73.815506, 40.582508], [-73.801473, 40.585849]]], [[[-73.822433, 40.605362], [-73.826079, 40.600104], [-73.834577, 40.596973], [-73.832611, 40.595093], [-73.824745, 40.594667], [-73.819281, 40.59753], [-73.815105, 40.606908], [-73.815989, 40.612925], [-73.820177, 40.615181], [-73.824152, 40.612064], [-73.822433, 40.605362]]]], &quot;type&quot;: &quot;MultiPolygon&quot;}, &quot;id&quot;: &quot;191&quot;, &quot;properties&quot;: {&quot;ALAND10&quot;: 2582599, &quot;AWATER10&quot;: 0, &quot;CLASSFP10&quot;: &quot;B5&quot;, &quot;FUNCSTAT10&quot;: &quot;S&quot;, &quot;GEOID10&quot;: &quot;3611693&quot;, &quot;INTPTLAT10&quot;: &quot;+40.5906918&quot;, &quot;INTPTLON10&quot;: &quot;-073.8097488&quot;, &quot;MTFCC10&quot;: &quot;G6350&quot;, &quot;PARTFLG10&quot;: &quot;N&quot;, &quot;STATEFP10&quot;: &quot;36&quot;, &quot;ZCTA5CE10&quot;: 11693, &quot;injuries&quot;: 19, &quot;zip_code&quot;: 11693}, &quot;type&quot;: &quot;Feature&quot;}, {&quot;bbox&quot;: [-73.887671, 40.755854, -73.854634, 40.771808], &quot;geometry&quot;: {&quot;coordinates&quot;: [[[-73.887671, 40.76672], [-73.882768, 40.767312], [-73.882579, 40.755854], [-73.872219, 40.756943], [-73.854634, 40.75813], [-73.860878, 40.763206], [-73.868054, 40.770113], [-73.873059, 40.771808], [-73.878619, 40.770863], [-73.887671, 40.76672]]], &quot;type&quot;: &quot;Polygon&quot;}, &quot;id&quot;: &quot;192&quot;, &quot;properties&quot;: {&quot;ALAND10&quot;: 2765090, &quot;AWATER10&quot;: 0, &quot;CLASSFP10&quot;: &quot;B5&quot;, &quot;FUNCSTAT10&quot;: &quot;S&quot;, &quot;GEOID10&quot;: &quot;3611369&quot;, &quot;INTPTLAT10&quot;: &quot;+40.7633359&quot;, &quot;INTPTLON10&quot;: &quot;-073.8724429&quot;, &quot;MTFCC10&quot;: &quot;G6350&quot;, &quot;PARTFLG10&quot;: &quot;N&quot;, &quot;STATEFP10&quot;: &quot;36&quot;, &quot;ZCTA5CE10&quot;: 11369, &quot;injuries&quot;: 86, &quot;zip_code&quot;: 11369}, &quot;type&quot;: &quot;Feature&quot;}, {&quot;bbox&quot;: [-73.755738, 40.764029, -73.73376, 40.781898], &quot;geometry&quot;: {&quot;coordinates&quot;: [[[-73.73376, 40.772469], [-73.749575, 40.781898], [-73.752665, 40.781892], [-73.755173, 40.776457], [-73.755738, 40.77148], [-73.753274, 40.765551], [-73.748729, 40.764029], [-73.739202, 40.766699], [-73.73376, 40.772469]]], &quot;type&quot;: &quot;Polygon&quot;}, &quot;id&quot;: &quot;193&quot;, &quot;properties&quot;: {&quot;ALAND10&quot;: 2249596, &quot;AWATER10&quot;: 0, &quot;CLASSFP10&quot;: &quot;B5&quot;, &quot;FUNCSTAT10&quot;: &quot;S&quot;, &quot;GEOID10&quot;: &quot;3611363&quot;, &quot;INTPTLAT10&quot;: &quot;+40.7726163&quot;, &quot;INTPTLON10&quot;: &quot;-073.7465255&quot;, &quot;MTFCC10&quot;: &quot;G6350&quot;, &quot;PARTFLG10&quot;: &quot;N&quot;, &quot;STATEFP10&quot;: &quot;36&quot;, &quot;ZCTA5CE10&quot;: 11363, &quot;injuries&quot;: 7, &quot;zip_code&quot;: 11363}, &quot;type&quot;: &quot;Feature&quot;}, {&quot;bbox&quot;: [-73.889068, 40.763206, -73.856537, 40.780661], &quot;geometry&quot;: {&quot;coordinates&quot;: [[[-73.887671, 40.76672], [-73.878619, 40.770863], [-73.873059, 40.771808], [-73.868054, 40.770113], [-73.860878, 40.763206], [-73.860274, 40.763444], [-73.862816, 40.76654], [-73.856537, 40.772799], [-73.871622, 40.780661], [-73.884504, 40.7797], [-73.883993, 40.774202], [-73.889068, 40.773682], [-73.887671, 40.76672]]], &quot;type&quot;: &quot;Polygon&quot;}, &quot;id&quot;: &quot;194&quot;, &quot;properties&quot;: {&quot;ALAND10&quot;: 2602752, &quot;AWATER10&quot;: 0, &quot;CLASSFP10&quot;: &quot;B5&quot;, &quot;FUNCSTAT10&quot;: &quot;S&quot;, &quot;GEOID10&quot;: &quot;3611371&quot;, &quot;INTPTLAT10&quot;: &quot;+40.7738362&quot;, &quot;INTPTLON10&quot;: &quot;-073.8733994&quot;, &quot;MTFCC10&quot;: &quot;G6350&quot;, &quot;PARTFLG10&quot;: &quot;N&quot;, &quot;STATEFP10&quot;: &quot;36&quot;, &quot;ZCTA5CE10&quot;: 11371, &quot;injuries&quot;: 5, &quot;zip_code&quot;: 11371}, &quot;type&quot;: &quot;Feature&quot;}, {&quot;bbox&quot;: [-73.781825, 40.786707, -73.770862, 40.795643], &quot;geometry&quot;: {&quot;coordinates&quot;: [[[-73.774194, 40.786707], [-73.770862, 40.788498], [-73.77551, 40.795643], [-73.781068, 40.794372], [-73.781825, 40.790631], [-73.774194, 40.786707]]], &quot;type&quot;: &quot;Polygon&quot;}, &quot;id&quot;: &quot;195&quot;, &quot;properties&quot;: {&quot;ALAND10&quot;: 636668, &quot;AWATER10&quot;: 0, &quot;CLASSFP10&quot;: &quot;B5&quot;, &quot;FUNCSTAT10&quot;: &quot;S&quot;, &quot;GEOID10&quot;: &quot;3611359&quot;, &quot;INTPTLAT10&quot;: &quot;+40.7917856&quot;, &quot;INTPTLON10&quot;: &quot;-073.7768669&quot;, &quot;MTFCC10&quot;: &quot;G6350&quot;, &quot;PARTFLG10&quot;: &quot;N&quot;, &quot;STATEFP10&quot;: &quot;36&quot;, &quot;ZCTA5CE10&quot;: 11359, &quot;injuries&quot;: 0, &quot;zip_code&quot;: 11359}, &quot;type&quot;: &quot;Feature&quot;}, {&quot;bbox&quot;: [-74.164941, 40.535756, -74.134558, 40.567857], &quot;geometry&quot;: {&quot;coordinates&quot;: [[[-74.134558, 40.551255], [-74.137762, 40.553882], [-74.145543, 40.553854], [-74.139665, 40.558649], [-74.143126, 40.560508], [-74.1517, 40.567857], [-74.157268, 40.56255], [-74.164941, 40.560112], [-74.162096, 40.549085], [-74.151785, 40.537701], [-74.14517, 40.535756], [-74.142169, 40.537293], [-74.141474, 40.542254], [-74.137205, 40.545726], [-74.138641, 40.548475], [-74.134558, 40.551255]]], &quot;type&quot;: &quot;Polygon&quot;}, &quot;id&quot;: &quot;196&quot;, &quot;properties&quot;: {&quot;ALAND10&quot;: 5110510, &quot;AWATER10&quot;: 12006, &quot;CLASSFP10&quot;: &quot;B5&quot;, &quot;FUNCSTAT10&quot;: &quot;S&quot;, &quot;GEOID10&quot;: &quot;3610308&quot;, &quot;INTPTLAT10&quot;: &quot;+40.5518840&quot;, &quot;INTPTLON10&quot;: &quot;-074.1476456&quot;, &quot;MTFCC10&quot;: &quot;G6350&quot;, &quot;PARTFLG10&quot;: &quot;N&quot;, &quot;STATEFP10&quot;: &quot;36&quot;, &quot;ZCTA5CE10&quot;: 10308, &quot;injuries&quot;: 27, &quot;zip_code&quot;: 10308}, &quot;type&quot;: &quot;Feature&quot;}], &quot;type&quot;: &quot;FeatureCollection&quot;});\n",
       "\n",
       "        \n",
       "    \n",
       "    var color_map_e302d9156825524a2acf9f7c53689cf4 = {};\n",
       "\n",
       "    \n",
       "    color_map_e302d9156825524a2acf9f7c53689cf4.color = d3.scale.threshold()\n",
       "              .domain([0.0, 0.8577154308617234, 1.7154308617234468, 2.5731462925851702, 3.4308617234468937, 4.2885771543086175, 5.1462925851703405, 6.004008016032064, 6.861723446893787, 7.719438877755511, 8.577154308617235, 9.434869739478957, 10.292585170340681, 11.150300601202405, 12.008016032064129, 12.865731462925853, 13.723446893787575, 14.581162324649299, 15.438877755511022, 16.296593186372746, 17.15430861723447, 18.012024048096194, 18.869739478957914, 19.727454909819638, 20.585170340681362, 21.442885771543086, 22.30060120240481, 23.158316633266534, 24.016032064128257, 24.87374749498998, 25.731462925851705, 26.589178356713425, 27.44689378757515, 28.304609218436873, 29.162324649298597, 30.02004008016032, 30.877755511022045, 31.73547094188377, 32.59318637274549, 33.450901803607216, 34.30861723446894, 35.166332665330664, 36.02404809619239, 36.88176352705411, 37.73947895791583, 38.59719438877755, 39.454909819639276, 40.312625250501, 41.170340681362724, 42.02805611222445, 42.88577154308617, 43.743486973947896, 44.60120240480962, 45.45891783567134, 46.31663326653307, 47.17434869739479, 48.032064128256515, 48.88977955911824, 49.74749498997996, 50.605210420841686, 51.46292585170341, 52.32064128256513, 53.17835671342685, 54.036072144288575, 54.8937875751503, 55.75150300601202, 56.609218436873746, 57.46693386773547, 58.324649298597194, 59.18236472945892, 60.04008016032064, 60.897795591182366, 61.75551102204409, 62.61322645290581, 63.47094188376754, 64.32865731462925, 65.18637274549098, 66.0440881763527, 66.90180360721443, 67.75951903807615, 68.61723446893788, 69.4749498997996, 70.33266533066133, 71.19038076152304, 72.04809619238478, 72.90581162324649, 73.76352705410822, 74.62124248496994, 75.47895791583166, 76.33667334669339, 77.1943887775551, 78.05210420841684, 78.90981963927855, 79.76753507014028, 80.625250501002, 81.48296593186373, 82.34068136272545, 83.19839679358718, 84.0561122244489, 84.91382765531063, 85.77154308617234, 86.62925851703407, 87.48697394789579, 88.34468937875752, 89.20240480961924, 90.06012024048096, 90.91783567134269, 91.7755511022044, 92.63326653306613, 93.49098196392785, 94.34869739478958, 95.2064128256513, 96.06412825651303, 96.92184368737475, 97.77955911823648, 98.6372745490982, 99.49498997995993, 100.35270541082164, 101.21042084168337, 102.06813627254509, 102.92585170340682, 103.78356713426854, 104.64128256513025, 105.49899799599199, 106.3567134268537, 107.21442885771543, 108.07214428857715, 108.92985971943888, 109.7875751503006, 110.64529058116233, 111.50300601202404, 112.36072144288578, 113.21843687374749, 114.07615230460922, 114.93386773547094, 115.79158316633267, 116.64929859719439, 117.50701402805612, 118.36472945891784, 119.22244488977955, 120.08016032064128, 120.937875751503, 121.79559118236473, 122.65330661322645, 123.51102204408818, 124.3687374749499, 125.22645290581163, 126.08416833667334, 126.94188376753507, 127.79959919839679, 128.6573146292585, 129.51503006012024, 130.37274549098197, 131.2304609218437, 132.0881763527054, 132.94589178356713, 133.80360721442887, 134.66132264529057, 135.5190380761523, 136.37675350701403, 137.23446893787576, 138.09218436873746, 138.9498997995992, 139.80761523046093, 140.66533066132266, 141.52304609218436, 142.3807615230461, 143.23847695390782, 144.09619238476955, 144.95390781563125, 145.81162324649299, 146.66933867735472, 147.52705410821645, 148.38476953907815, 149.24248496993988, 150.1002004008016, 150.9579158316633, 151.81563126252505, 152.67334669338678, 153.5310621242485, 154.3887775551102, 155.24649298597194, 156.10420841683367, 156.9619238476954, 157.8196392785571, 158.67735470941884, 159.53507014028057, 160.3927855711423, 161.250501002004, 162.10821643286573, 162.96593186372746, 163.82364729458916, 164.6813627254509, 165.53907815631263, 166.39679358717436, 167.25450901803606, 168.1122244488978, 168.96993987975952, 169.82765531062125, 170.68537074148296, 171.5430861723447, 172.40080160320642, 173.25851703406815, 174.11623246492985, 174.97394789579158, 175.8316633266533, 176.68937875751504, 177.54709418837675, 178.40480961923848, 179.2625250501002, 180.1202404809619, 180.97795591182364, 181.83567134268537, 182.6933867735471, 183.5511022044088, 184.40881763527054, 185.26653306613227, 186.124248496994, 186.9819639278557, 187.83967935871743, 188.69739478957916, 189.5551102204409, 190.4128256513026, 191.27054108216433, 192.12825651302606, 192.98597194388776, 193.8436873747495, 194.70140280561122, 195.55911823647295, 196.41683366733466, 197.2745490981964, 198.13226452905812, 198.98997995991985, 199.84769539078155, 200.70541082164328, 201.56312625250501, 202.42084168336675, 203.27855711422845, 204.13627254509018, 204.9939879759519, 205.85170340681364, 206.70941883767534, 207.56713426853707, 208.4248496993988, 209.2825651302605, 210.14028056112224, 210.99799599198397, 211.8557114228457, 212.7134268537074, 213.57114228456913, 214.42885771543087, 215.2865731462926, 216.1442885771543, 217.00200400801603, 217.85971943887776, 218.7174348697395, 219.5751503006012, 220.43286573146293, 221.29058116232466, 222.14829659318636, 223.0060120240481, 223.86372745490982, 224.72144288577155, 225.57915831663325, 226.43687374749499, 227.29458917835672, 228.15230460921845, 229.01002004008015, 229.86773547094188, 230.7254509018036, 231.58316633266534, 232.44088176352705, 233.29859719438878, 234.1563126252505, 235.01402805611224, 235.87174348697394, 236.72945891783567, 237.5871743486974, 238.4448897795591, 239.30260521042084, 240.16032064128257, 241.0180360721443, 241.875751503006, 242.73346693386773, 243.59118236472946, 244.4488977955912, 245.3066132264529, 246.16432865731463, 247.02204408817636, 247.8797595190381, 248.7374749498998, 249.59519038076152, 250.45290581162325, 251.31062124248496, 252.1683366733467, 253.02605210420842, 253.88376753507015, 254.74148296593185, 255.59919839679358, 256.4569138276553, 257.314629258517, 258.17234468937875, 259.0300601202405, 259.8877755511022, 260.74549098196394, 261.60320641282567, 262.4609218436874, 263.3186372745491, 264.1763527054108, 265.03406813627254, 265.89178356713427, 266.749498997996, 267.60721442885773, 268.46492985971946, 269.32264529058114, 270.18036072144287, 271.0380761523046, 271.89579158316633, 272.75350701402806, 273.6112224448898, 274.4689378757515, 275.32665330661325, 276.1843687374749, 277.04208416833666, 277.8997995991984, 278.7575150300601, 279.61523046092185, 280.4729458917836, 281.3306613226453, 282.188376753507, 283.0460921843687, 283.90380761523045, 284.7615230460922, 285.6192384769539, 286.47695390781564, 287.3346693386774, 288.1923847695391, 289.0501002004008, 289.9078156312625, 290.76553106212424, 291.62324649298597, 292.4809619238477, 293.33867735470943, 294.19639278557116, 295.0541082164329, 295.91182364729457, 296.7695390781563, 297.62725450901803, 298.48496993987976, 299.3426853707415, 300.2004008016032, 301.05811623246495, 301.9158316633266, 302.77354709418836, 303.6312625250501, 304.4889779559118, 305.34669338677355, 306.2044088176353, 307.062124248497, 307.91983967935874, 308.7775551102204, 309.63527054108215, 310.4929859719439, 311.3507014028056, 312.20841683366734, 313.0661322645291, 313.9238476953908, 314.7815631262525, 315.6392785571142, 316.49699398797594, 317.3547094188377, 318.2124248496994, 319.07014028056113, 319.92785571142286, 320.7855711422846, 321.64328657314627, 322.501002004008, 323.35871743486973, 324.21643286573146, 325.0741482965932, 325.9318637274549, 326.78957915831666, 327.64729458917833, 328.50501002004006, 329.3627254509018, 330.2204408817635, 331.07815631262525, 331.935871743487, 332.7935871743487, 333.65130260521045, 334.5090180360721, 335.36673346693385, 336.2244488977956, 337.0821643286573, 337.93987975951904, 338.7975951903808, 339.6553106212425, 340.5130260521042, 341.3707414829659, 342.22845691382764, 343.0861723446894, 343.9438877755511, 344.80160320641284, 345.65931863727457, 346.5170340681363, 347.37474949899797, 348.2324649298597, 349.09018036072143, 349.94789579158316, 350.8056112224449, 351.6633266533066, 352.52104208416836, 353.3787575150301, 354.23647294589176, 355.0941883767535, 355.9519038076152, 356.80961923847696, 357.6673346693387, 358.5250501002004, 359.38276553106215, 360.2404809619238, 361.09819639278555, 361.9559118236473, 362.813627254509, 363.67134268537075, 364.5290581162325, 365.3867735470942, 366.24448897795594, 367.1022044088176, 367.95991983967934, 368.8176352705411, 369.6753507014028, 370.53306613226454, 371.39078156312627, 372.248496993988, 373.1062124248497, 373.9639278557114, 374.82164328657313, 375.67935871743487, 376.5370741482966, 377.3947895791583, 378.25250501002006, 379.1102204408818, 379.96793587174346, 380.8256513026052, 381.6833667334669, 382.54108216432866, 383.3987975951904, 384.2565130260521, 385.11422845691385, 385.9719438877755, 386.82965931863725, 387.687374749499, 388.5450901803607, 389.40280561122245, 390.2605210420842, 391.1182364729459, 391.97595190380764, 392.8336673346693, 393.69138276553105, 394.5490981963928, 395.4068136272545, 396.26452905811624, 397.12224448897797, 397.9799599198397, 398.8376753507014, 399.6953907815631, 400.55310621242484, 401.41082164328657, 402.2685370741483, 403.12625250501003, 403.98396793587176, 404.8416833667335, 405.69939879759517, 406.5571142284569, 407.4148296593186, 408.27254509018036, 409.1302605210421, 409.9879759519038, 410.84569138276555, 411.7034068136273, 412.56112224448896, 413.4188376753507, 414.2765531062124, 415.13426853707415, 415.9919839679359, 416.8496993987976, 417.70741482965934, 418.565130260521, 419.42284569138275, 420.2805611222445, 421.1382765531062, 421.99599198396794, 422.85370741482967, 423.7114228456914, 424.56913827655313, 425.4268537074148, 426.28456913827654, 427.14228456913827, 428.0])\n",
       "              .range([&#x27;#ffffb2ff&#x27;, &#x27;#ffffb2ff&#x27;, &#x27;#ffffb2ff&#x27;, &#x27;#ffffb2ff&#x27;, &#x27;#ffffb2ff&#x27;, &#x27;#ffffb2ff&#x27;, &#x27;#ffffb2ff&#x27;, &#x27;#ffffb2ff&#x27;, &#x27;#ffffb2ff&#x27;, &#x27;#ffffb2ff&#x27;, &#x27;#ffffb2ff&#x27;, &#x27;#ffffb2ff&#x27;, &#x27;#ffffb2ff&#x27;, &#x27;#ffffb2ff&#x27;, &#x27;#ffffb2ff&#x27;, &#x27;#ffffb2ff&#x27;, &#x27;#ffffb2ff&#x27;, &#x27;#ffffb2ff&#x27;, &#x27;#ffffb2ff&#x27;, &#x27;#ffffb2ff&#x27;, &#x27;#ffffb2ff&#x27;, &#x27;#ffffb2ff&#x27;, &#x27;#ffffb2ff&#x27;, &#x27;#ffffb2ff&#x27;, &#x27;#ffffb2ff&#x27;, &#x27;#ffffb2ff&#x27;, &#x27;#ffffb2ff&#x27;, &#x27;#ffffb2ff&#x27;, &#x27;#ffffb2ff&#x27;, &#x27;#ffffb2ff&#x27;, &#x27;#ffffb2ff&#x27;, &#x27;#ffffb2ff&#x27;, &#x27;#ffffb2ff&#x27;, &#x27;#ffffb2ff&#x27;, &#x27;#ffffb2ff&#x27;, &#x27;#ffffb2ff&#x27;, &#x27;#ffffb2ff&#x27;, &#x27;#ffffb2ff&#x27;, &#x27;#ffffb2ff&#x27;, &#x27;#ffffb2ff&#x27;, &#x27;#ffffb2ff&#x27;, &#x27;#ffffb2ff&#x27;, &#x27;#ffffb2ff&#x27;, &#x27;#ffffb2ff&#x27;, &#x27;#ffffb2ff&#x27;, &#x27;#ffffb2ff&#x27;, &#x27;#ffffb2ff&#x27;, &#x27;#ffffb2ff&#x27;, &#x27;#ffffb2ff&#x27;, &#x27;#ffffb2ff&#x27;, &#x27;#ffffb2ff&#x27;, &#x27;#ffffb2ff&#x27;, &#x27;#ffffb2ff&#x27;, &#x27;#ffffb2ff&#x27;, &#x27;#ffffb2ff&#x27;, &#x27;#ffffb2ff&#x27;, &#x27;#ffffb2ff&#x27;, &#x27;#ffffb2ff&#x27;, &#x27;#ffffb2ff&#x27;, &#x27;#ffffb2ff&#x27;, &#x27;#ffffb2ff&#x27;, &#x27;#ffffb2ff&#x27;, &#x27;#ffffb2ff&#x27;, &#x27;#ffffb2ff&#x27;, &#x27;#ffffb2ff&#x27;, &#x27;#ffffb2ff&#x27;, &#x27;#ffffb2ff&#x27;, &#x27;#ffffb2ff&#x27;, &#x27;#ffffb2ff&#x27;, &#x27;#ffffb2ff&#x27;, &#x27;#ffffb2ff&#x27;, &#x27;#ffffb2ff&#x27;, &#x27;#ffffb2ff&#x27;, &#x27;#ffffb2ff&#x27;, &#x27;#ffffb2ff&#x27;, &#x27;#ffffb2ff&#x27;, &#x27;#ffffb2ff&#x27;, &#x27;#ffffb2ff&#x27;, &#x27;#ffffb2ff&#x27;, &#x27;#ffffb2ff&#x27;, &#x27;#ffffb2ff&#x27;, &#x27;#ffffb2ff&#x27;, &#x27;#ffffb2ff&#x27;, &#x27;#ffffb2ff&#x27;, &#x27;#fed976ff&#x27;, &#x27;#fed976ff&#x27;, &#x27;#fed976ff&#x27;, &#x27;#fed976ff&#x27;, &#x27;#fed976ff&#x27;, &#x27;#fed976ff&#x27;, &#x27;#fed976ff&#x27;, &#x27;#fed976ff&#x27;, &#x27;#fed976ff&#x27;, &#x27;#fed976ff&#x27;, &#x27;#fed976ff&#x27;, &#x27;#fed976ff&#x27;, &#x27;#fed976ff&#x27;, &#x27;#fed976ff&#x27;, &#x27;#fed976ff&#x27;, &#x27;#fed976ff&#x27;, &#x27;#fed976ff&#x27;, &#x27;#fed976ff&#x27;, &#x27;#fed976ff&#x27;, &#x27;#fed976ff&#x27;, &#x27;#fed976ff&#x27;, &#x27;#fed976ff&#x27;, &#x27;#fed976ff&#x27;, &#x27;#fed976ff&#x27;, &#x27;#fed976ff&#x27;, &#x27;#fed976ff&#x27;, &#x27;#fed976ff&#x27;, &#x27;#fed976ff&#x27;, &#x27;#fed976ff&#x27;, &#x27;#fed976ff&#x27;, &#x27;#fed976ff&#x27;, &#x27;#fed976ff&#x27;, &#x27;#fed976ff&#x27;, &#x27;#fed976ff&#x27;, &#x27;#fed976ff&#x27;, &#x27;#fed976ff&#x27;, &#x27;#fed976ff&#x27;, &#x27;#fed976ff&#x27;, &#x27;#fed976ff&#x27;, &#x27;#fed976ff&#x27;, &#x27;#fed976ff&#x27;, &#x27;#fed976ff&#x27;, &#x27;#fed976ff&#x27;, &#x27;#fed976ff&#x27;, &#x27;#fed976ff&#x27;, &#x27;#fed976ff&#x27;, &#x27;#fed976ff&#x27;, &#x27;#fed976ff&#x27;, &#x27;#fed976ff&#x27;, &#x27;#fed976ff&#x27;, &#x27;#fed976ff&#x27;, &#x27;#fed976ff&#x27;, &#x27;#fed976ff&#x27;, &#x27;#fed976ff&#x27;, &#x27;#fed976ff&#x27;, &#x27;#fed976ff&#x27;, &#x27;#fed976ff&#x27;, &#x27;#fed976ff&#x27;, &#x27;#fed976ff&#x27;, &#x27;#fed976ff&#x27;, &#x27;#fed976ff&#x27;, &#x27;#fed976ff&#x27;, &#x27;#fed976ff&#x27;, &#x27;#fed976ff&#x27;, &#x27;#fed976ff&#x27;, &#x27;#fed976ff&#x27;, &#x27;#fed976ff&#x27;, &#x27;#fed976ff&#x27;, &#x27;#fed976ff&#x27;, &#x27;#fed976ff&#x27;, &#x27;#fed976ff&#x27;, &#x27;#fed976ff&#x27;, &#x27;#fed976ff&#x27;, &#x27;#fed976ff&#x27;, &#x27;#fed976ff&#x27;, &#x27;#fed976ff&#x27;, &#x27;#fed976ff&#x27;, &#x27;#fed976ff&#x27;, &#x27;#fed976ff&#x27;, &#x27;#fed976ff&#x27;, &#x27;#fed976ff&#x27;, &#x27;#fed976ff&#x27;, &#x27;#fed976ff&#x27;, &#x27;#feb24cff&#x27;, &#x27;#feb24cff&#x27;, &#x27;#feb24cff&#x27;, &#x27;#feb24cff&#x27;, &#x27;#feb24cff&#x27;, &#x27;#feb24cff&#x27;, &#x27;#feb24cff&#x27;, &#x27;#feb24cff&#x27;, &#x27;#feb24cff&#x27;, &#x27;#feb24cff&#x27;, &#x27;#feb24cff&#x27;, &#x27;#feb24cff&#x27;, &#x27;#feb24cff&#x27;, &#x27;#feb24cff&#x27;, &#x27;#feb24cff&#x27;, &#x27;#feb24cff&#x27;, &#x27;#feb24cff&#x27;, &#x27;#feb24cff&#x27;, &#x27;#feb24cff&#x27;, &#x27;#feb24cff&#x27;, &#x27;#feb24cff&#x27;, &#x27;#feb24cff&#x27;, &#x27;#feb24cff&#x27;, &#x27;#feb24cff&#x27;, &#x27;#feb24cff&#x27;, &#x27;#feb24cff&#x27;, &#x27;#feb24cff&#x27;, &#x27;#feb24cff&#x27;, &#x27;#feb24cff&#x27;, &#x27;#feb24cff&#x27;, &#x27;#feb24cff&#x27;, &#x27;#feb24cff&#x27;, &#x27;#feb24cff&#x27;, &#x27;#feb24cff&#x27;, &#x27;#feb24cff&#x27;, &#x27;#feb24cff&#x27;, &#x27;#feb24cff&#x27;, &#x27;#feb24cff&#x27;, &#x27;#feb24cff&#x27;, &#x27;#feb24cff&#x27;, &#x27;#feb24cff&#x27;, &#x27;#feb24cff&#x27;, &#x27;#feb24cff&#x27;, &#x27;#feb24cff&#x27;, &#x27;#feb24cff&#x27;, &#x27;#feb24cff&#x27;, &#x27;#feb24cff&#x27;, &#x27;#feb24cff&#x27;, &#x27;#feb24cff&#x27;, &#x27;#feb24cff&#x27;, &#x27;#feb24cff&#x27;, &#x27;#feb24cff&#x27;, &#x27;#feb24cff&#x27;, &#x27;#feb24cff&#x27;, &#x27;#feb24cff&#x27;, &#x27;#feb24cff&#x27;, &#x27;#feb24cff&#x27;, &#x27;#feb24cff&#x27;, &#x27;#feb24cff&#x27;, &#x27;#feb24cff&#x27;, &#x27;#feb24cff&#x27;, &#x27;#feb24cff&#x27;, &#x27;#feb24cff&#x27;, &#x27;#feb24cff&#x27;, &#x27;#feb24cff&#x27;, &#x27;#feb24cff&#x27;, &#x27;#feb24cff&#x27;, &#x27;#feb24cff&#x27;, &#x27;#feb24cff&#x27;, &#x27;#feb24cff&#x27;, &#x27;#feb24cff&#x27;, &#x27;#feb24cff&#x27;, &#x27;#feb24cff&#x27;, &#x27;#feb24cff&#x27;, &#x27;#feb24cff&#x27;, &#x27;#feb24cff&#x27;, &#x27;#feb24cff&#x27;, &#x27;#feb24cff&#x27;, &#x27;#feb24cff&#x27;, &#x27;#feb24cff&#x27;, &#x27;#feb24cff&#x27;, &#x27;#feb24cff&#x27;, &#x27;#feb24cff&#x27;, &#x27;#fd8d3cff&#x27;, &#x27;#fd8d3cff&#x27;, &#x27;#fd8d3cff&#x27;, &#x27;#fd8d3cff&#x27;, &#x27;#fd8d3cff&#x27;, &#x27;#fd8d3cff&#x27;, &#x27;#fd8d3cff&#x27;, &#x27;#fd8d3cff&#x27;, &#x27;#fd8d3cff&#x27;, &#x27;#fd8d3cff&#x27;, &#x27;#fd8d3cff&#x27;, &#x27;#fd8d3cff&#x27;, &#x27;#fd8d3cff&#x27;, &#x27;#fd8d3cff&#x27;, &#x27;#fd8d3cff&#x27;, &#x27;#fd8d3cff&#x27;, &#x27;#fd8d3cff&#x27;, &#x27;#fd8d3cff&#x27;, &#x27;#fd8d3cff&#x27;, &#x27;#fd8d3cff&#x27;, &#x27;#fd8d3cff&#x27;, &#x27;#fd8d3cff&#x27;, &#x27;#fd8d3cff&#x27;, &#x27;#fd8d3cff&#x27;, &#x27;#fd8d3cff&#x27;, &#x27;#fd8d3cff&#x27;, &#x27;#fd8d3cff&#x27;, &#x27;#fd8d3cff&#x27;, &#x27;#fd8d3cff&#x27;, &#x27;#fd8d3cff&#x27;, &#x27;#fd8d3cff&#x27;, &#x27;#fd8d3cff&#x27;, &#x27;#fd8d3cff&#x27;, &#x27;#fd8d3cff&#x27;, &#x27;#fd8d3cff&#x27;, &#x27;#fd8d3cff&#x27;, &#x27;#fd8d3cff&#x27;, &#x27;#fd8d3cff&#x27;, &#x27;#fd8d3cff&#x27;, &#x27;#fd8d3cff&#x27;, &#x27;#fd8d3cff&#x27;, &#x27;#fd8d3cff&#x27;, &#x27;#fd8d3cff&#x27;, &#x27;#fd8d3cff&#x27;, &#x27;#fd8d3cff&#x27;, &#x27;#fd8d3cff&#x27;, &#x27;#fd8d3cff&#x27;, &#x27;#fd8d3cff&#x27;, &#x27;#fd8d3cff&#x27;, &#x27;#fd8d3cff&#x27;, &#x27;#fd8d3cff&#x27;, &#x27;#fd8d3cff&#x27;, &#x27;#fd8d3cff&#x27;, &#x27;#fd8d3cff&#x27;, &#x27;#fd8d3cff&#x27;, &#x27;#fd8d3cff&#x27;, &#x27;#fd8d3cff&#x27;, &#x27;#fd8d3cff&#x27;, &#x27;#fd8d3cff&#x27;, &#x27;#fd8d3cff&#x27;, &#x27;#fd8d3cff&#x27;, &#x27;#fd8d3cff&#x27;, &#x27;#fd8d3cff&#x27;, &#x27;#fd8d3cff&#x27;, &#x27;#fd8d3cff&#x27;, &#x27;#fd8d3cff&#x27;, &#x27;#fd8d3cff&#x27;, &#x27;#fd8d3cff&#x27;, &#x27;#fd8d3cff&#x27;, &#x27;#fd8d3cff&#x27;, &#x27;#fd8d3cff&#x27;, &#x27;#fd8d3cff&#x27;, &#x27;#fd8d3cff&#x27;, &#x27;#fd8d3cff&#x27;, &#x27;#fd8d3cff&#x27;, &#x27;#fd8d3cff&#x27;, &#x27;#fd8d3cff&#x27;, &#x27;#fd8d3cff&#x27;, &#x27;#fd8d3cff&#x27;, &#x27;#fd8d3cff&#x27;, &#x27;#fd8d3cff&#x27;, &#x27;#fd8d3cff&#x27;, &#x27;#fd8d3cff&#x27;, &#x27;#f03b20ff&#x27;, &#x27;#f03b20ff&#x27;, &#x27;#f03b20ff&#x27;, &#x27;#f03b20ff&#x27;, &#x27;#f03b20ff&#x27;, &#x27;#f03b20ff&#x27;, &#x27;#f03b20ff&#x27;, &#x27;#f03b20ff&#x27;, &#x27;#f03b20ff&#x27;, &#x27;#f03b20ff&#x27;, &#x27;#f03b20ff&#x27;, &#x27;#f03b20ff&#x27;, &#x27;#f03b20ff&#x27;, &#x27;#f03b20ff&#x27;, &#x27;#f03b20ff&#x27;, &#x27;#f03b20ff&#x27;, &#x27;#f03b20ff&#x27;, &#x27;#f03b20ff&#x27;, &#x27;#f03b20ff&#x27;, &#x27;#f03b20ff&#x27;, &#x27;#f03b20ff&#x27;, &#x27;#f03b20ff&#x27;, &#x27;#f03b20ff&#x27;, &#x27;#f03b20ff&#x27;, &#x27;#f03b20ff&#x27;, &#x27;#f03b20ff&#x27;, &#x27;#f03b20ff&#x27;, &#x27;#f03b20ff&#x27;, &#x27;#f03b20ff&#x27;, &#x27;#f03b20ff&#x27;, &#x27;#f03b20ff&#x27;, &#x27;#f03b20ff&#x27;, &#x27;#f03b20ff&#x27;, &#x27;#f03b20ff&#x27;, &#x27;#f03b20ff&#x27;, &#x27;#f03b20ff&#x27;, &#x27;#f03b20ff&#x27;, &#x27;#f03b20ff&#x27;, &#x27;#f03b20ff&#x27;, &#x27;#f03b20ff&#x27;, &#x27;#f03b20ff&#x27;, &#x27;#f03b20ff&#x27;, &#x27;#f03b20ff&#x27;, &#x27;#f03b20ff&#x27;, &#x27;#f03b20ff&#x27;, &#x27;#f03b20ff&#x27;, &#x27;#f03b20ff&#x27;, &#x27;#f03b20ff&#x27;, &#x27;#f03b20ff&#x27;, &#x27;#f03b20ff&#x27;, &#x27;#f03b20ff&#x27;, &#x27;#f03b20ff&#x27;, &#x27;#f03b20ff&#x27;, &#x27;#f03b20ff&#x27;, &#x27;#f03b20ff&#x27;, &#x27;#f03b20ff&#x27;, &#x27;#f03b20ff&#x27;, &#x27;#f03b20ff&#x27;, &#x27;#f03b20ff&#x27;, &#x27;#f03b20ff&#x27;, &#x27;#f03b20ff&#x27;, &#x27;#f03b20ff&#x27;, &#x27;#f03b20ff&#x27;, &#x27;#f03b20ff&#x27;, &#x27;#f03b20ff&#x27;, &#x27;#f03b20ff&#x27;, &#x27;#f03b20ff&#x27;, &#x27;#f03b20ff&#x27;, &#x27;#f03b20ff&#x27;, &#x27;#f03b20ff&#x27;, &#x27;#f03b20ff&#x27;, &#x27;#f03b20ff&#x27;, &#x27;#f03b20ff&#x27;, &#x27;#f03b20ff&#x27;, &#x27;#f03b20ff&#x27;, &#x27;#f03b20ff&#x27;, &#x27;#f03b20ff&#x27;, &#x27;#f03b20ff&#x27;, &#x27;#f03b20ff&#x27;, &#x27;#f03b20ff&#x27;, &#x27;#f03b20ff&#x27;, &#x27;#f03b20ff&#x27;, &#x27;#f03b20ff&#x27;, &#x27;#bd0026ff&#x27;, &#x27;#bd0026ff&#x27;, &#x27;#bd0026ff&#x27;, &#x27;#bd0026ff&#x27;, &#x27;#bd0026ff&#x27;, &#x27;#bd0026ff&#x27;, &#x27;#bd0026ff&#x27;, &#x27;#bd0026ff&#x27;, &#x27;#bd0026ff&#x27;, &#x27;#bd0026ff&#x27;, &#x27;#bd0026ff&#x27;, &#x27;#bd0026ff&#x27;, &#x27;#bd0026ff&#x27;, &#x27;#bd0026ff&#x27;, &#x27;#bd0026ff&#x27;, &#x27;#bd0026ff&#x27;, &#x27;#bd0026ff&#x27;, &#x27;#bd0026ff&#x27;, &#x27;#bd0026ff&#x27;, &#x27;#bd0026ff&#x27;, &#x27;#bd0026ff&#x27;, &#x27;#bd0026ff&#x27;, &#x27;#bd0026ff&#x27;, &#x27;#bd0026ff&#x27;, &#x27;#bd0026ff&#x27;, &#x27;#bd0026ff&#x27;, &#x27;#bd0026ff&#x27;, &#x27;#bd0026ff&#x27;, &#x27;#bd0026ff&#x27;, &#x27;#bd0026ff&#x27;, &#x27;#bd0026ff&#x27;, &#x27;#bd0026ff&#x27;, &#x27;#bd0026ff&#x27;, &#x27;#bd0026ff&#x27;, &#x27;#bd0026ff&#x27;, &#x27;#bd0026ff&#x27;, &#x27;#bd0026ff&#x27;, &#x27;#bd0026ff&#x27;, &#x27;#bd0026ff&#x27;, &#x27;#bd0026ff&#x27;, &#x27;#bd0026ff&#x27;, &#x27;#bd0026ff&#x27;, &#x27;#bd0026ff&#x27;, &#x27;#bd0026ff&#x27;, &#x27;#bd0026ff&#x27;, &#x27;#bd0026ff&#x27;, &#x27;#bd0026ff&#x27;, &#x27;#bd0026ff&#x27;, &#x27;#bd0026ff&#x27;, &#x27;#bd0026ff&#x27;, &#x27;#bd0026ff&#x27;, &#x27;#bd0026ff&#x27;, &#x27;#bd0026ff&#x27;, &#x27;#bd0026ff&#x27;, &#x27;#bd0026ff&#x27;, &#x27;#bd0026ff&#x27;, &#x27;#bd0026ff&#x27;, &#x27;#bd0026ff&#x27;, &#x27;#bd0026ff&#x27;, &#x27;#bd0026ff&#x27;, &#x27;#bd0026ff&#x27;, &#x27;#bd0026ff&#x27;, &#x27;#bd0026ff&#x27;, &#x27;#bd0026ff&#x27;, &#x27;#bd0026ff&#x27;, &#x27;#bd0026ff&#x27;, &#x27;#bd0026ff&#x27;, &#x27;#bd0026ff&#x27;, &#x27;#bd0026ff&#x27;, &#x27;#bd0026ff&#x27;, &#x27;#bd0026ff&#x27;, &#x27;#bd0026ff&#x27;, &#x27;#bd0026ff&#x27;, &#x27;#bd0026ff&#x27;, &#x27;#bd0026ff&#x27;, &#x27;#bd0026ff&#x27;, &#x27;#bd0026ff&#x27;, &#x27;#bd0026ff&#x27;, &#x27;#bd0026ff&#x27;, &#x27;#bd0026ff&#x27;, &#x27;#bd0026ff&#x27;, &#x27;#bd0026ff&#x27;, &#x27;#bd0026ff&#x27;, &#x27;#bd0026ff&#x27;]);\n",
       "    \n",
       "\n",
       "    color_map_e302d9156825524a2acf9f7c53689cf4.x = d3.scale.linear()\n",
       "              .domain([0.0, 428.0])\n",
       "              .range([0, 450 - 50]);\n",
       "\n",
       "    color_map_e302d9156825524a2acf9f7c53689cf4.legend = L.control({position: &#x27;topright&#x27;});\n",
       "    color_map_e302d9156825524a2acf9f7c53689cf4.legend.onAdd = function (map) {var div = L.DomUtil.create(&#x27;div&#x27;, &#x27;legend&#x27;); return div};\n",
       "    color_map_e302d9156825524a2acf9f7c53689cf4.legend.addTo(map_40f09f7046429e1f0b3bff57a7b16863);\n",
       "\n",
       "    color_map_e302d9156825524a2acf9f7c53689cf4.xAxis = d3.svg.axis()\n",
       "        .scale(color_map_e302d9156825524a2acf9f7c53689cf4.x)\n",
       "        .orient(&quot;top&quot;)\n",
       "        .tickSize(1)\n",
       "        .tickValues([0.0, 71.33333333333333, 142.66666666666666, 214.0, 285.3333333333333, 356.66666666666663, 428.0]);\n",
       "\n",
       "    color_map_e302d9156825524a2acf9f7c53689cf4.svg = d3.select(&quot;.legend.leaflet-control&quot;).append(&quot;svg&quot;)\n",
       "        .attr(&quot;id&quot;, &#x27;legend&#x27;)\n",
       "        .attr(&quot;width&quot;, 450)\n",
       "        .attr(&quot;height&quot;, 40);\n",
       "\n",
       "    color_map_e302d9156825524a2acf9f7c53689cf4.g = color_map_e302d9156825524a2acf9f7c53689cf4.svg.append(&quot;g&quot;)\n",
       "        .attr(&quot;class&quot;, &quot;key&quot;)\n",
       "        .attr(&quot;transform&quot;, &quot;translate(25,16)&quot;);\n",
       "\n",
       "    color_map_e302d9156825524a2acf9f7c53689cf4.g.selectAll(&quot;rect&quot;)\n",
       "        .data(color_map_e302d9156825524a2acf9f7c53689cf4.color.range().map(function(d, i) {\n",
       "          return {\n",
       "            x0: i ? color_map_e302d9156825524a2acf9f7c53689cf4.x(color_map_e302d9156825524a2acf9f7c53689cf4.color.domain()[i - 1]) : color_map_e302d9156825524a2acf9f7c53689cf4.x.range()[0],\n",
       "            x1: i &lt; color_map_e302d9156825524a2acf9f7c53689cf4.color.domain().length ? color_map_e302d9156825524a2acf9f7c53689cf4.x(color_map_e302d9156825524a2acf9f7c53689cf4.color.domain()[i]) : color_map_e302d9156825524a2acf9f7c53689cf4.x.range()[1],\n",
       "            z: d\n",
       "          };\n",
       "        }))\n",
       "      .enter().append(&quot;rect&quot;)\n",
       "        .attr(&quot;height&quot;, 40 - 30)\n",
       "        .attr(&quot;x&quot;, function(d) { return d.x0; })\n",
       "        .attr(&quot;width&quot;, function(d) { return d.x1 - d.x0; })\n",
       "        .style(&quot;fill&quot;, function(d) { return d.z; });\n",
       "\n",
       "    color_map_e302d9156825524a2acf9f7c53689cf4.g.call(color_map_e302d9156825524a2acf9f7c53689cf4.xAxis).append(&quot;text&quot;)\n",
       "        .attr(&quot;class&quot;, &quot;caption&quot;)\n",
       "        .attr(&quot;y&quot;, 21)\n",
       "        .text(&quot;Injury Counts&quot;);\n",
       "&lt;/script&gt;\n",
       "&lt;/html&gt;\" style=\"position:absolute;width:100%;height:100%;left:0;top:0;border:none !important;\" allowfullscreen webkitallowfullscreen mozallowfullscreen></iframe></div></div>"
      ],
      "text/plain": [
       "<folium.folium.Map at 0x7f7f8691b6a0>"
      ]
     },
     "execution_count": 30,
     "metadata": {},
     "output_type": "execute_result"
    }
   ],
   "source": [
    "import json\n",
    "import geopandas as gpd\n",
    "import folium\n",
    "\n",
    "# Aggregate data by ZIP code, calculating the mean latitude and longitude and summing the injuries\n",
    "# agg_zip_geo = df.groupby('zip_code').agg({\n",
    "#     'latitude': 'mean',\n",
    "#     'longitude': 'mean',\n",
    "#     'injuries': 'sum'\n",
    "# }).reset_index()\n",
    "\n",
    "agg_zip_geo = df.groupby('zip_code')['injuries'].sum().reset_index()\n",
    "\n",
    "geo_df = gpd.read_file('new-york-zip-codes-_1604.geojson')\n",
    "    \n",
    "# Convert ZCTA5CE10 to integer for merging\n",
    "geo_df['ZCTA5CE10'] = geo_df['ZCTA5CE10'].astype(int)\n",
    "\n",
    "# Merge the GeoDataFrame with the original DataFrame on ZIP code\n",
    "merged_df = geo_df.merge(agg_zip_geo, left_on=\"ZCTA5CE10\", right_on=\"zip_code\")\n",
    "\n",
    "# Create a Folium map centered around NYC\n",
    "m_zip_geo = folium.Map(location=[40.7128, -74.0060], zoom_start=11)\n",
    "\n",
    "# Add the GeoJSON layer to the map\n",
    "folium.Choropleth(\n",
    "    geo_data=merged_df,\n",
    "    name='choropleth',\n",
    "    data=merged_df,\n",
    "    columns=['ZCTA5CE10', 'injuries'],\n",
    "    key_on='feature.properties.ZCTA5CE10',\n",
    "    fill_color='YlOrRd',\n",
    "    fill_opacity=0.7,\n",
    "    line_opacity=0.2,\n",
    "    legend_name='Injury Counts'\n",
    ").add_to(m_zip_geo)\n",
    "\n",
    "# Save the map to a file\n",
    "#map_file_path = \"m_zip_geo\"\n",
    "# m_zip_geo.save(map_file_path)\n",
    "m_zip_geo\n",
    "#map_file_path\n",
    "\n",
    "# https://cartographyvectors.com/map/1604-new-york-zip-codes"
   ]
  },
  {
   "cell_type": "code",
   "execution_count": 31,
   "metadata": {},
   "outputs": [
    {
     "name": "stdout",
     "output_type": "stream",
     "text": [
      "Chi-Square Test for 'zip_code':\n",
      "p-value: 1.7433991398140988e-95\n",
      "r-value: 0.14\n",
      "\n",
      "Interpretation:\n",
      "Reject the null hypothesis.\n",
      "The r-value suggests a medium effect size.\n"
     ]
    }
   ],
   "source": [
    "# Conduct Chi-Square Test for 'zip_code'\n",
    "print(\"Chi-Square Test for 'zip_code':\")\n",
    "exp.chi_square_test(df, 'injuries', 'zip_code')\n"
   ]
  },
  {
   "cell_type": "code",
   "execution_count": 32,
   "metadata": {},
   "outputs": [
    {
     "name": "stdout",
     "output_type": "stream",
     "text": [
      "CSV file for 2022 already exists. Loading data from the CSV.\n"
     ]
    }
   ],
   "source": [
    "df = w.wrangle_coll_stage2(year_to_retrieve, app_token)"
   ]
  },
  {
   "cell_type": "code",
   "execution_count": 33,
   "metadata": {},
   "outputs": [],
   "source": [
    "train, val, test = mdl.train_val_test_split(df)"
   ]
  },
  {
   "cell_type": "code",
   "execution_count": 34,
   "metadata": {},
   "outputs": [],
   "source": [
    "train, val, test = mdl.create_cluster(train, val, test)"
   ]
  },
  {
   "cell_type": "code",
   "execution_count": 35,
   "metadata": {},
   "outputs": [],
   "source": [
    "train, val, test = mdl.create_ref_date(train, val, test)"
   ]
  },
  {
   "cell_type": "code",
   "execution_count": null,
   "metadata": {},
   "outputs": [],
   "source": []
  },
  {
   "cell_type": "code",
   "execution_count": 36,
   "metadata": {},
   "outputs": [],
   "source": [
    "train, val, test = mdl.min_max_scaler (train, val, test)"
   ]
  },
  {
   "cell_type": "code",
   "execution_count": 37,
   "metadata": {},
   "outputs": [
    {
     "data": {
      "text/plain": [
       "Index(['latitude', 'longitude', 'on_street_name', 'borough', 'zip_code',\n",
       "       'injuries', 'vehicle_1_category', 'vehicle_2_category',\n",
       "       'factors_category_vehicle_1', 'factors_category_vehicle_2',\n",
       "       'factors_subcat_vehicle_1', 'factors_subcat_vehicle_2',\n",
       "       'factors_subcat_vehicles', 'factors_category_vehicles', 'vehicles',\n",
       "       'hour_of_day', 'day_of_week', 'month', 'daylight',\n",
       "       'daylight_day_of_week', 'cluster', 'cluster_injury_count',\n",
       "       'time_since_ref_date'],\n",
       "      dtype='object')"
      ]
     },
     "execution_count": 37,
     "metadata": {},
     "output_type": "execute_result"
    }
   ],
   "source": [
    "train.columns"
   ]
  },
  {
   "cell_type": "code",
   "execution_count": 38,
   "metadata": {},
   "outputs": [],
   "source": [
    "train_encoded, val_encoded, testest_encodedt = mdl.hot_encode_fs(train, val, test)"
   ]
  },
  {
   "cell_type": "code",
   "execution_count": 39,
   "metadata": {},
   "outputs": [
    {
     "data": {
      "text/plain": [
       "Index(['latitude', 'longitude', 'on_street_name', 'zip_code', 'injuries',\n",
       "       'hour_of_day', 'daylight', 'cluster', 'cluster_injury_count',\n",
       "       'time_since_ref_date',\n",
       "       ...\n",
       "       'daylight_day_of_week_Saturday_Day',\n",
       "       'daylight_day_of_week_Saturday_Night',\n",
       "       'daylight_day_of_week_Sunday_Day', 'daylight_day_of_week_Sunday_Night',\n",
       "       'daylight_day_of_week_Thursday_Day',\n",
       "       'daylight_day_of_week_Thursday_Night',\n",
       "       'daylight_day_of_week_Tuesday_Day',\n",
       "       'daylight_day_of_week_Tuesday_Night',\n",
       "       'daylight_day_of_week_Wednesday_Day',\n",
       "       'daylight_day_of_week_Wednesday_Night'],\n",
       "      dtype='object', length=102)"
      ]
     },
     "execution_count": 39,
     "metadata": {},
     "output_type": "execute_result"
    }
   ],
   "source": [
    "train_encoded.columns"
   ]
  },
  {
   "cell_type": "code",
   "execution_count": 34,
   "metadata": {},
   "outputs": [
    {
     "data": {
      "text/html": [
       "<div>\n",
       "<style scoped>\n",
       "    .dataframe tbody tr th:only-of-type {\n",
       "        vertical-align: middle;\n",
       "    }\n",
       "\n",
       "    .dataframe tbody tr th {\n",
       "        vertical-align: top;\n",
       "    }\n",
       "\n",
       "    .dataframe thead th {\n",
       "        text-align: right;\n",
       "    }\n",
       "</style>\n",
       "<table border=\"1\" class=\"dataframe\">\n",
       "  <thead>\n",
       "    <tr style=\"text-align: right;\">\n",
       "      <th></th>\n",
       "      <th>RFE</th>\n",
       "      <th>Lasso</th>\n",
       "    </tr>\n",
       "  </thead>\n",
       "  <tbody>\n",
       "    <tr>\n",
       "      <th>latitude</th>\n",
       "      <td>1</td>\n",
       "      <td>0.321670</td>\n",
       "    </tr>\n",
       "    <tr>\n",
       "      <th>longitude</th>\n",
       "      <td>1</td>\n",
       "      <td>0.564129</td>\n",
       "    </tr>\n",
       "    <tr>\n",
       "      <th>zip_code</th>\n",
       "      <td>1</td>\n",
       "      <td>0.656724</td>\n",
       "    </tr>\n",
       "    <tr>\n",
       "      <th>hour_of_day</th>\n",
       "      <td>2</td>\n",
       "      <td>0.293794</td>\n",
       "    </tr>\n",
       "    <tr>\n",
       "      <th>cluster</th>\n",
       "      <td>1</td>\n",
       "      <td>2.666416</td>\n",
       "    </tr>\n",
       "    <tr>\n",
       "      <th>cluster_injury_count</th>\n",
       "      <td>1</td>\n",
       "      <td>4.454324</td>\n",
       "    </tr>\n",
       "    <tr>\n",
       "      <th>time_since_ref_date</th>\n",
       "      <td>3</td>\n",
       "      <td>0.270265</td>\n",
       "    </tr>\n",
       "  </tbody>\n",
       "</table>\n",
       "</div>"
      ],
      "text/plain": [
       "                      RFE     Lasso\n",
       "latitude                1  0.321670\n",
       "longitude               1  0.564129\n",
       "zip_code                1  0.656724\n",
       "hour_of_day             2  0.293794\n",
       "cluster                 1  2.666416\n",
       "cluster_injury_count    1  4.454324\n",
       "time_since_ref_date     3  0.270265"
      ]
     },
     "execution_count": 34,
     "metadata": {},
     "output_type": "execute_result"
    }
   ],
   "source": [
    "feature_ranking = mdl.rfe_lasso(train)\n",
    "feature_ranking"
   ]
  },
  {
   "cell_type": "markdown",
   "metadata": {},
   "source": [
    "___\n",
    "___\n",
    "\n",
    "## Modeling\n",
    "\n",
    "___\n",
    "___"
   ]
  },
  {
   "cell_type": "code",
   "execution_count": 35,
   "metadata": {},
   "outputs": [
    {
     "data": {
      "text/plain": [
       "0.6709595286733576"
      ]
     },
     "execution_count": 35,
     "metadata": {},
     "output_type": "execute_result"
    }
   ],
   "source": [
    "# Calculate the baseline accuracy for the 'injuries' column\n",
    "most_frequent_class = train['injuries'].value_counts().idxmax()\n",
    "baseline_accuracy = (train['injuries'] == most_frequent_class).mean()\n",
    "# baseline_accuracy = round(baseline_accuracy * 100, 1)\n",
    "baseline_accuracy\n"
   ]
  },
  {
   "cell_type": "code",
   "execution_count": 36,
   "metadata": {},
   "outputs": [],
   "source": [
    "train_encoded, val_encoded, test_encoded = mdl.hot_encode_mdl(train, val, test)"
   ]
  },
  {
   "cell_type": "code",
   "execution_count": 37,
   "metadata": {},
   "outputs": [
    {
     "data": {
      "text/html": [
       "<div>\n",
       "<style scoped>\n",
       "    .dataframe tbody tr th:only-of-type {\n",
       "        vertical-align: middle;\n",
       "    }\n",
       "\n",
       "    .dataframe tbody tr th {\n",
       "        vertical-align: top;\n",
       "    }\n",
       "\n",
       "    .dataframe thead th {\n",
       "        text-align: right;\n",
       "    }\n",
       "</style>\n",
       "<table border=\"1\" class=\"dataframe\">\n",
       "  <thead>\n",
       "    <tr style=\"text-align: right;\">\n",
       "      <th></th>\n",
       "      <th>Model</th>\n",
       "      <th>Train Accuracy (%)</th>\n",
       "      <th>Validation Accuracy (%)</th>\n",
       "    </tr>\n",
       "  </thead>\n",
       "  <tbody>\n",
       "    <tr>\n",
       "      <th>0</th>\n",
       "      <td>Logistic Regression</td>\n",
       "      <td>68.2</td>\n",
       "      <td>67.1</td>\n",
       "    </tr>\n",
       "  </tbody>\n",
       "</table>\n",
       "</div>"
      ],
      "text/plain": [
       "                 Model  Train Accuracy (%)  Validation Accuracy (%)\n",
       "0  Logistic Regression                68.2                     67.1"
      ]
     },
     "execution_count": 37,
     "metadata": {},
     "output_type": "execute_result"
    }
   ],
   "source": [
    "logistic_accuracy = mdl.logistic_reg(train_encoded, val_encoded)\n",
    "logistic_accuracy"
   ]
  },
  {
   "cell_type": "code",
   "execution_count": 38,
   "metadata": {},
   "outputs": [
    {
     "data": {
      "text/html": [
       "<div>\n",
       "<style scoped>\n",
       "    .dataframe tbody tr th:only-of-type {\n",
       "        vertical-align: middle;\n",
       "    }\n",
       "\n",
       "    .dataframe tbody tr th {\n",
       "        vertical-align: top;\n",
       "    }\n",
       "\n",
       "    .dataframe thead th {\n",
       "        text-align: right;\n",
       "    }\n",
       "</style>\n",
       "<table border=\"1\" class=\"dataframe\">\n",
       "  <thead>\n",
       "    <tr style=\"text-align: right;\">\n",
       "      <th></th>\n",
       "      <th>Model</th>\n",
       "      <th>Train Accuracy (%)</th>\n",
       "      <th>Validation Accuracy (%)</th>\n",
       "    </tr>\n",
       "  </thead>\n",
       "  <tbody>\n",
       "    <tr>\n",
       "      <th>0</th>\n",
       "      <td>Random Forest</td>\n",
       "      <td>100.0</td>\n",
       "      <td>68.5</td>\n",
       "    </tr>\n",
       "  </tbody>\n",
       "</table>\n",
       "</div>"
      ],
      "text/plain": [
       "           Model  Train Accuracy (%)  Validation Accuracy (%)\n",
       "0  Random Forest               100.0                     68.5"
      ]
     },
     "execution_count": 38,
     "metadata": {},
     "output_type": "execute_result"
    }
   ],
   "source": [
    "rf_accuracy = mdl.rand_forest(train_encoded, val_encoded)\n",
    "rf_accuracy"
   ]
  },
  {
   "cell_type": "code",
   "execution_count": 39,
   "metadata": {},
   "outputs": [
    {
     "data": {
      "text/html": [
       "<div>\n",
       "<style scoped>\n",
       "    .dataframe tbody tr th:only-of-type {\n",
       "        vertical-align: middle;\n",
       "    }\n",
       "\n",
       "    .dataframe tbody tr th {\n",
       "        vertical-align: top;\n",
       "    }\n",
       "\n",
       "    .dataframe thead th {\n",
       "        text-align: right;\n",
       "    }\n",
       "</style>\n",
       "<table border=\"1\" class=\"dataframe\">\n",
       "  <thead>\n",
       "    <tr style=\"text-align: right;\">\n",
       "      <th></th>\n",
       "      <th>Model</th>\n",
       "      <th>Train Accuracy (%)</th>\n",
       "      <th>Validation Accuracy (%)</th>\n",
       "    </tr>\n",
       "  </thead>\n",
       "  <tbody>\n",
       "    <tr>\n",
       "      <th>0</th>\n",
       "      <td>Gradient Boosting</td>\n",
       "      <td>71.7</td>\n",
       "      <td>70.5</td>\n",
       "    </tr>\n",
       "  </tbody>\n",
       "</table>\n",
       "</div>"
      ],
      "text/plain": [
       "               Model  Train Accuracy (%)  Validation Accuracy (%)\n",
       "0  Gradient Boosting                71.7                     70.5"
      ]
     },
     "execution_count": 39,
     "metadata": {},
     "output_type": "execute_result"
    }
   ],
   "source": [
    "gb_accuracy = mdl.gradient_boost(train_encoded, val_encoded)\n",
    "gb_accuracy"
   ]
  },
  {
   "cell_type": "code",
   "execution_count": 40,
   "metadata": {},
   "outputs": [
    {
     "data": {
      "text/html": [
       "<div>\n",
       "<style scoped>\n",
       "    .dataframe tbody tr th:only-of-type {\n",
       "        vertical-align: middle;\n",
       "    }\n",
       "\n",
       "    .dataframe tbody tr th {\n",
       "        vertical-align: top;\n",
       "    }\n",
       "\n",
       "    .dataframe thead th {\n",
       "        text-align: right;\n",
       "    }\n",
       "</style>\n",
       "<table border=\"1\" class=\"dataframe\">\n",
       "  <thead>\n",
       "    <tr style=\"text-align: right;\">\n",
       "      <th></th>\n",
       "      <th>Model</th>\n",
       "      <th>Train Accuracy (%)</th>\n",
       "      <th>Validation Accuracy (%)</th>\n",
       "    </tr>\n",
       "  </thead>\n",
       "  <tbody>\n",
       "    <tr>\n",
       "      <th>0</th>\n",
       "      <td>Logistic Regression</td>\n",
       "      <td>68.2</td>\n",
       "      <td>67.1</td>\n",
       "    </tr>\n",
       "    <tr>\n",
       "      <th>1</th>\n",
       "      <td>Random Forest</td>\n",
       "      <td>100.0</td>\n",
       "      <td>68.5</td>\n",
       "    </tr>\n",
       "    <tr>\n",
       "      <th>2</th>\n",
       "      <td>Gradient Boosting</td>\n",
       "      <td>71.7</td>\n",
       "      <td>70.5</td>\n",
       "    </tr>\n",
       "  </tbody>\n",
       "</table>\n",
       "</div>"
      ],
      "text/plain": [
       "                 Model  Train Accuracy (%)  Validation Accuracy (%)\n",
       "0  Logistic Regression                68.2                     67.1\n",
       "1        Random Forest               100.0                     68.5\n",
       "2    Gradient Boosting                71.7                     70.5"
      ]
     },
     "execution_count": 40,
     "metadata": {},
     "output_type": "execute_result"
    }
   ],
   "source": [
    "# Concatenate the accuracy results DataFrames vertically (along rows)\n",
    "results = pd.concat([logistic_accuracy, rf_accuracy, gb_accuracy], ignore_index=True)\n",
    "\n",
    "# Display the stacked results\n",
    "results\n"
   ]
  },
  {
   "cell_type": "code",
   "execution_count": 41,
   "metadata": {},
   "outputs": [
    {
     "data": {
      "text/plain": [
       "0.6836579638071557"
      ]
     },
     "execution_count": 41,
     "metadata": {},
     "output_type": "execute_result"
    }
   ],
   "source": [
    "accuracy_results =  mdl.test_accuracy(test_encoded, 'GradientBoostingClassifier')\n",
    "accuracy_results"
   ]
  },
  {
   "cell_type": "code",
   "execution_count": 42,
   "metadata": {},
   "outputs": [],
   "source": [
    "from sklearn.model_selection import GridSearchCV\n",
    "from sklearn.ensemble import RandomForestClassifier\n",
    "\n",
    "def grid_search_random_forest(train_encoded, param_grid, cv=5):\n",
    "    # Define the features and the target variable\n",
    "    X_train = train_encoded.drop(['injuries'], axis=1).select_dtypes(include=['int64', 'float64', 'int32'])\n",
    "    y_train = train_encoded['injuries']\n",
    "\n",
    "    # Initialize the RandomForestClassifier\n",
    "    rf_classifier = RandomForestClassifier(random_state=42)\n",
    "\n",
    "    # Create a GridSearchCV object with the specified parameter grid and cross-validation\n",
    "    grid_search = GridSearchCV(estimator=rf_classifier, param_grid=param_grid, cv=cv, scoring='accuracy')\n",
    "\n",
    "    # Fit the GridSearchCV to the training data\n",
    "    grid_search.fit(X_train, y_train)\n",
    "\n",
    "    # Get the best hyperparameters and the corresponding accuracy score\n",
    "    best_params = grid_search.best_params_\n",
    "    best_accuracy = grid_search.best_score_\n",
    "\n",
    "    return best_params, best_accuracy\n"
   ]
  },
  {
   "cell_type": "code",
   "execution_count": 46,
   "metadata": {},
   "outputs": [
    {
     "name": "stdout",
     "output_type": "stream",
     "text": [
      "Best Hyperparameters: {'max_depth': 10, 'min_samples_leaf': 1, 'min_samples_split': 2, 'n_estimators': 50}\n",
      "Best Accuracy: 0.6820913351029587\n"
     ]
    }
   ],
   "source": [
    "\n",
    "# Define the parameter grid to search through\n",
    "param_grid = {\n",
    "    'n_estimators': [50, 100, 200],\n",
    "    'max_depth': [None, 10, 20, 30],\n",
    "    'min_samples_split': [2, 5, 10],\n",
    "    'min_samples_leaf': [1, 2, 4]\n",
    "}\n",
    "\n",
    "# Perform the GridSearchCV for RandomForestClassifier\n",
    "best_params, best_accuracy = grid_search_random_forest(train_encoded, param_grid)\n",
    "\n",
    "# Print the best hyperparameters and the corresponding accuracy score\n",
    "print(\"Best Hyperparameters:\", best_params)\n",
    "print(\"Best Accuracy:\", best_accuracy)\n"
   ]
  },
  {
   "cell_type": "code",
   "execution_count": 3,
   "metadata": {},
   "outputs": [
    {
     "name": "stdout",
     "output_type": "stream",
     "text": [
      "CSV file for 2022 already exists. Loading data from the CSV.\n"
     ]
    }
   ],
   "source": [
    "df = w.wrangle_coll_stage3(year_to_retrieve, app_token)"
   ]
  },
  {
   "cell_type": "code",
   "execution_count": 4,
   "metadata": {},
   "outputs": [],
   "source": [
    "train, val, test = mdl.train_val_test_split(df)"
   ]
  },
  {
   "cell_type": "code",
   "execution_count": 5,
   "metadata": {},
   "outputs": [],
   "source": [
    "train, val, test = mdl.create_ref_date(train, val, test)"
   ]
  },
  {
   "cell_type": "code",
   "execution_count": 6,
   "metadata": {},
   "outputs": [
    {
     "data": {
      "text/html": [
       "<div>\n",
       "<style scoped>\n",
       "    .dataframe tbody tr th:only-of-type {\n",
       "        vertical-align: middle;\n",
       "    }\n",
       "\n",
       "    .dataframe tbody tr th {\n",
       "        vertical-align: top;\n",
       "    }\n",
       "\n",
       "    .dataframe thead th {\n",
       "        text-align: right;\n",
       "    }\n",
       "</style>\n",
       "<table border=\"1\" class=\"dataframe\">\n",
       "  <thead>\n",
       "    <tr style=\"text-align: right;\">\n",
       "      <th></th>\n",
       "      <th>latitude</th>\n",
       "      <th>longitude</th>\n",
       "      <th>on_street_name</th>\n",
       "      <th>borough</th>\n",
       "      <th>injuries</th>\n",
       "      <th>factors_subcat_vehicles</th>\n",
       "      <th>factors_category_vehicles</th>\n",
       "      <th>vehicles</th>\n",
       "      <th>hour_of_day</th>\n",
       "      <th>day_of_week</th>\n",
       "      <th>month</th>\n",
       "      <th>daylight</th>\n",
       "      <th>daylight_day_of_week</th>\n",
       "      <th>time_since_ref_date</th>\n",
       "      <th>zip_code_encoded</th>\n",
       "    </tr>\n",
       "  </thead>\n",
       "  <tbody>\n",
       "    <tr>\n",
       "      <th>19414</th>\n",
       "      <td>40.687553</td>\n",
       "      <td>-73.91868</td>\n",
       "      <td>broadway</td>\n",
       "      <td>brooklyn</td>\n",
       "      <td>False</td>\n",
       "      <td>unspecified</td>\n",
       "      <td>unspecified</td>\n",
       "      <td>two-wheelers_to_commercial</td>\n",
       "      <td>14</td>\n",
       "      <td>Friday</td>\n",
       "      <td>September</td>\n",
       "      <td>True</td>\n",
       "      <td>Friday_Day</td>\n",
       "      <td>258</td>\n",
       "      <td>0.347303</td>\n",
       "    </tr>\n",
       "    <tr>\n",
       "      <th>38015</th>\n",
       "      <td>40.724888</td>\n",
       "      <td>-73.89899</td>\n",
       "      <td>perry avenue</td>\n",
       "      <td>queens</td>\n",
       "      <td>False</td>\n",
       "      <td>unspecified</td>\n",
       "      <td>unspecified</td>\n",
       "      <td>personal_to_personal</td>\n",
       "      <td>17</td>\n",
       "      <td>Sunday</td>\n",
       "      <td>May</td>\n",
       "      <td>True</td>\n",
       "      <td>Sunday_Day</td>\n",
       "      <td>148</td>\n",
       "      <td>0.398642</td>\n",
       "    </tr>\n",
       "    <tr>\n",
       "      <th>53168</th>\n",
       "      <td>40.651104</td>\n",
       "      <td>-73.94381</td>\n",
       "      <td>church avenue</td>\n",
       "      <td>brooklyn</td>\n",
       "      <td>True</td>\n",
       "      <td>unspecified</td>\n",
       "      <td>unspecified</td>\n",
       "      <td>personal_to_personal</td>\n",
       "      <td>22</td>\n",
       "      <td>Friday</td>\n",
       "      <td>December</td>\n",
       "      <td>False</td>\n",
       "      <td>Friday_Night</td>\n",
       "      <td>349</td>\n",
       "      <td>0.435559</td>\n",
       "    </tr>\n",
       "    <tr>\n",
       "      <th>17572</th>\n",
       "      <td>40.751972</td>\n",
       "      <td>-73.93197</td>\n",
       "      <td>northern boulevard</td>\n",
       "      <td>queens</td>\n",
       "      <td>False</td>\n",
       "      <td>driving violations</td>\n",
       "      <td>driver_related</td>\n",
       "      <td>other_to_two-wheelers</td>\n",
       "      <td>21</td>\n",
       "      <td>Wednesday</td>\n",
       "      <td>August</td>\n",
       "      <td>False</td>\n",
       "      <td>Wednesday_Night</td>\n",
       "      <td>235</td>\n",
       "      <td>0.367014</td>\n",
       "    </tr>\n",
       "    <tr>\n",
       "      <th>24986</th>\n",
       "      <td>40.733280</td>\n",
       "      <td>-73.91078</td>\n",
       "      <td>58th street</td>\n",
       "      <td>queens</td>\n",
       "      <td>False</td>\n",
       "      <td>environmental</td>\n",
       "      <td>non_driver_related</td>\n",
       "      <td>commercial_to_personal</td>\n",
       "      <td>13</td>\n",
       "      <td>Wednesday</td>\n",
       "      <td>November</td>\n",
       "      <td>True</td>\n",
       "      <td>Wednesday_Day</td>\n",
       "      <td>333</td>\n",
       "      <td>0.392612</td>\n",
       "    </tr>\n",
       "  </tbody>\n",
       "</table>\n",
       "</div>"
      ],
      "text/plain": [
       "        latitude  longitude      on_street_name   borough  injuries  \\\n",
       "19414  40.687553  -73.91868            broadway  brooklyn     False   \n",
       "38015  40.724888  -73.89899        perry avenue    queens     False   \n",
       "53168  40.651104  -73.94381       church avenue  brooklyn      True   \n",
       "17572  40.751972  -73.93197  northern boulevard    queens     False   \n",
       "24986  40.733280  -73.91078         58th street    queens     False   \n",
       "\n",
       "      factors_subcat_vehicles factors_category_vehicles  \\\n",
       "19414             unspecified               unspecified   \n",
       "38015             unspecified               unspecified   \n",
       "53168             unspecified               unspecified   \n",
       "17572      driving violations            driver_related   \n",
       "24986           environmental        non_driver_related   \n",
       "\n",
       "                         vehicles  hour_of_day day_of_week      month  \\\n",
       "19414  two-wheelers_to_commercial           14      Friday  September   \n",
       "38015        personal_to_personal           17      Sunday        May   \n",
       "53168        personal_to_personal           22      Friday   December   \n",
       "17572       other_to_two-wheelers           21   Wednesday     August   \n",
       "24986      commercial_to_personal           13   Wednesday   November   \n",
       "\n",
       "       daylight daylight_day_of_week  time_since_ref_date  zip_code_encoded  \n",
       "19414      True           Friday_Day                  258          0.347303  \n",
       "38015      True           Sunday_Day                  148          0.398642  \n",
       "53168     False         Friday_Night                  349          0.435559  \n",
       "17572     False      Wednesday_Night                  235          0.367014  \n",
       "24986      True        Wednesday_Day                  333          0.392612  "
      ]
     },
     "execution_count": 6,
     "metadata": {},
     "output_type": "execute_result"
    }
   ],
   "source": [
    "\n",
    "from sklearn.preprocessing import TargetEncoder\n",
    "\n",
    "# Initialize the TargetEncoder\n",
    "target_encoder = TargetEncoder()\n",
    "\n",
    "# Fit on the train dataset and transform all datasets\n",
    "train['zip_code_encoded'] = target_encoder.fit_transform(train[['zip_code']], train['injuries'])\n",
    "val['zip_code_encoded'] = target_encoder.transform(val[['zip_code']])\n",
    "test['zip_code_encoded'] = target_encoder.transform(test[['zip_code']])\n",
    "\n",
    "# Drop the original 'zip_code' column\n",
    "train.drop('zip_code', axis=1, inplace=True)\n",
    "val.drop('zip_code', axis=1, inplace=True)\n",
    "test.drop('zip_code', axis=1, inplace=True)\n",
    "\n",
    "# Show the first few rows of the transformed datasets\n",
    "train.head()"
   ]
  },
  {
   "cell_type": "code",
   "execution_count": 7,
   "metadata": {},
   "outputs": [
    {
     "data": {
      "text/html": [
       "<div>\n",
       "<style scoped>\n",
       "    .dataframe tbody tr th:only-of-type {\n",
       "        vertical-align: middle;\n",
       "    }\n",
       "\n",
       "    .dataframe tbody tr th {\n",
       "        vertical-align: top;\n",
       "    }\n",
       "\n",
       "    .dataframe thead th {\n",
       "        text-align: right;\n",
       "    }\n",
       "</style>\n",
       "<table border=\"1\" class=\"dataframe\">\n",
       "  <thead>\n",
       "    <tr style=\"text-align: right;\">\n",
       "      <th></th>\n",
       "      <th>hour_of_day_sin</th>\n",
       "      <th>hour_of_day_cos</th>\n",
       "    </tr>\n",
       "  </thead>\n",
       "  <tbody>\n",
       "    <tr>\n",
       "      <th>19414</th>\n",
       "      <td>-0.500000</td>\n",
       "      <td>-0.866025</td>\n",
       "    </tr>\n",
       "    <tr>\n",
       "      <th>38015</th>\n",
       "      <td>-0.965926</td>\n",
       "      <td>-0.258819</td>\n",
       "    </tr>\n",
       "    <tr>\n",
       "      <th>53168</th>\n",
       "      <td>-0.500000</td>\n",
       "      <td>0.866025</td>\n",
       "    </tr>\n",
       "    <tr>\n",
       "      <th>17572</th>\n",
       "      <td>-0.707107</td>\n",
       "      <td>0.707107</td>\n",
       "    </tr>\n",
       "    <tr>\n",
       "      <th>24986</th>\n",
       "      <td>-0.258819</td>\n",
       "      <td>-0.965926</td>\n",
       "    </tr>\n",
       "  </tbody>\n",
       "</table>\n",
       "</div>"
      ],
      "text/plain": [
       "       hour_of_day_sin  hour_of_day_cos\n",
       "19414        -0.500000        -0.866025\n",
       "38015        -0.965926        -0.258819\n",
       "53168        -0.500000         0.866025\n",
       "17572        -0.707107         0.707107\n",
       "24986        -0.258819        -0.965926"
      ]
     },
     "execution_count": 7,
     "metadata": {},
     "output_type": "execute_result"
    }
   ],
   "source": [
    "import numpy as np\n",
    "\n",
    "# Apply sine and cosine transformations to 'hour_of_day'\n",
    "train['hour_of_day_sin'] = np.sin(2 * np.pi * train['hour_of_day'] / 24)\n",
    "train['hour_of_day_cos'] = np.cos(2 * np.pi * train['hour_of_day'] / 24)\n",
    "\n",
    "val['hour_of_day_sin'] = np.sin(2 * np.pi * val['hour_of_day'] / 24)\n",
    "val['hour_of_day_cos'] = np.cos(2 * np.pi * val['hour_of_day'] / 24)\n",
    "\n",
    "test['hour_of_day_sin'] = np.sin(2 * np.pi * test['hour_of_day'] / 24)\n",
    "test['hour_of_day_cos'] = np.cos(2 * np.pi * test['hour_of_day'] / 24)\n",
    "\n",
    "# Drop the original 'hour_of_day' column\n",
    "train.drop('hour_of_day', axis=1, inplace=True)\n",
    "val.drop('hour_of_day', axis=1, inplace=True)\n",
    "test.drop('hour_of_day', axis=1, inplace=True)\n",
    "\n",
    "# Show the first few rows of the transformed datasets\n",
    "train[['hour_of_day_sin', 'hour_of_day_cos']].head()"
   ]
  },
  {
   "cell_type": "code",
   "execution_count": 8,
   "metadata": {},
   "outputs": [
    {
     "data": {
      "text/html": [
       "<div>\n",
       "<style scoped>\n",
       "    .dataframe tbody tr th:only-of-type {\n",
       "        vertical-align: middle;\n",
       "    }\n",
       "\n",
       "    .dataframe tbody tr th {\n",
       "        vertical-align: top;\n",
       "    }\n",
       "\n",
       "    .dataframe thead th {\n",
       "        text-align: right;\n",
       "    }\n",
       "</style>\n",
       "<table border=\"1\" class=\"dataframe\">\n",
       "  <thead>\n",
       "    <tr style=\"text-align: right;\">\n",
       "      <th></th>\n",
       "      <th>on_street_name_encoded</th>\n",
       "    </tr>\n",
       "  </thead>\n",
       "  <tbody>\n",
       "    <tr>\n",
       "      <th>19414</th>\n",
       "      <td>0.377694</td>\n",
       "    </tr>\n",
       "    <tr>\n",
       "      <th>38015</th>\n",
       "      <td>0.000000</td>\n",
       "    </tr>\n",
       "    <tr>\n",
       "      <th>53168</th>\n",
       "      <td>0.481677</td>\n",
       "    </tr>\n",
       "    <tr>\n",
       "      <th>17572</th>\n",
       "      <td>0.440951</td>\n",
       "    </tr>\n",
       "    <tr>\n",
       "      <th>24986</th>\n",
       "      <td>0.121430</td>\n",
       "    </tr>\n",
       "  </tbody>\n",
       "</table>\n",
       "</div>"
      ],
      "text/plain": [
       "       on_street_name_encoded\n",
       "19414                0.377694\n",
       "38015                0.000000\n",
       "53168                0.481677\n",
       "17572                0.440951\n",
       "24986                0.121430"
      ]
     },
     "execution_count": 8,
     "metadata": {},
     "output_type": "execute_result"
    }
   ],
   "source": [
    "# Apply target encoding to the 'on_street_name' column\n",
    "train['on_street_name_encoded'] = target_encoder.fit_transform(train[['on_street_name']], train['injuries'])\n",
    "val['on_street_name_encoded'] = target_encoder.transform(val[['on_street_name']])\n",
    "test['on_street_name_encoded'] = target_encoder.transform(test[['on_street_name']])\n",
    "\n",
    "# Drop the original 'on_street_name' column\n",
    "train.drop('on_street_name', axis=1, inplace=True)\n",
    "val.drop('on_street_name', axis=1, inplace=True)\n",
    "test.drop('on_street_name', axis=1, inplace=True)\n",
    "\n",
    "# Show the first few rows of the transformed datasets\n",
    "train[['on_street_name_encoded']].head()"
   ]
  },
  {
   "cell_type": "code",
   "execution_count": 9,
   "metadata": {},
   "outputs": [
    {
     "data": {
      "text/html": [
       "<div>\n",
       "<style scoped>\n",
       "    .dataframe tbody tr th:only-of-type {\n",
       "        vertical-align: middle;\n",
       "    }\n",
       "\n",
       "    .dataframe tbody tr th {\n",
       "        vertical-align: top;\n",
       "    }\n",
       "\n",
       "    .dataframe thead th {\n",
       "        text-align: right;\n",
       "    }\n",
       "</style>\n",
       "<table border=\"1\" class=\"dataframe\">\n",
       "  <thead>\n",
       "    <tr style=\"text-align: right;\">\n",
       "      <th></th>\n",
       "      <th>latitude</th>\n",
       "      <th>longitude</th>\n",
       "      <th>time_since_ref_date</th>\n",
       "    </tr>\n",
       "  </thead>\n",
       "  <tbody>\n",
       "    <tr>\n",
       "      <th>19414</th>\n",
       "      <td>40.687553</td>\n",
       "      <td>-73.91868</td>\n",
       "      <td>0.708791</td>\n",
       "    </tr>\n",
       "    <tr>\n",
       "      <th>38015</th>\n",
       "      <td>40.724888</td>\n",
       "      <td>-73.89899</td>\n",
       "      <td>0.406593</td>\n",
       "    </tr>\n",
       "    <tr>\n",
       "      <th>53168</th>\n",
       "      <td>40.651104</td>\n",
       "      <td>-73.94381</td>\n",
       "      <td>0.958791</td>\n",
       "    </tr>\n",
       "    <tr>\n",
       "      <th>17572</th>\n",
       "      <td>40.751972</td>\n",
       "      <td>-73.93197</td>\n",
       "      <td>0.645604</td>\n",
       "    </tr>\n",
       "    <tr>\n",
       "      <th>24986</th>\n",
       "      <td>40.733280</td>\n",
       "      <td>-73.91078</td>\n",
       "      <td>0.914835</td>\n",
       "    </tr>\n",
       "  </tbody>\n",
       "</table>\n",
       "</div>"
      ],
      "text/plain": [
       "        latitude  longitude  time_since_ref_date\n",
       "19414  40.687553  -73.91868             0.708791\n",
       "38015  40.724888  -73.89899             0.406593\n",
       "53168  40.651104  -73.94381             0.958791\n",
       "17572  40.751972  -73.93197             0.645604\n",
       "24986  40.733280  -73.91078             0.914835"
      ]
     },
     "execution_count": 9,
     "metadata": {},
     "output_type": "execute_result"
    }
   ],
   "source": [
    "from sklearn.preprocessing import StandardScaler, MinMaxScaler\n",
    "\n",
    "# Initialize the scalers\n",
    "standard_scaler = StandardScaler()\n",
    "minmax_scaler = MinMaxScaler()\n",
    "\n",
    "# Adding a small buffer around these\n",
    "latitude_min, latitude_max = 40.0, 41.0\n",
    "longitude_min, longitude_max = -75.0, -73.0\n",
    "\n",
    "# Calculate the overall minimum and maximum values based on these boundaries\n",
    "overall_min = min(latitude_min, longitude_min)\n",
    "overall_max = max(latitude_max, longitude_max)\n",
    "\n",
    "# Apply Min-Max scaling with the common scaling factor\n",
    "def minmax_scale_with_aspect(value, overall_min, overall_max):\n",
    "    return (value - overall_min) / (overall_max - overall_min)\n",
    "\n",
    "# Re-apply Min-Max scaling with the new scaling factor\n",
    "for col in ['latitude', 'longitude']:\n",
    "    train[col + '_scaled'] = minmax_scale_with_aspect(train[col], overall_min, overall_max)\n",
    "    val[col + '_scaled'] = minmax_scale_with_aspect(val[col], overall_min, overall_max)\n",
    "    test[col + '_scaled'] = minmax_scale_with_aspect(test[col], overall_min, overall_max)\n",
    "\n",
    "\n",
    "# Apply Min-Max Scaling to 'time_since_ref_date'\n",
    "train['time_since_ref_date'] = minmax_scaler.fit_transform(train[['time_since_ref_date']])\n",
    "val['time_since_ref_date'] = minmax_scaler.transform(val[['time_since_ref_date']])\n",
    "test['time_since_ref_date'] = minmax_scaler.transform(test[['time_since_ref_date']])\n",
    "\n",
    "# Show the first few rows of the transformed datasets\n",
    "train[['latitude', 'longitude', 'time_since_ref_date']].head()"
   ]
  },
  {
   "cell_type": "code",
   "execution_count": 10,
   "metadata": {},
   "outputs": [
    {
     "data": {
      "text/html": [
       "<div>\n",
       "<style scoped>\n",
       "    .dataframe tbody tr th:only-of-type {\n",
       "        vertical-align: middle;\n",
       "    }\n",
       "\n",
       "    .dataframe tbody tr th {\n",
       "        vertical-align: top;\n",
       "    }\n",
       "\n",
       "    .dataframe thead th {\n",
       "        text-align: right;\n",
       "    }\n",
       "</style>\n",
       "<table border=\"1\" class=\"dataframe\">\n",
       "  <thead>\n",
       "    <tr style=\"text-align: right;\">\n",
       "      <th></th>\n",
       "      <th>latitude</th>\n",
       "      <th>longitude</th>\n",
       "      <th>injuries</th>\n",
       "      <th>daylight</th>\n",
       "      <th>time_since_ref_date</th>\n",
       "      <th>zip_code_encoded</th>\n",
       "      <th>hour_of_day_sin</th>\n",
       "      <th>hour_of_day_cos</th>\n",
       "      <th>on_street_name_encoded</th>\n",
       "      <th>latitude_scaled</th>\n",
       "      <th>...</th>\n",
       "      <th>daylight_day_of_week_Saturday_Day</th>\n",
       "      <th>daylight_day_of_week_Saturday_Night</th>\n",
       "      <th>daylight_day_of_week_Sunday_Day</th>\n",
       "      <th>daylight_day_of_week_Sunday_Night</th>\n",
       "      <th>daylight_day_of_week_Thursday_Day</th>\n",
       "      <th>daylight_day_of_week_Thursday_Night</th>\n",
       "      <th>daylight_day_of_week_Tuesday_Day</th>\n",
       "      <th>daylight_day_of_week_Tuesday_Night</th>\n",
       "      <th>daylight_day_of_week_Wednesday_Day</th>\n",
       "      <th>daylight_day_of_week_Wednesday_Night</th>\n",
       "    </tr>\n",
       "  </thead>\n",
       "  <tbody>\n",
       "    <tr>\n",
       "      <th>19414</th>\n",
       "      <td>40.687553</td>\n",
       "      <td>-73.91868</td>\n",
       "      <td>False</td>\n",
       "      <td>True</td>\n",
       "      <td>0.708791</td>\n",
       "      <td>0.347303</td>\n",
       "      <td>-0.500000</td>\n",
       "      <td>-0.866025</td>\n",
       "      <td>0.377694</td>\n",
       "      <td>0.997306</td>\n",
       "      <td>...</td>\n",
       "      <td>False</td>\n",
       "      <td>False</td>\n",
       "      <td>False</td>\n",
       "      <td>False</td>\n",
       "      <td>False</td>\n",
       "      <td>False</td>\n",
       "      <td>False</td>\n",
       "      <td>False</td>\n",
       "      <td>False</td>\n",
       "      <td>False</td>\n",
       "    </tr>\n",
       "    <tr>\n",
       "      <th>38015</th>\n",
       "      <td>40.724888</td>\n",
       "      <td>-73.89899</td>\n",
       "      <td>False</td>\n",
       "      <td>True</td>\n",
       "      <td>0.406593</td>\n",
       "      <td>0.398642</td>\n",
       "      <td>-0.965926</td>\n",
       "      <td>-0.258819</td>\n",
       "      <td>0.000000</td>\n",
       "      <td>0.997628</td>\n",
       "      <td>...</td>\n",
       "      <td>False</td>\n",
       "      <td>False</td>\n",
       "      <td>True</td>\n",
       "      <td>False</td>\n",
       "      <td>False</td>\n",
       "      <td>False</td>\n",
       "      <td>False</td>\n",
       "      <td>False</td>\n",
       "      <td>False</td>\n",
       "      <td>False</td>\n",
       "    </tr>\n",
       "    <tr>\n",
       "      <th>53168</th>\n",
       "      <td>40.651104</td>\n",
       "      <td>-73.94381</td>\n",
       "      <td>True</td>\n",
       "      <td>False</td>\n",
       "      <td>0.958791</td>\n",
       "      <td>0.435559</td>\n",
       "      <td>-0.500000</td>\n",
       "      <td>0.866025</td>\n",
       "      <td>0.481677</td>\n",
       "      <td>0.996992</td>\n",
       "      <td>...</td>\n",
       "      <td>False</td>\n",
       "      <td>False</td>\n",
       "      <td>False</td>\n",
       "      <td>False</td>\n",
       "      <td>False</td>\n",
       "      <td>False</td>\n",
       "      <td>False</td>\n",
       "      <td>False</td>\n",
       "      <td>False</td>\n",
       "      <td>False</td>\n",
       "    </tr>\n",
       "    <tr>\n",
       "      <th>17572</th>\n",
       "      <td>40.751972</td>\n",
       "      <td>-73.93197</td>\n",
       "      <td>False</td>\n",
       "      <td>False</td>\n",
       "      <td>0.645604</td>\n",
       "      <td>0.367014</td>\n",
       "      <td>-0.707107</td>\n",
       "      <td>0.707107</td>\n",
       "      <td>0.440951</td>\n",
       "      <td>0.997862</td>\n",
       "      <td>...</td>\n",
       "      <td>False</td>\n",
       "      <td>False</td>\n",
       "      <td>False</td>\n",
       "      <td>False</td>\n",
       "      <td>False</td>\n",
       "      <td>False</td>\n",
       "      <td>False</td>\n",
       "      <td>False</td>\n",
       "      <td>False</td>\n",
       "      <td>True</td>\n",
       "    </tr>\n",
       "    <tr>\n",
       "      <th>24986</th>\n",
       "      <td>40.733280</td>\n",
       "      <td>-73.91078</td>\n",
       "      <td>False</td>\n",
       "      <td>True</td>\n",
       "      <td>0.914835</td>\n",
       "      <td>0.392612</td>\n",
       "      <td>-0.258819</td>\n",
       "      <td>-0.965926</td>\n",
       "      <td>0.121430</td>\n",
       "      <td>0.997701</td>\n",
       "      <td>...</td>\n",
       "      <td>False</td>\n",
       "      <td>False</td>\n",
       "      <td>False</td>\n",
       "      <td>False</td>\n",
       "      <td>False</td>\n",
       "      <td>False</td>\n",
       "      <td>False</td>\n",
       "      <td>False</td>\n",
       "      <td>True</td>\n",
       "      <td>False</td>\n",
       "    </tr>\n",
       "  </tbody>\n",
       "</table>\n",
       "<p>5 rows × 69 columns</p>\n",
       "</div>"
      ],
      "text/plain": [
       "        latitude  longitude  injuries  daylight  time_since_ref_date  \\\n",
       "19414  40.687553  -73.91868     False      True             0.708791   \n",
       "38015  40.724888  -73.89899     False      True             0.406593   \n",
       "53168  40.651104  -73.94381      True     False             0.958791   \n",
       "17572  40.751972  -73.93197     False     False             0.645604   \n",
       "24986  40.733280  -73.91078     False      True             0.914835   \n",
       "\n",
       "       zip_code_encoded  hour_of_day_sin  hour_of_day_cos  \\\n",
       "19414          0.347303        -0.500000        -0.866025   \n",
       "38015          0.398642        -0.965926        -0.258819   \n",
       "53168          0.435559        -0.500000         0.866025   \n",
       "17572          0.367014        -0.707107         0.707107   \n",
       "24986          0.392612        -0.258819        -0.965926   \n",
       "\n",
       "       on_street_name_encoded  latitude_scaled  ...  \\\n",
       "19414                0.377694         0.997306  ...   \n",
       "38015                0.000000         0.997628  ...   \n",
       "53168                0.481677         0.996992  ...   \n",
       "17572                0.440951         0.997862  ...   \n",
       "24986                0.121430         0.997701  ...   \n",
       "\n",
       "       daylight_day_of_week_Saturday_Day  daylight_day_of_week_Saturday_Night  \\\n",
       "19414                              False                                False   \n",
       "38015                              False                                False   \n",
       "53168                              False                                False   \n",
       "17572                              False                                False   \n",
       "24986                              False                                False   \n",
       "\n",
       "       daylight_day_of_week_Sunday_Day  daylight_day_of_week_Sunday_Night  \\\n",
       "19414                            False                              False   \n",
       "38015                             True                              False   \n",
       "53168                            False                              False   \n",
       "17572                            False                              False   \n",
       "24986                            False                              False   \n",
       "\n",
       "       daylight_day_of_week_Thursday_Day  daylight_day_of_week_Thursday_Night  \\\n",
       "19414                              False                                False   \n",
       "38015                              False                                False   \n",
       "53168                              False                                False   \n",
       "17572                              False                                False   \n",
       "24986                              False                                False   \n",
       "\n",
       "       daylight_day_of_week_Tuesday_Day  daylight_day_of_week_Tuesday_Night  \\\n",
       "19414                             False                               False   \n",
       "38015                             False                               False   \n",
       "53168                             False                               False   \n",
       "17572                             False                               False   \n",
       "24986                             False                               False   \n",
       "\n",
       "       daylight_day_of_week_Wednesday_Day  \\\n",
       "19414                               False   \n",
       "38015                               False   \n",
       "53168                               False   \n",
       "17572                               False   \n",
       "24986                                True   \n",
       "\n",
       "       daylight_day_of_week_Wednesday_Night  \n",
       "19414                                 False  \n",
       "38015                                 False  \n",
       "53168                                 False  \n",
       "17572                                  True  \n",
       "24986                                 False  \n",
       "\n",
       "[5 rows x 69 columns]"
      ]
     },
     "execution_count": 10,
     "metadata": {},
     "output_type": "execute_result"
    }
   ],
   "source": [
    "# Apply one-hot encoding to the remaining categorical columns\n",
    "categorical_columns = ['borough', 'factors_subcat_vehicles', 'factors_category_vehicles', \n",
    "                       'vehicles', 'day_of_week', 'month', 'daylight_day_of_week']\n",
    "\n",
    "train = pd.get_dummies(train, columns=categorical_columns, drop_first=True)\n",
    "val = pd.get_dummies(val, columns=categorical_columns, drop_first=True)\n",
    "test = pd.get_dummies(test, columns=categorical_columns, drop_first=True)\n",
    "\n",
    "# Align the train, val, and test data to ensure they have the same dummy columns\n",
    "train, val = train.align(val, join='left', axis=1)\n",
    "train, test = train.align(test, join='left', axis=1)\n",
    "\n",
    "# Fill any resulting NaNs in val and test datasets with 0 (for missing columns after one-hot encoding)\n",
    "val.fillna(0, inplace=True)\n",
    "test.fillna(0, inplace=True)\n",
    "\n",
    "# Show the first few rows of the transformed train dataset to verify\n",
    "train.head()\n"
   ]
  },
  {
   "cell_type": "code",
   "execution_count": 11,
   "metadata": {},
   "outputs": [],
   "source": [
    "train.to_csv('train_scaled.csv', index=False)\n",
    "val.to_csv('val_scaled.csv', index=False)\n",
    "test.to_csv('test_scaled.csv', index=False)"
   ]
  },
  {
   "cell_type": "code",
   "execution_count": 46,
   "metadata": {},
   "outputs": [
    {
     "data": {
      "text/html": [
       "<div>\n",
       "<style scoped>\n",
       "    .dataframe tbody tr th:only-of-type {\n",
       "        vertical-align: middle;\n",
       "    }\n",
       "\n",
       "    .dataframe tbody tr th {\n",
       "        vertical-align: top;\n",
       "    }\n",
       "\n",
       "    .dataframe thead th {\n",
       "        text-align: right;\n",
       "    }\n",
       "</style>\n",
       "<table border=\"1\" class=\"dataframe\">\n",
       "  <thead>\n",
       "    <tr style=\"text-align: right;\">\n",
       "      <th></th>\n",
       "      <th>latitude</th>\n",
       "      <th>longitude</th>\n",
       "      <th>borough</th>\n",
       "      <th>injuries</th>\n",
       "      <th>factors_subcat_vehicles</th>\n",
       "      <th>factors_category_vehicles</th>\n",
       "      <th>vehicles</th>\n",
       "      <th>day_of_week</th>\n",
       "      <th>month</th>\n",
       "      <th>daylight</th>\n",
       "      <th>daylight_day_of_week</th>\n",
       "      <th>time_since_ref_date</th>\n",
       "      <th>zip_code_encoded</th>\n",
       "      <th>hour_of_day_sin</th>\n",
       "      <th>hour_of_day_cos</th>\n",
       "      <th>on_street_name_encoded</th>\n",
       "    </tr>\n",
       "  </thead>\n",
       "  <tbody>\n",
       "    <tr>\n",
       "      <th>19414</th>\n",
       "      <td>40.687553</td>\n",
       "      <td>-73.91868</td>\n",
       "      <td>brooklyn</td>\n",
       "      <td>False</td>\n",
       "      <td>unspecified</td>\n",
       "      <td>unspecified</td>\n",
       "      <td>two-wheelers_to_commercial</td>\n",
       "      <td>Friday</td>\n",
       "      <td>September</td>\n",
       "      <td>True</td>\n",
       "      <td>Friday_Day</td>\n",
       "      <td>258</td>\n",
       "      <td>0.346796</td>\n",
       "      <td>-0.500000</td>\n",
       "      <td>-0.866025</td>\n",
       "      <td>0.391122</td>\n",
       "    </tr>\n",
       "    <tr>\n",
       "      <th>38015</th>\n",
       "      <td>40.724888</td>\n",
       "      <td>-73.89899</td>\n",
       "      <td>queens</td>\n",
       "      <td>False</td>\n",
       "      <td>unspecified</td>\n",
       "      <td>unspecified</td>\n",
       "      <td>personal_to_personal</td>\n",
       "      <td>Sunday</td>\n",
       "      <td>May</td>\n",
       "      <td>True</td>\n",
       "      <td>Sunday_Day</td>\n",
       "      <td>148</td>\n",
       "      <td>0.387260</td>\n",
       "      <td>-0.965926</td>\n",
       "      <td>-0.258819</td>\n",
       "      <td>0.000000</td>\n",
       "    </tr>\n",
       "    <tr>\n",
       "      <th>53168</th>\n",
       "      <td>40.651104</td>\n",
       "      <td>-73.94381</td>\n",
       "      <td>brooklyn</td>\n",
       "      <td>True</td>\n",
       "      <td>unspecified</td>\n",
       "      <td>unspecified</td>\n",
       "      <td>personal_to_personal</td>\n",
       "      <td>Friday</td>\n",
       "      <td>December</td>\n",
       "      <td>False</td>\n",
       "      <td>Friday_Night</td>\n",
       "      <td>349</td>\n",
       "      <td>0.434062</td>\n",
       "      <td>-0.500000</td>\n",
       "      <td>0.866025</td>\n",
       "      <td>0.481677</td>\n",
       "    </tr>\n",
       "    <tr>\n",
       "      <th>17572</th>\n",
       "      <td>40.751972</td>\n",
       "      <td>-73.93197</td>\n",
       "      <td>queens</td>\n",
       "      <td>False</td>\n",
       "      <td>driving violations</td>\n",
       "      <td>driver_related</td>\n",
       "      <td>other_to_two-wheelers</td>\n",
       "      <td>Wednesday</td>\n",
       "      <td>August</td>\n",
       "      <td>False</td>\n",
       "      <td>Wednesday_Night</td>\n",
       "      <td>235</td>\n",
       "      <td>0.344401</td>\n",
       "      <td>-0.707107</td>\n",
       "      <td>0.707107</td>\n",
       "      <td>0.426990</td>\n",
       "    </tr>\n",
       "    <tr>\n",
       "      <th>24986</th>\n",
       "      <td>40.733280</td>\n",
       "      <td>-73.91078</td>\n",
       "      <td>queens</td>\n",
       "      <td>False</td>\n",
       "      <td>environmental</td>\n",
       "      <td>non_driver_related</td>\n",
       "      <td>commercial_to_personal</td>\n",
       "      <td>Wednesday</td>\n",
       "      <td>November</td>\n",
       "      <td>True</td>\n",
       "      <td>Wednesday_Day</td>\n",
       "      <td>333</td>\n",
       "      <td>0.397817</td>\n",
       "      <td>-0.258819</td>\n",
       "      <td>-0.965926</td>\n",
       "      <td>0.121430</td>\n",
       "    </tr>\n",
       "  </tbody>\n",
       "</table>\n",
       "</div>"
      ],
      "text/plain": [
       "        latitude  longitude   borough  injuries factors_subcat_vehicles  \\\n",
       "19414  40.687553  -73.91868  brooklyn     False             unspecified   \n",
       "38015  40.724888  -73.89899    queens     False             unspecified   \n",
       "53168  40.651104  -73.94381  brooklyn      True             unspecified   \n",
       "17572  40.751972  -73.93197    queens     False      driving violations   \n",
       "24986  40.733280  -73.91078    queens     False           environmental   \n",
       "\n",
       "      factors_category_vehicles                    vehicles day_of_week  \\\n",
       "19414               unspecified  two-wheelers_to_commercial      Friday   \n",
       "38015               unspecified        personal_to_personal      Sunday   \n",
       "53168               unspecified        personal_to_personal      Friday   \n",
       "17572            driver_related       other_to_two-wheelers   Wednesday   \n",
       "24986        non_driver_related      commercial_to_personal   Wednesday   \n",
       "\n",
       "           month  daylight daylight_day_of_week  time_since_ref_date  \\\n",
       "19414  September      True           Friday_Day                  258   \n",
       "38015        May      True           Sunday_Day                  148   \n",
       "53168   December     False         Friday_Night                  349   \n",
       "17572     August     False      Wednesday_Night                  235   \n",
       "24986   November      True        Wednesday_Day                  333   \n",
       "\n",
       "       zip_code_encoded  hour_of_day_sin  hour_of_day_cos  \\\n",
       "19414          0.346796        -0.500000        -0.866025   \n",
       "38015          0.387260        -0.965926        -0.258819   \n",
       "53168          0.434062        -0.500000         0.866025   \n",
       "17572          0.344401        -0.707107         0.707107   \n",
       "24986          0.397817        -0.258819        -0.965926   \n",
       "\n",
       "       on_street_name_encoded  \n",
       "19414                0.391122  \n",
       "38015                0.000000  \n",
       "53168                0.481677  \n",
       "17572                0.426990  \n",
       "24986                0.121430  "
      ]
     },
     "execution_count": 46,
     "metadata": {},
     "output_type": "execute_result"
    }
   ],
   "source": [
    "train.head()"
   ]
  },
  {
   "cell_type": "code",
   "execution_count": 11,
   "metadata": {},
   "outputs": [],
   "source": [
    "from sklearn.metrics import accuracy_score\n",
    "import pandas as pd\n",
    "\n",
    "def train_and_evaluate_model(train, val, classifier):\n",
    "    # Splitting the data into features and target variables\n",
    "    X_train = train.drop('injuries', axis=1)\n",
    "    y_train = train['injuries']\n",
    "    X_val = val.drop('injuries', axis=1)\n",
    "    y_val = val['injuries']\n",
    "    \n",
    "    # Initialize and train the classifier\n",
    "    clf = classifier\n",
    "    clf.fit(X_train, y_train)\n",
    "    \n",
    "    # Make predictions on train and validation sets\n",
    "    y_train_pred = clf.predict(X_train)\n",
    "    y_val_pred = clf.predict(X_val)\n",
    "    \n",
    "    # Calculate accuracy scores for train and validation sets\n",
    "    train_accuracy = round(accuracy_score(y_train, y_train_pred) * 100, 1)\n",
    "    val_accuracy = round(accuracy_score(y_val, y_val_pred) * 100, 1)\n",
    "    \n",
    "    # Prepare the results as a DataFrame\n",
    "    results_df = pd.DataFrame({\n",
    "        'Model': [clf.__class__.__name__],\n",
    "        'Train (%)': [train_accuracy],\n",
    "        'Validation (%)': [val_accuracy]\n",
    "    })\n",
    "    \n",
    "    return results_df\n"
   ]
  },
  {
   "cell_type": "code",
   "execution_count": 13,
   "metadata": {},
   "outputs": [
    {
     "data": {
      "text/html": [
       "<div>\n",
       "<style scoped>\n",
       "    .dataframe tbody tr th:only-of-type {\n",
       "        vertical-align: middle;\n",
       "    }\n",
       "\n",
       "    .dataframe tbody tr th {\n",
       "        vertical-align: top;\n",
       "    }\n",
       "\n",
       "    .dataframe thead th {\n",
       "        text-align: right;\n",
       "    }\n",
       "</style>\n",
       "<table border=\"1\" class=\"dataframe\">\n",
       "  <thead>\n",
       "    <tr style=\"text-align: right;\">\n",
       "      <th></th>\n",
       "      <th>Model</th>\n",
       "      <th>Train (%)</th>\n",
       "      <th>Validation (%)</th>\n",
       "    </tr>\n",
       "  </thead>\n",
       "  <tbody>\n",
       "    <tr>\n",
       "      <th>0</th>\n",
       "      <td>LogisticRegression</td>\n",
       "      <td>70.1</td>\n",
       "      <td>70.2</td>\n",
       "    </tr>\n",
       "  </tbody>\n",
       "</table>\n",
       "</div>"
      ],
      "text/plain": [
       "                Model  Train (%)  Validation (%)\n",
       "0  LogisticRegression       70.1            70.2"
      ]
     },
     "execution_count": 13,
     "metadata": {},
     "output_type": "execute_result"
    }
   ],
   "source": [
    "\n",
    "from sklearn.linear_model import LogisticRegression\n",
    "from sklearn.ensemble import RandomForestClassifier, GradientBoostingClassifier\n",
    "from sklearn.svm import SVC\n",
    "from sklearn.neighbors import KNeighborsClassifier\n",
    "from sklearn.neural_network import MLPClassifier\n",
    "\n",
    "\n"
   ]
  },
  {
   "cell_type": "code",
   "execution_count": 41,
   "metadata": {},
   "outputs": [
    {
     "data": {
      "text/html": [
       "<div>\n",
       "<style scoped>\n",
       "    .dataframe tbody tr th:only-of-type {\n",
       "        vertical-align: middle;\n",
       "    }\n",
       "\n",
       "    .dataframe tbody tr th {\n",
       "        vertical-align: top;\n",
       "    }\n",
       "\n",
       "    .dataframe thead th {\n",
       "        text-align: right;\n",
       "    }\n",
       "</style>\n",
       "<table border=\"1\" class=\"dataframe\">\n",
       "  <thead>\n",
       "    <tr style=\"text-align: right;\">\n",
       "      <th></th>\n",
       "      <th>Model</th>\n",
       "      <th>Train (%)</th>\n",
       "      <th>Validation (%)</th>\n",
       "    </tr>\n",
       "  </thead>\n",
       "  <tbody>\n",
       "    <tr>\n",
       "      <th>0</th>\n",
       "      <td>LogisticRegression</td>\n",
       "      <td>70.1</td>\n",
       "      <td>70.2</td>\n",
       "    </tr>\n",
       "  </tbody>\n",
       "</table>\n",
       "</div>"
      ],
      "text/plain": [
       "                Model  Train (%)  Validation (%)\n",
       "0  LogisticRegression       70.1            70.2"
      ]
     },
     "execution_count": 41,
     "metadata": {},
     "output_type": "execute_result"
    }
   ],
   "source": [
    "# Initialize classifiers with specific hyperparameters\n",
    "clf_lr = LogisticRegression(random_state=42, max_iter=1000)\n",
    "# Evaluate Logistic Regression\n",
    "result_lr = train_and_evaluate_model(train, val, clf_lr)\n",
    "result_lr\n"
   ]
  },
  {
   "cell_type": "code",
   "execution_count": 14,
   "metadata": {},
   "outputs": [
    {
     "data": {
      "text/html": [
       "<div>\n",
       "<style scoped>\n",
       "    .dataframe tbody tr th:only-of-type {\n",
       "        vertical-align: middle;\n",
       "    }\n",
       "\n",
       "    .dataframe tbody tr th {\n",
       "        vertical-align: top;\n",
       "    }\n",
       "\n",
       "    .dataframe thead th {\n",
       "        text-align: right;\n",
       "    }\n",
       "</style>\n",
       "<table border=\"1\" class=\"dataframe\">\n",
       "  <thead>\n",
       "    <tr style=\"text-align: right;\">\n",
       "      <th></th>\n",
       "      <th>Model</th>\n",
       "      <th>Train (%)</th>\n",
       "      <th>Validation (%)</th>\n",
       "    </tr>\n",
       "  </thead>\n",
       "  <tbody>\n",
       "    <tr>\n",
       "      <th>0</th>\n",
       "      <td>RandomForestClassifier</td>\n",
       "      <td>100.0</td>\n",
       "      <td>69.2</td>\n",
       "    </tr>\n",
       "  </tbody>\n",
       "</table>\n",
       "</div>"
      ],
      "text/plain": [
       "                    Model  Train (%)  Validation (%)\n",
       "0  RandomForestClassifier      100.0            69.2"
      ]
     },
     "execution_count": 14,
     "metadata": {},
     "output_type": "execute_result"
    }
   ],
   "source": [
    "# Initialize classifiers with specific hyperparameters\n",
    "clf_rf = RandomForestClassifier(random_state=42)\n",
    "# Evaluate Random Forest\n",
    "result_rf = train_and_evaluate_model(train, val, clf_rf)\n",
    "result_rf\n"
   ]
  },
  {
   "cell_type": "code",
   "execution_count": 15,
   "metadata": {},
   "outputs": [
    {
     "data": {
      "text/html": [
       "<div>\n",
       "<style scoped>\n",
       "    .dataframe tbody tr th:only-of-type {\n",
       "        vertical-align: middle;\n",
       "    }\n",
       "\n",
       "    .dataframe tbody tr th {\n",
       "        vertical-align: top;\n",
       "    }\n",
       "\n",
       "    .dataframe thead th {\n",
       "        text-align: right;\n",
       "    }\n",
       "</style>\n",
       "<table border=\"1\" class=\"dataframe\">\n",
       "  <thead>\n",
       "    <tr style=\"text-align: right;\">\n",
       "      <th></th>\n",
       "      <th>Model</th>\n",
       "      <th>Train (%)</th>\n",
       "      <th>Validation (%)</th>\n",
       "    </tr>\n",
       "  </thead>\n",
       "  <tbody>\n",
       "    <tr>\n",
       "      <th>0</th>\n",
       "      <td>GradientBoostingClassifier</td>\n",
       "      <td>70.8</td>\n",
       "      <td>70.2</td>\n",
       "    </tr>\n",
       "  </tbody>\n",
       "</table>\n",
       "</div>"
      ],
      "text/plain": [
       "                        Model  Train (%)  Validation (%)\n",
       "0  GradientBoostingClassifier       70.8            70.2"
      ]
     },
     "execution_count": 15,
     "metadata": {},
     "output_type": "execute_result"
    }
   ],
   "source": [
    "# Initialize classifiers with specific hyperparameters\n",
    "clf_gb = GradientBoostingClassifier(random_state=42)\n",
    "# Evaluate Gradient Boosting\n",
    "result_gb = train_and_evaluate_model(train, val, clf_gb)\n",
    "result_gb\n"
   ]
  },
  {
   "cell_type": "code",
   "execution_count": 16,
   "metadata": {},
   "outputs": [
    {
     "data": {
      "text/html": [
       "<div>\n",
       "<style scoped>\n",
       "    .dataframe tbody tr th:only-of-type {\n",
       "        vertical-align: middle;\n",
       "    }\n",
       "\n",
       "    .dataframe tbody tr th {\n",
       "        vertical-align: top;\n",
       "    }\n",
       "\n",
       "    .dataframe thead th {\n",
       "        text-align: right;\n",
       "    }\n",
       "</style>\n",
       "<table border=\"1\" class=\"dataframe\">\n",
       "  <thead>\n",
       "    <tr style=\"text-align: right;\">\n",
       "      <th></th>\n",
       "      <th>Model</th>\n",
       "      <th>Train (%)</th>\n",
       "      <th>Validation (%)</th>\n",
       "    </tr>\n",
       "  </thead>\n",
       "  <tbody>\n",
       "    <tr>\n",
       "      <th>0</th>\n",
       "      <td>SVC</td>\n",
       "      <td>67.1</td>\n",
       "      <td>67.1</td>\n",
       "    </tr>\n",
       "  </tbody>\n",
       "</table>\n",
       "</div>"
      ],
      "text/plain": [
       "  Model  Train (%)  Validation (%)\n",
       "0   SVC       67.1            67.1"
      ]
     },
     "execution_count": 16,
     "metadata": {},
     "output_type": "execute_result"
    }
   ],
   "source": [
    "# Initialize classifiers with specific hyperparameters\n",
    "clf_svm = SVC(random_state=42)\n",
    "# Evaluate Support Vector Machine\n",
    "result_svm = train_and_evaluate_model(train, val, clf_svm)\n",
    "result_svm"
   ]
  },
  {
   "cell_type": "code",
   "execution_count": 33,
   "metadata": {},
   "outputs": [],
   "source": [
    "import numpy as np\n",
    "\n",
    "def train_and_evaluate_knn(train, val, classifier):\n",
    "    # Convert DataFrames to C-contiguous NumPy arrays\n",
    "    X_train = np.ascontiguousarray(train.drop('injuries', axis=1).values)\n",
    "    y_train = np.ascontiguousarray(train['injuries'].values)\n",
    "    X_val = np.ascontiguousarray(val.drop('injuries', axis=1).values)\n",
    "    y_val = np.ascontiguousarray(val['injuries'].values)\n",
    "    \n",
    "    # Initialize and train the classifier\n",
    "    clf = classifier\n",
    "    clf.fit(X_train, y_train)\n",
    "    \n",
    "    # Make predictions on train and validation sets\n",
    "    y_train_pred = clf.predict(X_train)\n",
    "    y_val_pred = clf.predict(X_val)\n",
    "    \n",
    "    # Calculate accuracy scores for train and validation sets\n",
    "    train_accuracy = round(accuracy_score(y_train, y_train_pred) * 100, 1)\n",
    "    val_accuracy = round(accuracy_score(y_val, y_val_pred) * 100, 1)\n",
    "    \n",
    "    # Prepare the results as a DataFrame\n",
    "    results_df = pd.DataFrame({\n",
    "        'Model': [clf.__class__.__name__],\n",
    "        'Train (%)': [train_accuracy],\n",
    "        'Validation (%)': [val_accuracy]\n",
    "    })\n",
    "    \n",
    "    return results_df\n",
    "\n",
    "# Example usage code (you can run this in your environment)\n",
    "# clf_knn = KNeighborsClassifier()\n",
    "# result_knn = train_and_evaluate_knn(train, val, clf_knn)\n"
   ]
  },
  {
   "cell_type": "code",
   "execution_count": 34,
   "metadata": {},
   "outputs": [
    {
     "data": {
      "text/html": [
       "<div>\n",
       "<style scoped>\n",
       "    .dataframe tbody tr th:only-of-type {\n",
       "        vertical-align: middle;\n",
       "    }\n",
       "\n",
       "    .dataframe tbody tr th {\n",
       "        vertical-align: top;\n",
       "    }\n",
       "\n",
       "    .dataframe thead th {\n",
       "        text-align: right;\n",
       "    }\n",
       "</style>\n",
       "<table border=\"1\" class=\"dataframe\">\n",
       "  <thead>\n",
       "    <tr style=\"text-align: right;\">\n",
       "      <th></th>\n",
       "      <th>Model</th>\n",
       "      <th>Train (%)</th>\n",
       "      <th>Validation (%)</th>\n",
       "    </tr>\n",
       "  </thead>\n",
       "  <tbody>\n",
       "    <tr>\n",
       "      <th>0</th>\n",
       "      <td>KNeighborsClassifier</td>\n",
       "      <td>75.1</td>\n",
       "      <td>64.1</td>\n",
       "    </tr>\n",
       "  </tbody>\n",
       "</table>\n",
       "</div>"
      ],
      "text/plain": [
       "                  Model  Train (%)  Validation (%)\n",
       "0  KNeighborsClassifier       75.1            64.1"
      ]
     },
     "execution_count": 34,
     "metadata": {},
     "output_type": "execute_result"
    }
   ],
   "source": [
    "from sklearn.neighbors import KNeighborsClassifier\n",
    "\n",
    "# Initialize the k-NN classifier\n",
    "clf_knn = KNeighborsClassifier()\n",
    "\n",
    "# Evaluate k-NN\n",
    "result_knn = train_and_evaluate_knn(train, val, clf_knn)\n",
    "result_knn\n"
   ]
  },
  {
   "cell_type": "code",
   "execution_count": 23,
   "metadata": {},
   "outputs": [
    {
     "data": {
      "text/html": [
       "<div>\n",
       "<style scoped>\n",
       "    .dataframe tbody tr th:only-of-type {\n",
       "        vertical-align: middle;\n",
       "    }\n",
       "\n",
       "    .dataframe tbody tr th {\n",
       "        vertical-align: top;\n",
       "    }\n",
       "\n",
       "    .dataframe thead th {\n",
       "        text-align: right;\n",
       "    }\n",
       "</style>\n",
       "<table border=\"1\" class=\"dataframe\">\n",
       "  <thead>\n",
       "    <tr style=\"text-align: right;\">\n",
       "      <th></th>\n",
       "      <th>Model</th>\n",
       "      <th>Train (%)</th>\n",
       "      <th>Validation (%)</th>\n",
       "    </tr>\n",
       "  </thead>\n",
       "  <tbody>\n",
       "    <tr>\n",
       "      <th>0</th>\n",
       "      <td>MLPClassifier</td>\n",
       "      <td>69.9</td>\n",
       "      <td>69.8</td>\n",
       "    </tr>\n",
       "  </tbody>\n",
       "</table>\n",
       "</div>"
      ],
      "text/plain": [
       "           Model  Train (%)  Validation (%)\n",
       "0  MLPClassifier       69.9            69.8"
      ]
     },
     "execution_count": 23,
     "metadata": {},
     "output_type": "execute_result"
    }
   ],
   "source": [
    "# Initialize classifiers with specific hyperparameters\n",
    "clf_nn = MLPClassifier(random_state=42, max_iter=1000)\n",
    "# Evaluate Neural Network\n",
    "result_nn = train_and_evaluate_model(train, val, clf_nn)\n",
    "result_nn"
   ]
  },
  {
   "cell_type": "code",
   "execution_count": 35,
   "metadata": {},
   "outputs": [
    {
     "data": {
      "text/html": [
       "<div>\n",
       "<style scoped>\n",
       "    .dataframe tbody tr th:only-of-type {\n",
       "        vertical-align: middle;\n",
       "    }\n",
       "\n",
       "    .dataframe tbody tr th {\n",
       "        vertical-align: top;\n",
       "    }\n",
       "\n",
       "    .dataframe thead th {\n",
       "        text-align: right;\n",
       "    }\n",
       "</style>\n",
       "<table border=\"1\" class=\"dataframe\">\n",
       "  <thead>\n",
       "    <tr style=\"text-align: right;\">\n",
       "      <th></th>\n",
       "      <th>Model</th>\n",
       "      <th>Train (%)</th>\n",
       "      <th>Validation (%)</th>\n",
       "    </tr>\n",
       "  </thead>\n",
       "  <tbody>\n",
       "    <tr>\n",
       "      <th>0</th>\n",
       "      <td>LogisticRegression</td>\n",
       "      <td>70.1</td>\n",
       "      <td>70.2</td>\n",
       "    </tr>\n",
       "    <tr>\n",
       "      <th>1</th>\n",
       "      <td>RandomForestClassifier</td>\n",
       "      <td>100.0</td>\n",
       "      <td>69.2</td>\n",
       "    </tr>\n",
       "    <tr>\n",
       "      <th>2</th>\n",
       "      <td>GradientBoostingClassifier</td>\n",
       "      <td>70.8</td>\n",
       "      <td>70.2</td>\n",
       "    </tr>\n",
       "    <tr>\n",
       "      <th>3</th>\n",
       "      <td>SVC</td>\n",
       "      <td>67.1</td>\n",
       "      <td>67.1</td>\n",
       "    </tr>\n",
       "    <tr>\n",
       "      <th>4</th>\n",
       "      <td>KNeighborsClassifier</td>\n",
       "      <td>75.1</td>\n",
       "      <td>64.1</td>\n",
       "    </tr>\n",
       "    <tr>\n",
       "      <th>5</th>\n",
       "      <td>MLPClassifier</td>\n",
       "      <td>69.9</td>\n",
       "      <td>69.8</td>\n",
       "    </tr>\n",
       "  </tbody>\n",
       "</table>\n",
       "</div>"
      ],
      "text/plain": [
       "                        Model  Train (%)  Validation (%)\n",
       "0          LogisticRegression       70.1            70.2\n",
       "1      RandomForestClassifier      100.0            69.2\n",
       "2  GradientBoostingClassifier       70.8            70.2\n",
       "3                         SVC       67.1            67.1\n",
       "4        KNeighborsClassifier       75.1            64.1\n",
       "5               MLPClassifier       69.9            69.8"
      ]
     },
     "execution_count": 35,
     "metadata": {},
     "output_type": "execute_result"
    }
   ],
   "source": [
    "results_list = [result_lr, result_rf, result_gb, result_svm, result_knn, result_nn]\n",
    "# Concatenate all results into a single DataFrame\n",
    "results_df = pd.concat(results_list, ignore_index=True)\n",
    "results_df"
   ]
  },
  {
   "cell_type": "code",
   "execution_count": 36,
   "metadata": {},
   "outputs": [],
   "source": [
    "from sklearn.metrics import accuracy_score\n",
    "import pandas as pd\n",
    "\n",
    "def evaluate_model_on_test(test, classifier):\n",
    "    # Split data into features and target variable\n",
    "    X_test = test.drop('injuries', axis=1)\n",
    "    y_test = test['injuries']\n",
    "    \n",
    "    # Make predictions on test set\n",
    "    y_test_pred = classifier.predict(X_test)\n",
    "    \n",
    "    # Calculate accuracy score for test set\n",
    "    test_accuracy = round(accuracy_score(y_test, y_test_pred) * 100, 1)\n",
    "    \n",
    "    # Prepare the results as a DataFrame\n",
    "    results_df = pd.DataFrame({\n",
    "        'Model': [classifier.__class__.__name__],\n",
    "        'Test (%)': [test_accuracy]\n",
    "    })\n",
    "    \n",
    "    return results_df"
   ]
  },
  {
   "cell_type": "code",
   "execution_count": 42,
   "metadata": {},
   "outputs": [
    {
     "ename": "AttributeError",
     "evalue": "'DataFrame' object has no attribute 'predict'",
     "output_type": "error",
     "traceback": [
      "\u001b[0;31m---------------------------------------------------------------------------\u001b[0m",
      "\u001b[0;31mAttributeError\u001b[0m                            Traceback (most recent call last)",
      "\u001b[0;32m/var/folders/6c/7ht5b3716k32pz2lmh_pzp8m0000gp/T/ipykernel_50235/200504513.py\u001b[0m in \u001b[0;36m?\u001b[0;34m()\u001b[0m\n\u001b[1;32m      1\u001b[0m \u001b[0;31m# Example usage code (you can run this in your environment)\u001b[0m\u001b[0;34m\u001b[0m\u001b[0;34m\u001b[0m\u001b[0m\n\u001b[0;32m----> 2\u001b[0;31m \u001b[0mtest_result\u001b[0m \u001b[0;34m=\u001b[0m \u001b[0mevaluate_model_on_test\u001b[0m\u001b[0;34m(\u001b[0m\u001b[0mtest\u001b[0m\u001b[0;34m,\u001b[0m \u001b[0mresult_lr\u001b[0m\u001b[0;34m)\u001b[0m\u001b[0;34m\u001b[0m\u001b[0;34m\u001b[0m\u001b[0m\n\u001b[0m\u001b[1;32m      3\u001b[0m \u001b[0mtest_result\u001b[0m\u001b[0;34m\u001b[0m\u001b[0;34m\u001b[0m\u001b[0m\n",
      "\u001b[0;32m/var/folders/6c/7ht5b3716k32pz2lmh_pzp8m0000gp/T/ipykernel_50235/1829014774.py\u001b[0m in \u001b[0;36m?\u001b[0;34m(test, classifier)\u001b[0m\n\u001b[1;32m      6\u001b[0m     \u001b[0mX_test\u001b[0m \u001b[0;34m=\u001b[0m \u001b[0mtest\u001b[0m\u001b[0;34m.\u001b[0m\u001b[0mdrop\u001b[0m\u001b[0;34m(\u001b[0m\u001b[0;34m'injuries'\u001b[0m\u001b[0;34m,\u001b[0m \u001b[0maxis\u001b[0m\u001b[0;34m=\u001b[0m\u001b[0;36m1\u001b[0m\u001b[0;34m)\u001b[0m\u001b[0;34m\u001b[0m\u001b[0;34m\u001b[0m\u001b[0m\n\u001b[1;32m      7\u001b[0m     \u001b[0my_test\u001b[0m \u001b[0;34m=\u001b[0m \u001b[0mtest\u001b[0m\u001b[0;34m[\u001b[0m\u001b[0;34m'injuries'\u001b[0m\u001b[0;34m]\u001b[0m\u001b[0;34m\u001b[0m\u001b[0;34m\u001b[0m\u001b[0m\n\u001b[1;32m      8\u001b[0m \u001b[0;34m\u001b[0m\u001b[0m\n\u001b[1;32m      9\u001b[0m     \u001b[0;31m# Make predictions on test set\u001b[0m\u001b[0;34m\u001b[0m\u001b[0;34m\u001b[0m\u001b[0m\n\u001b[0;32m---> 10\u001b[0;31m     \u001b[0my_test_pred\u001b[0m \u001b[0;34m=\u001b[0m \u001b[0mclassifier\u001b[0m\u001b[0;34m.\u001b[0m\u001b[0mpredict\u001b[0m\u001b[0;34m(\u001b[0m\u001b[0mX_test\u001b[0m\u001b[0;34m)\u001b[0m\u001b[0;34m\u001b[0m\u001b[0;34m\u001b[0m\u001b[0m\n\u001b[0m\u001b[1;32m     11\u001b[0m \u001b[0;34m\u001b[0m\u001b[0m\n\u001b[1;32m     12\u001b[0m     \u001b[0;31m# Calculate accuracy score for test set\u001b[0m\u001b[0;34m\u001b[0m\u001b[0;34m\u001b[0m\u001b[0m\n\u001b[1;32m     13\u001b[0m     \u001b[0mtest_accuracy\u001b[0m \u001b[0;34m=\u001b[0m \u001b[0mround\u001b[0m\u001b[0;34m(\u001b[0m\u001b[0maccuracy_score\u001b[0m\u001b[0;34m(\u001b[0m\u001b[0my_test\u001b[0m\u001b[0;34m,\u001b[0m \u001b[0my_test_pred\u001b[0m\u001b[0;34m)\u001b[0m \u001b[0;34m*\u001b[0m \u001b[0;36m100\u001b[0m\u001b[0;34m,\u001b[0m \u001b[0;36m1\u001b[0m\u001b[0;34m)\u001b[0m\u001b[0;34m\u001b[0m\u001b[0;34m\u001b[0m\u001b[0m\n",
      "\u001b[0;32m/usr/local/anaconda3/lib/python3.10/site-packages/pandas/core/generic.py\u001b[0m in \u001b[0;36m?\u001b[0;34m(self, name)\u001b[0m\n\u001b[1;32m   5985\u001b[0m             \u001b[0;32mand\u001b[0m \u001b[0mname\u001b[0m \u001b[0;32mnot\u001b[0m \u001b[0;32min\u001b[0m \u001b[0mself\u001b[0m\u001b[0;34m.\u001b[0m\u001b[0m_accessors\u001b[0m\u001b[0;34m\u001b[0m\u001b[0;34m\u001b[0m\u001b[0m\n\u001b[1;32m   5986\u001b[0m             \u001b[0;32mand\u001b[0m \u001b[0mself\u001b[0m\u001b[0;34m.\u001b[0m\u001b[0m_info_axis\u001b[0m\u001b[0;34m.\u001b[0m\u001b[0m_can_hold_identifiers_and_holds_name\u001b[0m\u001b[0;34m(\u001b[0m\u001b[0mname\u001b[0m\u001b[0;34m)\u001b[0m\u001b[0;34m\u001b[0m\u001b[0;34m\u001b[0m\u001b[0m\n\u001b[1;32m   5987\u001b[0m         ):\n\u001b[1;32m   5988\u001b[0m             \u001b[0;32mreturn\u001b[0m \u001b[0mself\u001b[0m\u001b[0;34m[\u001b[0m\u001b[0mname\u001b[0m\u001b[0;34m]\u001b[0m\u001b[0;34m\u001b[0m\u001b[0;34m\u001b[0m\u001b[0m\n\u001b[0;32m-> 5989\u001b[0;31m         \u001b[0;32mreturn\u001b[0m \u001b[0mobject\u001b[0m\u001b[0;34m.\u001b[0m\u001b[0m__getattribute__\u001b[0m\u001b[0;34m(\u001b[0m\u001b[0mself\u001b[0m\u001b[0;34m,\u001b[0m \u001b[0mname\u001b[0m\u001b[0;34m)\u001b[0m\u001b[0;34m\u001b[0m\u001b[0;34m\u001b[0m\u001b[0m\n\u001b[0m",
      "\u001b[0;31mAttributeError\u001b[0m: 'DataFrame' object has no attribute 'predict'"
     ]
    }
   ],
   "source": [
    "# Example usage code (you can run this in your environment)\n",
    "test_result = evaluate_model_on_test(test, result_lr)\n",
    "test_result"
   ]
  },
  {
   "cell_type": "code",
   "execution_count": null,
   "metadata": {},
   "outputs": [],
   "source": []
  },
  {
   "cell_type": "code",
   "execution_count": null,
   "metadata": {},
   "outputs": [],
   "source": []
  },
  {
   "cell_type": "code",
   "execution_count": null,
   "metadata": {},
   "outputs": [],
   "source": []
  },
  {
   "cell_type": "code",
   "execution_count": null,
   "metadata": {},
   "outputs": [],
   "source": []
  }
 ],
 "metadata": {
  "kernelspec": {
   "display_name": "base",
   "language": "python",
   "name": "python3"
  },
  "language_info": {
   "codemirror_mode": {
    "name": "ipython",
    "version": 3
   },
   "file_extension": ".py",
   "mimetype": "text/x-python",
   "name": "python",
   "nbconvert_exporter": "python",
   "pygments_lexer": "ipython3",
   "version": "3.10.12"
  },
  "orig_nbformat": 4
 },
 "nbformat": 4,
 "nbformat_minor": 2
}
